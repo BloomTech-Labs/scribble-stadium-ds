{
 "cells": [
  {
   "cell_type": "code",
   "execution_count": 1,
   "id": "ccffe007",
   "metadata": {},
   "outputs": [],
   "source": [
    "import pytesseract\n",
    "import cv2"
   ]
  },
  {
   "cell_type": "code",
   "execution_count": 2,
   "id": "589afdfe",
   "metadata": {},
   "outputs": [],
   "source": [
    "imgpath1 = \"sample1.jpg\"\n",
    "imgpath2 = \"sample2.png\""
   ]
  },
  {
   "cell_type": "code",
   "execution_count": 3,
   "id": "f4b5913d",
   "metadata": {},
   "outputs": [
    {
     "name": "stdout",
     "output_type": "stream",
     "text": [
      "Dockerfile       README.md        \u001b[34mdata\u001b[m\u001b[m             sample2.png\r\n",
      "\u001b[34mImage_scoring\u001b[m\u001b[m    Untitled.ipynb   \u001b[34mnotebooks\u001b[m\u001b[m        stout.txt\r\n",
      "LICENSE          \u001b[34mapp\u001b[m\u001b[m              out.txt          \u001b[34mtesstrain\u001b[m\u001b[m\r\n",
      "Pipfile          \u001b[34massets\u001b[m\u001b[m           requirements.txt\r\n",
      "Pipfile.lock     \u001b[34mconvert2tif\u001b[m\u001b[m      sample1.jpg\r\n"
     ]
    }
   ],
   "source": [
    "!ls"
   ]
  },
  {
   "cell_type": "code",
   "execution_count": 7,
   "id": "d1a8cfed",
   "metadata": {},
   "outputs": [],
   "source": [
    "image = cv2.imread(imgpath2)\n",
    "image = cv2.cvtColor(image, cv2.COLOR_BGR2RGB)\n",
    "\n",
    "# opencv -> BGR format\n",
    "# tesseract -> RGB format\n",
    "# pillow -> RGB format"
   ]
  },
  {
   "cell_type": "code",
   "execution_count": 8,
   "id": "66863eee",
   "metadata": {},
   "outputs": [
    {
     "name": "stdout",
     "output_type": "stream",
     "text": [
      " \n",
      "  \n",
      "  \n",
      "   \n",
      " \n",
      "       \n",
      " \n",
      "    \n",
      " \n",
      " \n",
      "    \n",
      "   \n",
      "  \n",
      "  \n",
      " \n",
      "       \n",
      "\n",
      "ir\n",
      "i\n",
      "(oe ‘\n",
      "\n",
      "Seen :\n",
      "\n",
      "oe SEED L ETS a\n",
      "\n",
      " \n",
      "\n",
      "Ihe open _o titre _théfe. lsd on oil Ape\n",
      "wan tac acm vl’ Molina Hen = sogds Teac he\n",
      "\n",
      "4) \\ook for Some coifiess ro _anke Q of, She Ned Anum\n",
      "a all hee Vee ew than a ns 6 ing x\n",
      "She thiaki Yet she \\s oplag to die son. She aded 90 th shes\n",
      "Wnt swe Sok tet Serects Foe exemple tho ecyclel\n",
      "\n",
      "\\ e\n",
      "EVen tHrowsh gue nas nat even oiten. Aaothe\n",
      "\n",
      "ne \\enve. her putt,\n",
      "hee fariy to Kodeod hose Winch So\n",
      "+ schwol. and Maly vs matin Was eaten a:\n",
      "\n",
      "£0 uo wo Men old\n",
      "\n",
      " \n",
      "\n",
      " \n",
      "   \n",
      "\n",
      " \n",
      " \n",
      "\n",
      "Fea\n",
      "\n",
      "A A Nod) wih\n",
      "\n",
      "a ‘ Qa KD ee Ca.\n",
      "\n",
      "Ti, tok a bat oh » fous\n",
      "\n",
      "Ne Load a Hon A\n",
      "\n",
      "‘Bab Sonne Og lobe Wes Sa rw)\n",
      "of rh 2 f Hy\n",
      "\n",
      "me 9\n",
      "\n",
      "          \n",
      " \n",
      "     \n",
      "   \n",
      "\n",
      " \n",
      "\n",
      "   \n",
      "\n",
      "(A Aw.tte\n",
      "\n",
      "  \n",
      "\n",
      "&\n",
      "ADO DanC Non\n",
      "A f aS ANC O\\ Ni AW\n",
      "\n",
      "9 a 0055.4 02 Caren ln\n",
      "\f",
      "\n"
     ]
    }
   ],
   "source": [
    "# Tesseract to OCR the image\n",
    "text = pytesseract.image_to_string(image)\n",
    "print(text)"
   ]
  },
  {
   "cell_type": "code",
   "execution_count": null,
   "id": "ca58ed4e",
   "metadata": {},
   "outputs": [],
   "source": []
  }
 ],
 "metadata": {
  "kernelspec": {
   "display_name": "Python 3",
   "language": "python",
   "name": "python3"
  },
  "language_info": {
   "codemirror_mode": {
    "name": "ipython",
    "version": 3
   },
   "file_extension": ".py",
   "mimetype": "text/x-python",
   "name": "python",
   "nbconvert_exporter": "python",
   "pygments_lexer": "ipython3",
   "version": "3.8.5"
  }
 },
 "nbformat": 4,
 "nbformat_minor": 5
}
