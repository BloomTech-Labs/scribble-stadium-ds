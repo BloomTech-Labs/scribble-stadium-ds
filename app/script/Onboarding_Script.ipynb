{
  "nbformat": 4,
  "nbformat_minor": 0,
  "metadata": {
    "colab": {
      "name": "Onboarding Script.ipynb",
      "provenance": []
    },
    "kernelspec": {
      "name": "python3",
      "display_name": "Python 3"
    },
    "language_info": {
      "name": "python"
    }
  },
  "cells": [
    {
      "cell_type": "code",
      "metadata": {
        "colab": {
          "base_uri": "https://localhost:8080/"
        },
        "id": "lG2R5aX526xg",
        "outputId": "543a3b9f-e3f7-4918-dc97-f8fdd271f46e"
      },
      "source": [
        "!pip install pytesseract\n",
        "!sudo apt install tesseract-ocr"
      ],
      "execution_count": null,
      "outputs": [
        {
          "output_type": "stream",
          "text": [
            "Collecting pytesseract\n",
            "  Downloading pytesseract-0.3.8.tar.gz (14 kB)\n",
            "Requirement already satisfied: Pillow in /usr/local/lib/python3.7/dist-packages (from pytesseract) (7.1.2)\n",
            "Building wheels for collected packages: pytesseract\n",
            "  Building wheel for pytesseract (setup.py) ... \u001b[?25l\u001b[?25hdone\n",
            "  Created wheel for pytesseract: filename=pytesseract-0.3.8-py2.py3-none-any.whl size=14072 sha256=7fc00a94f005126353d1aa691758dda6b6f8fa134630dc171b72562030b4c8b2\n",
            "  Stored in directory: /root/.cache/pip/wheels/a4/89/b9/3f11250225d0f90e5454fcc30fd1b7208db226850715aa9ace\n",
            "Successfully built pytesseract\n",
            "Installing collected packages: pytesseract\n",
            "Successfully installed pytesseract-0.3.8\n",
            "Reading package lists... Done\n",
            "Building dependency tree       \n",
            "Reading state information... Done\n",
            "The following package was automatically installed and is no longer required:\n",
            "  libnvidia-common-460\n",
            "Use 'sudo apt autoremove' to remove it.\n",
            "The following additional packages will be installed:\n",
            "  tesseract-ocr-eng tesseract-ocr-osd\n",
            "The following NEW packages will be installed:\n",
            "  tesseract-ocr tesseract-ocr-eng tesseract-ocr-osd\n",
            "0 upgraded, 3 newly installed, 0 to remove and 40 not upgraded.\n",
            "Need to get 4,795 kB of archives.\n",
            "After this operation, 15.8 MB of additional disk space will be used.\n",
            "Get:1 http://archive.ubuntu.com/ubuntu bionic/universe amd64 tesseract-ocr-eng all 4.00~git24-0e00fe6-1.2 [1,588 kB]\n",
            "Get:2 http://archive.ubuntu.com/ubuntu bionic/universe amd64 tesseract-ocr-osd all 4.00~git24-0e00fe6-1.2 [2,989 kB]\n",
            "Get:3 http://archive.ubuntu.com/ubuntu bionic/universe amd64 tesseract-ocr amd64 4.00~git2288-10f4998a-2 [218 kB]\n",
            "Fetched 4,795 kB in 2s (2,903 kB/s)\n",
            "debconf: unable to initialize frontend: Dialog\n",
            "debconf: (No usable dialog-like program is installed, so the dialog based frontend cannot be used. at /usr/share/perl5/Debconf/FrontEnd/Dialog.pm line 76, <> line 3.)\n",
            "debconf: falling back to frontend: Readline\n",
            "debconf: unable to initialize frontend: Readline\n",
            "debconf: (This frontend requires a controlling tty.)\n",
            "debconf: falling back to frontend: Teletype\n",
            "dpkg-preconfigure: unable to re-open stdin: \n",
            "Selecting previously unselected package tesseract-ocr-eng.\n",
            "(Reading database ... 148486 files and directories currently installed.)\n",
            "Preparing to unpack .../tesseract-ocr-eng_4.00~git24-0e00fe6-1.2_all.deb ...\n",
            "Unpacking tesseract-ocr-eng (4.00~git24-0e00fe6-1.2) ...\n",
            "Selecting previously unselected package tesseract-ocr-osd.\n",
            "Preparing to unpack .../tesseract-ocr-osd_4.00~git24-0e00fe6-1.2_all.deb ...\n",
            "Unpacking tesseract-ocr-osd (4.00~git24-0e00fe6-1.2) ...\n",
            "Selecting previously unselected package tesseract-ocr.\n",
            "Preparing to unpack .../tesseract-ocr_4.00~git2288-10f4998a-2_amd64.deb ...\n",
            "Unpacking tesseract-ocr (4.00~git2288-10f4998a-2) ...\n",
            "Setting up tesseract-ocr-osd (4.00~git24-0e00fe6-1.2) ...\n",
            "Setting up tesseract-ocr-eng (4.00~git24-0e00fe6-1.2) ...\n",
            "Setting up tesseract-ocr (4.00~git2288-10f4998a-2) ...\n",
            "Processing triggers for man-db (2.8.3-2ubuntu0.1) ...\n"
          ],
          "name": "stdout"
        }
      ]
    },
    {
      "cell_type": "code",
      "metadata": {
        "id": "4jsEQWslJBAC"
      },
      "source": [
        "# Imports\n",
        "\n",
        "import cv2\n",
        "import numpy as np\n",
        "import pytesseract"
      ],
      "execution_count": null,
      "outputs": []
    },
    {
      "cell_type": "code",
      "metadata": {
        "id": "gL2O4eg1_vIx"
      },
      "source": [
        "def sort_contours(cnts, method=\"left-to-right\"):\n",
        "\t# initialize the reverse flag and sort index\n",
        "\treverse = False\n",
        "\ti = 0\n",
        "\t# handle if we need to sort in reverse\n",
        "\tif method == \"right-to-left\" or method == \"bottom-to-top\":\n",
        "\t\treverse = True\n",
        "\t# handle if we are sorting against the y-coordinate rather than\n",
        "\t# the x-coordinate of the bounding box\n",
        "\tif method == \"top-to-bottom\" or method == \"bottom-to-top\":\n",
        "\t\ti = 1\n",
        "\t# construct the list of bounding boxes and sort them from top to\n",
        "\t# bottom\n",
        "\tboundingBoxes = [cv2.boundingRect(c) for c in cnts]\n",
        "\t(cnts, boundingBoxes) = zip(*sorted(zip(cnts, boundingBoxes),\n",
        "\t\tkey=lambda b:b[1][i], reverse=reverse))\n",
        "\t# return the list of sorted contours and bounding boxes\n",
        "\treturn (cnts, boundingBoxes)"
      ],
      "execution_count": null,
      "outputs": []
    },
    {
      "cell_type": "code",
      "metadata": {
        "id": "BE_9AlgA9ChB"
      },
      "source": [
        "def box_extraction(img, cropped_dir_path):\n",
        "  # Read the image\n",
        "  img = cv2.imread(\"form.jpg\", 0)\n",
        "\n",
        "  # Thresholding the image\n",
        "  (thresh, img_bin) = cv2.threshold(img, 128, 255, cv2.THRESH_BINARY | cv2.THRESH_OTSU)\n",
        "\n",
        "  # Invert the image\n",
        "  img_bin = 255-img_bin\n",
        "  cv2.imwrite(\"Image_bin.jpg\",img_bin)\n",
        "\n",
        "  # Defining a kernel length \n",
        "  kernel_length = np.array(img).shape[1]//80\n",
        "\n",
        "  # A verticle kernel of (1 X kernel_length), which will detect all the verticle lines from the image.\n",
        "  verticle_kernel = cv2.getStructuringElement(cv2.MORPH_RECT, (1, kernel_length))\n",
        "\n",
        "  # A horizontal kernel of (kernel_length X 1), which will help to detect all the horizontal line from the image.\n",
        "  hori_kernel = cv2.getStructuringElement(cv2.MORPH_RECT, (kernel_length, 1))\n",
        "\n",
        "  # A kernel of (3 X 3) ones.\n",
        "  kernel = cv2.getStructuringElement(cv2.MORPH_RECT, (3, 3))\n",
        "\n",
        "  # Morphological operation to detect vertical lines from an image\n",
        "  img_temp1 = cv2.erode(img_bin, verticle_kernel, iterations=3)\n",
        "  verticle_lines_img = cv2.dilate(img_temp1, verticle_kernel, iterations=3)\n",
        "  cv2.imwrite(\"verticle_lines.jpg\",verticle_lines_img)\n",
        "\n",
        "  # Morphological operation to detect horizontal lines from an image\n",
        "  img_temp2 = cv2.erode(img_bin, hori_kernel, iterations=3)\n",
        "  horizontal_lines_img = cv2.dilate(img_temp2, hori_kernel, iterations=3)\n",
        "  cv2.imwrite(\"horizontal_lines.jpg\",horizontal_lines_img)\n",
        "\n",
        "  # Weighting parameters, this will decide the quantity of an image to be added to make a new image.\n",
        "  alpha = 0.5\n",
        "  beta = 1.0 - alpha\n",
        "\n",
        "  # This function helps to add two image with specific weight parameter to get a third image as summation of two image.\n",
        "  img_final_bin = cv2.addWeighted(verticle_lines_img, alpha, horizontal_lines_img, beta, 0.0)\n",
        "  img_final_bin = cv2.erode(~img_final_bin, kernel, iterations=2)\n",
        "  (thresh, img_final_bin) = cv2.threshold(img_final_bin, 128,255, cv2.THRESH_BINARY | cv2.THRESH_OTSU)\n",
        "  cv2.imwrite(\"img_final_bin.jpg\",img_final_bin)\n",
        "\n",
        "  im2 = img.copy()\n",
        "  contours, hierarchy = cv2.findContours(img_final_bin, cv2.RETR_TREE, cv2.CHAIN_APPROX_SIMPLE)\n",
        "\n",
        "  (contours, boundingBoxes) = sort_contours(contours, method=\"top-to-bottom\")\n",
        "\n",
        "  idx = 0\n",
        "  for cnt in contours:\n",
        "    x, y, w, h = cv2.boundingRect(cnt)\n",
        "\n",
        "    # Draw a rect on copied image \n",
        "    rect = cv2.rectangle(im2, (x, y), (x + w, y + h), (0, 255, 0), 2)\n",
        "\n",
        "    # Cropping the text blok for giving input to OCR\n",
        "    cropped = im2[y:y + h, x:x + w]\n",
        "\n",
        "    if (w > 80 and h > 20) and w > 3*h:\n",
        "      idx += 1\n",
        "      new_img = img[y:y+h, x:x+w]\n",
        "      cv2.imwrite(cropped_dir_path+str(idx) + \".jpg\", new_img)\n",
        "\n",
        "box_extraction(\"form.jpg\", \"cropped\")"
      ],
      "execution_count": null,
      "outputs": []
    }
  ]
}