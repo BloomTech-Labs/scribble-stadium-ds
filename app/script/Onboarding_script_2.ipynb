{
  "nbformat": 4,
  "nbformat_minor": 0,
  "metadata": {
    "colab": {
      "name": "Onboarding script 2.ipynb",
      "provenance": []
    },
    "kernelspec": {
      "name": "python3",
      "display_name": "Python 3"
    },
    "language_info": {
      "name": "python"
    }
  },
  "cells": [
    {
      "cell_type": "code",
      "metadata": {
        "id": "fQdlzLvsyWrL"
      },
      "source": [
        "import cv2\n",
        "import numpy as np\n",
        "from google.colab.patches import cv2_imshow\n",
        "\n",
        "# Load image, grayscale, Otsu's threshold \n",
        "image = cv2.imread('cropped10.jpg')\n",
        "original = image.copy()\n",
        "gray = cv2.cvtColor(image, cv2.COLOR_BGR2GRAY)\n",
        "thresh = cv2.threshold(gray, 0, 255, cv2.THRESH_BINARY_INV + cv2.THRESH_OTSU)[1]\n",
        "\n",
        "# Find contours, obtain bounding box, extract and save ROI\n",
        "ROI_number = 0\n",
        "cnts = cv2.findContours(thresh, cv2.RETR_EXTERNAL, cv2.CHAIN_APPROX_SIMPLE)\n",
        "cnts = cnts[0] if len(cnts) == 2 else cnts[1]\n",
        "for c in cnts:\n",
        "    x,y,w,h = cv2.boundingRect(c)\n",
        "    cv2.rectangle(image, (x, y), (x + w, y + h), (36,255,12), 2)\n",
        "    ROI = original[y:y+h, x:x+w]\n",
        "    cv2.imwrite('ROI_{}.png'.format(ROI_number), ROI)\n",
        "    ROI_number += 1\n"
      ],
      "execution_count": 2,
      "outputs": []
    },
    {
      "cell_type": "code",
      "metadata": {
        "id": "uuanLFMr5NjY"
      },
      "source": [
        "import glob\n",
        "letters = glob.glob('*.png')"
      ],
      "execution_count": 3,
      "outputs": []
    },
    {
      "cell_type": "code",
      "metadata": {
        "colab": {
          "base_uri": "https://localhost:8080/"
        },
        "id": "_f_Hytgj5rtH",
        "outputId": "11edaf8b-70e9-476e-b945-23a03be75d31"
      },
      "source": [
        "letters"
      ],
      "execution_count": 4,
      "outputs": [
        {
          "output_type": "execute_result",
          "data": {
            "text/plain": [
              "['ROI_40.png',\n",
              " 'ROI_9.png',\n",
              " 'ROI_14.png',\n",
              " 'ROI_32.png',\n",
              " 'ROI_36.png',\n",
              " 'ROI_1.png',\n",
              " 'ROI_43.png',\n",
              " 'ROI_33.png',\n",
              " 'ROI_31.png',\n",
              " 'ROI_13.png',\n",
              " 'ROI_22.png',\n",
              " 'ROI_38.png',\n",
              " 'ROI_34.png',\n",
              " 'ROI_25.png',\n",
              " 'ROI_3.png',\n",
              " 'ROI_12.png',\n",
              " 'ROI_20.png',\n",
              " 'ROI_29.png',\n",
              " 'ROI_8.png',\n",
              " 'ROI_10.png',\n",
              " 'ROI_26.png',\n",
              " 'ROI_44.png',\n",
              " 'ROI_19.png',\n",
              " 'ROI_39.png',\n",
              " 'ROI_0.png',\n",
              " 'ROI_7.png',\n",
              " 'ROI_50.png',\n",
              " 'ROI_16.png',\n",
              " 'ROI_47.png',\n",
              " 'ROI_37.png',\n",
              " 'ROI_2.png',\n",
              " 'ROI_23.png',\n",
              " 'ROI_30.png',\n",
              " 'ROI_46.png',\n",
              " 'ROI_6.png',\n",
              " 'ROI_49.png',\n",
              " 'ROI_35.png',\n",
              " 'ROI_27.png',\n",
              " 'ROI_48.png',\n",
              " 'ROI_5.png',\n",
              " 'ROI_17.png',\n",
              " 'ROI_11.png',\n",
              " 'ROI_42.png',\n",
              " 'ROI_24.png',\n",
              " 'ROI_41.png',\n",
              " 'ROI_28.png',\n",
              " 'ROI_4.png',\n",
              " 'ROI_18.png',\n",
              " 'ROI_21.png',\n",
              " 'ROI_45.png',\n",
              " 'ROI_15.png']"
            ]
          },
          "metadata": {},
          "execution_count": 4
        }
      ]
    }
  ]
}