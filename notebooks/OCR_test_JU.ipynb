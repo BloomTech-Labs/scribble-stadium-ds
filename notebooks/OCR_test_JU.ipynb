{
 "cells": [
  {
   "cell_type": "code",
   "execution_count": 14,
   "id": "d7d97eea",
   "metadata": {
    "id": "d7d97eea"
   },
   "outputs": [],
   "source": [
    "import pytesseract\n",
    "import cv2\n",
    "import tesserocr\n",
    "from PIL import Image\n",
    "import numpy as np\n",
    "from tesserocr import PyTessBaseAPI"
   ]
  },
  {
   "cell_type": "code",
   "execution_count": null,
   "id": "8e7943b1",
   "metadata": {},
   "outputs": [],
   "source": []
  },
  {
   "cell_type": "code",
   "execution_count": 2,
   "id": "27208275",
   "metadata": {
    "id": "27208275"
   },
   "outputs": [],
   "source": [
    "imgpath1 = \"/mnt/z/DataScience/Lambda/Labs/StorySquad/sharktail1.jpg\"\n",
    "imgpath2 = \"/mnt/z/DataScience/Lambda/Labs/StorySquad/My_OCR_test/image_of_doc_nonOptimal.jpg\""
   ]
  },
  {
   "cell_type": "code",
   "execution_count": 3,
   "id": "4cd47e4f",
   "metadata": {
    "id": "4cd47e4f",
    "outputId": "984e73e3-8931-486b-fcdf-2e2ca7cbe9d6"
   },
   "outputs": [
    {
     "name": "stdout",
     "output_type": "stream",
     "text": [
      "GoogleVisionEndpointReplacement.ipynb  jamspell\r\n",
      "OCR_test_JU.ipynb\t\t       score_visual.ipynb\r\n",
      "README.md\t\t\t       squad_score_mvp.ipynb\r\n",
      "Tesseract_image_preprocessing.ipynb    submission_endpoint_interations.ipynb\r\n",
      "clustering.ipynb\t\t       transcribed_stories.ipynb\r\n",
      "count_spelling_errors.ipynb\t       transcription_confidence.ipynb\r\n",
      "images_from_text.ipynb\r\n"
     ]
    }
   ],
   "source": [
    "!ls"
   ]
  },
  {
   "cell_type": "code",
   "execution_count": 4,
   "id": "003bfb12",
   "metadata": {
    "id": "003bfb12"
   },
   "outputs": [],
   "source": [
    "image = cv2.imread(imgpath1)\n",
    "image = cv2.cvtColor(image, cv2.COLOR_BGR2RGB)\n",
    "\n",
    "## opencv -> BGR format \n",
    "## tesseract -> RGB format\n",
    "## pillow  -> RGB format"
   ]
  },
  {
   "cell_type": "code",
   "execution_count": 5,
   "id": "0aa2537b",
   "metadata": {
    "id": "0aa2537b",
    "outputId": "a942dfbd-eaec-420e-ac1d-84336d4b3d20"
   },
   "outputs": [
    {
     "name": "stdout",
     "output_type": "stream",
     "text": [
      " \n",
      " \n",
      "  \n",
      " \n",
      "   \n",
      "\n",
      "LOL bok 7 Hep te erball\n",
      "\n",
      "oe Neath\n",
      "JS? (je Hye os 4 YY OAL\" re\n",
      "\n",
      "Eryots. Compe ewan ll Fino come\n",
      "eat a other Shasks at\n",
      "\n",
      "Got fick Ovt ve ash herr pyle eS\n",
      "| Ste seks Colle Oe |\n",
      "seh : ot soltS a anyon Shas & és\n",
      "\n",
      "SE Fe ne d Silber 175 Be ber WAS as G-k\n",
      "aA ii ey tcl GR ecole efieper boll\n",
      "sad Ci lbect Lore Phe pew’ /o me\n",
      "\n",
      "Giae-d- leo attel Ais tathte 5 As BO\n",
      "@ | seus tiard! Aoper boll sKills.\n",
      "\n",
      "\\ ap Fok eee bis mother A beavttll\n",
      "| Ferchouk 5 Figo Wes — atts 027 OF Jee -\n",
      "| best sto dewts iy “Fees ex | aoe Pike Bhiaperbell\n",
      "| Sg Kills avd Woke Lis good! grades will gettin\n",
      "\n",
      "| lat tiles Sess Beycothe time - Kisin \\aextatel &\n",
      "| oof Shee Bilal Gilbect ICIS already. Wo HM 4\n",
      "Up. A Hoe PCEF. OF He pe meX, Ween ESS _\n",
      "\n",
      "    \n",
      "       \n",
      " \n",
      "   \n",
      "\n",
      "| | Finn | bese wes  povnd/ug he end) ke niet\n",
      ", | oo Ai$ 9 Feed stop ShoKing. Al troogh Acs |\n",
      "(@ Poth LUIS age GS i olden a\n",
      "\n",
      "Cilbet llenS already thins tae F,\n",
      "\n",
      ": | as Hei PX BW. UreaS\n",
      "\n",
      "    \n",
      "\f",
      "\n"
     ]
    }
   ],
   "source": [
    "# use Tesseract to OCR the image\n",
    "text = pytesseract.image_to_string(image)\n",
    "print(text)"
   ]
  },
  {
   "cell_type": "code",
   "execution_count": 6,
   "id": "d2850303",
   "metadata": {
    "id": "d2850303"
   },
   "outputs": [],
   "source": [
    "image = cv2.imread(imgpath2)\n",
    "image = cv2.cvtColor(image, cv2.COLOR_BGR2RGB)\n",
    "\n",
    "## opencv -> BGR format "
   ]
  },
  {
   "cell_type": "code",
   "execution_count": 7,
   "id": "6a30bf4e",
   "metadata": {
    "id": "6a30bf4e",
    "outputId": "a66f499a-5770-4967-eeeb-e6f7c72d6d20"
   },
   "outputs": [
    {
     "name": "stdout",
     "output_type": "stream",
     "text": [
      "View at my-exercise-code.com using code: RDZFL4E\n",
      "Total5 Page 1 of 2\n",
      "\n",
      "STANDING CALF STRETCH - GASTROCNEMIUS\n",
      "\n",
      "\\ , Start by standing in front of a wall or other sturdy object. Step\n",
      "ohh forward with one foot and maintain your toes on both feet to be\n",
      "—_— pointed straight forward. Keep the leg behind you with a straight\n",
      "\n",
      "knee during the stretch.\n",
      "\n",
      "Lean forward towards the wall and support yourself with your arms\n",
      "as you allow your front knee to bend until a gentle stretch is felt\n",
      "along the back of your leg that is most behind you.\n",
      "\n",
      "Move closer or further away from the wall to control the stretch of\n",
      "the back leg. Also you can adjust the bend of the front knee to\n",
      "control the stretch as well.\n",
      "\n",
      " \n",
      "\n",
      "Repeat 5 Times Hold 20 Seconds\n",
      "Complete 1 Set Perform 1 Times a Day\n",
      "\n",
      "STANDING CALF STRETCH - SOLEUS\n",
      "\n",
      "Start by standing in front of a wall or other sturdy object. Step\n",
      "forward with one foot and maintain your toes on both feet to be\n",
      "pointed straight forward. Keep the leg behind you with a bent knee\n",
      "\n",
      " \n",
      "  \n",
      "  \n",
      "\n",
      "Lean forward towards the wall and support yourself with your arms\n",
      "as you allow your front knee to bend until a gentle stretch is felt\n",
      "along the back of your leg that is most behind you.\n",
      "\n",
      "Move closer or further away from the wall to control the stretch of\n",
      "the back leg. Also you can adjust the bend of the front knee to\n",
      "\n",
      "| the stretch as well.\n",
      "\n",
      "      \n",
      "  \n",
      "\n",
      "Hold 20 Seconds\n",
      "\f",
      "\n"
     ]
    }
   ],
   "source": [
    "# use Tesseract to OCR the image\n",
    "text = pytesseract.image_to_string(image)\n",
    "print(text)"
   ]
  },
  {
   "cell_type": "markdown",
   "id": "ef4a0eb0",
   "metadata": {
    "id": "ef4a0eb0"
   },
   "source": [
    " - Character only\n",
    " - Digits only\n",
    " - Exclusion lists\n",
    " - Text Orientation - (OSD)\n",
    " - Language translation - language packs\n",
    " \n",
    "  "
   ]
  },
  {
   "cell_type": "code",
   "execution_count": 8,
   "id": "532bd846",
   "metadata": {},
   "outputs": [],
   "source": [
    "output_path = \"/mnt/z/DataScience/Lambda/Labs/StorySquad/\""
   ]
  },
  {
   "cell_type": "code",
   "execution_count": 28,
   "id": "725502ca",
   "metadata": {
    "id": "725502ca"
   },
   "outputs": [],
   "source": []
  },
  {
   "cell_type": "code",
   "execution_count": 30,
   "id": "31154fbc",
   "metadata": {
    "id": "31154fbc"
   },
   "outputs": [
    {
     "name": "stdout",
     "output_type": "stream",
     "text": [
      "<class 'numpy.ndarray'>\n",
      "<class 'PIL.Image.Image'>\n"
     ]
    },
    {
     "data": {
      "text/plain": [
       "True"
      ]
     },
     "execution_count": 30,
     "metadata": {},
     "output_type": "execute_result"
    }
   ],
   "source": [
    "cv2.destroyAllWindows()\n",
    "img2 = cv2.imread(imgpath1)\n",
    "img2 = cv2.resize(img2, None, fx=0.25, fy=0.25) #resize using percentage\n",
    "img2 = cv2.cvtColor(img2, cv2.COLOR_BGR2GRAY) #gray scale\n",
    "img2 = cv2.adaptiveThreshold(img2, 255, cv2.ADAPTIVE_THRESH_GAUSSIAN_C, cv2.THRESH_BINARY,11, 25) #to remove background\n",
    "print(type(img2))\n",
    "# cv2.imshow(\"image\",img2) does not work in jupyter\n",
    "data = Image.fromarray(img2) #convert numpy array to a image\n",
    "print(type(data))\n",
    "data.save(output_path+\"imgpath1_process.jpg\") #save image file\n",
    "cv2.imwrite(output_path+\"imgpath1_process_cv2.jpg\",img2)"
   ]
  },
  {
   "cell_type": "code",
   "execution_count": 27,
   "id": "f12fbed4",
   "metadata": {
    "id": "f12fbed4"
   },
   "outputs": [
    {
     "name": "stdout",
     "output_type": "stream",
     "text": [
      " \n",
      "\n",
      "71 ipperbeall\n",
      "Fy ae. db £ ob for Linn lar\n",
      "me S Be paths +o Dye ofher yale a.\n",
      "Pook Le weaS$ sotall- Fine cone tenes\n",
      "Oe de of © Shas ks ar\n",
      "\n",
      "sahool and\n",
      "\n",
      "She ta test of Esolts--\n",
      "oe and Coulee 5 “pathic Wich. 0 GA\n",
      "\n",
      "wrhitt, Shot& cand. GSE nal thpper bod .\n",
      "dggered Crile’: apisve PAE GPE boftc%.\n",
      "and ob cebes hiss Pathos Law. botl=\n",
      "\n",
      "he Coad thyperball PBB. om\n",
      "\n",
      "Lo . agi Lk. un bles his ptobher Bi. Leki\n",
      "\n",
      "Phe She wbon Fine tyes 3 also..b7tt. of dt. -\n",
      "\n",
      "| best. Stodewtsto his. chsals Bok tigpecbedl\n",
      "\n",
      "Suille. and © wl his good. Groddes: cael gel Alot\n",
      "_ | ints fhe Fea By: AEE ae. Finn .arclved\n",
      "\n",
      ": ad. She biel Gilbect eves .olceady..unsonigs\n",
      "\n",
      "| Up. with fhe rest oF hk Learn. i a\n",
      "\n",
      "i [Franmbact ta § Poordrasg he Beuill woof\n",
      "\n",
      "a pes He Fins stop - Shaking. Al borg. he's\n",
      "ca | Wa fost yeas olden. Ahan: Fite\n",
      "tae\n",
      "\n",
      "Cailbeot Was\n",
      "as. Agi, Sed A, i sa He teen,\n",
      "\n",
      "Words Confidences [95, 35, 0, 41, 32, 31, 58, 49, 62, 30, 1, 16, 0, 6, 42, 62, 31, 0, 17, 16, 22, 34, 6, 25, 0, 51, 14, 22, 43, 54, 2, 0, 0, 93, 47, 60, 89, 27, 69, 67, 0, 34, 68, 0, 44, 33, 27, 28, 42, 38, 43, 46, 36, 39, 0, 0, 39, 0, 0, 0, 39, 31, 26, 50, 63, 0, 42, 31, 30, 0, 19, 37, 8, 35, 23, 0, 0, 19, 50, 36, 30, 64, 0, 17, 10, 27, 6, 0, 0, 1, 29, 0, 16, 40, 88, 85, 68, 31, 27, 0, 54, 0, 0, 15, 25, 63, 76, 52, 0, 7, 60, 52, 69, 9, 10, 34, 0, 43, 61, 32, 83, 38, 41, 56, 19, 29, 39, 20, 0, 30, 0, 0, 34, 50, 36, 48, 26, 80, 59, 0, 0, 17, 21, 21, 86, 0, 6, 17, 47, 9, 59, 64, 17, 17, 76, 28, 74, 38, 83, 0, 43, 47, 34, 0, 14, 22, 0, 56, 52, 0, 25, 15, 25, 34, 54, 0] \n",
      " \n",
      "\n",
      "Mean of words confidences 30.65340909090909 \n",
      " \n",
      "\n"
     ]
    }
   ],
   "source": [
    "with PyTessBaseAPI() as api:\n",
    "    api.SetImageFile(\"/mnt/z/DataScience/Lambda/Labs/StorySquad/imgpath1_process.jpg\")\n",
    "    print(api.GetUTF8Text())\n",
    "    print(\"Words Confidences\",api.AllWordConfidences(),\"\\n \\n\")\n",
    "    print(\"Mean of words confidences\",sum(api.AllWordConfidences())/len(api.AllWordConfidences()),\"\\n \\n\")"
   ]
  },
  {
   "cell_type": "code",
   "execution_count": null,
   "id": "e831141a",
   "metadata": {},
   "outputs": [],
   "source": []
  }
 ],
 "metadata": {
  "colab": {
   "name": "OCR_test.ipynb",
   "provenance": []
  },
  "kernelspec": {
   "display_name": "Python 3",
   "language": "python",
   "name": "python3"
  },
  "language_info": {
   "codemirror_mode": {
    "name": "ipython",
    "version": 3
   },
   "file_extension": ".py",
   "mimetype": "text/x-python",
   "name": "python",
   "nbconvert_exporter": "python",
   "pygments_lexer": "ipython3",
   "version": "3.8.5"
  }
 },
 "nbformat": 4,
 "nbformat_minor": 5
}
