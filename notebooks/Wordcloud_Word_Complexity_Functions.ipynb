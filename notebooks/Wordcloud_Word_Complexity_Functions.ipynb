{
  "nbformat": 4,
  "nbformat_minor": 0,
  "metadata": {
    "colab": {
      "name": "Wordcloud_Word_Complexity_Functions.ipynb",
      "provenance": [],
      "collapsed_sections": []
    },
    "kernelspec": {
      "name": "python3",
      "display_name": "Python 3"
    },
    "language_info": {
      "name": "python"
    }
  },
  "cells": [
    {
      "cell_type": "markdown",
      "metadata": {
        "id": "L4BJvrq0WlEx"
      },
      "source": [
        "# Import Necessary Packages"
      ]
    },
    {
      "cell_type": "code",
      "metadata": {
        "id": "fen9L8xIWkxd"
      },
      "source": [
        "import pandas as pd\n",
        "from collections import Counter\n",
        "import re"
      ],
      "execution_count": 1,
      "outputs": []
    },
    {
      "cell_type": "markdown",
      "metadata": {
        "id": "nhm-NqfuQVJ_"
      },
      "source": [
        "# Word Cloud Functions"
      ]
    },
    {
      "cell_type": "markdown",
      "metadata": {
        "id": "fgSpSg0xjmx1"
      },
      "source": [
        "These are the old functions copied from the repo."
      ]
    },
    {
      "cell_type": "code",
      "metadata": {
        "id": "_M1jEFdYCiC1"
      },
      "source": [
        "def count_syllables(word):\n",
        "    word = word.lower()\n",
        "    syllable_count = 0\n",
        "    vowels = 'aeiouy'\n",
        "    if len(word) == 0:\n",
        "        return 0\n",
        "    if word[0] in vowels:\n",
        "        syllable_count += 1\n",
        "    for index in range(1, len(word)):\n",
        "        if word[index] in vowels and word[index - 1] not in vowels:\n",
        "            syllable_count += 1\n",
        "    if word.endswith('e'):\n",
        "        syllable_count -= 1\n",
        "    if word.endswith('le') and len(word) > 2 and word[-3] not in vowels:\n",
        "        syllable_count += 1\n",
        "    if syllable_count == 0:\n",
        "        syllable_count = 1\n",
        "    return syllable_count\n",
        "    \n",
        "\n",
        "def clean_text(story):\n",
        "    # remove weird characters\n",
        "    whitelist = set(\"abcdefghijklmnopqrstuvwxyz' ABCDEFGHIJKLMNOPQRSTUVWXYZ\")\n",
        "    story = ''.join(filter(whitelist.__contains__, story))\n",
        "\n",
        "    # tokenize words\n",
        "    story = story.split()\n",
        "\n",
        "    # remove '' from list\n",
        "    story = [x for x in story if x != '']\n",
        "\n",
        "    return story\n",
        "\n",
        "\n",
        "def complexity_df(story_words):\n",
        "\n",
        "    # Create a dictionary to count occurences of words\n",
        "    word_counts = Counter(story_words)\n",
        "\n",
        "    # Convert the dictionary to a dataframe\n",
        "    word_list = []\n",
        "    count_list = []\n",
        "\n",
        "    for k, v in word_counts.items():\n",
        "        word_list.append(k)\n",
        "        count_list.append(v)\n",
        "\n",
        "    words = pd.DataFrame({'word': word_list, 'count': count_list})\n",
        "\n",
        "    # make a column for letter counts\n",
        "    words['len'] = words['word'].apply(len)\n",
        "\n",
        "    # column for syllable count\n",
        "    words['syllables'] = words['word'].apply(count_syllables)\n",
        "    # https://medium.com/@mholtzscher/programmatically-counting-syllables-ca760435fab4\n",
        "\n",
        "    # make a column for how BIG a word is\n",
        "    words['complexity'] = words['syllables'] + words['len']\n",
        "\n",
        "    return words"
      ],
      "execution_count": 2,
      "outputs": []
    },
    {
      "cell_type": "markdown",
      "metadata": {
        "id": "HW56GfFVjwNE"
      },
      "source": [
        "These I wrote to see the top ten and bottom ten."
      ]
    },
    {
      "cell_type": "code",
      "metadata": {
        "id": "jJyqNa2SGHrK"
      },
      "source": [
        "def get_top_complex_words(words_df, num_of_words):\n",
        "  words_df = words_df.sort_values(by=['complexity'], ascending=False)\n",
        "  most_complex = words_df[:num_of_words]\n",
        "  return most_complex"
      ],
      "execution_count": 3,
      "outputs": []
    },
    {
      "cell_type": "code",
      "metadata": {
        "id": "OS9aiBX2YUfZ"
      },
      "source": [
        "def get_ten_least_complex_words(words):\n",
        "  words = words.sort_values(by=['complexity'], ascending=True)\n",
        "  least_complex = words[:10]\n",
        "  return least_complex"
      ],
      "execution_count": 4,
      "outputs": []
    },
    {
      "cell_type": "markdown",
      "metadata": {
        "id": "14rqBP6dRuby"
      },
      "source": [
        "First rewrite of the complexity_df function."
      ]
    },
    {
      "cell_type": "code",
      "metadata": {
        "id": "YpUwqHRBmnst"
      },
      "source": [
        "# Rewriting complexity_df function\n",
        "\n",
        "def complexity_df(story_words):\n",
        "\n",
        "    # Create a dictionary to count occurences of words\n",
        "    word_counts = Counter(story_words)\n",
        "\n",
        "    # Convert the dictionary to a dataframe\n",
        "    word_list = []\n",
        "    count_list = []\n",
        "\n",
        "    for k, v in word_counts.items():\n",
        "        word_list.append(k)\n",
        "        count_list.append(v)\n",
        "\n",
        "    words = pd.DataFrame({'word': word_list, 'count': count_list})\n",
        "\n",
        "    # make a column for letter counts\n",
        "    words['len'] = words['word'].apply(len)\n",
        "\n",
        "    # column for syllable count\n",
        "    words['syllables'] = words['word'].apply(count_syllables)\n",
        "    # https://medium.com/@mholtzscher/programmatically-counting-syllables-ca760435fab4\n",
        "\n",
        "    # make a column for how complex a word is\n",
        "\n",
        "    # first setting words that are in the complex_words with their set complexity\n",
        "    # these are words at higher grade levels, that don't work with the complexity metric\n",
        "    vdic = pd.Series(complex_words.complexity.values, index=complex_words.word).to_dict()\n",
        "    words.loc[words.word.isin(vdic.keys()), 'complexity'] = words.loc[words.word.isin(vdic.keys()), 'word'].map(vdic)\n",
        "\n",
        "    # then filling in the rest with the complexity metric\n",
        "    words['complexity'] = words['complexity'].fillna(words['syllables'] + words['len'])\n",
        "    words = words.astype({\"complexity\": int})\n",
        "\n",
        "    return words"
      ],
      "execution_count": 5,
      "outputs": []
    },
    {
      "cell_type": "markdown",
      "metadata": {
        "id": "mBSUwsuaSERa"
      },
      "source": [
        "Second rewrite of the complexity_dataframe function."
      ]
    },
    {
      "cell_type": "code",
      "metadata": {
        "id": "SRmKE97TqkOj"
      },
      "source": [
        "def complexity_dataframe(story_string, num_of_words_needed=20):\n",
        "\n",
        "    # Counts the syllables in each word\n",
        "    def count_syllables(word):\n",
        "      word = word.lower()\n",
        "      syllable_count = 0\n",
        "      vowels = 'aeiouy'\n",
        "      if len(word) == 0:\n",
        "          return 0\n",
        "      if word[0] in vowels:\n",
        "          syllable_count += 1\n",
        "      for index in range(1, len(word)):\n",
        "          if word[index] in vowels and word[index - 1] not in vowels:\n",
        "              syllable_count += 1\n",
        "      if word.endswith('e'):\n",
        "          syllable_count -= 1\n",
        "      if word.endswith('le') and len(word) > 2 and word[-3] not in vowels:\n",
        "          syllable_count += 1\n",
        "      if syllable_count == 0:\n",
        "          syllable_count = 1\n",
        "      return syllable_count\n",
        "\n",
        "    # Cleans data to be usable for the dataframe\n",
        "    cleaned = re.sub(\"[^-9A-Za-z ]\", \"\" , story_string).lower()\n",
        "    cleaned_words = cleaned.split()\n",
        "\n",
        "    # Counts how many times each word appears in the story\n",
        "    word_counts = Counter(cleaned_words)\n",
        "\n",
        "    # Convert the dictionary to a dataframe\n",
        "    word_list = []\n",
        "    count_list = []\n",
        "\n",
        "    for k, v in word_counts.items():\n",
        "        word_list.append(k)\n",
        "        count_list.append(v)\n",
        "\n",
        "    words = pd.DataFrame({'word': word_list, 'count': count_list})\n",
        "\n",
        "    # make a column for letter counts\n",
        "    words['len'] = words['word'].apply(len)\n",
        "\n",
        "    # column for syllable count\n",
        "    words['syllables'] = words['word'].apply(count_syllables)\n",
        "    # https://medium.com/@mholtzscher/programmatically-counting-syllables-ca760435fab4\n",
        "\n",
        "    # make a column for how complex a word is\n",
        "\n",
        "    # first setting words that are in the complex_words with their set complexity\n",
        "    # these are words at higher grade levels, that don't work with the complexity metric\n",
        "    vdic = pd.Series(complex_words.complexity.values, index=complex_words.word).to_dict()\n",
        "    words.loc[words.word.isin(vdic.keys()), 'complexity'] = words.loc[words.word.isin(vdic.keys()), 'word'].map(vdic)\n",
        "\n",
        "    # then filling in the rest with the complexity metric\n",
        "    words['complexity'] = words['complexity'].fillna(words['syllables'] + words['len'])\n",
        "    words = words.astype({\"complexity\": int})\n",
        "\n",
        "    # Dividing the complexity by how many times the word appears in the story \n",
        "    words['complexity'] = words['complexity'] / words['count']\n",
        "    words = words.sort_values(by=['complexity'], ascending=False)\n",
        "\n",
        "    # Returns the words df columns 'word' and 'complexity' and rows up to how many are selected (default=20)\n",
        "    return words[['word', 'complexity']][:num_of_words_needed]\n",
        "\n",
        "    # Returns just the word column up to the selected number as a list, possible use later\n",
        "    # return words['word'][:num_of_words_needed].tolist()"
      ],
      "execution_count": 6,
      "outputs": []
    },
    {
      "cell_type": "code",
      "metadata": {
        "id": "bj3keDJmTNZM"
      },
      "source": [
        "def story_word_count(story_string):\n",
        "    # cleans the story string\n",
        "    cleaned = re.sub(\"[^-9A-Za-z ]\", \"\", story_string).lower()\n",
        "    # counts the words in the story\n",
        "    cleaned_words_count = len(cleaned.split())\n",
        "    return cleaned_words_count"
      ],
      "execution_count": 7,
      "outputs": []
    },
    {
      "cell_type": "markdown",
      "metadata": {
        "id": "_eureOyWQhcC"
      },
      "source": [
        "# Testing First Rewrite of Complexity Function"
      ]
    },
    {
      "cell_type": "markdown",
      "metadata": {
        "id": "YfWPnwIrh6zj"
      },
      "source": [
        "Super words are taken from the complex_words.csv. Located in data/crop-cloud"
      ]
    },
    {
      "cell_type": "code",
      "metadata": {
        "id": "AVrXjftHCpLl"
      },
      "source": [
        "super_words = \"aback, abaft, abalone, abamp, abampere, abase, abased, abash, abashed, abasia, abate, abatis, abaxial, abbacy, abbess, abbot, abduce, abduct, abducent, abductee, abductor, abele, abelmosk, abet, abettor, abeyance, abeyant, abhor, abject, abhorrent, abjure, abide, abiosis, abient, ablate, ablaze, abnegate, abode, abrade, abridge, abrogate, abrupt, abscind, absolve, absorb, abscond, abstain, abstruse, absurd, abyss, acarid, accede, acclivity, accolade, accord, accost, accosted, accredit, accroach, accrue, acumen, admonish, adumbrate, aggrandize, alacrity, anathema, annex, arboreal, arrogate, ascetic, bane, bashful, beguile, bilk, cajole, calumny, carouse, cavort, clamor, cleave, cobbler, cogent, conduit, congruity, connive, consign, contusion, contrite, covet, cupidity, crass, dearth, debacle, debauch, debunk, defunct, despot, didactic, dirge, discomfit, dispel, disrepute, dogmatic, dour, duplicity, edict, elegy, elicit, emend, emollient, enervate, enfranchise, ephemeral, equivocal, espouse, evince, exhort, execrable, exigent, expiate, expunge, extol, extant, expurgate, fallacious, fatuous, fetter, flagrant, foiled, foil, fortuitous, fractious, garrulous, gourmand, gratuitous, hapless, iconoclast, impinge, impute, inane, inchoate, inimical, inoculate, instigate, inure, invective, knell, licentious, linchpin, litigant, maelstrom, maudlin, maverick, mawkish, modicum, morass, mores, nadir, neophyte, noisome, obdurate, officious, ostracism, palliate, panacea, pariah, paucity, pejorative, pellucid, penurious, pert, pernicious, phlegmatic, pithy, platitude, plaudit, plenitude, portent, potentate, presage, probity, proclivity, profligate, proscribe, protean, prurient, puerile, quaint, quixotic, quandary, relegate, remiss, reprieve, reprobate, rife, sanguine, scurrilous, sobriety, solicitous, solipsism, staid, stolid, subjugate, surfeit, swarthy, tome, toady, torpid, travesty, trenchant, trite, truculent, turpitude, umbrage, upbraid, veracity, vestige, vilify, vitriolic, winsome, yoke, zephyr, wily, tirade, grommet, nauseant, addend, tutor, clout, sultry, fipple, accursed, accuser,  accustom, acedia, acerbic, acerbate, acerbity, acerose, acerous, acetic, acetous, achene, acicular, aciculate, aciniform, acme, acolyte, acquiesce, acquit, acrid, acrostic, acta, adage, addle, adduce, adit, adjoin, adjure, adulate, aegis, aerate, affix, aft, agog, airfoil, akin, alcove, alibi, allay, allude, alms, ambit, amble, amid, amity, amuck, ana, ancon, anent, animus, antic, aphid, apiary, appall, aptly, arete, argot, asp, atone, aura, avid, avow, awe, awry, balk, bask, bawl, bemoan, bequeath, berate, bide, biome, boor, brash, brawl, brute, bungle, butte, bygone, callow, captor, careen, cask, chaff, chard, chasm, chic, chide, chock, chortle, chroma, clad, coax, cohere, collude, comity, conjoin, conk, contort, contuse, coup, cower, cowl, coy, crag, curt, couth, cyborg, dactyl, daft, dais, dally, dap, decoct, decry, deft, deify, delude, dire, divvy, doff, doily, dote, drab, drawl, droll, duly, dupe, dyad, ebb, edify, effigy, eke, elate, elude, embroil, eon, ergo, espy, eve, exude, exult, feign, fickle, flak, flay, fleck, flub, flux, forgo, frill, furl, garish, gauche, ghee, gnash, gnaw, goad, gouge, gruff, guck, gyre, gyro, heed, heft, helm, hew, hex, hind, hoax, hovel, hubris, hue, husk, illude, imbue, inapt, ingot, iota, ire, irk, jeer, jibe, jinx, jive, jolt, jot, jowl, keen, kiln, knave, knoll, lank, laud, lave, lax, laze, leer, leery, lest, liquefy, lithe, loath, lob, lop, lug, lunge, lurk, lush, maim, malady, maraud, maw, meek, mewl, miff, moot, mope, morsel, mull, naught, nook, obtuse, ode, ombre, omit, opus, perplex, pilfer, placid, plait, pleat, poise, posy, pout, preen, primp, privy, prod, profuse, prone, pry, puny, putrid, pylon, pyre, qualm, quash, quell, quip, quirk, rancor, rapt, rasp, rebuff, recant, redact, reek, reel, reform, refract, reify, relent, rend, repute, resile, revile, riff, rile, romp, rout, ruse, sate, scant, schlep, scoff, scowl, sect, seep, seethe, shard, sheen, shirk, shunt, sidle, sigil, silt, sinew, singe, skew, skirr, skulk, slat, sleuth, slosh, sly, smelt, smirk, snafu, snare, sneer, snide, snub, sod, soiree, somber, sop, souse, spew, spiel, spire, splay, spry, squall, stasis, stern, ​​stifle, stint, stoke, stout, stow, strut, suave, subtle, sunder, supine, surly, swath, swathe, sync, tacit, tact, tatter, taut, teem, tepid, tether, thwart, toil, topple, tousle, trawl, trice, trifle, trill, trope, tuft, unapt, usury, valor, vapid, vat, verve, vex, vie, vigor, vivid, vouch, vying, waft, wane, wary, weary, welt, whim, whirl, wield, wile, wiry, woe, writhe, yowl, zeal\""
      ],
      "execution_count": 8,
      "outputs": []
    },
    {
      "cell_type": "markdown",
      "metadata": {
        "id": "MKc2awWrTtyr"
      },
      "source": [
        "The old clean text function prepares the data to be run through the complexity_df function."
      ]
    },
    {
      "cell_type": "code",
      "metadata": {
        "id": "QxH8NBmLDSro"
      },
      "source": [
        "super_words_cleaned = clean_text(super_words)"
      ],
      "execution_count": 9,
      "outputs": []
    },
    {
      "cell_type": "markdown",
      "metadata": {
        "id": "E3qLefUiUJbv"
      },
      "source": [
        "Import the complex_words.csv from the git repo to use in the complexity df. The function checks if any of the words in the story match the words in the list. If there is/are, the complexity score for that word/words is taken from the complex_words.csv."
      ]
    },
    {
      "cell_type": "code",
      "metadata": {
        "id": "CgI_q4DIT4Fp"
      },
      "source": [
        "complex_words = pd.read_csv(\"https://raw.githubusercontent.com/Lambda-School-Labs/scribble-stadium-ds/main/data/crop-cloud/complex_words.csv\")"
      ],
      "execution_count": 10,
      "outputs": []
    },
    {
      "cell_type": "markdown",
      "metadata": {
        "id": "HBOuhtO2gwtb"
      },
      "source": [
        "Creating the dataframe and sorting the columns by complexity."
      ]
    },
    {
      "cell_type": "code",
      "metadata": {
        "id": "Lt5pvnQxDfE9"
      },
      "source": [
        "super_words_df = complexity_df(super_words_cleaned)\n",
        "super_words_df = super_words_df.sort_values(by=['complexity'], ascending=False)"
      ],
      "execution_count": 11,
      "outputs": []
    },
    {
      "cell_type": "code",
      "metadata": {
        "colab": {
          "base_uri": "https://localhost:8080/",
          "height": 419
        },
        "id": "wlrjZ-gYU450",
        "outputId": "4206cc24-cec4-4eb7-b974-74063bf2e51d"
      },
      "source": [
        "super_words_df"
      ],
      "execution_count": 12,
      "outputs": [
        {
          "output_type": "execute_result",
          "data": {
            "text/html": [
              "<div>\n",
              "<style scoped>\n",
              "    .dataframe tbody tr th:only-of-type {\n",
              "        vertical-align: middle;\n",
              "    }\n",
              "\n",
              "    .dataframe tbody tr th {\n",
              "        vertical-align: top;\n",
              "    }\n",
              "\n",
              "    .dataframe thead th {\n",
              "        text-align: right;\n",
              "    }\n",
              "</style>\n",
              "<table border=\"1\" class=\"dataframe\">\n",
              "  <thead>\n",
              "    <tr style=\"text-align: right;\">\n",
              "      <th></th>\n",
              "      <th>word</th>\n",
              "      <th>count</th>\n",
              "      <th>len</th>\n",
              "      <th>syllables</th>\n",
              "      <th>complexity</th>\n",
              "    </tr>\n",
              "  </thead>\n",
              "  <tbody>\n",
              "    <tr>\n",
              "      <th>352</th>\n",
              "      <td>doily</td>\n",
              "      <td>1</td>\n",
              "      <td>5</td>\n",
              "      <td>2</td>\n",
              "      <td>20</td>\n",
              "    </tr>\n",
              "    <tr>\n",
              "      <th>237</th>\n",
              "      <td>acerbity</td>\n",
              "      <td>1</td>\n",
              "      <td>8</td>\n",
              "      <td>4</td>\n",
              "      <td>20</td>\n",
              "    </tr>\n",
              "    <tr>\n",
              "      <th>113</th>\n",
              "      <td>equivocal</td>\n",
              "      <td>1</td>\n",
              "      <td>9</td>\n",
              "      <td>4</td>\n",
              "      <td>20</td>\n",
              "    </tr>\n",
              "    <tr>\n",
              "      <th>111</th>\n",
              "      <td>enfranchise</td>\n",
              "      <td>1</td>\n",
              "      <td>11</td>\n",
              "      <td>3</td>\n",
              "      <td>20</td>\n",
              "    </tr>\n",
              "    <tr>\n",
              "      <th>243</th>\n",
              "      <td>acicular</td>\n",
              "      <td>1</td>\n",
              "      <td>8</td>\n",
              "      <td>4</td>\n",
              "      <td>20</td>\n",
              "    </tr>\n",
              "    <tr>\n",
              "      <th>...</th>\n",
              "      <td>...</td>\n",
              "      <td>...</td>\n",
              "      <td>...</td>\n",
              "      <td>...</td>\n",
              "      <td>...</td>\n",
              "    </tr>\n",
              "    <tr>\n",
              "      <th>339</th>\n",
              "      <td>dactyl</td>\n",
              "      <td>1</td>\n",
              "      <td>6</td>\n",
              "      <td>2</td>\n",
              "      <td>8</td>\n",
              "    </tr>\n",
              "    <tr>\n",
              "      <th>318</th>\n",
              "      <td>chide</td>\n",
              "      <td>1</td>\n",
              "      <td>5</td>\n",
              "      <td>1</td>\n",
              "      <td>6</td>\n",
              "    </tr>\n",
              "    <tr>\n",
              "      <th>433</th>\n",
              "      <td>loath</td>\n",
              "      <td>1</td>\n",
              "      <td>5</td>\n",
              "      <td>1</td>\n",
              "      <td>6</td>\n",
              "    </tr>\n",
              "    <tr>\n",
              "      <th>399</th>\n",
              "      <td>hind</td>\n",
              "      <td>1</td>\n",
              "      <td>4</td>\n",
              "      <td>1</td>\n",
              "      <td>5</td>\n",
              "    </tr>\n",
              "    <tr>\n",
              "      <th>351</th>\n",
              "      <td>doff</td>\n",
              "      <td>1</td>\n",
              "      <td>4</td>\n",
              "      <td>1</td>\n",
              "      <td>5</td>\n",
              "    </tr>\n",
              "  </tbody>\n",
              "</table>\n",
              "<p>604 rows × 5 columns</p>\n",
              "</div>"
            ],
            "text/plain": [
              "            word  count  len  syllables  complexity\n",
              "352        doily      1    5          2          20\n",
              "237     acerbity      1    8          4          20\n",
              "113    equivocal      1    9          4          20\n",
              "111  enfranchise      1   11          3          20\n",
              "243     acicular      1    8          4          20\n",
              "..           ...    ...  ...        ...         ...\n",
              "339       dactyl      1    6          2           8\n",
              "318        chide      1    5          1           6\n",
              "433        loath      1    5          1           6\n",
              "399         hind      1    4          1           5\n",
              "351         doff      1    4          1           5\n",
              "\n",
              "[604 rows x 5 columns]"
            ]
          },
          "metadata": {},
          "execution_count": 12
        }
      ]
    },
    {
      "cell_type": "markdown",
      "metadata": {
        "id": "PCVkQfQIhUNa"
      },
      "source": [
        "Checking that the complexity metrics worked. All the words are \"super words\" so they should have a complexity score of 14, 16, 18, or 20."
      ]
    },
    {
      "cell_type": "code",
      "metadata": {
        "colab": {
          "base_uri": "https://localhost:8080/"
        },
        "id": "OUjea4pyRE1Q",
        "outputId": "593dd647-d4bb-4bd1-bc65-cfea6e1d9f44"
      },
      "source": [
        "super_words_df['complexity'].value_counts()"
      ],
      "execution_count": 13,
      "outputs": [
        {
          "output_type": "execute_result",
          "data": {
            "text/plain": [
              "16    236\n",
              "18    143\n",
              "14    114\n",
              "20    105\n",
              "6       2\n",
              "5       2\n",
              "9       1\n",
              "8       1\n",
              "Name: complexity, dtype: int64"
            ]
          },
          "metadata": {},
          "execution_count": 13
        }
      ]
    },
    {
      "cell_type": "markdown",
      "metadata": {
        "id": "sSuyq9KQlXAT"
      },
      "source": [
        "Checking the count is correct as well."
      ]
    },
    {
      "cell_type": "code",
      "metadata": {
        "colab": {
          "base_uri": "https://localhost:8080/"
        },
        "id": "Au_DkkegWz9R",
        "outputId": "17d12670-3c6f-4a2b-d533-e280a4607e70"
      },
      "source": [
        "story_word_count(super_words)"
      ],
      "execution_count": 14,
      "outputs": [
        {
          "output_type": "execute_result",
          "data": {
            "text/plain": [
              "604"
            ]
          },
          "metadata": {},
          "execution_count": 14
        }
      ]
    },
    {
      "cell_type": "markdown",
      "metadata": {
        "id": "ledGzKQFj6DT"
      },
      "source": [
        "Scribble story samples"
      ]
    },
    {
      "cell_type": "code",
      "metadata": {
        "id": "1MTEofdYSkrt"
      },
      "source": [
        "scribble_story = \"Once apon a time there was a girl named Mary. On a warm sunny day Mary was walking through the woods near hear nouse to look for some critters to take pictures of. She loved animals and nature all her life even though she was only nine years oldShe thinks that she is going to die soon. She does go to school but she isn't that smart. For example Mary recycled a pie even though the pie was not even bitten. Another thing she did was leave her muffin in the woods while she was traveling with  her family to Andrea's house which is one of Mary's friends atschool and Mary's muffin was eaten by a bear that sniffed it :q!:from far away. Yes. Mary could be a little weird but that is just how she is. Back to the real story now. Mary found a fox, took a picture she also found a rabbit took a picture she found a squirrel and took a picture before it ran away. But sooner or later she saw two eyes peeking through a bush on the side of the path she was walking on. Then the creature slowly came out of the bush. It was a bear. The bear growled at Mary. Mary was terrifyed. She started running and running but she could still see the bear growling behind her. This was the end of Mary. Mary was approaching her house she could see it now. She was safe in her house. She was now really scared. She could possibly be eaten but she made it to the door opened it and slammed it shut before the bear could get in. She ran or sprinted rather up to her room. Im alive!! She cried. I just cant belive it Im alive!! Mary was so relifed she told her mom and dad and her brother. And that night Mary was kissed goodnight and tucked into bed. And that is the only brave time of her life.\""
      ],
      "execution_count": 15,
      "outputs": []
    },
    {
      "cell_type": "code",
      "metadata": {
        "id": "IS_MYRr1mQ22"
      },
      "source": [
        "scribble_story_2 = \" The secret fifth gradeI am Amelia I am starting fifth grade.I have a little siter named Emma, Emma isgoining into kindergarden, with her tripletsAva and Isabella, but I don't careabout them. When I was a 3rd graderwe learned how to invent. This year I will try to make an invention that a robot will go to school for me. Got to go to sleep. zzzzzz. I wake up get changed, brush teeth, and do hair. I have long curly brown hair. I used to wear glasses and braces, and oncebroke my leg. I am 10, I will turn 11 in November. The school is called Los Angeles elementry school. I live in Nevada and will drive there. It is probabaly an hour. When I walked in Mrs. Begula said Hello! Mrs. Klapeia, my last name. I said hi. I have to share a desk with Brittney. My schedule: Math Writting, reading, vocab, spelling, typing, and social studies. It had said NO Lunch In Fifth grade! When I was in second grade Kayla calle me a division Decimal. I did not like it. We had to make division problems and they were all with decimals. Class dismissed said Mrs. Begula. Now I was not a witch, vampire, or godess, but I made a sock from Emma and made it do my homework. When it was time to go I didn't I made a blue robot the whole night. Blue is my favorite color, but it only had a blue shirt because my teacher would notice it is not me. I sent it out with my mom. I went on my phone, until Ava came in my room. She said loudly Why are you not at school! Good thing she did not notice. I had to say something um I am sick. Cof cof cof. Oh I see let me tell Isabella. Isabella I heard she said. No said Ava. Should I tell Mom if she's really sick. Um no said Isabella play with me. Isabella already new about it. It the robot came back. It worked yay, and that is my year of fifth grade, When the home work is home. You are are doing my homework!\""
      ],
      "execution_count": 16,
      "outputs": []
    },
    {
      "cell_type": "code",
      "metadata": {
        "id": "VlJLlJUTydav"
      },
      "source": [
        "scribble_story_3 = \"Once apon a time there was a girl named Mary. On a warm Sunny day Mary was wealking through the woods near her house to look for some critters to take pictures of She loved animals and nature all her life even though she was only nine years old She thinks that she is going to die soon, she does go to school but she isnt that smart, for example Mary recycled a pie even though the pie was not even bitten. Another thing she did Was leave her muffin in the woods while she was traveling with her family to Andreas house which is one of Marys friends at school and Marys muffin was eaten by a bear that sniffer it from far away. Yes, Mary could be a little Weird but that is tust how she is. Back to the real story nowo Mary found a fox, took a picture she also found a rabbit took a picture She found a squirrel and took a picture before it ran away, But sooner or later she saw the eyes peeking through a bush on the site of the path she was walking on. Then the creature slowly came out of the bush. It was a bear. The bear grabled at Mary, Mary was terrifyed, she started running and running but she could still see the bear growling behind her. This was the and of Mary, Mary was approaching her have she could see it now, she was sate in her house, She was now really scared. She could possibly be eaten but she made it to the door opened it and slammed it shut before the bear could get in, she ran or sprinted rather up to her room. Im alive!!! she cried, I just cant belive it Im alive!!! Mary was so relifed she told her mom and dad and her brother. And that night Mary was kissed good night and thaked into bed. And that is the only brave time of her life. The secret fifth grade - 3102 E am Abeilia I am starting fifth grade I have alittle ster named Emma, Emma is goining into kindergarden, wi theer triplets Aver and Isabella, but I dont care about them when I was a 3rd grader leamed bow to invento This year I will try to make an invention that arobot Wil go to school forme. Got to go to deep. Ezzzzz. I wake up get changed, brush teeth, and do hair have long curly brown hair. I used to wear glasses and braces, and once broke my leg. I am 10, I will turn il in November The school is called Los Angeles elementry school, I live in Nevada and will drive there. It is probably an hour When I walked in Mrs. Begula said Hello Mrsklape, my last name I said his I have to share a desk with Brittney typing, and social stadies. It had said No My Schedule Math wetting reading, Vocabie spelling. Lunch In, Fifth grade When I was in second grade Kayla called me a division Decimal. I did not like it. we had to make division problems and they were all with iecimals Class dismissed said Mrs. Begular Now I was not a witch wampice, or godess, but I made asock from Emana and made it do my homework. When it was time to go 3102 I didnt I made a blue robet the whole night Blue is my favorite color but it only had a blue shirt because my teacher would hotice it is not me, I sent it out with Came in my room She said bond mayoneem. Prventions are phone on this Ava Why are you not at school. Good thing She did not notice. I had to say something un I am sick of of cof, oht see let me tell Isabella Isabella I heard she said. Mo suid Ava. Should I tell mom it shes really sick um no raid Isabella play with me. Isabella already new about it. It the robot came back It worker yay, and that is my year of fifth grade. When the home work is home you are doing my home werkt\""
      ],
      "execution_count": 17,
      "outputs": []
    },
    {
      "cell_type": "markdown",
      "metadata": {
        "id": "z1_kHIsQ0YWF"
      },
      "source": [
        "Cleaning the stories"
      ]
    },
    {
      "cell_type": "code",
      "metadata": {
        "id": "TjMCkTemTafp"
      },
      "source": [
        "scribble_story_clean = clean_text(scribble_story)\n",
        "scribble_story_df = complexity_df(scribble_story_clean)"
      ],
      "execution_count": 18,
      "outputs": []
    },
    {
      "cell_type": "code",
      "metadata": {
        "id": "0J24DLp-nwH8"
      },
      "source": [
        "scribble_story_2_clean = clean_text(scribble_story_2)\n",
        "scribble_story_2_df = complexity_df(scribble_story_2_clean)"
      ],
      "execution_count": 19,
      "outputs": []
    },
    {
      "cell_type": "code",
      "metadata": {
        "id": "k1rZrBMkzt9O"
      },
      "source": [
        "scribble_story_3_clean = clean_text(scribble_story_3)\n",
        "scribble_story_3_df = complexity_df(scribble_story_3_clean)"
      ],
      "execution_count": 20,
      "outputs": []
    },
    {
      "cell_type": "markdown",
      "metadata": {
        "id": "yca6vCE30b5f"
      },
      "source": [
        "Top ten complex words in each story"
      ]
    },
    {
      "cell_type": "code",
      "metadata": {
        "colab": {
          "base_uri": "https://localhost:8080/",
          "height": 359
        },
        "id": "ReVOHGDKTsl4",
        "outputId": "824e85ec-b69a-497b-d4f7-30ca71c7d38d"
      },
      "source": [
        "top_ten_scribble_story = get_top_complex_words(scribble_story_df, 10)\n",
        "top_ten_scribble_story"
      ],
      "execution_count": 21,
      "outputs": [
        {
          "output_type": "execute_result",
          "data": {
            "text/html": [
              "<div>\n",
              "<style scoped>\n",
              "    .dataframe tbody tr th:only-of-type {\n",
              "        vertical-align: middle;\n",
              "    }\n",
              "\n",
              "    .dataframe tbody tr th {\n",
              "        vertical-align: top;\n",
              "    }\n",
              "\n",
              "    .dataframe thead th {\n",
              "        text-align: right;\n",
              "    }\n",
              "</style>\n",
              "<table border=\"1\" class=\"dataframe\">\n",
              "  <thead>\n",
              "    <tr style=\"text-align: right;\">\n",
              "      <th></th>\n",
              "      <th>word</th>\n",
              "      <th>count</th>\n",
              "      <th>len</th>\n",
              "      <th>syllables</th>\n",
              "      <th>complexity</th>\n",
              "    </tr>\n",
              "  </thead>\n",
              "  <tbody>\n",
              "    <tr>\n",
              "      <th>136</th>\n",
              "      <td>approaching</td>\n",
              "      <td>1</td>\n",
              "      <td>11</td>\n",
              "      <td>3</td>\n",
              "      <td>14</td>\n",
              "    </tr>\n",
              "    <tr>\n",
              "      <th>68</th>\n",
              "      <td>traveling</td>\n",
              "      <td>1</td>\n",
              "      <td>9</td>\n",
              "      <td>3</td>\n",
              "      <td>12</td>\n",
              "    </tr>\n",
              "    <tr>\n",
              "      <th>127</th>\n",
              "      <td>terrifyed</td>\n",
              "      <td>1</td>\n",
              "      <td>9</td>\n",
              "      <td>3</td>\n",
              "      <td>12</td>\n",
              "    </tr>\n",
              "    <tr>\n",
              "      <th>140</th>\n",
              "      <td>possibly</td>\n",
              "      <td>1</td>\n",
              "      <td>8</td>\n",
              "      <td>3</td>\n",
              "      <td>11</td>\n",
              "    </tr>\n",
              "    <tr>\n",
              "      <th>166</th>\n",
              "      <td>goodnight</td>\n",
              "      <td>1</td>\n",
              "      <td>9</td>\n",
              "      <td>2</td>\n",
              "      <td>11</td>\n",
              "    </tr>\n",
              "    <tr>\n",
              "      <th>26</th>\n",
              "      <td>pictures</td>\n",
              "      <td>1</td>\n",
              "      <td>8</td>\n",
              "      <td>3</td>\n",
              "      <td>11</td>\n",
              "    </tr>\n",
              "    <tr>\n",
              "      <th>57</th>\n",
              "      <td>recycled</td>\n",
              "      <td>1</td>\n",
              "      <td>8</td>\n",
              "      <td>3</td>\n",
              "      <td>11</td>\n",
              "    </tr>\n",
              "    <tr>\n",
              "      <th>103</th>\n",
              "      <td>squirrel</td>\n",
              "      <td>1</td>\n",
              "      <td>8</td>\n",
              "      <td>2</td>\n",
              "      <td>10</td>\n",
              "    </tr>\n",
              "    <tr>\n",
              "      <th>71</th>\n",
              "      <td>Andrea's</td>\n",
              "      <td>1</td>\n",
              "      <td>8</td>\n",
              "      <td>2</td>\n",
              "      <td>10</td>\n",
              "    </tr>\n",
              "    <tr>\n",
              "      <th>119</th>\n",
              "      <td>creature</td>\n",
              "      <td>1</td>\n",
              "      <td>8</td>\n",
              "      <td>2</td>\n",
              "      <td>10</td>\n",
              "    </tr>\n",
              "  </tbody>\n",
              "</table>\n",
              "</div>"
            ],
            "text/plain": [
              "            word  count  len  syllables  complexity\n",
              "136  approaching      1   11          3          14\n",
              "68     traveling      1    9          3          12\n",
              "127    terrifyed      1    9          3          12\n",
              "140     possibly      1    8          3          11\n",
              "166    goodnight      1    9          2          11\n",
              "26      pictures      1    8          3          11\n",
              "57      recycled      1    8          3          11\n",
              "103     squirrel      1    8          2          10\n",
              "71      Andrea's      1    8          2          10\n",
              "119     creature      1    8          2          10"
            ]
          },
          "metadata": {},
          "execution_count": 21
        }
      ]
    },
    {
      "cell_type": "code",
      "metadata": {
        "colab": {
          "base_uri": "https://localhost:8080/",
          "height": 359
        },
        "id": "c5kVdTkQn4qy",
        "outputId": "eb475b5d-d560-4cdf-94ce-638f1f9a4b67"
      },
      "source": [
        "top_ten_scribble_story_2 = get_top_complex_words(scribble_story_2_df, 10)\n",
        "top_ten_scribble_story_2"
      ],
      "execution_count": 22,
      "outputs": [
        {
          "output_type": "execute_result",
          "data": {
            "text/html": [
              "<div>\n",
              "<style scoped>\n",
              "    .dataframe tbody tr th:only-of-type {\n",
              "        vertical-align: middle;\n",
              "    }\n",
              "\n",
              "    .dataframe tbody tr th {\n",
              "        vertical-align: top;\n",
              "    }\n",
              "\n",
              "    .dataframe thead th {\n",
              "        text-align: right;\n",
              "    }\n",
              "</style>\n",
              "<table border=\"1\" class=\"dataframe\">\n",
              "  <thead>\n",
              "    <tr style=\"text-align: right;\">\n",
              "      <th></th>\n",
              "      <th>word</th>\n",
              "      <th>count</th>\n",
              "      <th>len</th>\n",
              "      <th>syllables</th>\n",
              "      <th>complexity</th>\n",
              "    </tr>\n",
              "  </thead>\n",
              "  <tbody>\n",
              "    <tr>\n",
              "      <th>16</th>\n",
              "      <td>kindergarden</td>\n",
              "      <td>1</td>\n",
              "      <td>12</td>\n",
              "      <td>4</td>\n",
              "      <td>16</td>\n",
              "    </tr>\n",
              "    <tr>\n",
              "      <th>19</th>\n",
              "      <td>tripletsAva</td>\n",
              "      <td>1</td>\n",
              "      <td>11</td>\n",
              "      <td>4</td>\n",
              "      <td>15</td>\n",
              "    </tr>\n",
              "    <tr>\n",
              "      <th>81</th>\n",
              "      <td>probabaly</td>\n",
              "      <td>1</td>\n",
              "      <td>9</td>\n",
              "      <td>4</td>\n",
              "      <td>13</td>\n",
              "    </tr>\n",
              "    <tr>\n",
              "      <th>75</th>\n",
              "      <td>elementry</td>\n",
              "      <td>1</td>\n",
              "      <td>9</td>\n",
              "      <td>4</td>\n",
              "      <td>13</td>\n",
              "    </tr>\n",
              "    <tr>\n",
              "      <th>14</th>\n",
              "      <td>isgoining</td>\n",
              "      <td>1</td>\n",
              "      <td>9</td>\n",
              "      <td>3</td>\n",
              "      <td>12</td>\n",
              "    </tr>\n",
              "    <tr>\n",
              "      <th>40</th>\n",
              "      <td>invention</td>\n",
              "      <td>1</td>\n",
              "      <td>9</td>\n",
              "      <td>3</td>\n",
              "      <td>12</td>\n",
              "    </tr>\n",
              "    <tr>\n",
              "      <th>127</th>\n",
              "      <td>dismissed</td>\n",
              "      <td>1</td>\n",
              "      <td>9</td>\n",
              "      <td>3</td>\n",
              "      <td>12</td>\n",
              "    </tr>\n",
              "    <tr>\n",
              "      <th>24</th>\n",
              "      <td>careabout</td>\n",
              "      <td>1</td>\n",
              "      <td>9</td>\n",
              "      <td>3</td>\n",
              "      <td>12</td>\n",
              "    </tr>\n",
              "    <tr>\n",
              "      <th>21</th>\n",
              "      <td>Isabella</td>\n",
              "      <td>5</td>\n",
              "      <td>8</td>\n",
              "      <td>4</td>\n",
              "      <td>12</td>\n",
              "    </tr>\n",
              "    <tr>\n",
              "      <th>172</th>\n",
              "      <td>something</td>\n",
              "      <td>1</td>\n",
              "      <td>9</td>\n",
              "      <td>3</td>\n",
              "      <td>12</td>\n",
              "    </tr>\n",
              "  </tbody>\n",
              "</table>\n",
              "</div>"
            ],
            "text/plain": [
              "             word  count  len  syllables  complexity\n",
              "16   kindergarden      1   12          4          16\n",
              "19    tripletsAva      1   11          4          15\n",
              "81      probabaly      1    9          4          13\n",
              "75      elementry      1    9          4          13\n",
              "14      isgoining      1    9          3          12\n",
              "40      invention      1    9          3          12\n",
              "127     dismissed      1    9          3          12\n",
              "24      careabout      1    9          3          12\n",
              "21       Isabella      5    8          4          12\n",
              "172     something      1    9          3          12"
            ]
          },
          "metadata": {},
          "execution_count": 22
        }
      ]
    },
    {
      "cell_type": "code",
      "metadata": {
        "colab": {
          "base_uri": "https://localhost:8080/",
          "height": 359
        },
        "id": "vE4m-_PCz_ls",
        "outputId": "9def37fd-e94b-4705-8b60-b937ab1abcea"
      },
      "source": [
        "top_ten_scribble_story_3 = get_top_complex_words(scribble_story_3_df, 10)\n",
        "top_ten_scribble_story_3"
      ],
      "execution_count": 23,
      "outputs": [
        {
          "output_type": "execute_result",
          "data": {
            "text/html": [
              "<div>\n",
              "<style scoped>\n",
              "    .dataframe tbody tr th:only-of-type {\n",
              "        vertical-align: middle;\n",
              "    }\n",
              "\n",
              "    .dataframe tbody tr th {\n",
              "        vertical-align: top;\n",
              "    }\n",
              "\n",
              "    .dataframe thead th {\n",
              "        text-align: right;\n",
              "    }\n",
              "</style>\n",
              "<table border=\"1\" class=\"dataframe\">\n",
              "  <thead>\n",
              "    <tr style=\"text-align: right;\">\n",
              "      <th></th>\n",
              "      <th>word</th>\n",
              "      <th>count</th>\n",
              "      <th>len</th>\n",
              "      <th>syllables</th>\n",
              "      <th>complexity</th>\n",
              "    </tr>\n",
              "  </thead>\n",
              "  <tbody>\n",
              "    <tr>\n",
              "      <th>181</th>\n",
              "      <td>kindergarden</td>\n",
              "      <td>1</td>\n",
              "      <td>12</td>\n",
              "      <td>4</td>\n",
              "      <td>16</td>\n",
              "    </tr>\n",
              "    <tr>\n",
              "      <th>135</th>\n",
              "      <td>sate</td>\n",
              "      <td>1</td>\n",
              "      <td>4</td>\n",
              "      <td>1</td>\n",
              "      <td>16</td>\n",
              "    </tr>\n",
              "    <tr>\n",
              "      <th>132</th>\n",
              "      <td>approaching</td>\n",
              "      <td>1</td>\n",
              "      <td>11</td>\n",
              "      <td>3</td>\n",
              "      <td>14</td>\n",
              "    </tr>\n",
              "    <tr>\n",
              "      <th>232</th>\n",
              "      <td>elementry</td>\n",
              "      <td>1</td>\n",
              "      <td>9</td>\n",
              "      <td>4</td>\n",
              "      <td>13</td>\n",
              "    </tr>\n",
              "    <tr>\n",
              "      <th>313</th>\n",
              "      <td>something</td>\n",
              "      <td>1</td>\n",
              "      <td>9</td>\n",
              "      <td>3</td>\n",
              "      <td>12</td>\n",
              "    </tr>\n",
              "    <tr>\n",
              "      <th>186</th>\n",
              "      <td>Isabella</td>\n",
              "      <td>5</td>\n",
              "      <td>8</td>\n",
              "      <td>4</td>\n",
              "      <td>12</td>\n",
              "    </tr>\n",
              "    <tr>\n",
              "      <th>278</th>\n",
              "      <td>dismissed</td>\n",
              "      <td>1</td>\n",
              "      <td>9</td>\n",
              "      <td>3</td>\n",
              "      <td>12</td>\n",
              "    </tr>\n",
              "    <tr>\n",
              "      <th>303</th>\n",
              "      <td>Prventions</td>\n",
              "      <td>1</td>\n",
              "      <td>10</td>\n",
              "      <td>2</td>\n",
              "      <td>12</td>\n",
              "    </tr>\n",
              "    <tr>\n",
              "      <th>202</th>\n",
              "      <td>invention</td>\n",
              "      <td>1</td>\n",
              "      <td>9</td>\n",
              "      <td>3</td>\n",
              "      <td>12</td>\n",
              "    </tr>\n",
              "    <tr>\n",
              "      <th>124</th>\n",
              "      <td>terrifyed</td>\n",
              "      <td>1</td>\n",
              "      <td>9</td>\n",
              "      <td>3</td>\n",
              "      <td>12</td>\n",
              "    </tr>\n",
              "  </tbody>\n",
              "</table>\n",
              "</div>"
            ],
            "text/plain": [
              "             word  count  len  syllables  complexity\n",
              "181  kindergarden      1   12          4          16\n",
              "135          sate      1    4          1          16\n",
              "132   approaching      1   11          3          14\n",
              "232     elementry      1    9          4          13\n",
              "313     something      1    9          3          12\n",
              "186      Isabella      5    8          4          12\n",
              "278     dismissed      1    9          3          12\n",
              "303    Prventions      1   10          2          12\n",
              "202     invention      1    9          3          12\n",
              "124     terrifyed      1    9          3          12"
            ]
          },
          "metadata": {},
          "execution_count": 23
        }
      ]
    },
    {
      "cell_type": "markdown",
      "metadata": {
        "id": "jHCNyl5E0ibV"
      },
      "source": [
        "Ten least complex words in each story"
      ]
    },
    {
      "cell_type": "code",
      "metadata": {
        "colab": {
          "base_uri": "https://localhost:8080/",
          "height": 359
        },
        "id": "PB7ntZ3FZIg1",
        "outputId": "4bf20954-c49b-4953-93ae-57f5dbbc24a0"
      },
      "source": [
        "ten_least_scribble_story = get_ten_least_complex_words(scribble_story_df)\n",
        "ten_least_scribble_story"
      ],
      "execution_count": 24,
      "outputs": [
        {
          "output_type": "execute_result",
          "data": {
            "text/html": [
              "<div>\n",
              "<style scoped>\n",
              "    .dataframe tbody tr th:only-of-type {\n",
              "        vertical-align: middle;\n",
              "    }\n",
              "\n",
              "    .dataframe tbody tr th {\n",
              "        vertical-align: top;\n",
              "    }\n",
              "\n",
              "    .dataframe thead th {\n",
              "        text-align: right;\n",
              "    }\n",
              "</style>\n",
              "<table border=\"1\" class=\"dataframe\">\n",
              "  <thead>\n",
              "    <tr style=\"text-align: right;\">\n",
              "      <th></th>\n",
              "      <th>word</th>\n",
              "      <th>count</th>\n",
              "      <th>len</th>\n",
              "      <th>syllables</th>\n",
              "      <th>complexity</th>\n",
              "    </tr>\n",
              "  </thead>\n",
              "  <tbody>\n",
              "    <tr>\n",
              "      <th>2</th>\n",
              "      <td>a</td>\n",
              "      <td>14</td>\n",
              "      <td>1</td>\n",
              "      <td>1</td>\n",
              "      <td>2</td>\n",
              "    </tr>\n",
              "    <tr>\n",
              "      <th>154</th>\n",
              "      <td>I</td>\n",
              "      <td>1</td>\n",
              "      <td>1</td>\n",
              "      <td>1</td>\n",
              "      <td>2</td>\n",
              "    </tr>\n",
              "    <tr>\n",
              "      <th>45</th>\n",
              "      <td>is</td>\n",
              "      <td>5</td>\n",
              "      <td>2</td>\n",
              "      <td>1</td>\n",
              "      <td>3</td>\n",
              "    </tr>\n",
              "    <tr>\n",
              "      <th>123</th>\n",
              "      <td>It</td>\n",
              "      <td>1</td>\n",
              "      <td>2</td>\n",
              "      <td>1</td>\n",
              "      <td>3</td>\n",
              "    </tr>\n",
              "    <tr>\n",
              "      <th>126</th>\n",
              "      <td>at</td>\n",
              "      <td>1</td>\n",
              "      <td>2</td>\n",
              "      <td>1</td>\n",
              "      <td>3</td>\n",
              "    </tr>\n",
              "    <tr>\n",
              "      <th>50</th>\n",
              "      <td>go</td>\n",
              "      <td>1</td>\n",
              "      <td>2</td>\n",
              "      <td>1</td>\n",
              "      <td>3</td>\n",
              "    </tr>\n",
              "    <tr>\n",
              "      <th>115</th>\n",
              "      <td>on</td>\n",
              "      <td>2</td>\n",
              "      <td>2</td>\n",
              "      <td>1</td>\n",
              "      <td>3</td>\n",
              "    </tr>\n",
              "    <tr>\n",
              "      <th>66</th>\n",
              "      <td>in</td>\n",
              "      <td>3</td>\n",
              "      <td>2</td>\n",
              "      <td>1</td>\n",
              "      <td>3</td>\n",
              "    </tr>\n",
              "    <tr>\n",
              "      <th>108</th>\n",
              "      <td>or</td>\n",
              "      <td>2</td>\n",
              "      <td>2</td>\n",
              "      <td>1</td>\n",
              "      <td>3</td>\n",
              "    </tr>\n",
              "    <tr>\n",
              "      <th>27</th>\n",
              "      <td>of</td>\n",
              "      <td>6</td>\n",
              "      <td>2</td>\n",
              "      <td>1</td>\n",
              "      <td>3</td>\n",
              "    </tr>\n",
              "  </tbody>\n",
              "</table>\n",
              "</div>"
            ],
            "text/plain": [
              "    word  count  len  syllables  complexity\n",
              "2      a     14    1          1           2\n",
              "154    I      1    1          1           2\n",
              "45    is      5    2          1           3\n",
              "123   It      1    2          1           3\n",
              "126   at      1    2          1           3\n",
              "50    go      1    2          1           3\n",
              "115   on      2    2          1           3\n",
              "66    in      3    2          1           3\n",
              "108   or      2    2          1           3\n",
              "27    of      6    2          1           3"
            ]
          },
          "metadata": {},
          "execution_count": 24
        }
      ]
    },
    {
      "cell_type": "code",
      "metadata": {
        "colab": {
          "base_uri": "https://localhost:8080/",
          "height": 359
        },
        "id": "Dt2ZFZR_oA1j",
        "outputId": "258cb9b9-c0c2-4db1-da24-8843effe3084"
      },
      "source": [
        "ten_least_scribble_story_2 = get_ten_least_complex_words(scribble_story_2_df)\n",
        "ten_least_scribble_story_2"
      ],
      "execution_count": 25,
      "outputs": [
        {
          "output_type": "execute_result",
          "data": {
            "text/html": [
              "<div>\n",
              "<style scoped>\n",
              "    .dataframe tbody tr th:only-of-type {\n",
              "        vertical-align: middle;\n",
              "    }\n",
              "\n",
              "    .dataframe tbody tr th {\n",
              "        vertical-align: top;\n",
              "    }\n",
              "\n",
              "    .dataframe thead th {\n",
              "        text-align: right;\n",
              "    }\n",
              "</style>\n",
              "<table border=\"1\" class=\"dataframe\">\n",
              "  <thead>\n",
              "    <tr style=\"text-align: right;\">\n",
              "      <th></th>\n",
              "      <th>word</th>\n",
              "      <th>count</th>\n",
              "      <th>len</th>\n",
              "      <th>syllables</th>\n",
              "      <th>complexity</th>\n",
              "    </tr>\n",
              "  </thead>\n",
              "  <tbody>\n",
              "    <tr>\n",
              "      <th>6</th>\n",
              "      <td>I</td>\n",
              "      <td>26</td>\n",
              "      <td>1</td>\n",
              "      <td>1</td>\n",
              "      <td>2</td>\n",
              "    </tr>\n",
              "    <tr>\n",
              "      <th>9</th>\n",
              "      <td>a</td>\n",
              "      <td>9</td>\n",
              "      <td>1</td>\n",
              "      <td>1</td>\n",
              "      <td>2</td>\n",
              "    </tr>\n",
              "    <tr>\n",
              "      <th>95</th>\n",
              "      <td>My</td>\n",
              "      <td>1</td>\n",
              "      <td>2</td>\n",
              "      <td>1</td>\n",
              "      <td>3</td>\n",
              "    </tr>\n",
              "    <tr>\n",
              "      <th>28</th>\n",
              "      <td>rd</td>\n",
              "      <td>1</td>\n",
              "      <td>2</td>\n",
              "      <td>1</td>\n",
              "      <td>3</td>\n",
              "    </tr>\n",
              "    <tr>\n",
              "      <th>71</th>\n",
              "      <td>is</td>\n",
              "      <td>6</td>\n",
              "      <td>2</td>\n",
              "      <td>1</td>\n",
              "      <td>3</td>\n",
              "    </tr>\n",
              "    <tr>\n",
              "      <th>156</th>\n",
              "      <td>on</td>\n",
              "      <td>1</td>\n",
              "      <td>2</td>\n",
              "      <td>1</td>\n",
              "      <td>3</td>\n",
              "    </tr>\n",
              "    <tr>\n",
              "      <th>39</th>\n",
              "      <td>an</td>\n",
              "      <td>2</td>\n",
              "      <td>2</td>\n",
              "      <td>1</td>\n",
              "      <td>3</td>\n",
              "    </tr>\n",
              "    <tr>\n",
              "      <th>46</th>\n",
              "      <td>me</td>\n",
              "      <td>5</td>\n",
              "      <td>2</td>\n",
              "      <td>1</td>\n",
              "      <td>3</td>\n",
              "    </tr>\n",
              "    <tr>\n",
              "      <th>80</th>\n",
              "      <td>It</td>\n",
              "      <td>4</td>\n",
              "      <td>2</td>\n",
              "      <td>1</td>\n",
              "      <td>3</td>\n",
              "    </tr>\n",
              "    <tr>\n",
              "      <th>56</th>\n",
              "      <td>do</td>\n",
              "      <td>2</td>\n",
              "      <td>2</td>\n",
              "      <td>1</td>\n",
              "      <td>3</td>\n",
              "    </tr>\n",
              "  </tbody>\n",
              "</table>\n",
              "</div>"
            ],
            "text/plain": [
              "    word  count  len  syllables  complexity\n",
              "6      I     26    1          1           2\n",
              "9      a      9    1          1           2\n",
              "95    My      1    2          1           3\n",
              "28    rd      1    2          1           3\n",
              "71    is      6    2          1           3\n",
              "156   on      1    2          1           3\n",
              "39    an      2    2          1           3\n",
              "46    me      5    2          1           3\n",
              "80    It      4    2          1           3\n",
              "56    do      2    2          1           3"
            ]
          },
          "metadata": {},
          "execution_count": 25
        }
      ]
    },
    {
      "cell_type": "code",
      "metadata": {
        "colab": {
          "base_uri": "https://localhost:8080/",
          "height": 359
        },
        "id": "1VeBruIY0n7P",
        "outputId": "e8d82420-25d6-4a77-db90-36eaf2e03bf0"
      },
      "source": [
        "ten_least_scribble_story_3 = get_ten_least_complex_words(scribble_story_3_df)\n",
        "ten_least_scribble_story_3"
      ],
      "execution_count": 26,
      "outputs": [
        {
          "output_type": "execute_result",
          "data": {
            "text/html": [
              "<div>\n",
              "<style scoped>\n",
              "    .dataframe tbody tr th:only-of-type {\n",
              "        vertical-align: middle;\n",
              "    }\n",
              "\n",
              "    .dataframe tbody tr th {\n",
              "        vertical-align: top;\n",
              "    }\n",
              "\n",
              "    .dataframe thead th {\n",
              "        text-align: right;\n",
              "    }\n",
              "</style>\n",
              "<table border=\"1\" class=\"dataframe\">\n",
              "  <thead>\n",
              "    <tr style=\"text-align: right;\">\n",
              "      <th></th>\n",
              "      <th>word</th>\n",
              "      <th>count</th>\n",
              "      <th>len</th>\n",
              "      <th>syllables</th>\n",
              "      <th>complexity</th>\n",
              "    </tr>\n",
              "  </thead>\n",
              "  <tbody>\n",
              "    <tr>\n",
              "      <th>152</th>\n",
              "      <td>I</td>\n",
              "      <td>25</td>\n",
              "      <td>1</td>\n",
              "      <td>1</td>\n",
              "      <td>2</td>\n",
              "    </tr>\n",
              "    <tr>\n",
              "      <th>2</th>\n",
              "      <td>a</td>\n",
              "      <td>20</td>\n",
              "      <td>1</td>\n",
              "      <td>1</td>\n",
              "      <td>2</td>\n",
              "    </tr>\n",
              "    <tr>\n",
              "      <th>173</th>\n",
              "      <td>E</td>\n",
              "      <td>1</td>\n",
              "      <td>1</td>\n",
              "      <td>1</td>\n",
              "      <td>2</td>\n",
              "    </tr>\n",
              "    <tr>\n",
              "      <th>227</th>\n",
              "      <td>il</td>\n",
              "      <td>1</td>\n",
              "      <td>2</td>\n",
              "      <td>1</td>\n",
              "      <td>3</td>\n",
              "    </tr>\n",
              "    <tr>\n",
              "      <th>77</th>\n",
              "      <td>by</td>\n",
              "      <td>1</td>\n",
              "      <td>2</td>\n",
              "      <td>1</td>\n",
              "      <td>3</td>\n",
              "    </tr>\n",
              "    <tr>\n",
              "      <th>201</th>\n",
              "      <td>an</td>\n",
              "      <td>2</td>\n",
              "      <td>2</td>\n",
              "      <td>1</td>\n",
              "      <td>3</td>\n",
              "    </tr>\n",
              "    <tr>\n",
              "      <th>156</th>\n",
              "      <td>so</td>\n",
              "      <td>1</td>\n",
              "      <td>2</td>\n",
              "      <td>1</td>\n",
              "      <td>3</td>\n",
              "    </tr>\n",
              "    <tr>\n",
              "      <th>27</th>\n",
              "      <td>of</td>\n",
              "      <td>9</td>\n",
              "      <td>2</td>\n",
              "      <td>1</td>\n",
              "      <td>3</td>\n",
              "    </tr>\n",
              "    <tr>\n",
              "      <th>75</th>\n",
              "      <td>at</td>\n",
              "      <td>3</td>\n",
              "      <td>2</td>\n",
              "      <td>1</td>\n",
              "      <td>3</td>\n",
              "    </tr>\n",
              "    <tr>\n",
              "      <th>321</th>\n",
              "      <td>Mo</td>\n",
              "      <td>1</td>\n",
              "      <td>2</td>\n",
              "      <td>1</td>\n",
              "      <td>3</td>\n",
              "    </tr>\n",
              "  </tbody>\n",
              "</table>\n",
              "</div>"
            ],
            "text/plain": [
              "    word  count  len  syllables  complexity\n",
              "152    I     25    1          1           2\n",
              "2      a     20    1          1           2\n",
              "173    E      1    1          1           2\n",
              "227   il      1    2          1           3\n",
              "77    by      1    2          1           3\n",
              "201   an      2    2          1           3\n",
              "156   so      1    2          1           3\n",
              "27    of      9    2          1           3\n",
              "75    at      3    2          1           3\n",
              "321   Mo      1    2          1           3"
            ]
          },
          "metadata": {},
          "execution_count": 26
        }
      ]
    },
    {
      "cell_type": "markdown",
      "metadata": {
        "id": "fdR1PV_O0sqI"
      },
      "source": [
        "Graphs of the distribution of complexity"
      ]
    },
    {
      "cell_type": "code",
      "metadata": {
        "colab": {
          "base_uri": "https://localhost:8080/",
          "height": 282
        },
        "id": "GQpH5qSoVxZt",
        "outputId": "6604323f-0db9-4085-b2f8-ae4cf7a6f732"
      },
      "source": [
        "scribble_story_df['complexity'].hist(bins=20)"
      ],
      "execution_count": 27,
      "outputs": [
        {
          "output_type": "execute_result",
          "data": {
            "text/plain": [
              "<matplotlib.axes._subplots.AxesSubplot at 0x7f7ac9ad04d0>"
            ]
          },
          "metadata": {},
          "execution_count": 27
        },
        {
          "output_type": "display_data",
          "data": {
            "image/png": "[encoded data removed]",
            "text/plain": [
              "<Figure size 432x288 with 1 Axes>"
            ]
          },
          "metadata": {
            "needs_background": "light"
          }
        }
      ]
    },
    {
      "cell_type": "code",
      "metadata": {
        "colab": {
          "base_uri": "https://localhost:8080/",
          "height": 282
        },
        "id": "p52o8IH8o7_1",
        "outputId": "ff62e930-394d-4f5b-b381-0ea2dbfaafa7"
      },
      "source": [
        "scribble_story_2_df['complexity'].hist(bins=20)"
      ],
      "execution_count": 28,
      "outputs": [
        {
          "output_type": "execute_result",
          "data": {
            "text/plain": [
              "<matplotlib.axes._subplots.AxesSubplot at 0x7f7ac99596d0>"
            ]
          },
          "metadata": {},
          "execution_count": 28
        },
        {
          "output_type": "display_data",
          "data": {
            "image/png": "[encoded data removed]",
            "text/plain": [
              "<Figure size 432x288 with 1 Axes>"
            ]
          },
          "metadata": {
            "needs_background": "light"
          }
        }
      ]
    },
    {
      "cell_type": "code",
      "metadata": {
        "colab": {
          "base_uri": "https://localhost:8080/",
          "height": 282
        },
        "id": "ou5IyaYD00dL",
        "outputId": "756f79d3-b769-4206-afc5-fb67790e5aca"
      },
      "source": [
        "scribble_story_3_df['complexity'].hist(bins=20)"
      ],
      "execution_count": 29,
      "outputs": [
        {
          "output_type": "execute_result",
          "data": {
            "text/plain": [
              "<matplotlib.axes._subplots.AxesSubplot at 0x7f7ac9994910>"
            ]
          },
          "metadata": {},
          "execution_count": 29
        },
        {
          "output_type": "display_data",
          "data": {
            "image/png": "[encoded data removed]",
            "text/plain": [
              "<Figure size 432x288 with 1 Axes>"
            ]
          },
          "metadata": {
            "needs_background": "light"
          }
        }
      ]
    },
    {
      "cell_type": "markdown",
      "metadata": {
        "id": "ZQ9GV9Jc04vD"
      },
      "source": [
        "Counts of how many words fall into each complexity number."
      ]
    },
    {
      "cell_type": "code",
      "metadata": {
        "colab": {
          "base_uri": "https://localhost:8080/"
        },
        "id": "1C0UPKBaZbqb",
        "outputId": "e53dade5-605c-435e-fe50-76ffc3a8ca6c"
      },
      "source": [
        "scribble_story_df['complexity'].value_counts()"
      ],
      "execution_count": 30,
      "outputs": [
        {
          "output_type": "execute_result",
          "data": {
            "text/plain": [
              "5     34\n",
              "4     34\n",
              "6     27\n",
              "8     18\n",
              "3     16\n",
              "10    11\n",
              "9     11\n",
              "7     11\n",
              "11     4\n",
              "12     2\n",
              "2      2\n",
              "14     1\n",
              "Name: complexity, dtype: int64"
            ]
          },
          "metadata": {},
          "execution_count": 30
        }
      ]
    },
    {
      "cell_type": "code",
      "metadata": {
        "colab": {
          "base_uri": "https://localhost:8080/"
        },
        "id": "sYxOofTApA0a",
        "outputId": "05b21213-a3c9-48f7-d4e1-eed09315cb4d"
      },
      "source": [
        "scribble_story_2_df['complexity'].value_counts()"
      ],
      "execution_count": 31,
      "outputs": [
        {
          "output_type": "execute_result",
          "data": {
            "text/plain": [
              "5     42\n",
              "4     35\n",
              "3     28\n",
              "6     27\n",
              "8     15\n",
              "7     15\n",
              "9     12\n",
              "10    10\n",
              "12     7\n",
              "11     5\n",
              "13     2\n",
              "2      2\n",
              "16     1\n",
              "15     1\n",
              "Name: complexity, dtype: int64"
            ]
          },
          "metadata": {},
          "execution_count": 31
        }
      ]
    },
    {
      "cell_type": "code",
      "metadata": {
        "colab": {
          "base_uri": "https://localhost:8080/"
        },
        "id": "2kDQwq9I1CeN",
        "outputId": "9e17b4b9-c989-4eed-ca41-d574e5966cf8"
      },
      "source": [
        "scribble_story_3_df['complexity'].value_counts()"
      ],
      "execution_count": 32,
      "outputs": [
        {
          "output_type": "execute_result",
          "data": {
            "text/plain": [
              "5     80\n",
              "4     52\n",
              "6     50\n",
              "3     32\n",
              "8     31\n",
              "9     26\n",
              "10    24\n",
              "7     21\n",
              "11     9\n",
              "12     7\n",
              "2      3\n",
              "16     2\n",
              "14     1\n",
              "13     1\n",
              "Name: complexity, dtype: int64"
            ]
          },
          "metadata": {},
          "execution_count": 32
        }
      ]
    },
    {
      "cell_type": "markdown",
      "metadata": {
        "id": "g3gB5qPE1F0j"
      },
      "source": [
        "Word count for each story."
      ]
    },
    {
      "cell_type": "code",
      "metadata": {
        "colab": {
          "base_uri": "https://localhost:8080/"
        },
        "id": "XY7PF1nhT-Hk",
        "outputId": "6d4265d7-4825-4b14-e65d-5df2b1684c32"
      },
      "source": [
        "story_word_count(scribble_story)"
      ],
      "execution_count": 33,
      "outputs": [
        {
          "output_type": "execute_result",
          "data": {
            "text/plain": [
              "333"
            ]
          },
          "metadata": {},
          "execution_count": 33
        }
      ]
    },
    {
      "cell_type": "code",
      "metadata": {
        "colab": {
          "base_uri": "https://localhost:8080/"
        },
        "id": "adQXm48OpY7E",
        "outputId": "d951618c-c569-4409-cf15-d77dfbd671ee"
      },
      "source": [
        "story_word_count(scribble_story_2)"
      ],
      "execution_count": 34,
      "outputs": [
        {
          "output_type": "execute_result",
          "data": {
            "text/plain": [
              "364"
            ]
          },
          "metadata": {},
          "execution_count": 34
        }
      ]
    },
    {
      "cell_type": "code",
      "metadata": {
        "id": "gxwA_r5g1KLQ",
        "colab": {
          "base_uri": "https://localhost:8080/"
        },
        "outputId": "17919fc9-5474-4bf0-910f-5d4af5f10670"
      },
      "source": [
        "story_word_count(scribble_story_3)"
      ],
      "execution_count": 35,
      "outputs": [
        {
          "output_type": "execute_result",
          "data": {
            "text/plain": [
              "699"
            ]
          },
          "metadata": {},
          "execution_count": 35
        }
      ]
    },
    {
      "cell_type": "markdown",
      "metadata": {
        "id": "8mHnii5moInw"
      },
      "source": [
        "# Testing Second Rewrite of Complexity Function"
      ]
    },
    {
      "cell_type": "markdown",
      "metadata": {
        "id": "w8598ZdhpgQ-"
      },
      "source": [
        "Testing the super words."
      ]
    },
    {
      "cell_type": "code",
      "metadata": {
        "id": "5uknfJsPowOW"
      },
      "source": [
        "super_words = \"aback, abaft, abalone, abamp, abampere, abase, abased, abash, abashed, abasia, abate, abatis, abaxial, abbacy, abbess, abbot, abduce, abduct, abducent, abductee, abductor, abele, abelmosk, abet, abettor, abeyance, abeyant, abhor, abject, abhorrent, abjure, abide, abiosis, abient, ablate, ablaze, abnegate, abode, abrade, abridge, abrogate, abrupt, abscind, absolve, absorb, abscond, abstain, abstruse, absurd, abyss, acarid, accede, acclivity, accolade, accord, accost, accosted, accredit, accroach, accrue, acumen, admonish, adumbrate, aggrandize, alacrity, anathema, annex, arboreal, arrogate, ascetic, bane, bashful, beguile, bilk, cajole, calumny, carouse, cavort, clamor, cleave, cobbler, cogent, conduit, congruity, connive, consign, contusion, contrite, covet, cupidity, crass, dearth, debacle, debauch, debunk, defunct, despot, didactic, dirge, discomfit, dispel, disrepute, dogmatic, dour, duplicity, edict, elegy, elicit, emend, emollient, enervate, enfranchise, ephemeral, equivocal, espouse, evince, exhort, execrable, exigent, expiate, expunge, extol, extant, expurgate, fallacious, fatuous, fetter, flagrant, foiled, foil, fortuitous, fractious, garrulous, gourmand, gratuitous, hapless, iconoclast, impinge, impute, inane, inchoate, inimical, inoculate, instigate, inure, invective, knell, licentious, linchpin, litigant, maelstrom, maudlin, maverick, mawkish, modicum, morass, mores, nadir, neophyte, noisome, obdurate, officious, ostracism, palliate, panacea, pariah, paucity, pejorative, pellucid, penurious, pert, pernicious, phlegmatic, pithy, platitude, plaudit, plenitude, portent, potentate, presage, probity, proclivity, profligate, proscribe, protean, prurient, puerile, quaint, quixotic, quandary, relegate, remiss, reprieve, reprobate, rife, sanguine, scurrilous, sobriety, solicitous, solipsism, staid, stolid, subjugate, surfeit, swarthy, tome, toady, torpid, travesty, trenchant, trite, truculent, turpitude, umbrage, upbraid, veracity, vestige, vilify, vitriolic, winsome, yoke, zephyr, wily, tirade, grommet, nauseant, addend, tutor, clout, sultry, fipple, accursed, accuser,  accustom, acedia, acerbic, acerbate, acerbity, acerose, acerous, acetic, acetous, achene, acicular, aciculate, aciniform, acme, acolyte, acquiesce, acquit, acrid, acrostic, acta, adage, addle, adduce, adit, adjoin, adjure, adulate, aegis, aerate, affix, aft, agog, airfoil, akin, alcove, alibi, allay, allude, alms, ambit, amble, amid, amity, amuck, ana, ancon, anent, animus, antic, aphid, apiary, appall, aptly, arete, argot, asp, atone, aura, avid, avow, awe, awry, balk, bask, bawl, bemoan, bequeath, berate, bide, biome, boor, brash, brawl, brute, bungle, butte, bygone, callow, captor, careen, cask, chaff, chard, chasm, chic, chide, chock, chortle, chroma, clad, coax, cohere, collude, comity, conjoin, conk, contort, contuse, coup, cower, cowl, coy, crag, curt, couth, cyborg, dactyl, daft, dais, dally, dap, decoct, decry, deft, deify, delude, dire, divvy, doff, doily, dote, drab, drawl, droll, duly, dupe, dyad, ebb, edify, effigy, eke, elate, elude, embroil, eon, ergo, espy, eve, exude, exult, feign, fickle, flak, flay, fleck, flub, flux, forgo, frill, furl, garish, gauche, ghee, gnash, gnaw, goad, gouge, gruff, guck, gyre, gyro, heed, heft, helm, hew, hex, hind, hoax, hovel, hubris, hue, husk, illude, imbue, inapt, ingot, iota, ire, irk, jeer, jibe, jinx, jive, jolt, jot, jowl, keen, kiln, knave, knoll, lank, laud, lave, lax, laze, leer, leery, lest, liquefy, lithe, loath, lob, lop, lug, lunge, lurk, lush, maim, malady, maraud, maw, meek, mewl, miff, moot, mope, morsel, mull, naught, nook, obtuse, ode, ombre, omit, opus, perplex, pilfer, placid, plait, pleat, poise, posy, pout, preen, primp, privy, prod, profuse, prone, pry, puny, putrid, pylon, pyre, qualm, quash, quell, quip, quirk, rancor, rapt, rasp, rebuff, recant, redact, reek, reel, reform, refract, reify, relent, rend, repute, resile, revile, riff, rile, romp, rout, ruse, sate, scant, schlep, scoff, scowl, sect, seep, seethe, shard, sheen, shirk, shunt, sidle, sigil, silt, sinew, singe, skew, skirr, skulk, slat, sleuth, slosh, sly, smelt, smirk, snafu, snare, sneer, snide, snub, sod, soiree, somber, sop, souse, spew, spiel, spire, splay, spry, squall, stasis, stern, ​​stifle, stint, stoke, stout, stow, strut, suave, subtle, sunder, supine, surly, swath, swathe, sync, tacit, tact, tatter, taut, teem, tepid, tether, thwart, toil, topple, tousle, trawl, trice, trifle, trill, trope, tuft, unapt, usury, valor, vapid, vat, verve, vex, vie, vigor, vivid, vouch, vying, waft, wane, wary, weary, welt, whim, whirl, wield, wile, wiry, woe, writhe, yowl, zeal\""
      ],
      "execution_count": 36,
      "outputs": []
    },
    {
      "cell_type": "code",
      "metadata": {
        "id": "StDiN5PUpB6N"
      },
      "source": [
        "super_words_dataframe = complexity_dataframe(super_words)"
      ],
      "execution_count": 37,
      "outputs": []
    },
    {
      "cell_type": "markdown",
      "metadata": {
        "id": "HY4uWVSFplpK"
      },
      "source": [
        "The newest complexity function returns the top 20 by default."
      ]
    },
    {
      "cell_type": "code",
      "metadata": {
        "colab": {
          "base_uri": "https://localhost:8080/",
          "height": 669
        },
        "id": "r_R7444upIPa",
        "outputId": "e7c673fa-faf3-49c6-c3a5-a072f1ba37f3"
      },
      "source": [
        "super_words_dataframe"
      ],
      "execution_count": 38,
      "outputs": [
        {
          "output_type": "execute_result",
          "data": {
            "text/html": [
              "<div>\n",
              "<style scoped>\n",
              "    .dataframe tbody tr th:only-of-type {\n",
              "        vertical-align: middle;\n",
              "    }\n",
              "\n",
              "    .dataframe tbody tr th {\n",
              "        vertical-align: top;\n",
              "    }\n",
              "\n",
              "    .dataframe thead th {\n",
              "        text-align: right;\n",
              "    }\n",
              "</style>\n",
              "<table border=\"1\" class=\"dataframe\">\n",
              "  <thead>\n",
              "    <tr style=\"text-align: right;\">\n",
              "      <th></th>\n",
              "      <th>word</th>\n",
              "      <th>complexity</th>\n",
              "    </tr>\n",
              "  </thead>\n",
              "  <tbody>\n",
              "    <tr>\n",
              "      <th>352</th>\n",
              "      <td>doily</td>\n",
              "      <td>20.0</td>\n",
              "    </tr>\n",
              "    <tr>\n",
              "      <th>237</th>\n",
              "      <td>acerbity</td>\n",
              "      <td>20.0</td>\n",
              "    </tr>\n",
              "    <tr>\n",
              "      <th>113</th>\n",
              "      <td>equivocal</td>\n",
              "      <td>20.0</td>\n",
              "    </tr>\n",
              "    <tr>\n",
              "      <th>111</th>\n",
              "      <td>enfranchise</td>\n",
              "      <td>20.0</td>\n",
              "    </tr>\n",
              "    <tr>\n",
              "      <th>243</th>\n",
              "      <td>acicular</td>\n",
              "      <td>20.0</td>\n",
              "    </tr>\n",
              "    <tr>\n",
              "      <th>244</th>\n",
              "      <td>aciculate</td>\n",
              "      <td>20.0</td>\n",
              "    </tr>\n",
              "    <tr>\n",
              "      <th>427</th>\n",
              "      <td>laze</td>\n",
              "      <td>20.0</td>\n",
              "    </tr>\n",
              "    <tr>\n",
              "      <th>522</th>\n",
              "      <td>skulk</td>\n",
              "      <td>20.0</td>\n",
              "    </tr>\n",
              "    <tr>\n",
              "      <th>247</th>\n",
              "      <td>acolyte</td>\n",
              "      <td>20.0</td>\n",
              "    </tr>\n",
              "    <tr>\n",
              "      <th>249</th>\n",
              "      <td>acquit</td>\n",
              "      <td>20.0</td>\n",
              "    </tr>\n",
              "    <tr>\n",
              "      <th>254</th>\n",
              "      <td>addle</td>\n",
              "      <td>20.0</td>\n",
              "    </tr>\n",
              "    <tr>\n",
              "      <th>99</th>\n",
              "      <td>discomfit</td>\n",
              "      <td>20.0</td>\n",
              "    </tr>\n",
              "    <tr>\n",
              "      <th>257</th>\n",
              "      <td>adjoin</td>\n",
              "      <td>20.0</td>\n",
              "    </tr>\n",
              "    <tr>\n",
              "      <th>258</th>\n",
              "      <td>adjure</td>\n",
              "      <td>20.0</td>\n",
              "    </tr>\n",
              "    <tr>\n",
              "      <th>93</th>\n",
              "      <td>debauch</td>\n",
              "      <td>20.0</td>\n",
              "    </tr>\n",
              "    <tr>\n",
              "      <th>89</th>\n",
              "      <td>cupidity</td>\n",
              "      <td>20.0</td>\n",
              "    </tr>\n",
              "    <tr>\n",
              "      <th>264</th>\n",
              "      <td>agog</td>\n",
              "      <td>20.0</td>\n",
              "    </tr>\n",
              "    <tr>\n",
              "      <th>418</th>\n",
              "      <td>jowl</td>\n",
              "      <td>20.0</td>\n",
              "    </tr>\n",
              "    <tr>\n",
              "      <th>350</th>\n",
              "      <td>divvy</td>\n",
              "      <td>20.0</td>\n",
              "    </tr>\n",
              "    <tr>\n",
              "      <th>413</th>\n",
              "      <td>jibe</td>\n",
              "      <td>20.0</td>\n",
              "    </tr>\n",
              "  </tbody>\n",
              "</table>\n",
              "</div>"
            ],
            "text/plain": [
              "            word  complexity\n",
              "352        doily        20.0\n",
              "237     acerbity        20.0\n",
              "113    equivocal        20.0\n",
              "111  enfranchise        20.0\n",
              "243     acicular        20.0\n",
              "244    aciculate        20.0\n",
              "427         laze        20.0\n",
              "522        skulk        20.0\n",
              "247      acolyte        20.0\n",
              "249       acquit        20.0\n",
              "254        addle        20.0\n",
              "99     discomfit        20.0\n",
              "257       adjoin        20.0\n",
              "258       adjure        20.0\n",
              "93       debauch        20.0\n",
              "89      cupidity        20.0\n",
              "264         agog        20.0\n",
              "418         jowl        20.0\n",
              "350        divvy        20.0\n",
              "413         jibe        20.0"
            ]
          },
          "metadata": {},
          "execution_count": 38
        }
      ]
    },
    {
      "cell_type": "markdown",
      "metadata": {
        "id": "28Jncz8Vq1eK"
      },
      "source": [
        "Testing the scribble sample stories."
      ]
    },
    {
      "cell_type": "code",
      "metadata": {
        "id": "arMpFjhJrZ_t"
      },
      "source": [
        "scribble_story = \"Once apon a time there was a girl named Mary. On a warm sunny day Mary was walking through the woods near hear nouse to look for some critters to take pictures of. She loved animals and nature all her life even though she was only nine years oldShe thinks that she is going to die soon. She does go to school but she isn't that smart. For example Mary recycled a pie even though the pie was not even bitten. Another thing she did was leave her muffin in the woods while she was traveling with  her family to Andrea's house which is one of Mary's friends atschool and Mary's muffin was eaten by a bear that sniffed it :q!:from far away. Yes. Mary could be a little weird but that is just how she is. Back to the real story now. Mary found a fox, took a picture she also found a rabbit took a picture she found a squirrel and took a picture before it ran away. But sooner or later she saw two eyes peeking through a bush on the side of the path she was walking on. Then the creature slowly came out of the bush. It was a bear. The bear growled at Mary. Mary was terrifyed. She started running and running but she could still see the bear growling behind her. This was the end of Mary. Mary was approaching her house she could see it now. She was safe in her house. She was now really scared. She could possibly be eaten but she made it to the door opened it and slammed it shut before the bear could get in. She ran or sprinted rather up to her room. Im alive!! She cried. I just cant belive it Im alive!! Mary was so relifed she told her mom and dad and her brother. And that night Mary was kissed goodnight and tucked into bed. And that is the only brave time of her life.\"\n",
        "scribble_story_2 = \" The secret fifth gradeI am Amelia I am starting fifth grade.I have a little siter named Emma, Emma isgoining into kindergarden, with her tripletsAva and Isabella, but I don't careabout them. When I was a 3rd graderwe learned how to invent. This year I will try to make an invention that a robot will go to school for me. Got to go to sleep. zzzzzz. I wake up get changed, brush teeth, and do hair. I have long curly brown hair. I used to wear glasses and braces, and oncebroke my leg. I am 10, I will turn 11 in November. The school is called Los Angeles elementry school. I live in Nevada and will drive there. It is probabaly an hour. When I walked in Mrs. Begula said Hello! Mrs. Klapeia, my last name. I said hi. I have to share a desk with Brittney. My schedule: Math Writting, reading, vocab, spelling, typing, and social studies. It had said NO Lunch In Fifth grade! When I was in second grade Kayla calle me a division Decimal. I did not like it. We had to make division problems and they were all with decimals. Class dismissed said Mrs. Begula. Now I was not a witch, vampire, or godess, but I made a sock from Emma and made it do my homework. When it was time to go I didn't I made a blue robot the whole night. Blue is my favorite color, but it only had a blue shirt because my teacher would notice it is not me. I sent it out with my mom. I went on my phone, until Ava came in my room. She said loudly Why are you not at school! Good thing she did not notice. I had to say something um I am sick. Cof cof cof. Oh I see let me tell Isabella. Isabella I heard she said. No said Ava. Should I tell Mom if she's really sick. Um no said Isabella play with me. Isabella already new about it. It the robot came back. It worked yay, and that is my year of fifth grade, When the home work is home. You are are doing my homework!\"\n",
        "scribble_story_3 = \"Once apon a time there was a girl named Mary. On a warm Sunny day Mary was wealking through the woods near her house to look for some critters to take pictures of She loved animals and nature all her life even though she was only nine years old She thinks that she is going to die soon, she does go to school but she isnt that smart, for example Mary recycled a pie even though the pie was not even bitten. Another thing she did Was leave her muffin in the woods while she was traveling with her family to Andreas house which is one of Marys friends at school and Marys muffin was eaten by a bear that sniffer it from far away. Yes, Mary could be a little Weird but that is tust how she is. Back to the real story nowo Mary found a fox, took a picture she also found a rabbit took a picture She found a squirrel and took a picture before it ran away, But sooner or later she saw the eyes peeking through a bush on the site of the path she was walking on. Then the creature slowly came out of the bush. It was a bear. The bear grabled at Mary, Mary was terrifyed, she started running and running but she could still see the bear growling behind her. This was the and of Mary, Mary was approaching her have she could see it now, she was sate in her house, She was now really scared. She could possibly be eaten but she made it to the door opened it and slammed it shut before the bear could get in, she ran or sprinted rather up to her room. Im alive!!! she cried, I just cant belive it Im alive!!! Mary was so relifed she told her mom and dad and her brother. And that night Mary was kissed good night and thaked into bed. And that is the only brave time of her life. The secret fifth grade - 3102 E am Abeilia I am starting fifth grade I have alittle ster named Emma, Emma is goining into kindergarden, wi theer triplets Aver and Isabella, but I dont care about them when I was a 3rd grader leamed bow to invento This year I will try to make an invention that arobot Wil go to school forme. Got to go to deep. Ezzzzz. I wake up get changed, brush teeth, and do hair have long curly brown hair. I used to wear glasses and braces, and once broke my leg. I am 10, I will turn il in November The school is called Los Angeles elementry school, I live in Nevada and will drive there. It is probably an hour When I walked in Mrs. Begula said Hello Mrsklape, my last name I said his I have to share a desk with Brittney typing, and social stadies. It had said No My Schedule Math wetting reading, Vocabie spelling. Lunch In, Fifth grade When I was in second grade Kayla called me a division Decimal. I did not like it. we had to make division problems and they were all with iecimals Class dismissed said Mrs. Begular Now I was not a witch wampice, or godess, but I made asock from Emana and made it do my homework. When it was time to go 3102 I didnt I made a blue robet the whole night Blue is my favorite color but it only had a blue shirt because my teacher would hotice it is not me, I sent it out with Came in my room She said bond mayoneem. Prventions are phone on this Ava Why are you not at school. Good thing She did not notice. I had to say something un I am sick of of cof, oht see let me tell Isabella Isabella I heard she said. Mo suid Ava. Should I tell mom it shes really sick um no raid Isabella play with me. Isabella already new about it. It the robot came back It worker yay, and that is my year of fifth grade. When the home work is home you are doing my home werkt\""
      ],
      "execution_count": 39,
      "outputs": []
    },
    {
      "cell_type": "code",
      "metadata": {
        "id": "HDtBdzW-q8fF"
      },
      "source": [
        "scribble_story_dataframe = complexity_dataframe(scribble_story)\n",
        "scribble_story_2_dataframe = complexity_dataframe(scribble_story_2)\n",
        "scribble_story_3_dataframe = complexity_dataframe(scribble_story_3)"
      ],
      "execution_count": 40,
      "outputs": []
    },
    {
      "cell_type": "code",
      "metadata": {
        "colab": {
          "base_uri": "https://localhost:8080/",
          "height": 669
        },
        "id": "Myg-NRXNrkgx",
        "outputId": "6cad6c9c-fe93-4587-d1f7-ae53ffe30970"
      },
      "source": [
        "scribble_story_dataframe"
      ],
      "execution_count": 41,
      "outputs": [
        {
          "output_type": "execute_result",
          "data": {
            "text/html": [
              "<div>\n",
              "<style scoped>\n",
              "    .dataframe tbody tr th:only-of-type {\n",
              "        vertical-align: middle;\n",
              "    }\n",
              "\n",
              "    .dataframe tbody tr th {\n",
              "        vertical-align: top;\n",
              "    }\n",
              "\n",
              "    .dataframe thead th {\n",
              "        text-align: right;\n",
              "    }\n",
              "</style>\n",
              "<table border=\"1\" class=\"dataframe\">\n",
              "  <thead>\n",
              "    <tr style=\"text-align: right;\">\n",
              "      <th></th>\n",
              "      <th>word</th>\n",
              "      <th>complexity</th>\n",
              "    </tr>\n",
              "  </thead>\n",
              "  <tbody>\n",
              "    <tr>\n",
              "      <th>130</th>\n",
              "      <td>approaching</td>\n",
              "      <td>14.0</td>\n",
              "    </tr>\n",
              "    <tr>\n",
              "      <th>121</th>\n",
              "      <td>terrifyed</td>\n",
              "      <td>12.0</td>\n",
              "    </tr>\n",
              "    <tr>\n",
              "      <th>66</th>\n",
              "      <td>traveling</td>\n",
              "      <td>12.0</td>\n",
              "    </tr>\n",
              "    <tr>\n",
              "      <th>134</th>\n",
              "      <td>possibly</td>\n",
              "      <td>11.0</td>\n",
              "    </tr>\n",
              "    <tr>\n",
              "      <th>159</th>\n",
              "      <td>goodnight</td>\n",
              "      <td>11.0</td>\n",
              "    </tr>\n",
              "    <tr>\n",
              "      <th>55</th>\n",
              "      <td>recycled</td>\n",
              "      <td>11.0</td>\n",
              "    </tr>\n",
              "    <tr>\n",
              "      <th>26</th>\n",
              "      <td>pictures</td>\n",
              "      <td>11.0</td>\n",
              "    </tr>\n",
              "    <tr>\n",
              "      <th>141</th>\n",
              "      <td>sprinted</td>\n",
              "      <td>10.0</td>\n",
              "    </tr>\n",
              "    <tr>\n",
              "      <th>59</th>\n",
              "      <td>another</td>\n",
              "      <td>10.0</td>\n",
              "    </tr>\n",
              "    <tr>\n",
              "      <th>115</th>\n",
              "      <td>creature</td>\n",
              "      <td>10.0</td>\n",
              "    </tr>\n",
              "    <tr>\n",
              "      <th>101</th>\n",
              "      <td>squirrel</td>\n",
              "      <td>10.0</td>\n",
              "    </tr>\n",
              "    <tr>\n",
              "      <th>126</th>\n",
              "      <td>growling</td>\n",
              "      <td>10.0</td>\n",
              "    </tr>\n",
              "    <tr>\n",
              "      <th>30</th>\n",
              "      <td>animals</td>\n",
              "      <td>10.0</td>\n",
              "    </tr>\n",
              "    <tr>\n",
              "      <th>24</th>\n",
              "      <td>critters</td>\n",
              "      <td>10.0</td>\n",
              "    </tr>\n",
              "    <tr>\n",
              "      <th>54</th>\n",
              "      <td>example</td>\n",
              "      <td>10.0</td>\n",
              "    </tr>\n",
              "    <tr>\n",
              "      <th>75</th>\n",
              "      <td>atschool</td>\n",
              "      <td>10.0</td>\n",
              "    </tr>\n",
              "    <tr>\n",
              "      <th>152</th>\n",
              "      <td>relifed</td>\n",
              "      <td>10.0</td>\n",
              "    </tr>\n",
              "    <tr>\n",
              "      <th>79</th>\n",
              "      <td>sniffed</td>\n",
              "      <td>9.0</td>\n",
              "    </tr>\n",
              "    <tr>\n",
              "      <th>119</th>\n",
              "      <td>growled</td>\n",
              "      <td>9.0</td>\n",
              "    </tr>\n",
              "    <tr>\n",
              "      <th>110</th>\n",
              "      <td>peeking</td>\n",
              "      <td>9.0</td>\n",
              "    </tr>\n",
              "  </tbody>\n",
              "</table>\n",
              "</div>"
            ],
            "text/plain": [
              "            word  complexity\n",
              "130  approaching        14.0\n",
              "121    terrifyed        12.0\n",
              "66     traveling        12.0\n",
              "134     possibly        11.0\n",
              "159    goodnight        11.0\n",
              "55      recycled        11.0\n",
              "26      pictures        11.0\n",
              "141     sprinted        10.0\n",
              "59       another        10.0\n",
              "115     creature        10.0\n",
              "101     squirrel        10.0\n",
              "126     growling        10.0\n",
              "30       animals        10.0\n",
              "24      critters        10.0\n",
              "54       example        10.0\n",
              "75      atschool        10.0\n",
              "152      relifed        10.0\n",
              "79       sniffed         9.0\n",
              "119      growled         9.0\n",
              "110      peeking         9.0"
            ]
          },
          "metadata": {},
          "execution_count": 41
        }
      ]
    },
    {
      "cell_type": "code",
      "metadata": {
        "colab": {
          "base_uri": "https://localhost:8080/",
          "height": 669
        },
        "id": "QeM5pQ7qrmgm",
        "outputId": "ae5c63bb-6fdf-4418-c9b9-c446e9314858"
      },
      "source": [
        "scribble_story_2_dataframe"
      ],
      "execution_count": 42,
      "outputs": [
        {
          "output_type": "execute_result",
          "data": {
            "text/html": [
              "<div>\n",
              "<style scoped>\n",
              "    .dataframe tbody tr th:only-of-type {\n",
              "        vertical-align: middle;\n",
              "    }\n",
              "\n",
              "    .dataframe tbody tr th {\n",
              "        vertical-align: top;\n",
              "    }\n",
              "\n",
              "    .dataframe thead th {\n",
              "        text-align: right;\n",
              "    }\n",
              "</style>\n",
              "<table border=\"1\" class=\"dataframe\">\n",
              "  <thead>\n",
              "    <tr style=\"text-align: right;\">\n",
              "      <th></th>\n",
              "      <th>word</th>\n",
              "      <th>complexity</th>\n",
              "    </tr>\n",
              "  </thead>\n",
              "  <tbody>\n",
              "    <tr>\n",
              "      <th>16</th>\n",
              "      <td>kindergarden</td>\n",
              "      <td>16.0</td>\n",
              "    </tr>\n",
              "    <tr>\n",
              "      <th>19</th>\n",
              "      <td>tripletsava</td>\n",
              "      <td>15.0</td>\n",
              "    </tr>\n",
              "    <tr>\n",
              "      <th>81</th>\n",
              "      <td>probabaly</td>\n",
              "      <td>13.0</td>\n",
              "    </tr>\n",
              "    <tr>\n",
              "      <th>75</th>\n",
              "      <td>elementry</td>\n",
              "      <td>13.0</td>\n",
              "    </tr>\n",
              "    <tr>\n",
              "      <th>65</th>\n",
              "      <td>oncebroke</td>\n",
              "      <td>12.0</td>\n",
              "    </tr>\n",
              "    <tr>\n",
              "      <th>24</th>\n",
              "      <td>careabout</td>\n",
              "      <td>12.0</td>\n",
              "    </tr>\n",
              "    <tr>\n",
              "      <th>40</th>\n",
              "      <td>invention</td>\n",
              "      <td>12.0</td>\n",
              "    </tr>\n",
              "    <tr>\n",
              "      <th>123</th>\n",
              "      <td>dismissed</td>\n",
              "      <td>12.0</td>\n",
              "    </tr>\n",
              "    <tr>\n",
              "      <th>165</th>\n",
              "      <td>something</td>\n",
              "      <td>12.0</td>\n",
              "    </tr>\n",
              "    <tr>\n",
              "      <th>14</th>\n",
              "      <td>isgoining</td>\n",
              "      <td>12.0</td>\n",
              "    </tr>\n",
              "    <tr>\n",
              "      <th>70</th>\n",
              "      <td>november</td>\n",
              "      <td>11.0</td>\n",
              "    </tr>\n",
              "    <tr>\n",
              "      <th>138</th>\n",
              "      <td>favorite</td>\n",
              "      <td>11.0</td>\n",
              "    </tr>\n",
              "    <tr>\n",
              "      <th>121</th>\n",
              "      <td>decimals</td>\n",
              "      <td>11.0</td>\n",
              "    </tr>\n",
              "    <tr>\n",
              "      <th>95</th>\n",
              "      <td>schedule</td>\n",
              "      <td>10.0</td>\n",
              "    </tr>\n",
              "    <tr>\n",
              "      <th>97</th>\n",
              "      <td>writting</td>\n",
              "      <td>10.0</td>\n",
              "    </tr>\n",
              "    <tr>\n",
              "      <th>100</th>\n",
              "      <td>spelling</td>\n",
              "      <td>10.0</td>\n",
              "    </tr>\n",
              "    <tr>\n",
              "      <th>112</th>\n",
              "      <td>decimal</td>\n",
              "      <td>10.0</td>\n",
              "    </tr>\n",
              "    <tr>\n",
              "      <th>117</th>\n",
              "      <td>problems</td>\n",
              "      <td>10.0</td>\n",
              "    </tr>\n",
              "    <tr>\n",
              "      <th>74</th>\n",
              "      <td>angeles</td>\n",
              "      <td>10.0</td>\n",
              "    </tr>\n",
              "    <tr>\n",
              "      <th>29</th>\n",
              "      <td>graderwe</td>\n",
              "      <td>10.0</td>\n",
              "    </tr>\n",
              "  </tbody>\n",
              "</table>\n",
              "</div>"
            ],
            "text/plain": [
              "             word  complexity\n",
              "16   kindergarden        16.0\n",
              "19    tripletsava        15.0\n",
              "81      probabaly        13.0\n",
              "75      elementry        13.0\n",
              "65      oncebroke        12.0\n",
              "24      careabout        12.0\n",
              "40      invention        12.0\n",
              "123     dismissed        12.0\n",
              "165     something        12.0\n",
              "14      isgoining        12.0\n",
              "70       november        11.0\n",
              "138      favorite        11.0\n",
              "121      decimals        11.0\n",
              "95       schedule        10.0\n",
              "97       writting        10.0\n",
              "100      spelling        10.0\n",
              "112       decimal        10.0\n",
              "117      problems        10.0\n",
              "74        angeles        10.0\n",
              "29       graderwe        10.0"
            ]
          },
          "metadata": {},
          "execution_count": 42
        }
      ]
    },
    {
      "cell_type": "code",
      "metadata": {
        "colab": {
          "base_uri": "https://localhost:8080/",
          "height": 669
        },
        "id": "tHHiT9tKrnRo",
        "outputId": "d4d8a04b-2200-479c-ff99-322d969abc65"
      },
      "source": [
        "scribble_story_3_dataframe"
      ],
      "execution_count": 43,
      "outputs": [
        {
          "output_type": "execute_result",
          "data": {
            "text/html": [
              "<div>\n",
              "<style scoped>\n",
              "    .dataframe tbody tr th:only-of-type {\n",
              "        vertical-align: middle;\n",
              "    }\n",
              "\n",
              "    .dataframe tbody tr th {\n",
              "        vertical-align: top;\n",
              "    }\n",
              "\n",
              "    .dataframe thead th {\n",
              "        text-align: right;\n",
              "    }\n",
              "</style>\n",
              "<table border=\"1\" class=\"dataframe\">\n",
              "  <thead>\n",
              "    <tr style=\"text-align: right;\">\n",
              "      <th></th>\n",
              "      <th>word</th>\n",
              "      <th>complexity</th>\n",
              "    </tr>\n",
              "  </thead>\n",
              "  <tbody>\n",
              "    <tr>\n",
              "      <th>175</th>\n",
              "      <td>kindergarden</td>\n",
              "      <td>16.0</td>\n",
              "    </tr>\n",
              "    <tr>\n",
              "      <th>129</th>\n",
              "      <td>sate</td>\n",
              "      <td>16.0</td>\n",
              "    </tr>\n",
              "    <tr>\n",
              "      <th>126</th>\n",
              "      <td>approaching</td>\n",
              "      <td>14.0</td>\n",
              "    </tr>\n",
              "    <tr>\n",
              "      <th>225</th>\n",
              "      <td>elementry</td>\n",
              "      <td>13.0</td>\n",
              "    </tr>\n",
              "    <tr>\n",
              "      <th>297</th>\n",
              "      <td>something</td>\n",
              "      <td>12.0</td>\n",
              "    </tr>\n",
              "    <tr>\n",
              "      <th>267</th>\n",
              "      <td>dismissed</td>\n",
              "      <td>12.0</td>\n",
              "    </tr>\n",
              "    <tr>\n",
              "      <th>65</th>\n",
              "      <td>traveling</td>\n",
              "      <td>12.0</td>\n",
              "    </tr>\n",
              "    <tr>\n",
              "      <th>118</th>\n",
              "      <td>terrifyed</td>\n",
              "      <td>12.0</td>\n",
              "    </tr>\n",
              "    <tr>\n",
              "      <th>289</th>\n",
              "      <td>prventions</td>\n",
              "      <td>12.0</td>\n",
              "    </tr>\n",
              "    <tr>\n",
              "      <th>196</th>\n",
              "      <td>invention</td>\n",
              "      <td>12.0</td>\n",
              "    </tr>\n",
              "    <tr>\n",
              "      <th>279</th>\n",
              "      <td>favorite</td>\n",
              "      <td>11.0</td>\n",
              "    </tr>\n",
              "    <tr>\n",
              "      <th>265</th>\n",
              "      <td>iecimals</td>\n",
              "      <td>11.0</td>\n",
              "    </tr>\n",
              "    <tr>\n",
              "      <th>54</th>\n",
              "      <td>recycled</td>\n",
              "      <td>11.0</td>\n",
              "    </tr>\n",
              "    <tr>\n",
              "      <th>132</th>\n",
              "      <td>possibly</td>\n",
              "      <td>11.0</td>\n",
              "    </tr>\n",
              "    <tr>\n",
              "      <th>26</th>\n",
              "      <td>pictures</td>\n",
              "      <td>11.0</td>\n",
              "    </tr>\n",
              "    <tr>\n",
              "      <th>274</th>\n",
              "      <td>homework</td>\n",
              "      <td>11.0</td>\n",
              "    </tr>\n",
              "    <tr>\n",
              "      <th>221</th>\n",
              "      <td>november</td>\n",
              "      <td>11.0</td>\n",
              "    </tr>\n",
              "    <tr>\n",
              "      <th>229</th>\n",
              "      <td>probably</td>\n",
              "      <td>11.0</td>\n",
              "    </tr>\n",
              "    <tr>\n",
              "      <th>190</th>\n",
              "      <td>invento</td>\n",
              "      <td>10.0</td>\n",
              "    </tr>\n",
              "    <tr>\n",
              "      <th>253</th>\n",
              "      <td>spelling</td>\n",
              "      <td>10.0</td>\n",
              "    </tr>\n",
              "  </tbody>\n",
              "</table>\n",
              "</div>"
            ],
            "text/plain": [
              "             word  complexity\n",
              "175  kindergarden        16.0\n",
              "129          sate        16.0\n",
              "126   approaching        14.0\n",
              "225     elementry        13.0\n",
              "297     something        12.0\n",
              "267     dismissed        12.0\n",
              "65      traveling        12.0\n",
              "118     terrifyed        12.0\n",
              "289    prventions        12.0\n",
              "196     invention        12.0\n",
              "279      favorite        11.0\n",
              "265      iecimals        11.0\n",
              "54       recycled        11.0\n",
              "132      possibly        11.0\n",
              "26       pictures        11.0\n",
              "274      homework        11.0\n",
              "221      november        11.0\n",
              "229      probably        11.0\n",
              "190       invento        10.0\n",
              "253      spelling        10.0"
            ]
          },
          "metadata": {},
          "execution_count": 43
        }
      ]
    },
    {
      "cell_type": "markdown",
      "metadata": {
        "id": "_vMqxHVWrxdw"
      },
      "source": [
        "Graph the distributions"
      ]
    },
    {
      "cell_type": "code",
      "metadata": {
        "colab": {
          "base_uri": "https://localhost:8080/",
          "height": 282
        },
        "id": "3TWAuxYmr0LR",
        "outputId": "9e63e39b-baef-4ee8-e2a5-83104ffe2080"
      },
      "source": [
        "scribble_story_dataframe['complexity'].hist(bins=10)"
      ],
      "execution_count": 44,
      "outputs": [
        {
          "output_type": "execute_result",
          "data": {
            "text/plain": [
              "<matplotlib.axes._subplots.AxesSubplot at 0x7f7ac93bfcd0>"
            ]
          },
          "metadata": {},
          "execution_count": 44
        },
        {
          "output_type": "display_data",
          "data": {
            "image/png": "[encoded data removed]",
            "text/plain": [
              "<Figure size 432x288 with 1 Axes>"
            ]
          },
          "metadata": {
            "needs_background": "light"
          }
        }
      ]
    },
    {
      "cell_type": "code",
      "metadata": {
        "colab": {
          "base_uri": "https://localhost:8080/",
          "height": 282
        },
        "id": "gDdfBEVWsEIw",
        "outputId": "ca633487-6b70-4ad0-f188-695dda90f97c"
      },
      "source": [
        "scribble_story_2_dataframe['complexity'].hist(bins=10)"
      ],
      "execution_count": 45,
      "outputs": [
        {
          "output_type": "execute_result",
          "data": {
            "text/plain": [
              "<matplotlib.axes._subplots.AxesSubplot at 0x7f7ac93b8e10>"
            ]
          },
          "metadata": {},
          "execution_count": 45
        },
        {
          "output_type": "display_data",
          "data": {
            "image/png": "[encoded data removed]",
            "text/plain": [
              "<Figure size 432x288 with 1 Axes>"
            ]
          },
          "metadata": {
            "needs_background": "light"
          }
        }
      ]
    },
    {
      "cell_type": "code",
      "metadata": {
        "colab": {
          "base_uri": "https://localhost:8080/",
          "height": 282
        },
        "id": "QivninnFsFa_",
        "outputId": "5229f24a-cd78-4ff0-c70e-5fcd63669006"
      },
      "source": [
        "scribble_story_3_dataframe['complexity'].hist(bins=10)"
      ],
      "execution_count": 46,
      "outputs": [
        {
          "output_type": "execute_result",
          "data": {
            "text/plain": [
              "<matplotlib.axes._subplots.AxesSubplot at 0x7f7ac9260190>"
            ]
          },
          "metadata": {},
          "execution_count": 46
        },
        {
          "output_type": "display_data",
          "data": {
            "image/png": "[encoded data removed]",
            "text/plain": [
              "<Figure size 432x288 with 1 Axes>"
            ]
          },
          "metadata": {
            "needs_background": "light"
          }
        }
      ]
    },
    {
      "cell_type": "markdown",
      "metadata": {
        "id": "w_yI8thEsUeC"
      },
      "source": [
        "Count the values in the complexity column"
      ]
    },
    {
      "cell_type": "code",
      "metadata": {
        "colab": {
          "base_uri": "https://localhost:8080/"
        },
        "id": "-hF-oELSsYD3",
        "outputId": "978c7a02-a404-4254-a799-e14b8aaec0da"
      },
      "source": [
        "scribble_story_dataframe['complexity'].value_counts()"
      ],
      "execution_count": 47,
      "outputs": [
        {
          "output_type": "execute_result",
          "data": {
            "text/plain": [
              "10.0    10\n",
              "11.0     4\n",
              "9.0      3\n",
              "12.0     2\n",
              "14.0     1\n",
              "Name: complexity, dtype: int64"
            ]
          },
          "metadata": {},
          "execution_count": 47
        }
      ]
    },
    {
      "cell_type": "code",
      "metadata": {
        "colab": {
          "base_uri": "https://localhost:8080/"
        },
        "id": "2mEBUZJ-sioi",
        "outputId": "928e1295-c2fd-4dba-c7f4-8b3cdf5461ba"
      },
      "source": [
        "scribble_story_2_dataframe['complexity'].value_counts()"
      ],
      "execution_count": 48,
      "outputs": [
        {
          "output_type": "execute_result",
          "data": {
            "text/plain": [
              "10.0    7\n",
              "12.0    6\n",
              "11.0    3\n",
              "13.0    2\n",
              "15.0    1\n",
              "16.0    1\n",
              "Name: complexity, dtype: int64"
            ]
          },
          "metadata": {},
          "execution_count": 48
        }
      ]
    },
    {
      "cell_type": "code",
      "metadata": {
        "colab": {
          "base_uri": "https://localhost:8080/"
        },
        "id": "eCgkh4Qesj0I",
        "outputId": "7304d360-8104-4ae0-b6cd-9a1d336689ed"
      },
      "source": [
        "scribble_story_3_dataframe['complexity'].value_counts()"
      ],
      "execution_count": 49,
      "outputs": [
        {
          "output_type": "execute_result",
          "data": {
            "text/plain": [
              "11.0    8\n",
              "12.0    6\n",
              "10.0    2\n",
              "16.0    2\n",
              "13.0    1\n",
              "14.0    1\n",
              "Name: complexity, dtype: int64"
            ]
          },
          "metadata": {},
          "execution_count": 49
        }
      ]
    },
    {
      "cell_type": "markdown",
      "metadata": {
        "id": "LOsHkHIKsuGa"
      },
      "source": [
        "# The next two sections are for possible future improvement to the complexity function. "
      ]
    },
    {
      "cell_type": "markdown",
      "metadata": {
        "id": "fvrAzYeYGLTg"
      },
      "source": [
        "# Morphemes"
      ]
    },
    {
      "cell_type": "markdown",
      "metadata": {
        "id": "xY6_s_ywtI54"
      },
      "source": [
        "Morphemes are the letters added to a word that can be removed and the word still has meaning, like -er, -ing, -able, -ly."
      ]
    },
    {
      "cell_type": "markdown",
      "metadata": {
        "id": "X2iy3VNEu8ZP"
      },
      "source": [
        "Creating two complexity dfs to test out the morphemes function"
      ]
    },
    {
      "cell_type": "code",
      "metadata": {
        "id": "XAWOnog5ofAB"
      },
      "source": [
        "scribble_story = \"Once apon a time there was a girl named Mary. On a warm sunny day Mary was walking through the woods near hear nouse to look for some critters to take pictures of. She loved animals and nature all her life even though she was only nine years oldShe thinks that she is going to die soon. She does go to school but she isn't that smart. For example Mary recycled a pie even though the pie was not even bitten. Another thing she did was leave her muffin in the woods while she was traveling with  her family to Andrea's house which is one of Mary's friends atschool and Mary's muffin was eaten by a bear that sniffed it :q!:from far away. Yes. Mary could be a little weird but that is just how she is. Back to the real story now. Mary found a fox, took a picture she also found a rabbit took a picture she found a squirrel and took a picture before it ran away. But sooner or later she saw two eyes peeking through a bush on the side of the path she was walking on. Then the creature slowly came out of the bush. It was a bear. The bear growled at Mary. Mary was terrifyed. She started running and running but she could still see the bear growling behind her. This was the end of Mary. Mary was approaching her house she could see it now. She was safe in her house. She was now really scared. She could possibly be eaten but she made it to the door opened it and slammed it shut before the bear could get in. She ran or sprinted rather up to her room. Im alive!! She cried. I just cant belive it Im alive!! Mary was so relifed she told her mom and dad and her brother. And that night Mary was kissed goodnight and tucked into bed. And that is the only brave time of her life.\"\n",
        "story_complexity = complexity_dataframe(scribble_story)"
      ],
      "execution_count": 50,
      "outputs": []
    },
    {
      "cell_type": "markdown",
      "metadata": {
        "id": "n3fZdCsawJIz"
      },
      "source": [
        "This is a story I randomly sampled from the internet to compare an adult written story."
      ]
    },
    {
      "cell_type": "code",
      "metadata": {
        "id": "BYbLF9_svLiM"
      },
      "source": [
        "random_online_story = \"One is black. My therapist suggested this activity, which I think is a waste of time. I'm not really very artistic. Allie was. I was surprised by how well she could color, for her age, I mean. She didn't just scribble, she chose her colors carefully, she stayed in the lines, she even shaded, sometimes. She wasn't a savant but her pictures were better than other four-year-old kids'. Oh, how I loved her pictures. Making this picture of my own is neither creative nor productive, but I must admit it is oddly satisfying. And it gives me something to do in church, when I don’t want to talk to the people sitting next to me. I look like I’m focused, and they leave me alone, and when I hear someone in class share a myopic story about how they prayed and God helped them find their car keys, I just search for another One and keep my head down. Color in the circle, or the rectangle, or the triangle. Find the next segment. Try not to think about a loving, all-seeing, all-knowing God who would descend from His throne divine to help someone find their car keys, but allow my preschooler to suffer and die from an incurable childhood cancer. One is black. It outlines everything. I do One first. I think of her at the strangest moments. Like when I’m filling a bag of oatmeal from the bulk bin dispenser, and I remember her at age two, slipping away from me at Kroger and making her way to that same aisle which must have looked like a free candy dispensary. When I found her, she was full of chocolate covered raisins and peach rings. I was full of embarrassment and confusion over the predicament, so I just hoisted her atop my pregnant belly, handed a confused cashier a twenty and left. The memory is so real and vivid that I turn to the shopping cart to retell it to her, and I remember she’s gone. There’s just the one sister now, a lone mitten without a mate, sitting in the cart, staring toward the school supplies and nibbling a thumbnail nervously. I don’t tell her the story. We don’t talk about Allie much. Even though my therapist says we should. Two is brown. It brings to life the little doe, sitting in the forest, only it leaves behind the white spots and underbelly. Two is the dirt beneath the grass. Two are the trees. Kendra is at the dentist. She’s gotten four fillings in the past month, but one of them just won’t stay in. Dentist said something about tight contacts, small mouth, I don’t know, all I know is a few hours after she gets home the thing has popped right out again. I made Darrin take her. I can’t go to the dentist anymore. I can’t stand to see the scrubs and the implements. No amount of color-by-number can soothe that anxiety. Meanwhile, I'm staring at the dining room table, hoping a fully prepared meal might miraculously appear there. Two years ago, it seemed this table was, indeed, a purveyor of magically prepared meals. It was covered with homemade bread, cookies, and, mostly c,asseroles. My mother-in-law stacked those in the fridge and put whatever was closest at hand into the oven at 350 degrees. I put it on my fork and into my mouth mechanically, without tasting, because you still have to do mundane things, like feed yourself. You still have to do them, even when your child is dead. You still have to feed yourself and your family years later, too. But the table isn't magic anymore. Three is green. Grass and leaves. I cry when I begin three, seeing the grass shoots come up from the dirt. I never knew grass could hurt, but it does, when you realize that time has passed, and grass is growing over your daughter’s grave, even though it feels like just yesterday that it was a fresh mound. Wasn't it just last week she was healthy, three-and-a-half, zooming down a twirly slide? Wasn't it just last month that she held her new baby sister on her lap, pointing out the tiny facial features with a chubby finger? Except it wasn't. That new baby is about to start preschool. In three days Kendra will be as old as Allie was when she died. And I’m terrified of what that means. Four is pink. Delicate pink flowers. Just starting to bloom. What happens when your youngest child grows older than your oldest child? There’s no answer in a parenting book for that question. It isn’t supposed to happen. We held space for Allie, but now I worry, somehow the space is gone. Like the white in my picture, which is rapidly disappearing. People assume, without asking, that Kendra is an only child. My mom has stopped saying Allie's name, for some reason. She's just...disappearing, and I wonder whether she left a trace in the world. But inside of me there's still a grave, six feet deep, and it will never be filled in. Kendra starts preschool today. She’s nervous, but I know she’ll do great. She needs to be with other kids her age, it will be good for her. Five is orange. It highlights the undersides of the leaves. Orange tulips. I sit on the floor in the girls’ room, coloring, imagining that Kendra is probably coloring too. I am obsolete, an adult who spends her hours shading in shapes, following a prescribed pattern to make mass-produced art. I am a thirty-year-old empty nester, a geriatric. Only that can’t be true, because I have a four-year-old. Two of them, actually. My therapist says I should think about getting a job. I want to tell her I have my hands full, but that would be a lie. I wish I had my hands full. Instead, I spend my precious alone hours wishing I wasn’t alone. I color. I long to be needed, even if that need is to hold my baby girl’s hair while she vomits bile, again and again. To stay awake, all night, because she can only fall asleep sitting on my lap. To watch her breathing get slower and slower because I was the one who pushed her into this world, and I needed to be the one to hold her hand when she was pulled out. Six is yellow. The last color. It’s mostly sunshine. It was sunny, the day we buried Allie. The preacher said some bullshit about it being Allie smiling down on us, but I couldn’t believe it. It just felt cruel, that good weather still existed. That the sun could shine down and warm me, but its warmth would never again reach her, because she was too far underground to feel it. She was cold. She would always be cold. But, and I know it’s really trite to say this, the sun kept coming up. The Earth kept spinning even though my beautiful, artistic, vivacious daughter was no longer on it. And the sun keeps coming up, and coming up, and soon I will have lived more revolutions on Earth since she left than I did while she was here, and entertaining that thought is like touching a hot stove and I can’t do it. I don’t want to finish. I want to leave these white spaces, glaringly obvious to show that we aren’t complete without her. That we never will be. So, I leave the Six blank.\"\n",
        "random_df = complexity_df(random_online_story)"
      ],
      "execution_count": 51,
      "outputs": []
    },
    {
      "cell_type": "code",
      "metadata": {
        "id": "uWutlrq9w4hw"
      },
      "source": [
        "def morphemes(df_column): #story_complexity['word']\n",
        "  # Turn the column into a list\n",
        "  word_list = df_column.str.lower().tolist()\n",
        "  # List of common words that have what seem to be morphemes, but are not\n",
        "  commons = ['another', 'family', 'brother', 'mother', 'father', 'rather', 'cancer', 'really', 'better', '']\n",
        "  count = 0\n",
        "  list_o_words = []\n",
        "  for word in word_list:\n",
        "    # Check each word to see if it ends in -er, -ing, -able, or -ly\n",
        "    if word.endswith('er') or word.endswith('ing') or word.endswith('able') or word.endswith('ly'):\n",
        "      # Filter out words that are 5 letters or less\n",
        "      if len(word) > 5 and not word in commons:\n",
        "        count += 1\n",
        "        list_o_words.append(word)\n",
        "      else:\n",
        "        continue\n",
        "  # Return the count of how many morphemes were found and the list of those words\n",
        "  return count, list_o_words"
      ],
      "execution_count": 52,
      "outputs": []
    },
    {
      "cell_type": "code",
      "metadata": {
        "colab": {
          "base_uri": "https://localhost:8080/"
        },
        "id": "_he-PDbBwa44",
        "outputId": "ae9c42f0-dfb5-4761-8a4d-a4074776d6e4"
      },
      "source": [
        "morphemes(story_complexity['word'])"
      ],
      "execution_count": 53,
      "outputs": [
        {
          "output_type": "execute_result",
          "data": {
            "text/plain": [
              "(5, ['approaching', 'traveling', 'possibly', 'growling', 'peeking'])"
            ]
          },
          "metadata": {},
          "execution_count": 53
        }
      ]
    },
    {
      "cell_type": "markdown",
      "metadata": {
        "id": "gTq8bEUWwV7S"
      },
      "source": [
        "This story helped me find common words that children might also use."
      ]
    },
    {
      "cell_type": "code",
      "metadata": {
        "colab": {
          "base_uri": "https://localhost:8080/"
        },
        "id": "JyW98E4uvXUH",
        "outputId": "e7c0cf40-ad78-47ba-9f74-91c6895eadc6"
      },
      "source": [
        "morphemes(random_df['word'])"
      ],
      "execution_count": 54,
      "outputs": [
        {
          "output_type": "execute_result",
          "data": {
            "text/plain": [
              "(0, [])"
            ]
          },
          "metadata": {},
          "execution_count": 54
        }
      ]
    },
    {
      "cell_type": "markdown",
      "metadata": {
        "id": "9cIiye91wntI"
      },
      "source": [
        "Counting the values in the complexity column and sorting by the complexity score."
      ]
    },
    {
      "cell_type": "code",
      "metadata": {
        "colab": {
          "base_uri": "https://localhost:8080/"
        },
        "id": "99PQOJZwVtyQ",
        "outputId": "b3cf4dc5-63d0-4067-ef51-6d72b9904876"
      },
      "source": [
        "story_complexity['complexity'].value_counts().sort_index(ascending=False)"
      ],
      "execution_count": 55,
      "outputs": [
        {
          "output_type": "execute_result",
          "data": {
            "text/plain": [
              "14.0     1\n",
              "12.0     2\n",
              "11.0     4\n",
              "10.0    10\n",
              "9.0      3\n",
              "Name: complexity, dtype: int64"
            ]
          },
          "metadata": {},
          "execution_count": 55
        }
      ]
    },
    {
      "cell_type": "code",
      "metadata": {
        "colab": {
          "base_uri": "https://localhost:8080/"
        },
        "id": "CPxAmOP2F6Fb",
        "outputId": "cc912e6d-e4c9-42fb-b2d7-317cbe88d754"
      },
      "source": [
        "random_df['complexity'].value_counts().sort_index(ascending=False)"
      ],
      "execution_count": 56,
      "outputs": [
        {
          "output_type": "execute_result",
          "data": {
            "text/plain": [
              "2    56\n",
              "Name: complexity, dtype: int64"
            ]
          },
          "metadata": {},
          "execution_count": 56
        }
      ]
    },
    {
      "cell_type": "code",
      "metadata": {
        "colab": {
          "base_uri": "https://localhost:8080/",
          "height": 669
        },
        "id": "EQBIYomso96b",
        "outputId": "9f45337b-8f13-41f1-a2fd-160b0b70480f"
      },
      "source": [
        "story_complexity"
      ],
      "execution_count": 57,
      "outputs": [
        {
          "output_type": "execute_result",
          "data": {
            "text/html": [
              "<div>\n",
              "<style scoped>\n",
              "    .dataframe tbody tr th:only-of-type {\n",
              "        vertical-align: middle;\n",
              "    }\n",
              "\n",
              "    .dataframe tbody tr th {\n",
              "        vertical-align: top;\n",
              "    }\n",
              "\n",
              "    .dataframe thead th {\n",
              "        text-align: right;\n",
              "    }\n",
              "</style>\n",
              "<table border=\"1\" class=\"dataframe\">\n",
              "  <thead>\n",
              "    <tr style=\"text-align: right;\">\n",
              "      <th></th>\n",
              "      <th>word</th>\n",
              "      <th>complexity</th>\n",
              "    </tr>\n",
              "  </thead>\n",
              "  <tbody>\n",
              "    <tr>\n",
              "      <th>130</th>\n",
              "      <td>approaching</td>\n",
              "      <td>14.0</td>\n",
              "    </tr>\n",
              "    <tr>\n",
              "      <th>121</th>\n",
              "      <td>terrifyed</td>\n",
              "      <td>12.0</td>\n",
              "    </tr>\n",
              "    <tr>\n",
              "      <th>66</th>\n",
              "      <td>traveling</td>\n",
              "      <td>12.0</td>\n",
              "    </tr>\n",
              "    <tr>\n",
              "      <th>134</th>\n",
              "      <td>possibly</td>\n",
              "      <td>11.0</td>\n",
              "    </tr>\n",
              "    <tr>\n",
              "      <th>159</th>\n",
              "      <td>goodnight</td>\n",
              "      <td>11.0</td>\n",
              "    </tr>\n",
              "    <tr>\n",
              "      <th>55</th>\n",
              "      <td>recycled</td>\n",
              "      <td>11.0</td>\n",
              "    </tr>\n",
              "    <tr>\n",
              "      <th>26</th>\n",
              "      <td>pictures</td>\n",
              "      <td>11.0</td>\n",
              "    </tr>\n",
              "    <tr>\n",
              "      <th>141</th>\n",
              "      <td>sprinted</td>\n",
              "      <td>10.0</td>\n",
              "    </tr>\n",
              "    <tr>\n",
              "      <th>59</th>\n",
              "      <td>another</td>\n",
              "      <td>10.0</td>\n",
              "    </tr>\n",
              "    <tr>\n",
              "      <th>115</th>\n",
              "      <td>creature</td>\n",
              "      <td>10.0</td>\n",
              "    </tr>\n",
              "    <tr>\n",
              "      <th>101</th>\n",
              "      <td>squirrel</td>\n",
              "      <td>10.0</td>\n",
              "    </tr>\n",
              "    <tr>\n",
              "      <th>126</th>\n",
              "      <td>growling</td>\n",
              "      <td>10.0</td>\n",
              "    </tr>\n",
              "    <tr>\n",
              "      <th>30</th>\n",
              "      <td>animals</td>\n",
              "      <td>10.0</td>\n",
              "    </tr>\n",
              "    <tr>\n",
              "      <th>24</th>\n",
              "      <td>critters</td>\n",
              "      <td>10.0</td>\n",
              "    </tr>\n",
              "    <tr>\n",
              "      <th>54</th>\n",
              "      <td>example</td>\n",
              "      <td>10.0</td>\n",
              "    </tr>\n",
              "    <tr>\n",
              "      <th>75</th>\n",
              "      <td>atschool</td>\n",
              "      <td>10.0</td>\n",
              "    </tr>\n",
              "    <tr>\n",
              "      <th>152</th>\n",
              "      <td>relifed</td>\n",
              "      <td>10.0</td>\n",
              "    </tr>\n",
              "    <tr>\n",
              "      <th>79</th>\n",
              "      <td>sniffed</td>\n",
              "      <td>9.0</td>\n",
              "    </tr>\n",
              "    <tr>\n",
              "      <th>119</th>\n",
              "      <td>growled</td>\n",
              "      <td>9.0</td>\n",
              "    </tr>\n",
              "    <tr>\n",
              "      <th>110</th>\n",
              "      <td>peeking</td>\n",
              "      <td>9.0</td>\n",
              "    </tr>\n",
              "  </tbody>\n",
              "</table>\n",
              "</div>"
            ],
            "text/plain": [
              "            word  complexity\n",
              "130  approaching        14.0\n",
              "121    terrifyed        12.0\n",
              "66     traveling        12.0\n",
              "134     possibly        11.0\n",
              "159    goodnight        11.0\n",
              "55      recycled        11.0\n",
              "26      pictures        11.0\n",
              "141     sprinted        10.0\n",
              "59       another        10.0\n",
              "115     creature        10.0\n",
              "101     squirrel        10.0\n",
              "126     growling        10.0\n",
              "30       animals        10.0\n",
              "24      critters        10.0\n",
              "54       example        10.0\n",
              "75      atschool        10.0\n",
              "152      relifed        10.0\n",
              "79       sniffed         9.0\n",
              "119      growled         9.0\n",
              "110      peeking         9.0"
            ]
          },
          "metadata": {},
          "execution_count": 57
        }
      ]
    },
    {
      "cell_type": "code",
      "metadata": {
        "colab": {
          "base_uri": "https://localhost:8080/",
          "height": 1000
        },
        "id": "lcHwGfejw3fi",
        "outputId": "4e5dbd71-f2ef-4d1f-faba-27237652aa60"
      },
      "source": [
        "random_df"
      ],
      "execution_count": 58,
      "outputs": [
        {
          "output_type": "execute_result",
          "data": {
            "text/html": [
              "<div>\n",
              "<style scoped>\n",
              "    .dataframe tbody tr th:only-of-type {\n",
              "        vertical-align: middle;\n",
              "    }\n",
              "\n",
              "    .dataframe tbody tr th {\n",
              "        vertical-align: top;\n",
              "    }\n",
              "\n",
              "    .dataframe thead th {\n",
              "        text-align: right;\n",
              "    }\n",
              "</style>\n",
              "<table border=\"1\" class=\"dataframe\">\n",
              "  <thead>\n",
              "    <tr style=\"text-align: right;\">\n",
              "      <th></th>\n",
              "      <th>word</th>\n",
              "      <th>count</th>\n",
              "      <th>len</th>\n",
              "      <th>syllables</th>\n",
              "      <th>complexity</th>\n",
              "    </tr>\n",
              "  </thead>\n",
              "  <tbody>\n",
              "    <tr>\n",
              "      <th>0</th>\n",
              "      <td>O</td>\n",
              "      <td>7</td>\n",
              "      <td>1</td>\n",
              "      <td>1</td>\n",
              "      <td>2</td>\n",
              "    </tr>\n",
              "    <tr>\n",
              "      <th>1</th>\n",
              "      <td>n</td>\n",
              "      <td>348</td>\n",
              "      <td>1</td>\n",
              "      <td>1</td>\n",
              "      <td>2</td>\n",
              "    </tr>\n",
              "    <tr>\n",
              "      <th>2</th>\n",
              "      <td>e</td>\n",
              "      <td>624</td>\n",
              "      <td>1</td>\n",
              "      <td>1</td>\n",
              "      <td>2</td>\n",
              "    </tr>\n",
              "    <tr>\n",
              "      <th>3</th>\n",
              "      <td></td>\n",
              "      <td>1254</td>\n",
              "      <td>1</td>\n",
              "      <td>1</td>\n",
              "      <td>2</td>\n",
              "    </tr>\n",
              "    <tr>\n",
              "      <th>4</th>\n",
              "      <td>i</td>\n",
              "      <td>337</td>\n",
              "      <td>1</td>\n",
              "      <td>1</td>\n",
              "      <td>2</td>\n",
              "    </tr>\n",
              "    <tr>\n",
              "      <th>5</th>\n",
              "      <td>s</td>\n",
              "      <td>361</td>\n",
              "      <td>1</td>\n",
              "      <td>1</td>\n",
              "      <td>2</td>\n",
              "    </tr>\n",
              "    <tr>\n",
              "      <th>6</th>\n",
              "      <td>b</td>\n",
              "      <td>86</td>\n",
              "      <td>1</td>\n",
              "      <td>1</td>\n",
              "      <td>2</td>\n",
              "    </tr>\n",
              "    <tr>\n",
              "      <th>7</th>\n",
              "      <td>l</td>\n",
              "      <td>259</td>\n",
              "      <td>1</td>\n",
              "      <td>1</td>\n",
              "      <td>2</td>\n",
              "    </tr>\n",
              "    <tr>\n",
              "      <th>8</th>\n",
              "      <td>a</td>\n",
              "      <td>398</td>\n",
              "      <td>1</td>\n",
              "      <td>1</td>\n",
              "      <td>2</td>\n",
              "    </tr>\n",
              "    <tr>\n",
              "      <th>9</th>\n",
              "      <td>c</td>\n",
              "      <td>116</td>\n",
              "      <td>1</td>\n",
              "      <td>1</td>\n",
              "      <td>2</td>\n",
              "    </tr>\n",
              "    <tr>\n",
              "      <th>10</th>\n",
              "      <td>k</td>\n",
              "      <td>46</td>\n",
              "      <td>1</td>\n",
              "      <td>1</td>\n",
              "      <td>2</td>\n",
              "    </tr>\n",
              "    <tr>\n",
              "      <th>11</th>\n",
              "      <td>.</td>\n",
              "      <td>102</td>\n",
              "      <td>1</td>\n",
              "      <td>1</td>\n",
              "      <td>2</td>\n",
              "    </tr>\n",
              "    <tr>\n",
              "      <th>12</th>\n",
              "      <td>M</td>\n",
              "      <td>6</td>\n",
              "      <td>1</td>\n",
              "      <td>1</td>\n",
              "      <td>2</td>\n",
              "    </tr>\n",
              "    <tr>\n",
              "      <th>13</th>\n",
              "      <td>y</td>\n",
              "      <td>106</td>\n",
              "      <td>1</td>\n",
              "      <td>1</td>\n",
              "      <td>2</td>\n",
              "    </tr>\n",
              "    <tr>\n",
              "      <th>14</th>\n",
              "      <td>t</td>\n",
              "      <td>485</td>\n",
              "      <td>1</td>\n",
              "      <td>1</td>\n",
              "      <td>2</td>\n",
              "    </tr>\n",
              "    <tr>\n",
              "      <th>15</th>\n",
              "      <td>h</td>\n",
              "      <td>317</td>\n",
              "      <td>1</td>\n",
              "      <td>1</td>\n",
              "      <td>2</td>\n",
              "    </tr>\n",
              "    <tr>\n",
              "      <th>16</th>\n",
              "      <td>r</td>\n",
              "      <td>282</td>\n",
              "      <td>1</td>\n",
              "      <td>1</td>\n",
              "      <td>2</td>\n",
              "    </tr>\n",
              "    <tr>\n",
              "      <th>17</th>\n",
              "      <td>p</td>\n",
              "      <td>96</td>\n",
              "      <td>1</td>\n",
              "      <td>1</td>\n",
              "      <td>2</td>\n",
              "    </tr>\n",
              "    <tr>\n",
              "      <th>18</th>\n",
              "      <td>u</td>\n",
              "      <td>157</td>\n",
              "      <td>1</td>\n",
              "      <td>1</td>\n",
              "      <td>2</td>\n",
              "    </tr>\n",
              "    <tr>\n",
              "      <th>19</th>\n",
              "      <td>g</td>\n",
              "      <td>120</td>\n",
              "      <td>1</td>\n",
              "      <td>1</td>\n",
              "      <td>2</td>\n",
              "    </tr>\n",
              "    <tr>\n",
              "      <th>20</th>\n",
              "      <td>d</td>\n",
              "      <td>209</td>\n",
              "      <td>1</td>\n",
              "      <td>1</td>\n",
              "      <td>2</td>\n",
              "    </tr>\n",
              "    <tr>\n",
              "      <th>21</th>\n",
              "      <td>v</td>\n",
              "      <td>55</td>\n",
              "      <td>1</td>\n",
              "      <td>1</td>\n",
              "      <td>2</td>\n",
              "    </tr>\n",
              "    <tr>\n",
              "      <th>22</th>\n",
              "      <td>,</td>\n",
              "      <td>94</td>\n",
              "      <td>1</td>\n",
              "      <td>1</td>\n",
              "      <td>2</td>\n",
              "    </tr>\n",
              "    <tr>\n",
              "      <th>23</th>\n",
              "      <td>w</td>\n",
              "      <td>128</td>\n",
              "      <td>1</td>\n",
              "      <td>1</td>\n",
              "      <td>2</td>\n",
              "    </tr>\n",
              "    <tr>\n",
              "      <th>24</th>\n",
              "      <td>I</td>\n",
              "      <td>68</td>\n",
              "      <td>1</td>\n",
              "      <td>1</td>\n",
              "      <td>2</td>\n",
              "    </tr>\n",
              "    <tr>\n",
              "      <th>25</th>\n",
              "      <td>o</td>\n",
              "      <td>371</td>\n",
              "      <td>1</td>\n",
              "      <td>1</td>\n",
              "      <td>2</td>\n",
              "    </tr>\n",
              "    <tr>\n",
              "      <th>26</th>\n",
              "      <td>f</td>\n",
              "      <td>79</td>\n",
              "      <td>1</td>\n",
              "      <td>1</td>\n",
              "      <td>2</td>\n",
              "    </tr>\n",
              "    <tr>\n",
              "      <th>27</th>\n",
              "      <td>m</td>\n",
              "      <td>123</td>\n",
              "      <td>1</td>\n",
              "      <td>1</td>\n",
              "      <td>2</td>\n",
              "    </tr>\n",
              "    <tr>\n",
              "      <th>28</th>\n",
              "      <td>'</td>\n",
              "      <td>12</td>\n",
              "      <td>1</td>\n",
              "      <td>1</td>\n",
              "      <td>2</td>\n",
              "    </tr>\n",
              "    <tr>\n",
              "      <th>29</th>\n",
              "      <td>A</td>\n",
              "      <td>10</td>\n",
              "      <td>1</td>\n",
              "      <td>1</td>\n",
              "      <td>2</td>\n",
              "    </tr>\n",
              "    <tr>\n",
              "      <th>30</th>\n",
              "      <td>S</td>\n",
              "      <td>11</td>\n",
              "      <td>1</td>\n",
              "      <td>1</td>\n",
              "      <td>2</td>\n",
              "    </tr>\n",
              "    <tr>\n",
              "      <th>31</th>\n",
              "      <td>j</td>\n",
              "      <td>11</td>\n",
              "      <td>1</td>\n",
              "      <td>1</td>\n",
              "      <td>2</td>\n",
              "    </tr>\n",
              "    <tr>\n",
              "      <th>32</th>\n",
              "      <td>-</td>\n",
              "      <td>16</td>\n",
              "      <td>1</td>\n",
              "      <td>1</td>\n",
              "      <td>2</td>\n",
              "    </tr>\n",
              "    <tr>\n",
              "      <th>33</th>\n",
              "      <td>’</td>\n",
              "      <td>28</td>\n",
              "      <td>1</td>\n",
              "      <td>1</td>\n",
              "      <td>2</td>\n",
              "    </tr>\n",
              "    <tr>\n",
              "      <th>34</th>\n",
              "      <td>x</td>\n",
              "      <td>8</td>\n",
              "      <td>1</td>\n",
              "      <td>1</td>\n",
              "      <td>2</td>\n",
              "    </tr>\n",
              "    <tr>\n",
              "      <th>35</th>\n",
              "      <td>G</td>\n",
              "      <td>3</td>\n",
              "      <td>1</td>\n",
              "      <td>1</td>\n",
              "      <td>2</td>\n",
              "    </tr>\n",
              "    <tr>\n",
              "      <th>36</th>\n",
              "      <td>C</td>\n",
              "      <td>1</td>\n",
              "      <td>1</td>\n",
              "      <td>1</td>\n",
              "      <td>2</td>\n",
              "    </tr>\n",
              "    <tr>\n",
              "      <th>37</th>\n",
              "      <td>F</td>\n",
              "      <td>3</td>\n",
              "      <td>1</td>\n",
              "      <td>1</td>\n",
              "      <td>2</td>\n",
              "    </tr>\n",
              "    <tr>\n",
              "      <th>38</th>\n",
              "      <td>T</td>\n",
              "      <td>18</td>\n",
              "      <td>1</td>\n",
              "      <td>1</td>\n",
              "      <td>2</td>\n",
              "    </tr>\n",
              "    <tr>\n",
              "      <th>39</th>\n",
              "      <td>H</td>\n",
              "      <td>1</td>\n",
              "      <td>1</td>\n",
              "      <td>1</td>\n",
              "      <td>2</td>\n",
              "    </tr>\n",
              "    <tr>\n",
              "      <th>40</th>\n",
              "      <td>L</td>\n",
              "      <td>2</td>\n",
              "      <td>1</td>\n",
              "      <td>1</td>\n",
              "      <td>2</td>\n",
              "    </tr>\n",
              "    <tr>\n",
              "      <th>41</th>\n",
              "      <td>K</td>\n",
              "      <td>6</td>\n",
              "      <td>1</td>\n",
              "      <td>1</td>\n",
              "      <td>2</td>\n",
              "    </tr>\n",
              "    <tr>\n",
              "      <th>42</th>\n",
              "      <td>W</td>\n",
              "      <td>6</td>\n",
              "      <td>1</td>\n",
              "      <td>1</td>\n",
              "      <td>2</td>\n",
              "    </tr>\n",
              "    <tr>\n",
              "      <th>43</th>\n",
              "      <td>E</td>\n",
              "      <td>4</td>\n",
              "      <td>1</td>\n",
              "      <td>1</td>\n",
              "      <td>2</td>\n",
              "    </tr>\n",
              "    <tr>\n",
              "      <th>44</th>\n",
              "      <td>D</td>\n",
              "      <td>3</td>\n",
              "      <td>1</td>\n",
              "      <td>1</td>\n",
              "      <td>2</td>\n",
              "    </tr>\n",
              "    <tr>\n",
              "      <th>45</th>\n",
              "      <td>N</td>\n",
              "      <td>1</td>\n",
              "      <td>1</td>\n",
              "      <td>1</td>\n",
              "      <td>2</td>\n",
              "    </tr>\n",
              "    <tr>\n",
              "      <th>46</th>\n",
              "      <td>3</td>\n",
              "      <td>1</td>\n",
              "      <td>1</td>\n",
              "      <td>1</td>\n",
              "      <td>2</td>\n",
              "    </tr>\n",
              "    <tr>\n",
              "      <th>47</th>\n",
              "      <td>5</td>\n",
              "      <td>1</td>\n",
              "      <td>1</td>\n",
              "      <td>1</td>\n",
              "      <td>2</td>\n",
              "    </tr>\n",
              "    <tr>\n",
              "      <th>48</th>\n",
              "      <td>0</td>\n",
              "      <td>1</td>\n",
              "      <td>1</td>\n",
              "      <td>1</td>\n",
              "      <td>2</td>\n",
              "    </tr>\n",
              "    <tr>\n",
              "      <th>49</th>\n",
              "      <td>Y</td>\n",
              "      <td>2</td>\n",
              "      <td>1</td>\n",
              "      <td>1</td>\n",
              "      <td>2</td>\n",
              "    </tr>\n",
              "    <tr>\n",
              "      <th>50</th>\n",
              "      <td>B</td>\n",
              "      <td>3</td>\n",
              "      <td>1</td>\n",
              "      <td>1</td>\n",
              "      <td>2</td>\n",
              "    </tr>\n",
              "    <tr>\n",
              "      <th>51</th>\n",
              "      <td>z</td>\n",
              "      <td>2</td>\n",
              "      <td>1</td>\n",
              "      <td>1</td>\n",
              "      <td>2</td>\n",
              "    </tr>\n",
              "    <tr>\n",
              "      <th>52</th>\n",
              "      <td>?</td>\n",
              "      <td>3</td>\n",
              "      <td>1</td>\n",
              "      <td>1</td>\n",
              "      <td>2</td>\n",
              "    </tr>\n",
              "    <tr>\n",
              "      <th>53</th>\n",
              "      <td>J</td>\n",
              "      <td>1</td>\n",
              "      <td>1</td>\n",
              "      <td>1</td>\n",
              "      <td>2</td>\n",
              "    </tr>\n",
              "    <tr>\n",
              "      <th>54</th>\n",
              "      <td>q</td>\n",
              "      <td>1</td>\n",
              "      <td>1</td>\n",
              "      <td>1</td>\n",
              "      <td>2</td>\n",
              "    </tr>\n",
              "    <tr>\n",
              "      <th>55</th>\n",
              "      <td>P</td>\n",
              "      <td>1</td>\n",
              "      <td>1</td>\n",
              "      <td>1</td>\n",
              "      <td>2</td>\n",
              "    </tr>\n",
              "  </tbody>\n",
              "</table>\n",
              "</div>"
            ],
            "text/plain": [
              "   word  count  len  syllables  complexity\n",
              "0     O      7    1          1           2\n",
              "1     n    348    1          1           2\n",
              "2     e    624    1          1           2\n",
              "3         1254    1          1           2\n",
              "4     i    337    1          1           2\n",
              "5     s    361    1          1           2\n",
              "6     b     86    1          1           2\n",
              "7     l    259    1          1           2\n",
              "8     a    398    1          1           2\n",
              "9     c    116    1          1           2\n",
              "10    k     46    1          1           2\n",
              "11    .    102    1          1           2\n",
              "12    M      6    1          1           2\n",
              "13    y    106    1          1           2\n",
              "14    t    485    1          1           2\n",
              "15    h    317    1          1           2\n",
              "16    r    282    1          1           2\n",
              "17    p     96    1          1           2\n",
              "18    u    157    1          1           2\n",
              "19    g    120    1          1           2\n",
              "20    d    209    1          1           2\n",
              "21    v     55    1          1           2\n",
              "22    ,     94    1          1           2\n",
              "23    w    128    1          1           2\n",
              "24    I     68    1          1           2\n",
              "25    o    371    1          1           2\n",
              "26    f     79    1          1           2\n",
              "27    m    123    1          1           2\n",
              "28    '     12    1          1           2\n",
              "29    A     10    1          1           2\n",
              "30    S     11    1          1           2\n",
              "31    j     11    1          1           2\n",
              "32    -     16    1          1           2\n",
              "33    ’     28    1          1           2\n",
              "34    x      8    1          1           2\n",
              "35    G      3    1          1           2\n",
              "36    C      1    1          1           2\n",
              "37    F      3    1          1           2\n",
              "38    T     18    1          1           2\n",
              "39    H      1    1          1           2\n",
              "40    L      2    1          1           2\n",
              "41    K      6    1          1           2\n",
              "42    W      6    1          1           2\n",
              "43    E      4    1          1           2\n",
              "44    D      3    1          1           2\n",
              "45    N      1    1          1           2\n",
              "46    3      1    1          1           2\n",
              "47    5      1    1          1           2\n",
              "48    0      1    1          1           2\n",
              "49    Y      2    1          1           2\n",
              "50    B      3    1          1           2\n",
              "51    z      2    1          1           2\n",
              "52    ?      3    1          1           2\n",
              "53    J      1    1          1           2\n",
              "54    q      1    1          1           2\n",
              "55    P      1    1          1           2"
            ]
          },
          "metadata": {},
          "execution_count": 58
        }
      ]
    },
    {
      "cell_type": "markdown",
      "metadata": {
        "id": "QljbulsoGa8f"
      },
      "source": [
        "# NLTK Parts of Speech"
      ]
    },
    {
      "cell_type": "code",
      "metadata": {
        "colab": {
          "base_uri": "https://localhost:8080/"
        },
        "id": "q2FMd7BvDlxD",
        "outputId": "4b3a3c6c-ecba-40f6-99f6-a8808d231f99"
      },
      "source": [
        "import nltk\n",
        "from nltk.corpus import stopwords\n",
        "from nltk.tokenize import word_tokenize, sent_tokenize\n",
        "nltk.download('stopwords')\n",
        "nltk.download('punkt')\n",
        "nltk.download('averaged_perceptron_tagger')"
      ],
      "execution_count": 59,
      "outputs": [
        {
          "output_type": "stream",
          "name": "stdout",
          "text": [
            "[nltk_data] Downloading package stopwords to /root/nltk_data...\n",
            "[nltk_data]   Package stopwords is already up-to-date!\n",
            "[nltk_data] Downloading package punkt to /root/nltk_data...\n",
            "[nltk_data]   Package punkt is already up-to-date!\n",
            "[nltk_data] Downloading package averaged_perceptron_tagger to\n",
            "[nltk_data]     /root/nltk_data...\n",
            "[nltk_data]   Package averaged_perceptron_tagger is already up-to-\n",
            "[nltk_data]       date!\n"
          ]
        },
        {
          "output_type": "execute_result",
          "data": {
            "text/plain": [
              "True"
            ]
          },
          "metadata": {},
          "execution_count": 59
        }
      ]
    },
    {
      "cell_type": "markdown",
      "metadata": {
        "id": "eUJHeBNJxSor"
      },
      "source": [
        "Tags each word in the story with their respective parts of speech. I was concidering removing proper nouns."
      ]
    },
    {
      "cell_type": "code",
      "metadata": {
        "colab": {
          "base_uri": "https://localhost:8080/"
        },
        "id": "YxEqAu0nDUBX",
        "outputId": "30da1154-85a7-464b-e084-b538b3e30fd5"
      },
      "source": [
        "stop_words = set(stopwords.words('english'))\n",
        "\n",
        "tokenized = sent_tokenize(scribble_story)\n",
        "for i in tokenized:\n",
        "      \n",
        "    # Word tokenizers is used to find the words \n",
        "    # and punctuation in a string\n",
        "    wordsList = nltk.word_tokenize(i)\n",
        "  \n",
        "    # removing stop words from wordList\n",
        "    wordsList = [w for w in wordsList if not w in stop_words] \n",
        "  \n",
        "    #  Using a Tagger. Which is part-of-speech \n",
        "    # tagger or POS-tagger. \n",
        "    tagged = nltk.pos_tag(wordsList)\n",
        "  \n",
        "    print(tagged)"
      ],
      "execution_count": 60,
      "outputs": [
        {
          "output_type": "stream",
          "name": "stdout",
          "text": [
            "[('Once', 'RB'), ('apon', 'JJ'), ('time', 'NN'), ('girl', 'NN'), ('named', 'VBN'), ('Mary', 'NNP'), ('.', '.')]\n",
            "[('On', 'IN'), ('warm', 'JJ'), ('sunny', 'JJ'), ('day', 'NN'), ('Mary', 'NNP'), ('walking', 'VBG'), ('woods', 'NNS'), ('near', 'IN'), ('hear', 'JJ'), ('nouse', 'IN'), ('look', 'NN'), ('critters', 'NNS'), ('take', 'VBP'), ('pictures', 'NNS'), ('.', '.')]\n",
            "[('She', 'PRP'), ('loved', 'VBD'), ('animals', 'NNS'), ('nature', 'JJ'), ('life', 'NN'), ('even', 'RB'), ('though', 'IN'), ('nine', 'CD'), ('years', 'NNS'), ('oldShe', 'JJ'), ('thinks', 'VBZ'), ('going', 'VBG'), ('die', 'JJ'), ('soon', 'RB'), ('.', '.')]\n",
            "[('She', 'PRP'), ('go', 'VBP'), ('school', 'NN'), (\"n't\", 'RB'), ('smart', 'VB'), ('.', '.')]\n",
            "[('For', 'IN'), ('example', 'NN'), ('Mary', 'NNP'), ('recycled', 'VBD'), ('pie', 'RB'), ('even', 'RB'), ('though', 'IN'), ('pie', 'NNS'), ('even', 'RB'), ('bitten', 'VBP'), ('.', '.')]\n",
            "[('Another', 'DT'), ('thing', 'NN'), ('leave', 'VBP'), ('muffin', 'VBN'), ('woods', 'NNS'), ('traveling', 'VBG'), ('family', 'NN'), ('Andrea', 'NNP'), (\"'s\", 'POS'), ('house', 'NN'), ('one', 'CD'), ('Mary', 'NNP'), (\"'s\", 'POS'), ('friends', 'NNS'), ('atschool', 'VBP'), ('Mary', 'NNP'), (\"'s\", 'POS'), ('muffin', 'NN'), ('eaten', 'VBD'), ('bear', 'JJ'), ('sniffed', 'NN'), (':', ':'), ('q', 'NN'), ('!', '.')]\n",
            "[(':', ':'), ('far', 'RB'), ('away', 'RB'), ('.', '.')]\n",
            "[('Yes', 'UH'), ('.', '.')]\n",
            "[('Mary', 'NNP'), ('could', 'MD'), ('little', 'VB'), ('weird', 'JJ'), ('.', '.')]\n",
            "[('Back', 'RB'), ('real', 'JJ'), ('story', 'NN'), ('.', '.')]\n",
            "[('Mary', 'NNP'), ('found', 'VBD'), ('fox', 'RB'), (',', ','), ('took', 'VBD'), ('picture', 'NN'), ('also', 'RB'), ('found', 'VBD'), ('rabbit', 'NN'), ('took', 'VBD'), ('picture', 'NN'), ('found', 'VBN'), ('squirrel', 'RB'), ('took', 'VBD'), ('picture', 'NN'), ('ran', 'VBD'), ('away', 'RB'), ('.', '.')]\n",
            "[('But', 'CC'), ('sooner', 'RBR'), ('later', 'RB'), ('saw', 'VBD'), ('two', 'CD'), ('eyes', 'NNS'), ('peeking', 'VBG'), ('bush', 'JJ'), ('side', 'NN'), ('path', 'NN'), ('walking', 'NN'), ('.', '.')]\n",
            "[('Then', 'RB'), ('creature', 'NN'), ('slowly', 'RB'), ('came', 'VBD'), ('bush', 'NN'), ('.', '.')]\n",
            "[('It', 'PRP'), ('bear', 'RB'), ('.', '.')]\n",
            "[('The', 'DT'), ('bear', 'NN'), ('growled', 'VBD'), ('Mary', 'NNP'), ('.', '.')]\n",
            "[('Mary', 'NNP'), ('terrifyed', 'VBD'), ('.', '.')]\n",
            "[('She', 'PRP'), ('started', 'VBD'), ('running', 'VBG'), ('running', 'NN'), ('could', 'MD'), ('still', 'RB'), ('see', 'VB'), ('bear', 'JJ'), ('growling', 'VBG'), ('behind', 'NN'), ('.', '.')]\n",
            "[('This', 'DT'), ('end', 'NN'), ('Mary', 'NNP'), ('.', '.')]\n",
            "[('Mary', 'NNP'), ('approaching', 'NN'), ('house', 'NN'), ('could', 'MD'), ('see', 'VB'), ('.', '.')]\n",
            "[('She', 'PRP'), ('safe', 'JJ'), ('house', 'NN'), ('.', '.')]\n",
            "[('She', 'PRP'), ('really', 'RB'), ('scared', 'VBD'), ('.', '.')]\n",
            "[('She', 'PRP'), ('could', 'MD'), ('possibly', 'RB'), ('eaten', 'VB'), ('made', 'VBN'), ('door', 'NN'), ('opened', 'VBD'), ('slammed', 'VBN'), ('shut', 'JJ'), ('bear', 'NN'), ('could', 'MD'), ('get', 'VB'), ('.', '.')]\n",
            "[('She', 'PRP'), ('ran', 'VBD'), ('sprinted', 'VBD'), ('rather', 'RB'), ('room', 'NN'), ('.', '.')]\n",
            "[('Im', 'NNP'), ('alive', 'JJ'), ('!', '.'), ('!', '.')]\n",
            "[('She', 'PRP'), ('cried', 'VBD'), ('.', '.')]\n",
            "[('I', 'PRP'), ('cant', 'VBP'), ('belive', 'JJ'), ('Im', 'NNP'), ('alive', 'NN'), ('!', '.'), ('!', '.')]\n",
            "[('Mary', 'NNP'), ('relifed', 'VBD'), ('told', 'VBD'), ('mom', 'NN'), ('dad', 'NN'), ('brother', 'NN'), ('.', '.')]\n",
            "[('And', 'CC'), ('night', 'NN'), ('Mary', 'NNP'), ('kissed', 'VBD'), ('goodnight', 'NN'), ('tucked', 'VBD'), ('bed', 'NN'), ('.', '.')]\n",
            "[('And', 'CC'), ('brave', 'VB'), ('time', 'NN'), ('life', 'NN'), ('.', '.')]\n"
          ]
        }
      ]
    },
    {
      "cell_type": "markdown",
      "metadata": {
        "id": "n3uAFTjCGnYl"
      },
      "source": [
        "NLTK POS tag list: \n",
        "\n",
        "---\n",
        "\n",
        "\n",
        "\n",
        "*   CC - coordinating conjunction\n",
        "*   CD - cardinal digit\n",
        "*   DT - determiner\n",
        "*   EX - existential there (\"there is\", \"there exists\")\n",
        "*   FW - foreign word\n",
        "*   IN - preposition/subordinating conjunction\n",
        "*   JJ - adjective 'big'\n",
        "*   JJR - adjective, comparative 'bigger'\n",
        "*   JJS - adjective, superlative 'biggest'\n",
        "*   LS - list marker\n",
        "*   MD - modal could, will\n",
        "*   NN - noun, singular 'desk'\n",
        "*   NNS - noun plural 'desks'\n",
        "*   NNP - proper noun, singular 'Harrison'\n",
        "*   NNPS - proper noun, plural 'Americans'\n",
        "*   PDT - predeterminer 'all the kids'\n",
        "*   POS - possessive ending parent's\n",
        "*   PRP - personal pronoun I, he, she\n",
        "*   PRP$ - possessive pronoun my, his, hers\n",
        "\n",
        "*   RB - adverb very, silently\n",
        "*   RBR - adverb, comparative better\n",
        "*   RBS - adverb, superlative best\n",
        "*   RP - particle give up\n",
        "*   TO - to go 'to' the store\n",
        "*   UH - interjection errrrrrrrm\n",
        "*   VB - verb, base form take\n",
        "*   VBD - verb, past tense: took\n",
        "*   VBG - verb, gerund/present participle: taking\n",
        "*   VBN - verb, past participle: taken\n",
        "*   VBP - verb, sing. present, non-3d: take\n",
        "*   VBZ - verb, 3rd person sing. present: takes\n",
        "*   WDT - wh-determiner which\n",
        "*   WP - wh-pronoun who, what\n",
        "*   WP$ - possessive wh-pronoun whose\n",
        "*   WRB - wh-abverb where, when\n",
        "\n",
        "\n"
      ]
    }
  ]
}