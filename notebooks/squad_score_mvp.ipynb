{
 "cells": [
  {
   "cell_type": "markdown",
   "metadata": {},
   "source": [
    "#### Documentation notes on this notebook:\n",
    "\n",
    "##### Purpose\n",
    "- Used as an exploratory notebook to look at both API and human transcriptions, potential Squad Score formulas, and correlations with story rankings and textstat packages\n",
    "- Training data: 167 stories\n",
    "- Generate a pickled scaler from training data for use in production\n",
    "\n",
    "##### Outcomes\n",
    "- Ultimately, API transcriptions used over human transcriptions to generate scaler and formula for production, as it's closest to what will actually be seen in production.\n",
    "- MinMaxScaler was selected over StandardScaler to maintain positive score values\n",
    "- More features are explored in this notebook than were included in the Squad Score formula\n",
    "- Initial Squad Score includes only features generated with Python & Pandas that represent either features used in validated writing complexity metrics OR features requested by stakeholder, AND are versions of the feature that are impacted as minimally as possible by inevitable errors in spelling, handwriting, and transcription. \n",
    "- Weights are initialized at 1 for each feature.\n",
    "- This Squad Score results in a -.63 correlation coefficient with provided stakeholder rankings.\n",
    "   - 1.0 features: story_length, avg_word_len, quotes_num, unique_words_num (-.60 correlation)\n",
    "   - 1.1 features: story_length, avg_word_len, quotes_num, unique_words_num, adj_num (-.63 correlation)\n",
    "\n",
    "##### Future Considerations\n",
    "- Scaler should be re-fit with any newly provided training data\n",
    "- Major room for growth in this formula is to improve the weights to something other than 1s. This choice was made due to lack of labels, and reluctance to create an over-fit formula, but if different techniques are available or labels are provided, the weights should be adjusted accordingly to improve the formula."
   ]
  },
  {
   "cell_type": "code",
   "execution_count": 1,
   "metadata": {},
   "outputs": [],
   "source": [
    "import glob\n",
    "\n",
    "import joblib\n",
    "import pandas as pd\n",
    "import matplotlib.pyplot as plt\n",
    "import nltk\n",
    "import seaborn as sns\n",
    "import textstat\n",
    "\n",
    "from sklearn.metrics import mean_absolute_error as mae\n",
    "from sklearn.metrics import mean_squared_error as mse\n",
    "from sklearn.preprocessing import MinMaxScaler"
   ]
  },
  {
   "cell_type": "code",
   "execution_count": 2,
   "metadata": {},
   "outputs": [],
   "source": [
    "# Uncomment to download nltk modules\n",
    "# nltk.download('punkt')\n",
    "# nltk.download('averaged_perceptron_tagger')"
   ]
  },
  {
   "cell_type": "code",
   "execution_count": 3,
   "metadata": {},
   "outputs": [],
   "source": [
    "# Import API-transcribed stories\n",
    "path = \"../../api_transcribed_stories.csv\"\n",
    "\n",
    "api_t = pd.read_csv(\n",
    "            path, \n",
    "            usecols=[1,2],\n",
    "            header=0,\n",
    "            names=[\"story_id\", \"transcription\"],\n",
    "            dtype=str\n",
    "            )"
   ]
  },
  {
   "cell_type": "code",
   "execution_count": 4,
   "metadata": {},
   "outputs": [],
   "source": [
    "# Compile human-transcribed stories for comparison\n",
    "\n",
    "root = \"../../Stories Dataset/Transcribed Stories/\"\n",
    "\n",
    "transcriptions = []\n",
    "\n",
    "for file in glob.glob(root + '**/**/Story*[3000-5999]*'):\n",
    "    with open((file), 'r') as file:\n",
    "        story_id = file.name[-4:]\n",
    "        transcription = file.read().replace('\\n', ' ')\n",
    "        transcriptions.append((story_id, transcription))"
   ]
  },
  {
   "cell_type": "code",
   "execution_count": 5,
   "metadata": {},
   "outputs": [],
   "source": [
    "# Generate dataframe of transcriptions\n",
    "cols = ['story_id', 'transcription']\n",
    "human_t = pd.DataFrame(transcriptions, columns=cols)"
   ]
  },
  {
   "cell_type": "code",
   "execution_count": 6,
   "metadata": {},
   "outputs": [],
   "source": [
    "def calc_metrics(df):\n",
    "    \"\"\" \n",
    "    Cleans transcriptions and adds various metrics as columns.\n",
    "    \n",
    "    Features included:\n",
    "    - Grade level\n",
    "    - Length of story (in characters)\n",
    "    - Average word length (in chars)\n",
    "    - Number of quotation marks\n",
    "    - Number of unique words\n",
    "    - Number of adjectives\n",
    "    - Percentage of complex words\n",
    "    \n",
    "    Note that code generating proportional/ratioed features is commented out, as correlation\n",
    "    to rankings sharply decreased with this change in feature quality.\n",
    "    \"\"\"\n",
    "    # Avoid SettingWithCopy error\n",
    "    df = df.copy()\n",
    "    \n",
    "    # Clean potential transcription errors\n",
    "\n",
    "    # Strip leading or tailing spaces and integers \n",
    "    df[\"transcription\"] = df[\"transcription\"].str.strip().str.strip('/-0123456789')\n",
    "    \n",
    "    # Ensure all commas and periods are followed by a space\n",
    "    df[\"transcription\"] = df[\"transcription\"].str.replace(\".\", \". \").str.replace(\",\", \", \")\n",
    "    \n",
    "    # Remove any instances of multiple spaces\n",
    "    df[\"transcription\"] = df[\"transcription\"].str.split().str.join(\" \")\n",
    "    \n",
    "    \n",
    "    # Add metrics\n",
    "    \n",
    "    # Grade level\n",
    "    df[\"grade_level\"] = df[\"story_id\"].str[0].astype(int)\n",
    "\n",
    "    # Length of story\n",
    "    df[\"story_length\"] = df[\"transcription\"].str.len()\n",
    "    \n",
    "    # Average word length\n",
    "    word_count = (df[\"transcription\"].str.split()).str.len()\n",
    "    df[\"avg_word_len\"] = df[\"story_length\"] / word_count\n",
    "    \n",
    "    # Number of quotation marks\n",
    "    # quote_count = df[\"transcription\"].str.count('\"')\n",
    "    # df[\"quotes_ratio\"] = quote_count / df[\"story_length\"]\n",
    "    df[\"quotes_num\"] = df[\"transcription\"].str.count('\"') \n",
    "    \n",
    "    # Number of unique words, over 2 characters    \n",
    "    def over_two_chars(transcription):\n",
    "        \"\"\"Returns number of unique 2+ char words in transcription.\"\"\"\n",
    "        word_list = transcription.split()\n",
    "        word_set = set()\n",
    "        for x in word_list:\n",
    "            if len(x) > 2: \n",
    "                word_set.add(x)\n",
    "        return len(word_set)\n",
    "    \n",
    "    # unique_words_count = df[\"transcription\"].apply(over_two_chars)\n",
    "    # df[\"unique_word_ratio\"] = unique_words_count / df[\"story_length\"]\n",
    "    df[\"unique_words_num\"] = df[\"transcription\"].apply(over_two_chars)\n",
    "    \n",
    "    # Number of adjectives\n",
    "    def num_adj(transcription):\n",
    "        \"\"\"Returns number of adjectives in transcription.\"\"\"\n",
    "        tokens = nltk.word_tokenize(transcription)\n",
    "        pos = nltk.pos_tag(tokens)\n",
    "        adj_count = 1\n",
    "        for word in pos:\n",
    "            if word[1] == 'JJ':\n",
    "                adj_count += 1\n",
    "        return adj_count\n",
    "    \n",
    "    # adj_count = df[\"transcription\"].apply(num_adj)\n",
    "    # df[\"adj_ratio\"] = adj_count / df[\"story_length\"]\n",
    "    df[\"adj_num\"] = df[\"transcription\"].apply(num_adj)\n",
    "    \n",
    "    # Percentage of complex words, based on textstat's automated function\n",
    "    # Compares to list of 3000 most commonuly used English words\n",
    "    # Number of words in story that are not on that list are considered \"complex\"\n",
    "    # Note: prone to errors, may need to be iterated on to be production-grade\n",
    "    num_complex_words = df[\"transcription\"].apply(textstat.difficult_words)\n",
    "    df[\"percent_complex_words\"] = num_complex_words / word_count * 100\n",
    "    \n",
    "    return df"
   ]
  },
  {
   "cell_type": "code",
   "execution_count": 7,
   "metadata": {},
   "outputs": [],
   "source": [
    "# Calculate both API and human transcription metrics\n",
    "human_metrics = calc_metrics(human_t)\n",
    "api_metrics = calc_metrics(api_t)"
   ]
  },
  {
   "cell_type": "code",
   "execution_count": 8,
   "metadata": {},
   "outputs": [
    {
     "name": "stdout",
     "output_type": "stream",
     "text": [
      "(167, 9)\n"
     ]
    },
    {
     "data": {
      "text/html": [
       "<div>\n",
       "<style scoped>\n",
       "    .dataframe tbody tr th:only-of-type {\n",
       "        vertical-align: middle;\n",
       "    }\n",
       "\n",
       "    .dataframe tbody tr th {\n",
       "        vertical-align: top;\n",
       "    }\n",
       "\n",
       "    .dataframe thead th {\n",
       "        text-align: right;\n",
       "    }\n",
       "</style>\n",
       "<table border=\"1\" class=\"dataframe\">\n",
       "  <thead>\n",
       "    <tr style=\"text-align: right;\">\n",
       "      <th></th>\n",
       "      <th>story_id</th>\n",
       "      <th>transcription</th>\n",
       "      <th>grade_level</th>\n",
       "      <th>story_length</th>\n",
       "      <th>avg_word_len</th>\n",
       "      <th>quotes_num</th>\n",
       "      <th>unique_words_num</th>\n",
       "      <th>adj_num</th>\n",
       "      <th>percent_complex_words</th>\n",
       "    </tr>\n",
       "  </thead>\n",
       "  <tbody>\n",
       "    <tr>\n",
       "      <th>0</th>\n",
       "      <td>3132</td>\n",
       "      <td>Page 1 Once there was a little cheatah and the...</td>\n",
       "      <td>3</td>\n",
       "      <td>1378</td>\n",
       "      <td>5.122677</td>\n",
       "      <td>14</td>\n",
       "      <td>136</td>\n",
       "      <td>14</td>\n",
       "      <td>4.460967</td>\n",
       "    </tr>\n",
       "  </tbody>\n",
       "</table>\n",
       "</div>"
      ],
      "text/plain": [
       "  story_id                                      transcription  grade_level  \\\n",
       "0     3132  Page 1 Once there was a little cheatah and the...            3   \n",
       "\n",
       "   story_length  avg_word_len  quotes_num  unique_words_num  adj_num  \\\n",
       "0          1378      5.122677          14               136       14   \n",
       "\n",
       "   percent_complex_words  \n",
       "0               4.460967  "
      ]
     },
     "execution_count": 8,
     "metadata": {},
     "output_type": "execute_result"
    }
   ],
   "source": [
    "print(human_metrics.shape)\n",
    "human_metrics.head(1)"
   ]
  },
  {
   "cell_type": "code",
   "execution_count": 9,
   "metadata": {},
   "outputs": [
    {
     "name": "stdout",
     "output_type": "stream",
     "text": [
      "(167, 9)\n"
     ]
    },
    {
     "data": {
      "text/html": [
       "<div>\n",
       "<style scoped>\n",
       "    .dataframe tbody tr th:only-of-type {\n",
       "        vertical-align: middle;\n",
       "    }\n",
       "\n",
       "    .dataframe tbody tr th {\n",
       "        vertical-align: top;\n",
       "    }\n",
       "\n",
       "    .dataframe thead th {\n",
       "        text-align: right;\n",
       "    }\n",
       "</style>\n",
       "<table border=\"1\" class=\"dataframe\">\n",
       "  <thead>\n",
       "    <tr style=\"text-align: right;\">\n",
       "      <th></th>\n",
       "      <th>story_id</th>\n",
       "      <th>transcription</th>\n",
       "      <th>grade_level</th>\n",
       "      <th>story_length</th>\n",
       "      <th>avg_word_len</th>\n",
       "      <th>quotes_num</th>\n",
       "      <th>unique_words_num</th>\n",
       "      <th>adj_num</th>\n",
       "      <th>percent_complex_words</th>\n",
       "    </tr>\n",
       "  </thead>\n",
       "  <tbody>\n",
       "    <tr>\n",
       "      <th>0</th>\n",
       "      <td>3132</td>\n",
       "      <td>Page. I 3132 Once there was a little cheatah a...</td>\n",
       "      <td>3</td>\n",
       "      <td>1375</td>\n",
       "      <td>5.092593</td>\n",
       "      <td>6</td>\n",
       "      <td>138</td>\n",
       "      <td>15</td>\n",
       "      <td>4.814815</td>\n",
       "    </tr>\n",
       "  </tbody>\n",
       "</table>\n",
       "</div>"
      ],
      "text/plain": [
       "  story_id                                      transcription  grade_level  \\\n",
       "0     3132  Page. I 3132 Once there was a little cheatah a...            3   \n",
       "\n",
       "   story_length  avg_word_len  quotes_num  unique_words_num  adj_num  \\\n",
       "0          1375      5.092593           6               138       15   \n",
       "\n",
       "   percent_complex_words  \n",
       "0               4.814815  "
      ]
     },
     "execution_count": 9,
     "metadata": {},
     "output_type": "execute_result"
    }
   ],
   "source": [
    "print(api_metrics.shape)\n",
    "api_metrics.head(1)"
   ]
  },
  {
   "cell_type": "code",
   "execution_count": 10,
   "metadata": {},
   "outputs": [
    {
     "data": {
      "text/plain": [
       "['friendo',\n",
       " 'dylanto',\n",
       " 'familys',\n",
       " \"lion's\",\n",
       " 'usall',\n",
       " 'parents',\n",
       " 'thier',\n",
       " 'hunting',\n",
       " 'dylans',\n",
       " 'bacle',\n",
       " 'dylan',\n",
       " 'minutes',\n",
       " 'bylans']"
      ]
     },
     "execution_count": 10,
     "metadata": {},
     "output_type": "execute_result"
    }
   ],
   "source": [
    "# Look at output of complex words feature -- note how many are not real words\n",
    "sample_transcription = api_metrics.iloc[0,1]\n",
    "textstat.difficult_words_list(sample_transcription)"
   ]
  },
  {
   "cell_type": "code",
   "execution_count": 11,
   "metadata": {},
   "outputs": [
    {
     "data": {
      "text/plain": [
       "'Page. I 3132 Once there was a little cheatah and the cheatah had a best friend lion the cheatah\\'s name was paws and the lion\\'s name was Dylan they always played with each other after they went hunting Dylan went to play with Paws after hunting with pack, and Paws wont to play after hunting with his mom. They always met up near the same rock arth the same lake, they would talk and have water fights here is what the talked about your parents and my pack might have a fight\" said Dylan \"We both don\\'t want that to happen we might have to fight against each other, said Paws After afew minutes it was time for them bacle to their family. Next morning they saw there family having a fight, Dylans family, won and Paus mom was hert. At thier usall he meeting time they talked aboutit. \"My mom got hert, It\\'s not fair\" said Paws I think the best way to fix this is to tell are family we are friendo\" said Dylan \"I think your right said Paws. So after there talk time and water fight they went back to there family and told We have been friends since 3 years ago said Paws and Dylanto their familys. Okay thier parents said I will let you goy swich spot for one day and we will see. to them. Pagea 3132 They were going to fet Paws spend time with Bylans pack and Dylan spend time with Paws mom it went well and everyone was happy and now the familys all went to the lake, The End'"
      ]
     },
     "execution_count": 11,
     "metadata": {},
     "output_type": "execute_result"
    }
   ],
   "source": [
    "# Compare to full transcription\n",
    "# Decision was made to keep compplex_words feature out of Squad Score for \n",
    "# unreliability in the limitations of this product\n",
    "sample_transcription"
   ]
  },
  {
   "cell_type": "code",
   "execution_count": 12,
   "metadata": {},
   "outputs": [],
   "source": [
    "# Change this variable to alter which features are included in scaler and Squad Score\n",
    "scaled_features = [\"story_length\", \"avg_word_len\", \"quotes_num\", \"unique_words_num\", \"adj_num\"]"
   ]
  },
  {
   "cell_type": "code",
   "execution_count": 13,
   "metadata": {},
   "outputs": [
    {
     "data": {
      "text/plain": [
       "MinMaxScaler()"
      ]
     },
     "execution_count": 13,
     "metadata": {},
     "output_type": "execute_result"
    }
   ],
   "source": [
    "scaler_h = MinMaxScaler()\n",
    "scaler_h.fit(human_metrics[scaled_features])"
   ]
  },
  {
   "cell_type": "code",
   "execution_count": 14,
   "metadata": {},
   "outputs": [
    {
     "data": {
      "text/plain": [
       "['../project/app/utils/complexity/MinMaxScaler.pkl']"
      ]
     },
     "execution_count": 14,
     "metadata": {},
     "output_type": "execute_result"
    }
   ],
   "source": [
    "scaler_api = MinMaxScaler()\n",
    "scaler_api.fit(api_metrics[scaled_features])\n",
    "\n",
    "# Uncomment line below to pickle scaler for future use\n",
    "joblib.dump(scaler_api, \"../project/app/utils/complexity/MinMaxScaler.pkl\")"
   ]
  },
  {
   "cell_type": "code",
   "execution_count": 15,
   "metadata": {},
   "outputs": [],
   "source": [
    "def scale_row(row, transcription_source):\n",
    "    \"\"\"\n",
    "    Takes one row and scales it according to corresponding scaler.\n",
    "    \n",
    "    This function is integrated into the squad_score function\n",
    "    \n",
    "    row: full row of dataframe or a list\n",
    "    transcription_source (str): \"api\" or \"human\" based on source of transcription\n",
    "    \"\"\"\n",
    "    if transcription_source == \"api\":\n",
    "        scaler = scaler_api\n",
    "    elif transcription_source == \"human\":\n",
    "        scaler = scaler_h\n",
    "    else:\n",
    "        raise ValueError(\"Not a valid transcription source. Valid options: 'api' or 'human'.\")\n",
    "    \n",
    "    return scaler.transform([row[scaled_features]])"
   ]
  },
  {
   "cell_type": "code",
   "execution_count": 16,
   "metadata": {},
   "outputs": [
    {
     "data": {
      "text/plain": [
       "array([[0.36490589, 0.45999584, 0.13953488, 0.34146341, 0.28888889]])"
      ]
     },
     "execution_count": 16,
     "metadata": {},
     "output_type": "execute_result"
    }
   ],
   "source": [
    "# Test on API transcription sample\n",
    "test_row = api_metrics.loc[0,scaled_features]\n",
    "scale_row(test_row, \"api\")"
   ]
  },
  {
   "cell_type": "code",
   "execution_count": 17,
   "metadata": {},
   "outputs": [
    {
     "data": {
      "text/plain": [
       "array([[0.34876246, 0.47520045, 0.16666667, 0.35472973, 0.31707317]])"
      ]
     },
     "execution_count": 17,
     "metadata": {},
     "output_type": "execute_result"
    }
   ],
   "source": [
    "# Test on human transcription sample\n",
    "test_row = human_metrics.loc[0,scaled_features]\n",
    "scale_row(test_row, \"human\")"
   ]
  },
  {
   "cell_type": "code",
   "execution_count": 18,
   "metadata": {},
   "outputs": [
    {
     "data": {
      "text/plain": [
       "story_length           1378\n",
       "avg_word_len        5.12268\n",
       "quotes_num               14\n",
       "unique_words_num        136\n",
       "adj_num                  14\n",
       "Name: 0, dtype: object"
      ]
     },
     "execution_count": 18,
     "metadata": {},
     "output_type": "execute_result"
    }
   ],
   "source": [
    "# Check test_row\n",
    "test_row"
   ]
  },
  {
   "cell_type": "code",
   "execution_count": 19,
   "metadata": {},
   "outputs": [],
   "source": [
    "def squad_score(row, transcription_source):\n",
    "    \"\"\"\n",
    "    Scales, weights, and adds all metrics for a given transcription.\n",
    "    \n",
    "    Scales according to transcription source (see scale_row function).\n",
    "    Weights according to presribed weights used only for Story Squad analysis.\n",
    "    \n",
    "    row: full row of dataframe or a list\n",
    "    transcription_source (str): \"api\" or \"human\" based on source of transcription\n",
    "    \"\"\"\n",
    "    \n",
    "    # Instantiate weights\n",
    "    weights = {\"grade_level\": 0,\n",
    "              \"story_length\": 1,\n",
    "              \"avg_word_len\": 1,\n",
    "              \"quotes_number\": 1,\n",
    "               \"unique_words\": 1,\n",
    "               \"adj_num\": 1,\n",
    "              \"percent_complex_words\": 0}\n",
    "    \n",
    "    # Scale needed metrics\n",
    "    scaled = scale_row(row, transcription_source)[0]\n",
    "    \n",
    "    # Generate scaler to create desired output range (~0-100)\n",
    "    range_scaler = 30\n",
    "    \n",
    "    # Weight values\n",
    "    # gl = weights[\"grade_level\"] * row[2] * range_scaler\n",
    "    sl = weights[\"story_length\"] * scaled[0] * range_scaler\n",
    "    awl = weights[\"avg_word_len\"] * scaled[1] * range_scaler\n",
    "    qn = weights[\"quotes_number\"] * scaled[2] * range_scaler\n",
    "    uw = weights[\"unique_words\"] * scaled[3] * range_scaler\n",
    "    an = weights[\"adj_num\"] * scaled[4] * range_scaler\n",
    "    # pcw = weights[\"percent_complex_words\"] * scaled[5] * range_scaler\n",
    "    \n",
    "    # Add all values\n",
    "    s_score = sl + awl + qn + uw + an\n",
    "    \n",
    "    return s_score"
   ]
  },
  {
   "cell_type": "code",
   "execution_count": 20,
   "metadata": {},
   "outputs": [],
   "source": [
    "# Calculate Squad Scores for all transcriptions and generate new DFs\n",
    "h_squad_score = human_metrics[[\"story_id\"]].copy()\n",
    "h_squad_score[\"squad_score\"] = human_metrics.apply(lambda x: squad_score(x, \"human\"), axis=1)\n",
    "\n",
    "api_squad_score = api_metrics[[\"story_id\"]].copy()\n",
    "api_squad_score[\"squad_score\"] = api_metrics.apply(lambda x: squad_score(x, \"api\"), axis=1)"
   ]
  },
  {
   "cell_type": "code",
   "execution_count": 21,
   "metadata": {},
   "outputs": [
    {
     "data": {
      "text/html": [
       "<div>\n",
       "<style scoped>\n",
       "    .dataframe tbody tr th:only-of-type {\n",
       "        vertical-align: middle;\n",
       "    }\n",
       "\n",
       "    .dataframe tbody tr th {\n",
       "        vertical-align: top;\n",
       "    }\n",
       "\n",
       "    .dataframe thead th {\n",
       "        text-align: right;\n",
       "    }\n",
       "</style>\n",
       "<table border=\"1\" class=\"dataframe\">\n",
       "  <thead>\n",
       "    <tr style=\"text-align: right;\">\n",
       "      <th></th>\n",
       "      <th>story_id</th>\n",
       "      <th>squad_score</th>\n",
       "    </tr>\n",
       "  </thead>\n",
       "  <tbody>\n",
       "    <tr>\n",
       "      <th>0</th>\n",
       "      <td>3132</td>\n",
       "      <td>47.843668</td>\n",
       "    </tr>\n",
       "  </tbody>\n",
       "</table>\n",
       "</div>"
      ],
      "text/plain": [
       "  story_id  squad_score\n",
       "0     3132    47.843668"
      ]
     },
     "execution_count": 21,
     "metadata": {},
     "output_type": "execute_result"
    }
   ],
   "source": [
    "# Check head\n",
    "api_squad_score.head(1)"
   ]
  },
  {
   "cell_type": "code",
   "execution_count": 22,
   "metadata": {},
   "outputs": [
    {
     "data": {
      "text/html": [
       "<div>\n",
       "<style scoped>\n",
       "    .dataframe tbody tr th:only-of-type {\n",
       "        vertical-align: middle;\n",
       "    }\n",
       "\n",
       "    .dataframe tbody tr th {\n",
       "        vertical-align: top;\n",
       "    }\n",
       "\n",
       "    .dataframe thead th {\n",
       "        text-align: right;\n",
       "    }\n",
       "</style>\n",
       "<table border=\"1\" class=\"dataframe\">\n",
       "  <thead>\n",
       "    <tr style=\"text-align: right;\">\n",
       "      <th></th>\n",
       "      <th>squad_score</th>\n",
       "    </tr>\n",
       "  </thead>\n",
       "  <tbody>\n",
       "    <tr>\n",
       "      <th>count</th>\n",
       "      <td>167.000000</td>\n",
       "    </tr>\n",
       "    <tr>\n",
       "      <th>mean</th>\n",
       "      <td>50.095676</td>\n",
       "    </tr>\n",
       "    <tr>\n",
       "      <th>std</th>\n",
       "      <td>20.209209</td>\n",
       "    </tr>\n",
       "    <tr>\n",
       "      <th>min</th>\n",
       "      <td>0.731707</td>\n",
       "    </tr>\n",
       "    <tr>\n",
       "      <th>25%</th>\n",
       "      <td>35.305735</td>\n",
       "    </tr>\n",
       "    <tr>\n",
       "      <th>50%</th>\n",
       "      <td>47.974608</td>\n",
       "    </tr>\n",
       "    <tr>\n",
       "      <th>75%</th>\n",
       "      <td>60.715916</td>\n",
       "    </tr>\n",
       "    <tr>\n",
       "      <th>max</th>\n",
       "      <td>124.558085</td>\n",
       "    </tr>\n",
       "  </tbody>\n",
       "</table>\n",
       "</div>"
      ],
      "text/plain": [
       "       squad_score\n",
       "count   167.000000\n",
       "mean     50.095676\n",
       "std      20.209209\n",
       "min       0.731707\n",
       "25%      35.305735\n",
       "50%      47.974608\n",
       "75%      60.715916\n",
       "max     124.558085"
      ]
     },
     "execution_count": 22,
     "metadata": {},
     "output_type": "execute_result"
    }
   ],
   "source": [
    "h_squad_score.describe()"
   ]
  },
  {
   "cell_type": "code",
   "execution_count": 23,
   "metadata": {},
   "outputs": [
    {
     "data": {
      "text/html": [
       "<div>\n",
       "<style scoped>\n",
       "    .dataframe tbody tr th:only-of-type {\n",
       "        vertical-align: middle;\n",
       "    }\n",
       "\n",
       "    .dataframe tbody tr th {\n",
       "        vertical-align: top;\n",
       "    }\n",
       "\n",
       "    .dataframe thead th {\n",
       "        text-align: right;\n",
       "    }\n",
       "</style>\n",
       "<table border=\"1\" class=\"dataframe\">\n",
       "  <thead>\n",
       "    <tr style=\"text-align: right;\">\n",
       "      <th></th>\n",
       "      <th>squad_score</th>\n",
       "    </tr>\n",
       "  </thead>\n",
       "  <tbody>\n",
       "    <tr>\n",
       "      <th>count</th>\n",
       "      <td>167.000000</td>\n",
       "    </tr>\n",
       "    <tr>\n",
       "      <th>mean</th>\n",
       "      <td>47.399637</td>\n",
       "    </tr>\n",
       "    <tr>\n",
       "      <th>std</th>\n",
       "      <td>19.397492</td>\n",
       "    </tr>\n",
       "    <tr>\n",
       "      <th>min</th>\n",
       "      <td>1.668999</td>\n",
       "    </tr>\n",
       "    <tr>\n",
       "      <th>25%</th>\n",
       "      <td>33.216693</td>\n",
       "    </tr>\n",
       "    <tr>\n",
       "      <th>50%</th>\n",
       "      <td>43.596373</td>\n",
       "    </tr>\n",
       "    <tr>\n",
       "      <th>75%</th>\n",
       "      <td>58.944506</td>\n",
       "    </tr>\n",
       "    <tr>\n",
       "      <th>max</th>\n",
       "      <td>119.110260</td>\n",
       "    </tr>\n",
       "  </tbody>\n",
       "</table>\n",
       "</div>"
      ],
      "text/plain": [
       "       squad_score\n",
       "count   167.000000\n",
       "mean     47.399637\n",
       "std      19.397492\n",
       "min       1.668999\n",
       "25%      33.216693\n",
       "50%      43.596373\n",
       "75%      58.944506\n",
       "max     119.110260"
      ]
     },
     "execution_count": 23,
     "metadata": {},
     "output_type": "execute_result"
    }
   ],
   "source": [
    "api_squad_score.describe()"
   ]
  },
  {
   "cell_type": "code",
   "execution_count": 24,
   "metadata": {},
   "outputs": [
    {
     "data": {
      "image/png": "[encoded data removed]",
      "text/plain": [
       "<Figure size 432x288 with 1 Axes>"
      ]
     },
     "metadata": {
      "needs_background": "light"
     },
     "output_type": "display_data"
    }
   ],
   "source": [
    "# Visualize distribution of Squad Score for human transcriptions\n",
    "ax = sns.distplot(h_squad_score[\"squad_score\"])\n",
    "plt.title(\"Distribution of Squad Scores in Human Transcriptions\")\n",
    "plt.show()"
   ]
  },
  {
   "cell_type": "code",
   "execution_count": 25,
   "metadata": {},
   "outputs": [
    {
     "data": {
      "image/png": "[encoded data removed]",
      "text/plain": [
       "<Figure size 432x288 with 1 Axes>"
      ]
     },
     "metadata": {
      "needs_background": "light"
     },
     "output_type": "display_data"
    }
   ],
   "source": [
    "# Visualize distribution of Squad Score for API transcriptions\n",
    "# Note that API distribution is similar to human distribution\n",
    "ax = sns.distplot(api_squad_score[\"squad_score\"])\n",
    "plt.title(\"Distribution of Squad Scores in API Transcriptions\")\n",
    "plt.show()"
   ]
  },
  {
   "cell_type": "code",
   "execution_count": 26,
   "metadata": {},
   "outputs": [
    {
     "data": {
      "image/png": "[encoded data removed]",
      "text/plain": [
       "<Figure size 432x288 with 1 Axes>"
      ]
     },
     "metadata": {
      "needs_background": "light"
     },
     "output_type": "display_data"
    },
    {
     "data": {
      "image/png": "[encoded data removed]",
      "text/plain": [
       "<Figure size 432x288 with 1 Axes>"
      ]
     },
     "metadata": {
      "needs_background": "light"
     },
     "output_type": "display_data"
    },
    {
     "data": {
      "image/png": "[encoded data removed]",
      "text/plain": [
       "<Figure size 432x288 with 1 Axes>"
      ]
     },
     "metadata": {
      "needs_background": "light"
     },
     "output_type": "display_data"
    },
    {
     "data": {
      "image/png": "[encoded data removed]",
      "text/plain": [
       "<Figure size 432x288 with 1 Axes>"
      ]
     },
     "metadata": {
      "needs_background": "light"
     },
     "output_type": "display_data"
    },
    {
     "data": {
      "image/png": "[encoded data removed]",
      "text/plain": [
       "<Figure size 432x288 with 1 Axes>"
      ]
     },
     "metadata": {
      "needs_background": "light"
     },
     "output_type": "display_data"
    },
    {
     "data": {
      "image/png": "[encoded data removed]",
      "text/plain": [
       "<Figure size 432x288 with 1 Axes>"
      ]
     },
     "metadata": {
      "needs_background": "light"
     },
     "output_type": "display_data"
    },
    {
     "data": {
      "image/png": "[encoded data removed]",
      "text/plain": [
       "<Figure size 432x288 with 1 Axes>"
      ]
     },
     "metadata": {
      "needs_background": "light"
     },
     "output_type": "display_data"
    }
   ],
   "source": [
    "# Visualize distribtutions for all potential features of API\n",
    "\n",
    "def feature_distplots(df):\n",
    "    \"\"\"Outputs distplots of all features in provided df.\"\"\"\n",
    "    for col, data in df.iteritems():\n",
    "        ax = sns.distplot(df[col])\n",
    "        plt.title(f\"Distribution of {col}\")\n",
    "        plt.show()\n",
    "\n",
    "feature_distplots(api_metrics.iloc[:,2:])"
   ]
  },
  {
   "cell_type": "code",
   "execution_count": 27,
   "metadata": {},
   "outputs": [],
   "source": [
    "# Create dictionary of hand rankings of 25 stories, provided by stakeholder\n",
    "rankings = {\"3130\": 1,  # key == Story ID, value == rank\n",
    "             \"3112\": 2,\n",
    "             \"5109\": 3,\n",
    "             \"3118\": 4,\n",
    "             \"3122\": 5,\n",
    "             \"3108\": 6,\n",
    "             \"5108\": 7,\n",
    "             \"3121\": 8,\n",
    "             \"3101\": 9,\n",
    "             \"3128\": 10,\n",
    "             \"3106\": 11,\n",
    "             \"3126\": 12,\n",
    "             \"3129\": 13,\n",
    "             \"3105\": 14,\n",
    "             \"5104\": 15,\n",
    "             \"5101\": 16,\n",
    "             \"5103\": 17,\n",
    "             \"3125\": 18,\n",
    "             \"3111\": 19,\n",
    "             \"3119\": 20,\n",
    "             \"3110\": 21,\n",
    "             \"3117\": 22,\n",
    "             \"3127\": 23,\n",
    "             \"3131\": 24,\n",
    "             \"3120\": 25} "
   ]
  },
  {
   "cell_type": "code",
   "execution_count": 28,
   "metadata": {},
   "outputs": [],
   "source": [
    "# Subset dataframe for ranked human transcriptions\n",
    "ranked_stories_h = human_metrics[human_metrics[\"story_id\"].isin(rankings.keys())].reset_index(drop=True)\n",
    "# Add rankings\n",
    "ranked_stories_h[\"ranking\"] = ranked_stories_h[\"story_id\"].apply(lambda x: rankings[x])\n",
    "\n",
    "# Subset dataframe for ranked API transcriptions\n",
    "ranked_stories_api = api_metrics[api_metrics[\"story_id\"].isin(rankings.keys())].reset_index(drop=True)\n",
    "# Add rankings\n",
    "ranked_stories_api[\"ranking\"] = ranked_stories_api[\"story_id\"].apply(lambda x: rankings[x])"
   ]
  },
  {
   "cell_type": "code",
   "execution_count": 29,
   "metadata": {},
   "outputs": [],
   "source": [
    "# Add Squad Score based on squad_score function\n",
    "ranked_stories_h[\"squad_score\"] = ranked_stories_h.iloc[:,:-1].apply(lambda x: squad_score(x, \"human\"), axis=1)\n",
    "# Add the rank based on the squad score\n",
    "ranked_stories_h[\"squad_score_rank\"] = ranked_stories_h[\"squad_score\"].rank(ascending=False)\n",
    "\n",
    "# Repeat for API transcriptions\n",
    "ranked_stories_api[\"squad_score\"] = ranked_stories_api.iloc[:,:-1].apply(lambda x: squad_score(x, \"api\"), axis=1)\n",
    "ranked_stories_api[\"squad_score_rank\"] = ranked_stories_api[\"squad_score\"].rank(ascending=False)"
   ]
  },
  {
   "cell_type": "code",
   "execution_count": 30,
   "metadata": {},
   "outputs": [
    {
     "data": {
      "text/html": [
       "<div>\n",
       "<style scoped>\n",
       "    .dataframe tbody tr th:only-of-type {\n",
       "        vertical-align: middle;\n",
       "    }\n",
       "\n",
       "    .dataframe tbody tr th {\n",
       "        vertical-align: top;\n",
       "    }\n",
       "\n",
       "    .dataframe thead th {\n",
       "        text-align: right;\n",
       "    }\n",
       "</style>\n",
       "<table border=\"1\" class=\"dataframe\">\n",
       "  <thead>\n",
       "    <tr style=\"text-align: right;\">\n",
       "      <th></th>\n",
       "      <th>story_id</th>\n",
       "      <th>ranking</th>\n",
       "      <th>squad_score_rank</th>\n",
       "      <th>squad_score</th>\n",
       "    </tr>\n",
       "  </thead>\n",
       "  <tbody>\n",
       "    <tr>\n",
       "      <th>0</th>\n",
       "      <td>3117</td>\n",
       "      <td>22</td>\n",
       "      <td>25.0</td>\n",
       "      <td>16.196703</td>\n",
       "    </tr>\n",
       "    <tr>\n",
       "      <th>1</th>\n",
       "      <td>3105</td>\n",
       "      <td>14</td>\n",
       "      <td>12.0</td>\n",
       "      <td>37.525256</td>\n",
       "    </tr>\n",
       "    <tr>\n",
       "      <th>2</th>\n",
       "      <td>3129</td>\n",
       "      <td>13</td>\n",
       "      <td>7.0</td>\n",
       "      <td>47.511298</td>\n",
       "    </tr>\n",
       "    <tr>\n",
       "      <th>3</th>\n",
       "      <td>3111</td>\n",
       "      <td>19</td>\n",
       "      <td>14.0</td>\n",
       "      <td>32.073730</td>\n",
       "    </tr>\n",
       "    <tr>\n",
       "      <th>4</th>\n",
       "      <td>3118</td>\n",
       "      <td>4</td>\n",
       "      <td>13.0</td>\n",
       "      <td>35.631001</td>\n",
       "    </tr>\n",
       "  </tbody>\n",
       "</table>\n",
       "</div>"
      ],
      "text/plain": [
       "  story_id  ranking  squad_score_rank  squad_score\n",
       "0     3117       22              25.0    16.196703\n",
       "1     3105       14              12.0    37.525256\n",
       "2     3129       13               7.0    47.511298\n",
       "3     3111       19              14.0    32.073730\n",
       "4     3118        4              13.0    35.631001"
      ]
     },
     "execution_count": 30,
     "metadata": {},
     "output_type": "execute_result"
    }
   ],
   "source": [
    "# Look at ranking outcome for human transcriptions\n",
    "ranked_stories_h[[\"story_id\", \"ranking\", \"squad_score_rank\", \"squad_score\"]].head()"
   ]
  },
  {
   "cell_type": "code",
   "execution_count": 31,
   "metadata": {},
   "outputs": [
    {
     "data": {
      "text/html": [
       "<div>\n",
       "<style scoped>\n",
       "    .dataframe tbody tr th:only-of-type {\n",
       "        vertical-align: middle;\n",
       "    }\n",
       "\n",
       "    .dataframe tbody tr th {\n",
       "        vertical-align: top;\n",
       "    }\n",
       "\n",
       "    .dataframe thead th {\n",
       "        text-align: right;\n",
       "    }\n",
       "</style>\n",
       "<table border=\"1\" class=\"dataframe\">\n",
       "  <thead>\n",
       "    <tr style=\"text-align: right;\">\n",
       "      <th></th>\n",
       "      <th>story_id</th>\n",
       "      <th>ranking</th>\n",
       "      <th>squad_score_rank</th>\n",
       "      <th>squad_score</th>\n",
       "    </tr>\n",
       "  </thead>\n",
       "  <tbody>\n",
       "    <tr>\n",
       "      <th>0</th>\n",
       "      <td>3117</td>\n",
       "      <td>22</td>\n",
       "      <td>25.0</td>\n",
       "      <td>17.120997</td>\n",
       "    </tr>\n",
       "    <tr>\n",
       "      <th>1</th>\n",
       "      <td>3105</td>\n",
       "      <td>14</td>\n",
       "      <td>11.0</td>\n",
       "      <td>34.042006</td>\n",
       "    </tr>\n",
       "    <tr>\n",
       "      <th>2</th>\n",
       "      <td>3129</td>\n",
       "      <td>13</td>\n",
       "      <td>5.0</td>\n",
       "      <td>43.835181</td>\n",
       "    </tr>\n",
       "    <tr>\n",
       "      <th>3</th>\n",
       "      <td>3111</td>\n",
       "      <td>19</td>\n",
       "      <td>14.0</td>\n",
       "      <td>31.448316</td>\n",
       "    </tr>\n",
       "    <tr>\n",
       "      <th>4</th>\n",
       "      <td>3118</td>\n",
       "      <td>4</td>\n",
       "      <td>6.0</td>\n",
       "      <td>40.267507</td>\n",
       "    </tr>\n",
       "  </tbody>\n",
       "</table>\n",
       "</div>"
      ],
      "text/plain": [
       "  story_id  ranking  squad_score_rank  squad_score\n",
       "0     3117       22              25.0    17.120997\n",
       "1     3105       14              11.0    34.042006\n",
       "2     3129       13               5.0    43.835181\n",
       "3     3111       19              14.0    31.448316\n",
       "4     3118        4               6.0    40.267507"
      ]
     },
     "execution_count": 31,
     "metadata": {},
     "output_type": "execute_result"
    }
   ],
   "source": [
    "# Look at ranking outcome for API transcriptions\n",
    "ranked_stories_api[[\"story_id\", \"ranking\", \"squad_score_rank\", \"squad_score\"]].head()"
   ]
  },
  {
   "cell_type": "code",
   "execution_count": 32,
   "metadata": {},
   "outputs": [
    {
     "name": "stdout",
     "output_type": "stream",
     "text": [
      "Human transcriptions:\n",
      "MAE: 4.8 rankings\n",
      "MSE: 38.0\n",
      "\n",
      "API transcriptions:\n",
      "MAE: 4.96 rankings\n",
      "MSE: 39.68\n"
     ]
    }
   ],
   "source": [
    "# Calculate MAE & MSE for difference between \n",
    "# stakeholder ranking and ranking generated by Squad Score\n",
    "y_true_h = ranked_stories_h[\"ranking\"]\n",
    "y_pred_h = ranked_stories_h[\"squad_score_rank\"]\n",
    "mae_h = mae(y_true_h, y_pred_h)\n",
    "mse_h = mse(y_true_h, y_pred_h)\n",
    "print(\"Human transcriptions:\")\n",
    "print(f\"MAE: {mae_h} rankings\")\n",
    "print(f\"MSE: {mse_h}\")\n",
    "\n",
    "y_true_api = ranked_stories_api[\"ranking\"]\n",
    "y_pred_api = ranked_stories_api[\"squad_score_rank\"]\n",
    "mae_api = mae(y_true_api, y_pred_api)\n",
    "mse_api = mse(y_true_api, y_pred_api)\n",
    "print(\"\\nAPI transcriptions:\")\n",
    "print(f\"MAE: {mae_api} rankings\")\n",
    "print(f\"MSE: {mse_api}\")"
   ]
  },
  {
   "cell_type": "code",
   "execution_count": 33,
   "metadata": {},
   "outputs": [
    {
     "data": {
      "text/html": [
       "<div>\n",
       "<style scoped>\n",
       "    .dataframe tbody tr th:only-of-type {\n",
       "        vertical-align: middle;\n",
       "    }\n",
       "\n",
       "    .dataframe tbody tr th {\n",
       "        vertical-align: top;\n",
       "    }\n",
       "\n",
       "    .dataframe thead th {\n",
       "        text-align: right;\n",
       "    }\n",
       "</style>\n",
       "<table border=\"1\" class=\"dataframe\">\n",
       "  <thead>\n",
       "    <tr style=\"text-align: right;\">\n",
       "      <th></th>\n",
       "      <th>grade_level</th>\n",
       "      <th>story_length</th>\n",
       "      <th>avg_word_len</th>\n",
       "      <th>quotes_num</th>\n",
       "      <th>unique_words_num</th>\n",
       "      <th>adj_num</th>\n",
       "      <th>percent_complex_words</th>\n",
       "      <th>ranking</th>\n",
       "      <th>squad_score</th>\n",
       "      <th>squad_score_rank</th>\n",
       "    </tr>\n",
       "  </thead>\n",
       "  <tbody>\n",
       "    <tr>\n",
       "      <th>grade_level</th>\n",
       "      <td>1.000000</td>\n",
       "      <td>0.133356</td>\n",
       "      <td>0.106430</td>\n",
       "      <td>0.099504</td>\n",
       "      <td>0.121204</td>\n",
       "      <td>-0.019996</td>\n",
       "      <td>0.102992</td>\n",
       "      <td>-0.097073</td>\n",
       "      <td>0.126602</td>\n",
       "      <td>-0.249615</td>\n",
       "    </tr>\n",
       "    <tr>\n",
       "      <th>story_length</th>\n",
       "      <td>0.133356</td>\n",
       "      <td>1.000000</td>\n",
       "      <td>0.170846</td>\n",
       "      <td>0.288018</td>\n",
       "      <td>0.985773</td>\n",
       "      <td>0.699843</td>\n",
       "      <td>0.161942</td>\n",
       "      <td>-0.547640</td>\n",
       "      <td>0.877277</td>\n",
       "      <td>-0.837752</td>\n",
       "    </tr>\n",
       "    <tr>\n",
       "      <th>avg_word_len</th>\n",
       "      <td>0.106430</td>\n",
       "      <td>0.170846</td>\n",
       "      <td>1.000000</td>\n",
       "      <td>0.280723</td>\n",
       "      <td>0.179889</td>\n",
       "      <td>0.147636</td>\n",
       "      <td>0.483906</td>\n",
       "      <td>-0.318545</td>\n",
       "      <td>0.496456</td>\n",
       "      <td>-0.469200</td>\n",
       "    </tr>\n",
       "    <tr>\n",
       "      <th>quotes_num</th>\n",
       "      <td>0.099504</td>\n",
       "      <td>0.288018</td>\n",
       "      <td>0.280723</td>\n",
       "      <td>1.000000</td>\n",
       "      <td>0.301507</td>\n",
       "      <td>0.324317</td>\n",
       "      <td>0.199650</td>\n",
       "      <td>-0.339448</td>\n",
       "      <td>0.579847</td>\n",
       "      <td>-0.506412</td>\n",
       "    </tr>\n",
       "    <tr>\n",
       "      <th>unique_words_num</th>\n",
       "      <td>0.121204</td>\n",
       "      <td>0.985773</td>\n",
       "      <td>0.179889</td>\n",
       "      <td>0.301507</td>\n",
       "      <td>1.000000</td>\n",
       "      <td>0.749681</td>\n",
       "      <td>0.222655</td>\n",
       "      <td>-0.536605</td>\n",
       "      <td>0.894578</td>\n",
       "      <td>-0.852126</td>\n",
       "    </tr>\n",
       "    <tr>\n",
       "      <th>adj_num</th>\n",
       "      <td>-0.019996</td>\n",
       "      <td>0.699843</td>\n",
       "      <td>0.147636</td>\n",
       "      <td>0.324317</td>\n",
       "      <td>0.749681</td>\n",
       "      <td>1.000000</td>\n",
       "      <td>0.161838</td>\n",
       "      <td>-0.578159</td>\n",
       "      <td>0.789394</td>\n",
       "      <td>-0.657188</td>\n",
       "    </tr>\n",
       "    <tr>\n",
       "      <th>percent_complex_words</th>\n",
       "      <td>0.102992</td>\n",
       "      <td>0.161942</td>\n",
       "      <td>0.483906</td>\n",
       "      <td>0.199650</td>\n",
       "      <td>0.222655</td>\n",
       "      <td>0.161838</td>\n",
       "      <td>1.000000</td>\n",
       "      <td>-0.185505</td>\n",
       "      <td>0.340646</td>\n",
       "      <td>-0.328446</td>\n",
       "    </tr>\n",
       "    <tr>\n",
       "      <th>ranking</th>\n",
       "      <td>-0.097073</td>\n",
       "      <td>-0.547640</td>\n",
       "      <td>-0.318545</td>\n",
       "      <td>-0.339448</td>\n",
       "      <td>-0.536605</td>\n",
       "      <td>-0.578159</td>\n",
       "      <td>-0.185505</td>\n",
       "      <td>1.000000</td>\n",
       "      <td>-0.634993</td>\n",
       "      <td>0.618462</td>\n",
       "    </tr>\n",
       "    <tr>\n",
       "      <th>squad_score</th>\n",
       "      <td>0.126602</td>\n",
       "      <td>0.877277</td>\n",
       "      <td>0.496456</td>\n",
       "      <td>0.579847</td>\n",
       "      <td>0.894578</td>\n",
       "      <td>0.789394</td>\n",
       "      <td>0.340646</td>\n",
       "      <td>-0.634993</td>\n",
       "      <td>1.000000</td>\n",
       "      <td>-0.918517</td>\n",
       "    </tr>\n",
       "    <tr>\n",
       "      <th>squad_score_rank</th>\n",
       "      <td>-0.249615</td>\n",
       "      <td>-0.837752</td>\n",
       "      <td>-0.469200</td>\n",
       "      <td>-0.506412</td>\n",
       "      <td>-0.852126</td>\n",
       "      <td>-0.657188</td>\n",
       "      <td>-0.328446</td>\n",
       "      <td>0.618462</td>\n",
       "      <td>-0.918517</td>\n",
       "      <td>1.000000</td>\n",
       "    </tr>\n",
       "  </tbody>\n",
       "</table>\n",
       "</div>"
      ],
      "text/plain": [
       "                       grade_level  story_length  avg_word_len  quotes_num  \\\n",
       "grade_level               1.000000      0.133356      0.106430    0.099504   \n",
       "story_length              0.133356      1.000000      0.170846    0.288018   \n",
       "avg_word_len              0.106430      0.170846      1.000000    0.280723   \n",
       "quotes_num                0.099504      0.288018      0.280723    1.000000   \n",
       "unique_words_num          0.121204      0.985773      0.179889    0.301507   \n",
       "adj_num                  -0.019996      0.699843      0.147636    0.324317   \n",
       "percent_complex_words     0.102992      0.161942      0.483906    0.199650   \n",
       "ranking                  -0.097073     -0.547640     -0.318545   -0.339448   \n",
       "squad_score               0.126602      0.877277      0.496456    0.579847   \n",
       "squad_score_rank         -0.249615     -0.837752     -0.469200   -0.506412   \n",
       "\n",
       "                       unique_words_num   adj_num  percent_complex_words  \\\n",
       "grade_level                    0.121204 -0.019996               0.102992   \n",
       "story_length                   0.985773  0.699843               0.161942   \n",
       "avg_word_len                   0.179889  0.147636               0.483906   \n",
       "quotes_num                     0.301507  0.324317               0.199650   \n",
       "unique_words_num               1.000000  0.749681               0.222655   \n",
       "adj_num                        0.749681  1.000000               0.161838   \n",
       "percent_complex_words          0.222655  0.161838               1.000000   \n",
       "ranking                       -0.536605 -0.578159              -0.185505   \n",
       "squad_score                    0.894578  0.789394               0.340646   \n",
       "squad_score_rank              -0.852126 -0.657188              -0.328446   \n",
       "\n",
       "                        ranking  squad_score  squad_score_rank  \n",
       "grade_level           -0.097073     0.126602         -0.249615  \n",
       "story_length          -0.547640     0.877277         -0.837752  \n",
       "avg_word_len          -0.318545     0.496456         -0.469200  \n",
       "quotes_num            -0.339448     0.579847         -0.506412  \n",
       "unique_words_num      -0.536605     0.894578         -0.852126  \n",
       "adj_num               -0.578159     0.789394         -0.657188  \n",
       "percent_complex_words -0.185505     0.340646         -0.328446  \n",
       "ranking                1.000000    -0.634993          0.618462  \n",
       "squad_score           -0.634993     1.000000         -0.918517  \n",
       "squad_score_rank       0.618462    -0.918517          1.000000  "
      ]
     },
     "execution_count": 33,
     "metadata": {},
     "output_type": "execute_result"
    }
   ],
   "source": [
    "# Look at correlations\n",
    "# Note that the correlation between Squad Score and stakeholder ranking is -.60\n",
    "ranked_stories_api.iloc[:,2:].corr()"
   ]
  },
  {
   "cell_type": "code",
   "execution_count": 34,
   "metadata": {},
   "outputs": [],
   "source": [
    "# Calculate complexity ratings from all textstat complexity metrics \n",
    "# For use in comparing to Squad Score correlations\n",
    "\n",
    "def get_textstat_metrics(transcription):\n",
    "    \"\"\"\n",
    "    Return 8 complexity metrics from texstat package for a transcription.\n",
    "    \n",
    "    Metrics:\n",
    "    Flesch-Kincaid Grade Level, Fog Scale, SMOG Index, \n",
    "    Automated Readability Index, Coleman-Liau Index, Linsear Write Formula,\n",
    "    Dale-Chall Readability Score, and a compiled \"Readabilty Consensus\"\n",
    "    \"\"\"\n",
    "    \n",
    "    row = []\n",
    "    \n",
    "    metric_functions = [\"smog_index\", \"flesch_kincaid_grade\", \"coleman_liau_index\", \n",
    "                   \"automated_readability_index\", \"dale_chall_readability_score\",\n",
    "                   \"linsear_write_formula\", \"gunning_fog\", \"text_standard\"]\n",
    "    \n",
    "    # Add all textstat functions to row \n",
    "    for metric in metric_functions:\n",
    "        row.append(getattr(textstat, metric)(transcription))\n",
    "    \n",
    "    return row"
   ]
  },
  {
   "cell_type": "code",
   "execution_count": 35,
   "metadata": {},
   "outputs": [],
   "source": [
    "# Generate new dataframe\n",
    "metric_functions = [\"smog_index\", \"flesch_kincaid_grade\", \"coleman_liau_index\", \n",
    "                    \"automated_readability_index\", \"dale_chall_readability_score\",\n",
    "                    \"linsear_write_formula\", \"gunning_fog\", \"text_standard\"]\n",
    "\n",
    "textstat_output = ranked_stories_api[\"transcription\"].apply(get_textstat_metrics)\n",
    "\n",
    "textstat_df = pd.DataFrame.from_records(textstat_output, \n",
    "                          index=ranked_stories_api[\"story_id\"],\n",
    "                          columns=metric_functions)\n",
    "\n",
    "# Add rankings to df\n",
    "textstat_df[\"ranking\"] = ranked_stories_api[\"ranking\"].tolist()\n"
   ]
  },
  {
   "cell_type": "code",
   "execution_count": 36,
   "metadata": {},
   "outputs": [
    {
     "data": {
      "text/html": [
       "<div>\n",
       "<style scoped>\n",
       "    .dataframe tbody tr th:only-of-type {\n",
       "        vertical-align: middle;\n",
       "    }\n",
       "\n",
       "    .dataframe tbody tr th {\n",
       "        vertical-align: top;\n",
       "    }\n",
       "\n",
       "    .dataframe thead th {\n",
       "        text-align: right;\n",
       "    }\n",
       "</style>\n",
       "<table border=\"1\" class=\"dataframe\">\n",
       "  <thead>\n",
       "    <tr style=\"text-align: right;\">\n",
       "      <th></th>\n",
       "      <th>smog_index</th>\n",
       "      <th>flesch_kincaid_grade</th>\n",
       "      <th>coleman_liau_index</th>\n",
       "      <th>automated_readability_index</th>\n",
       "      <th>dale_chall_readability_score</th>\n",
       "      <th>linsear_write_formula</th>\n",
       "      <th>gunning_fog</th>\n",
       "      <th>ranking</th>\n",
       "    </tr>\n",
       "  </thead>\n",
       "  <tbody>\n",
       "    <tr>\n",
       "      <th>smog_index</th>\n",
       "      <td>1.000000</td>\n",
       "      <td>-0.611097</td>\n",
       "      <td>0.076767</td>\n",
       "      <td>-0.615090</td>\n",
       "      <td>-0.420572</td>\n",
       "      <td>-0.565149</td>\n",
       "      <td>-0.605051</td>\n",
       "      <td>-0.323771</td>\n",
       "    </tr>\n",
       "    <tr>\n",
       "      <th>flesch_kincaid_grade</th>\n",
       "      <td>-0.611097</td>\n",
       "      <td>1.000000</td>\n",
       "      <td>0.213118</td>\n",
       "      <td>0.999333</td>\n",
       "      <td>0.659239</td>\n",
       "      <td>0.913174</td>\n",
       "      <td>0.998816</td>\n",
       "      <td>0.063661</td>\n",
       "    </tr>\n",
       "    <tr>\n",
       "      <th>coleman_liau_index</th>\n",
       "      <td>0.076767</td>\n",
       "      <td>0.213118</td>\n",
       "      <td>1.000000</td>\n",
       "      <td>0.231851</td>\n",
       "      <td>0.343967</td>\n",
       "      <td>0.235261</td>\n",
       "      <td>0.183021</td>\n",
       "      <td>-0.195179</td>\n",
       "    </tr>\n",
       "    <tr>\n",
       "      <th>automated_readability_index</th>\n",
       "      <td>-0.615090</td>\n",
       "      <td>0.999333</td>\n",
       "      <td>0.231851</td>\n",
       "      <td>1.000000</td>\n",
       "      <td>0.660066</td>\n",
       "      <td>0.910650</td>\n",
       "      <td>0.997681</td>\n",
       "      <td>0.062233</td>\n",
       "    </tr>\n",
       "    <tr>\n",
       "      <th>dale_chall_readability_score</th>\n",
       "      <td>-0.420572</td>\n",
       "      <td>0.659239</td>\n",
       "      <td>0.343967</td>\n",
       "      <td>0.660066</td>\n",
       "      <td>1.000000</td>\n",
       "      <td>0.420005</td>\n",
       "      <td>0.645076</td>\n",
       "      <td>-0.007742</td>\n",
       "    </tr>\n",
       "    <tr>\n",
       "      <th>linsear_write_formula</th>\n",
       "      <td>-0.565149</td>\n",
       "      <td>0.913174</td>\n",
       "      <td>0.235261</td>\n",
       "      <td>0.910650</td>\n",
       "      <td>0.420005</td>\n",
       "      <td>1.000000</td>\n",
       "      <td>0.913920</td>\n",
       "      <td>0.106353</td>\n",
       "    </tr>\n",
       "    <tr>\n",
       "      <th>gunning_fog</th>\n",
       "      <td>-0.605051</td>\n",
       "      <td>0.998816</td>\n",
       "      <td>0.183021</td>\n",
       "      <td>0.997681</td>\n",
       "      <td>0.645076</td>\n",
       "      <td>0.913920</td>\n",
       "      <td>1.000000</td>\n",
       "      <td>0.066445</td>\n",
       "    </tr>\n",
       "    <tr>\n",
       "      <th>ranking</th>\n",
       "      <td>-0.323771</td>\n",
       "      <td>0.063661</td>\n",
       "      <td>-0.195179</td>\n",
       "      <td>0.062233</td>\n",
       "      <td>-0.007742</td>\n",
       "      <td>0.106353</td>\n",
       "      <td>0.066445</td>\n",
       "      <td>1.000000</td>\n",
       "    </tr>\n",
       "  </tbody>\n",
       "</table>\n",
       "</div>"
      ],
      "text/plain": [
       "                              smog_index  flesch_kincaid_grade  \\\n",
       "smog_index                      1.000000             -0.611097   \n",
       "flesch_kincaid_grade           -0.611097              1.000000   \n",
       "coleman_liau_index              0.076767              0.213118   \n",
       "automated_readability_index    -0.615090              0.999333   \n",
       "dale_chall_readability_score   -0.420572              0.659239   \n",
       "linsear_write_formula          -0.565149              0.913174   \n",
       "gunning_fog                    -0.605051              0.998816   \n",
       "ranking                        -0.323771              0.063661   \n",
       "\n",
       "                              coleman_liau_index  automated_readability_index  \\\n",
       "smog_index                              0.076767                    -0.615090   \n",
       "flesch_kincaid_grade                    0.213118                     0.999333   \n",
       "coleman_liau_index                      1.000000                     0.231851   \n",
       "automated_readability_index             0.231851                     1.000000   \n",
       "dale_chall_readability_score            0.343967                     0.660066   \n",
       "linsear_write_formula                   0.235261                     0.910650   \n",
       "gunning_fog                             0.183021                     0.997681   \n",
       "ranking                                -0.195179                     0.062233   \n",
       "\n",
       "                              dale_chall_readability_score  \\\n",
       "smog_index                                       -0.420572   \n",
       "flesch_kincaid_grade                              0.659239   \n",
       "coleman_liau_index                                0.343967   \n",
       "automated_readability_index                       0.660066   \n",
       "dale_chall_readability_score                      1.000000   \n",
       "linsear_write_formula                             0.420005   \n",
       "gunning_fog                                       0.645076   \n",
       "ranking                                          -0.007742   \n",
       "\n",
       "                              linsear_write_formula  gunning_fog   ranking  \n",
       "smog_index                                -0.565149    -0.605051 -0.323771  \n",
       "flesch_kincaid_grade                       0.913174     0.998816  0.063661  \n",
       "coleman_liau_index                         0.235261     0.183021 -0.195179  \n",
       "automated_readability_index                0.910650     0.997681  0.062233  \n",
       "dale_chall_readability_score               0.420005     0.645076 -0.007742  \n",
       "linsear_write_formula                      1.000000     0.913920  0.106353  \n",
       "gunning_fog                                0.913920     1.000000  0.066445  \n",
       "ranking                                    0.106353     0.066445  1.000000  "
      ]
     },
     "execution_count": 36,
     "metadata": {},
     "output_type": "execute_result"
    }
   ],
   "source": [
    "# Look at correlations\n",
    "# Note that best correlation to ranking is smog_index, with only -.32\n",
    "# Because of this, decision was made that Squad Score is a better fit for our use case\n",
    "# than any textstat package\n",
    "textstat_df.corr()"
   ]
  },
  {
   "cell_type": "code",
   "execution_count": 37,
   "metadata": {},
   "outputs": [
    {
     "data": {
      "text/html": [
       "<div>\n",
       "<style scoped>\n",
       "    .dataframe tbody tr th:only-of-type {\n",
       "        vertical-align: middle;\n",
       "    }\n",
       "\n",
       "    .dataframe tbody tr th {\n",
       "        vertical-align: top;\n",
       "    }\n",
       "\n",
       "    .dataframe thead th {\n",
       "        text-align: right;\n",
       "    }\n",
       "</style>\n",
       "<table border=\"1\" class=\"dataframe\">\n",
       "  <thead>\n",
       "    <tr style=\"text-align: right;\">\n",
       "      <th></th>\n",
       "      <th>story_id</th>\n",
       "      <th>story_length</th>\n",
       "      <th>avg_word_len</th>\n",
       "      <th>quotes_num</th>\n",
       "      <th>unique_words_num</th>\n",
       "      <th>adj_num</th>\n",
       "      <th>squad_score</th>\n",
       "    </tr>\n",
       "  </thead>\n",
       "  <tbody>\n",
       "    <tr>\n",
       "      <th>0</th>\n",
       "      <td>3132</td>\n",
       "      <td>1375</td>\n",
       "      <td>5.092593</td>\n",
       "      <td>6</td>\n",
       "      <td>138</td>\n",
       "      <td>15</td>\n",
       "      <td>47.843668</td>\n",
       "    </tr>\n",
       "  </tbody>\n",
       "</table>\n",
       "</div>"
      ],
      "text/plain": [
       "  story_id  story_length  avg_word_len  quotes_num  unique_words_num  adj_num  \\\n",
       "0     3132          1375      5.092593           6               138       15   \n",
       "\n",
       "   squad_score  \n",
       "0    47.843668  "
      ]
     },
     "execution_count": 37,
     "metadata": {},
     "output_type": "execute_result"
    }
   ],
   "source": [
    "# Generate CSV with Squad Score and metrics used for Squad Score\n",
    "csv_features = scaled_features.copy()\n",
    "csv_features.insert(0, \"story_id\")\n",
    "squad_score_metrics = api_metrics[csv_features].merge(api_squad_score)\n",
    "\n",
    "squad_score_metrics.head(1)"
   ]
  },
  {
   "cell_type": "code",
   "execution_count": 38,
   "metadata": {},
   "outputs": [
    {
     "data": {
      "text/html": [
       "<div>\n",
       "<style scoped>\n",
       "    .dataframe tbody tr th:only-of-type {\n",
       "        vertical-align: middle;\n",
       "    }\n",
       "\n",
       "    .dataframe tbody tr th {\n",
       "        vertical-align: top;\n",
       "    }\n",
       "\n",
       "    .dataframe thead th {\n",
       "        text-align: right;\n",
       "    }\n",
       "</style>\n",
       "<table border=\"1\" class=\"dataframe\">\n",
       "  <thead>\n",
       "    <tr style=\"text-align: right;\">\n",
       "      <th></th>\n",
       "      <th>story_id</th>\n",
       "      <th>story_length</th>\n",
       "      <th>avg_word_len</th>\n",
       "      <th>quotes_num</th>\n",
       "      <th>unique_words_num</th>\n",
       "      <th>adj_num</th>\n",
       "      <th>squad_score</th>\n",
       "    </tr>\n",
       "  </thead>\n",
       "  <tbody>\n",
       "    <tr>\n",
       "      <th>34</th>\n",
       "      <td>3229</td>\n",
       "      <td>296</td>\n",
       "      <td>4.169014</td>\n",
       "      <td>0</td>\n",
       "      <td>32</td>\n",
       "      <td>2</td>\n",
       "      <td>1.668999</td>\n",
       "    </tr>\n",
       "    <tr>\n",
       "      <th>66</th>\n",
       "      <td>3240</td>\n",
       "      <td>173</td>\n",
       "      <td>5.088235</td>\n",
       "      <td>0</td>\n",
       "      <td>26</td>\n",
       "      <td>3</td>\n",
       "      <td>14.401436</td>\n",
       "    </tr>\n",
       "    <tr>\n",
       "      <th>3</th>\n",
       "      <td>3117</td>\n",
       "      <td>439</td>\n",
       "      <td>4.877778</td>\n",
       "      <td>1</td>\n",
       "      <td>56</td>\n",
       "      <td>3</td>\n",
       "      <td>17.120997</td>\n",
       "    </tr>\n",
       "    <tr>\n",
       "      <th>51</th>\n",
       "      <td>3202</td>\n",
       "      <td>535</td>\n",
       "      <td>4.652174</td>\n",
       "      <td>3</td>\n",
       "      <td>64</td>\n",
       "      <td>7</td>\n",
       "      <td>19.418121</td>\n",
       "    </tr>\n",
       "    <tr>\n",
       "      <th>10</th>\n",
       "      <td>3127</td>\n",
       "      <td>548</td>\n",
       "      <td>4.849558</td>\n",
       "      <td>2</td>\n",
       "      <td>56</td>\n",
       "      <td>6</td>\n",
       "      <td>20.389726</td>\n",
       "    </tr>\n",
       "    <tr>\n",
       "      <th>...</th>\n",
       "      <td>...</td>\n",
       "      <td>...</td>\n",
       "      <td>...</td>\n",
       "      <td>...</td>\n",
       "      <td>...</td>\n",
       "      <td>...</td>\n",
       "      <td>...</td>\n",
       "    </tr>\n",
       "    <tr>\n",
       "      <th>132</th>\n",
       "      <td>5219</td>\n",
       "      <td>2148</td>\n",
       "      <td>5.290640</td>\n",
       "      <td>42</td>\n",
       "      <td>222</td>\n",
       "      <td>17</td>\n",
       "      <td>91.975460</td>\n",
       "    </tr>\n",
       "    <tr>\n",
       "      <th>78</th>\n",
       "      <td>5254</td>\n",
       "      <td>3467</td>\n",
       "      <td>5.317485</td>\n",
       "      <td>4</td>\n",
       "      <td>354</td>\n",
       "      <td>26</td>\n",
       "      <td>95.950853</td>\n",
       "    </tr>\n",
       "    <tr>\n",
       "      <th>102</th>\n",
       "      <td>5213</td>\n",
       "      <td>2928</td>\n",
       "      <td>5.030928</td>\n",
       "      <td>34</td>\n",
       "      <td>299</td>\n",
       "      <td>29</td>\n",
       "      <td>104.660013</td>\n",
       "    </tr>\n",
       "    <tr>\n",
       "      <th>108</th>\n",
       "      <td>5235</td>\n",
       "      <td>3207</td>\n",
       "      <td>4.995327</td>\n",
       "      <td>32</td>\n",
       "      <td>302</td>\n",
       "      <td>32</td>\n",
       "      <td>107.548101</td>\n",
       "    </tr>\n",
       "    <tr>\n",
       "      <th>117</th>\n",
       "      <td>5234</td>\n",
       "      <td>2989</td>\n",
       "      <td>5.555762</td>\n",
       "      <td>26</td>\n",
       "      <td>295</td>\n",
       "      <td>47</td>\n",
       "      <td>119.110260</td>\n",
       "    </tr>\n",
       "  </tbody>\n",
       "</table>\n",
       "<p>167 rows × 7 columns</p>\n",
       "</div>"
      ],
      "text/plain": [
       "    story_id  story_length  avg_word_len  quotes_num  unique_words_num  \\\n",
       "34      3229           296      4.169014           0                32   \n",
       "66      3240           173      5.088235           0                26   \n",
       "3       3117           439      4.877778           1                56   \n",
       "51      3202           535      4.652174           3                64   \n",
       "10      3127           548      4.849558           2                56   \n",
       "..       ...           ...           ...         ...               ...   \n",
       "132     5219          2148      5.290640          42               222   \n",
       "78      5254          3467      5.317485           4               354   \n",
       "102     5213          2928      5.030928          34               299   \n",
       "108     5235          3207      4.995327          32               302   \n",
       "117     5234          2989      5.555762          26               295   \n",
       "\n",
       "     adj_num  squad_score  \n",
       "34         2     1.668999  \n",
       "66         3    14.401436  \n",
       "3          3    17.120997  \n",
       "51         7    19.418121  \n",
       "10         6    20.389726  \n",
       "..       ...          ...  \n",
       "132       17    91.975460  \n",
       "78        26    95.950853  \n",
       "102       29   104.660013  \n",
       "108       32   107.548101  \n",
       "117       47   119.110260  \n",
       "\n",
       "[167 rows x 7 columns]"
      ]
     },
     "execution_count": 38,
     "metadata": {},
     "output_type": "execute_result"
    }
   ],
   "source": [
    "squad_score_metrics.sort_values(\"squad_score\")"
   ]
  },
  {
   "cell_type": "code",
   "execution_count": 39,
   "metadata": {},
   "outputs": [],
   "source": [
    "squad_score_metrics.to_csv(\"squad_score_metrics.csv\")"
   ]
  }
 ],
 "metadata": {
  "kernelspec": {
   "display_name": "StorySquad (Python 3.8)",
   "language": "python",
   "name": "storysquad"
  },
  "language_info": {
   "codemirror_mode": {
    "name": "ipython",
    "version": 3
   },
   "file_extension": ".py",
   "mimetype": "text/x-python",
   "name": "python",
   "nbconvert_exporter": "python",
   "pygments_lexer": "ipython3",
   "version": "3.8.0"
  }
 },
 "nbformat": 4,
 "nbformat_minor": 4
}
