{
  "nbformat": 4,
  "nbformat_minor": 0,
  "metadata": {
    "colab": {
      "name": "Images_from_Text.ipynb",
      "provenance": []
    },
    "kernelspec": {
      "name": "python3",
      "display_name": "Python 3"
    }
  },
  "cells": [
    {
      "cell_type": "markdown",
      "metadata": {
        "id": "VCc1X79pX3eC"
      },
      "source": [
        "### Purpose: \n",
        "\n",
        "- To create images containing text, generated using handwriting-like fonts downloaded from the [Google Fonts GitHub Repo](https://github.com/google/fonts/tree/master/ofl).\n",
        "- The function *image_from_font* generates the image given a .ttf font file.\n",
        "- These images can be used to train any OCR model that might want to be used for transcription of users' writing submission images."
      ]
    },
    {
      "cell_type": "code",
      "metadata": {
        "id": "caLWb4cEYYLL"
      },
      "source": [
        "# First get some fonts from the Google Fonts Github Repo\n",
        "# https://github.com/google/fonts/tree/master/ofl\n",
        "\n",
        "!wget https://github.com/google/fonts/blob/master/ofl/indieflower/IndieFlower-Regular.ttf?raw=true -O IndieFlower-Regular.ttf\n",
        "!wget https://github.com/google/fonts/blob/master/ofl/chilanka/Chilanka-Regular.ttf?raw=true -O Chilanka-Regular.ttf\n",
        "!wget https://github.com/google/fonts/blob/master/ofl/gaegu/Gaegu-Regular.ttf?raw=true -O Gaegu-Regular.ttf\n",
        "!wget https://github.com/google/fonts/blob/master/ofl/justmeagaindownhere/JustMeAgainDownHere.ttf?raw=true -O JustMeAgainDownHere.ttf\n",
        "!wget https://github.com/google/fonts/blob/master/ofl/waitingforthesunrise/WaitingfortheSunrise.ttf?raw=true -O WaitingfortheSunrise.ttf"
      ],
      "execution_count": null,
      "outputs": []
    },
    {
      "cell_type": "code",
      "metadata": {
        "id": "J72SGe5jaGfH"
      },
      "source": [
        "# Based on https://code-maven.com/create-images-with-python-pil-pillow \n",
        "# and https://www.haptik.ai/tech/putting-text-on-image-using-python/\n",
        "\n",
        "# import required classes\n",
        "from PIL import Image, ImageDraw, ImageFont\n",
        "  \n",
        "# Draw a simple image with one color, as our background\n",
        "img = Image.new('RGB', (600, 300), color = 'lightgrey')\n",
        "\n",
        "# initialise the drawing context with\n",
        "# the image object as background\n",
        "draw = ImageDraw.Draw(img)\n",
        "\n",
        "# create font object with the font file and specify\n",
        "# desired size \n",
        "font = ImageFont.truetype(fontfiles[4], size=45)\n",
        " \n",
        "# starting position of the message\n",
        "(x, y) = (50, 50)\n",
        "message = 'Happy Birthday!'\n",
        "color = 'rgb(0, 0, 0)' # black color\n",
        " \n",
        "# draw the message on the background\n",
        "draw.text((x, y), message, fill=color, font=font)"
      ],
      "execution_count": 7,
      "outputs": []
    },
    {
      "cell_type": "code",
      "metadata": {
        "id": "PMz8zPe-k-GT"
      },
      "source": [
        "def image_from_font(font, msg, outfile, img_size=(600,300), bg_color='lightgrey', font_size=45, pos=(50,50), text_color='rgb(0,0,0)'):\n",
        "      \"\"\"\n",
        "      Produces an image file with a message in a speficied font.\n",
        "      These can be used to generate data for testing and/or training \n",
        "      of any OCR model.\n",
        "\n",
        "      Inputs: font = a font file in .ttf format\n",
        "            msg = the message to be drawn on the image\n",
        "            outfile = the path and filename of the file to be produced.\n",
        "                      the extension will determine the file type - .jpg, .png\n",
        "            img_size = the size of the image\n",
        "            bg_color = background color of the image\n",
        "            font_size = size of the font\n",
        "            pos = a tuple specifying the starting position of the message, \n",
        "                  where (0,0) is the top left corner of the image\n",
        "            text_color = color of the font text\n",
        "      \"\"\"\n",
        "      # Draw a simple image with one color, as our background\n",
        "      img = Image.new('RGB', (600, 300), color = 'lightgrey')\n",
        "\n",
        "      # initialise the drawing context with\n",
        "      # the image object as background\n",
        "      draw = ImageDraw.Draw(img)\n",
        "\n",
        "      # create font object with the font file and specify\n",
        "      # desired size \n",
        "      font = ImageFont.truetype(font, size=45)\n",
        "      \n",
        "      # starting position of the message\n",
        "      (x, y) = (50, 50)\n",
        "      message = 'Happy Birthday!'\n",
        "      color = 'rgb(0, 0, 0)' # black color\n",
        "      \n",
        "      # draw the message on the background\n",
        "      draw.text((x, y), message, fill=color, font=font)\n",
        "\n",
        "      img.save(outfile)\n"
      ],
      "execution_count": 8,
      "outputs": []
    },
    {
      "cell_type": "code",
      "metadata": {
        "id": "7SLYf1qohXTJ"
      },
      "source": [
        "# A list of font files to use for generating text images.\n",
        "fontfiles = ['/content/IndieFlower-Regular.ttf', '/content/Chilanka-Regular.ttf',\n",
        "              '/content/Gaegu-Regular.ttf','/content/JustMeAgainDownHere.ttf','/content/WaitingfortheSunrise.ttf']"
      ],
      "execution_count": 6,
      "outputs": []
    },
    {
      "cell_type": "code",
      "metadata": {
        "id": "ZkeLk45okZMg"
      },
      "source": [
        "for font in fontfiles:\n",
        "  image_from_font(font, 'Hello, World!', 'hello_' + font.strip('.ttf').strip('/content') + '.jpg')\n",
        "    "
      ],
      "execution_count": 9,
      "outputs": []
    }
  ]
}