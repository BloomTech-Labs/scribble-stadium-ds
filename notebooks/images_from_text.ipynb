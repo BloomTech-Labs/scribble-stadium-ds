{
  "nbformat": 4,
  "nbformat_minor": 0,
  "metadata": {
    "colab": {
      "name": "images_from_text.ipynb",
      "provenance": []
    },
    "kernelspec": {
      "name": "python3",
      "display_name": "Python 3"
    }
  },
  "cells": [
    {
      "cell_type": "markdown",
      "metadata": {
        "id": "VCc1X79pX3eC"
      },
      "source": [
        "### Purpose: \n",
        "\n",
        "- To create images containing text, generated using handwriting-like fonts downloaded from the [Google Fonts GitHub Repo](https://github.com/google/fonts/tree/master/ofl).\n",
        "- The function *image_from_font* generates the image given a .ttf font file.\n",
        "- These images can be used to train any OCR model that might want to be used for transcription of users' writing submission images."
      ]
    },
    {
      "cell_type": "markdown",
      "metadata": {
        "id": "gzYqDGaqbhjz"
      },
      "source": [
        "## **Note:** \n",
        "#### *This notebook was created and is intended to be run in Google Colab.*"
      ]
    },
    {
      "cell_type": "code",
      "metadata": {
        "id": "caLWb4cEYYLL"
      },
      "source": [
        "# First get some fonts from the Google Fonts Github Repo\n",
        "# https://github.com/google/fonts/tree/master/ofl\n",
        "\n",
        "!wget https://github.com/google/fonts/blob/master/ofl/indieflower/IndieFlower-Regular.ttf?raw=true -O IndieFlower-Regular.ttf\n",
        "!wget https://github.com/google/fonts/blob/master/ofl/chilanka/Chilanka-Regular.ttf?raw=true -O Chilanka-Regular.ttf\n",
        "!wget https://github.com/google/fonts/blob/master/ofl/gaegu/Gaegu-Regular.ttf?raw=true -O Gaegu-Regular.ttf\n",
        "!wget https://github.com/google/fonts/blob/master/ofl/justmeagaindownhere/JustMeAgainDownHere.ttf?raw=true -O JustMeAgainDownHere.ttf\n",
        "!wget https://github.com/google/fonts/blob/master/ofl/waitingforthesunrise/WaitingfortheSunrise.ttf?raw=true -O WaitingfortheSunrise.ttf"
      ],
      "execution_count": null,
      "outputs": []
    },
    {
      "cell_type": "code",
      "metadata": {
        "colab": {
          "base_uri": "https://localhost:8080/"
        },
        "id": "aI96yGkiUqNF",
        "outputId": "28ca7393-21f0-47e1-ebf6-ab6ae1df180e"
      },
      "source": [
        "from google.colab import drive\n",
        "drive.mount('/content/drive')"
      ],
      "execution_count": 18,
      "outputs": [
        {
          "output_type": "stream",
          "text": [
            "Mounted at /content/drive\n"
          ],
          "name": "stdout"
        }
      ]
    },
    {
      "cell_type": "code",
      "metadata": {
        "id": "7SLYf1qohXTJ"
      },
      "source": [
        "# The list of font files to use for generating text images\n",
        "fonts = ['IndieFlower-Regular.ttf', 'Chilanka-Regular.ttf',\n",
        "              'Gaegu-Regular.ttf','JustMeAgainDownHere.ttf','WaitingfortheSunrise.ttf']"
      ],
      "execution_count": 20,
      "outputs": []
    },
    {
      "cell_type": "code",
      "metadata": {
        "id": "QYxB9FgwT6ZR"
      },
      "source": [
        "# This is the path where the created images will be saved\n",
        "IMG_OUT_PATH = '/content/drive/MyDrive/Lambda/Labs/Img_Outs'\n"
      ],
      "execution_count": 19,
      "outputs": []
    },
    {
      "cell_type": "code",
      "metadata": {
        "id": "PMz8zPe-k-GT"
      },
      "source": [
        "def image_from_font(msg, fontfiles=fonts, outfile_type='.jpg', img_size=(600,300), \n",
        "                    bg_color='lightgrey', font_size=45, pos=(50,50), text_color='rgb(0,0,0)',\n",
        "                    img_out_path = IMG_OUT_PATH):\n",
        "      \"\"\"\n",
        "      Produces an image file with a message in a speficied font.\n",
        "      These can be used to generate data for testing and/or training \n",
        "      of any OCR model.\n",
        "\n",
        "      Inputs: font = a list of font files in .ttf format\n",
        "            msg = the message to be drawn on the image\n",
        "            outfile_type = the extension to add to the image file, \n",
        "            which will determine the file type: .jpg, .png\n",
        "            img_size = a tuple specifying the size of the image\n",
        "            bg_color = background color of the image\n",
        "            font_size = size of the font\n",
        "            pos = a tuple specifying the starting position of the message, \n",
        "                  where (0,0) is the top left corner of the image\n",
        "            text_color = color of the font text\n",
        "      \n",
        "      \"\"\"\n",
        "      for style in fontfiles:\n",
        "        # Draw a simple image with one color, as our background\n",
        "        img = Image.new('RGB', (600, 300), color = 'lightgrey')\n",
        "\n",
        "        # initialize the drawing context with\n",
        "        # the image object as background\n",
        "        draw = ImageDraw.Draw(img)\n",
        "\n",
        "        # create font object with the font file and specify\n",
        "        # desired size \n",
        "        font = ImageFont.truetype(style, size=45)\n",
        "        \n",
        "        # starting position of the message\n",
        "        (x, y) = (50, 50)\n",
        "        \n",
        "        # draw the message on the background\n",
        "        draw.text((x, y), msg, fill=text_color, font=font)\n",
        "\n",
        "        # TODO: format file name as a string, \n",
        "        # incorporating font name and msg\n",
        "        img.save(IMG_OUT_PATH + \"/\" + msg + \"_\" + style.strip('.ttf') + outfile_type)\n"
      ],
      "execution_count": 21,
      "outputs": []
    },
    {
      "cell_type": "code",
      "metadata": {
        "id": "6b2AmuUciDid"
      },
      "source": [
        "image_from_font('Tests')"
      ],
      "execution_count": 22,
      "outputs": []
    },
    {
      "cell_type": "code",
      "metadata": {
        "colab": {
          "base_uri": "https://localhost:8080/",
          "height": 17
        },
        "id": "zEdYX2UVkRvS",
        "outputId": "076fef30-f533-4a1c-85fc-4a94fa39289b"
      },
      "source": [
        "# from google.colab import files\n",
        "\n",
        "# files.download('/content/Testing multiple fonts at once_WaitingfortheSunrise.jpg')"
      ],
      "execution_count": 16,
      "outputs": [
        {
          "output_type": "display_data",
          "data": {
            "application/javascript": [
              "\n",
              "    async function download(id, filename, size) {\n",
              "      if (!google.colab.kernel.accessAllowed) {\n",
              "        return;\n",
              "      }\n",
              "      const div = document.createElement('div');\n",
              "      const label = document.createElement('label');\n",
              "      label.textContent = `Downloading \"${filename}\": `;\n",
              "      div.appendChild(label);\n",
              "      const progress = document.createElement('progress');\n",
              "      progress.max = size;\n",
              "      div.appendChild(progress);\n",
              "      document.body.appendChild(div);\n",
              "\n",
              "      const buffers = [];\n",
              "      let downloaded = 0;\n",
              "\n",
              "      const channel = await google.colab.kernel.comms.open(id);\n",
              "      // Send a message to notify the kernel that we're ready.\n",
              "      channel.send({})\n",
              "\n",
              "      for await (const message of channel.messages) {\n",
              "        // Send a message to notify the kernel that we're ready.\n",
              "        channel.send({})\n",
              "        if (message.buffers) {\n",
              "          for (const buffer of message.buffers) {\n",
              "            buffers.push(buffer);\n",
              "            downloaded += buffer.byteLength;\n",
              "            progress.value = downloaded;\n",
              "          }\n",
              "        }\n",
              "      }\n",
              "      const blob = new Blob(buffers, {type: 'application/binary'});\n",
              "      const a = document.createElement('a');\n",
              "      a.href = window.URL.createObjectURL(blob);\n",
              "      a.download = filename;\n",
              "      div.appendChild(a);\n",
              "      a.click();\n",
              "      div.remove();\n",
              "    }\n",
              "  "
            ],
            "text/plain": [
              "<IPython.core.display.Javascript object>"
            ]
          },
          "metadata": {
            "tags": []
          }
        },
        {
          "output_type": "display_data",
          "data": {
            "application/javascript": [
              "download(\"download_ef9b3cea-a97c-4148-b455-5e81982bb5b1\", \"Testing multiple fonts at once_WaitingfortheSunrise.jpg\", 8403)"
            ],
            "text/plain": [
              "<IPython.core.display.Javascript object>"
            ]
          },
          "metadata": {
            "tags": []
          }
        }
      ]
    }
  ]
}