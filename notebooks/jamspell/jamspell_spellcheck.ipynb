{
 "metadata": {
  "language_info": {
   "codemirror_mode": {
    "name": "ipython",
    "version": 3
   },
   "file_extension": ".py",
   "mimetype": "text/x-python",
   "name": "python",
   "nbconvert_exporter": "python",
   "pygments_lexer": "ipython3",
   "version": "3.8.5-final"
  },
  "orig_nbformat": 2,
  "kernelspec": {
   "name": "python3",
   "display_name": "Python 3.8.5 64-bit ('base': conda)",
   "metadata": {
    "interpreter": {
     "hash": "4b5747711d5595ff74c26eea6ba3123228fcdf7438dd1a931bda850ca598e5a7"
    }
   }
  }
 },
 "nbformat": 4,
 "nbformat_minor": 2,
 "cells": [
  {
   "source": [
    "# Using Jamspell for Spell Correction\n",
    "* This notebook takes a .txt file that contains the correct and incorrect spellings of around 450 words\n",
    "* Jamspell is used to correct the misspelled words\n",
    "* swig was required to run jamspell. On a mac I was getting lots of errors but this guide was helpful (https://github.com/bakwc/JamSpell/issues/73)"
   ],
   "cell_type": "markdown",
   "metadata": {}
  },
  {
   "cell_type": "code",
   "execution_count": 10,
   "metadata": {},
   "outputs": [
    {
     "output_type": "stream",
     "name": "stdout",
     "text": [
      "Processing /Users/maakawest/Library/Caches/pip/wheels/a0/0e/d3/b645dfed8ed118ee3adad4eb61787ad0e558369f4728ea5a8b/jamspell-0.0.12-cp38-cp38-macosx_10_9_x86_64.whl\n",
      "Installing collected packages: jamspell\n",
      "Successfully installed jamspell-0.0.12\n",
      "Note: you may need to restart the kernel to use updated packages.\n"
     ]
    }
   ],
   "source": [
    "pip install jamspell"
   ]
  },
  {
   "cell_type": "code",
   "execution_count": 1,
   "metadata": {},
   "outputs": [],
   "source": [
    "import jamspell"
   ]
  },
  {
   "cell_type": "code",
   "execution_count": 2,
   "metadata": {},
   "outputs": [],
   "source": [
    "jsp = jamspell.TSpellCorrector()\n",
    "assert jsp.LoadLangModel('en.bin')"
   ]
  },
  {
   "cell_type": "code",
   "execution_count": 3,
   "metadata": {},
   "outputs": [],
   "source": [
    "import pandas as pd"
   ]
  },
  {
   "cell_type": "code",
   "execution_count": 4,
   "metadata": {},
   "outputs": [
    {
     "output_type": "execute_result",
     "data": {
      "text/plain": [
       "        Correct     Incorrect\n",
       "0        Nevada        nevade\n",
       "1  Presbyterian  presbyterian\n",
       "2           RSX           rsx\n",
       "3       Stephen       Steffen\n",
       "4         Susan         susan"
      ],
      "text/html": "<div>\n<style scoped>\n    .dataframe tbody tr th:only-of-type {\n        vertical-align: middle;\n    }\n\n    .dataframe tbody tr th {\n        vertical-align: top;\n    }\n\n    .dataframe thead th {\n        text-align: right;\n    }\n</style>\n<table border=\"1\" class=\"dataframe\">\n  <thead>\n    <tr style=\"text-align: right;\">\n      <th></th>\n      <th>Correct</th>\n      <th>Incorrect</th>\n    </tr>\n  </thead>\n  <tbody>\n    <tr>\n      <th>0</th>\n      <td>Nevada</td>\n      <td>nevade</td>\n    </tr>\n    <tr>\n      <th>1</th>\n      <td>Presbyterian</td>\n      <td>presbyterian</td>\n    </tr>\n    <tr>\n      <th>2</th>\n      <td>RSX</td>\n      <td>rsx</td>\n    </tr>\n    <tr>\n      <th>3</th>\n      <td>Stephen</td>\n      <td>Steffen</td>\n    </tr>\n    <tr>\n      <th>4</th>\n      <td>Susan</td>\n      <td>susan</td>\n    </tr>\n  </tbody>\n</table>\n</div>"
     },
     "metadata": {},
     "execution_count": 4
    }
   ],
   "source": [
    "#Converts the .txt file to a fataframe so that its easier to visualize\n",
    "df = pd.read_csv('aspell.txt', header = None)\n",
    "df[['Correct','Incorrect']] = df[0].str.split(\" \", 1, expand=True)\n",
    "df[\"Correct\"] = df[\"Correct\"].str.strip(\":\")\n",
    "df = df.drop([0], axis=1)\n",
    "df.head()"
   ]
  },
  {
   "cell_type": "code",
   "execution_count": 5,
   "metadata": {},
   "outputs": [],
   "source": [
    "inc_list = df['Incorrect'].tolist()\n",
    "inc_str =' '.join(inc_list)\n",
    "fixed_str = jsp.FixFragment(inc_str)\n",
    "\n",
    "fixed_list = fixed_str.split()"
   ]
  },
  {
   "cell_type": "code",
   "execution_count": 6,
   "metadata": {},
   "outputs": [
    {
     "output_type": "execute_result",
     "data": {
      "text/plain": [
       "        Correct     Incorrect         Fixed\n",
       "0        Nevada        nevade        nevada\n",
       "1  Presbyterian  presbyterian  presbyterian\n",
       "2           RSX           rsx           rsx\n",
       "3       Stephen       Steffen       Steffen\n",
       "4         Susan         susan         susan\n",
       "5       ability      abilitey       ability\n",
       "6         about         abouy         about\n",
       "7    absorption    absorbtion    absorption\n",
       "8  accidentally    accidently    accidently\n",
       "9   accommodate    accomodate    accomodate"
      ],
      "text/html": "<div>\n<style scoped>\n    .dataframe tbody tr th:only-of-type {\n        vertical-align: middle;\n    }\n\n    .dataframe tbody tr th {\n        vertical-align: top;\n    }\n\n    .dataframe thead th {\n        text-align: right;\n    }\n</style>\n<table border=\"1\" class=\"dataframe\">\n  <thead>\n    <tr style=\"text-align: right;\">\n      <th></th>\n      <th>Correct</th>\n      <th>Incorrect</th>\n      <th>Fixed</th>\n    </tr>\n  </thead>\n  <tbody>\n    <tr>\n      <th>0</th>\n      <td>Nevada</td>\n      <td>nevade</td>\n      <td>nevada</td>\n    </tr>\n    <tr>\n      <th>1</th>\n      <td>Presbyterian</td>\n      <td>presbyterian</td>\n      <td>presbyterian</td>\n    </tr>\n    <tr>\n      <th>2</th>\n      <td>RSX</td>\n      <td>rsx</td>\n      <td>rsx</td>\n    </tr>\n    <tr>\n      <th>3</th>\n      <td>Stephen</td>\n      <td>Steffen</td>\n      <td>Steffen</td>\n    </tr>\n    <tr>\n      <th>4</th>\n      <td>Susan</td>\n      <td>susan</td>\n      <td>susan</td>\n    </tr>\n    <tr>\n      <th>5</th>\n      <td>ability</td>\n      <td>abilitey</td>\n      <td>ability</td>\n    </tr>\n    <tr>\n      <th>6</th>\n      <td>about</td>\n      <td>abouy</td>\n      <td>about</td>\n    </tr>\n    <tr>\n      <th>7</th>\n      <td>absorption</td>\n      <td>absorbtion</td>\n      <td>absorption</td>\n    </tr>\n    <tr>\n      <th>8</th>\n      <td>accidentally</td>\n      <td>accidently</td>\n      <td>accidently</td>\n    </tr>\n    <tr>\n      <th>9</th>\n      <td>accommodate</td>\n      <td>accomodate</td>\n      <td>accomodate</td>\n    </tr>\n  </tbody>\n</table>\n</div>"
     },
     "metadata": {},
     "execution_count": 6
    }
   ],
   "source": [
    "df['Fixed'] = pd.DataFrame({'col':fixed_list})\n",
    "df.head(10)"
   ]
  },
  {
   "cell_type": "code",
   "execution_count": 7,
   "metadata": {},
   "outputs": [
    {
     "output_type": "execute_result",
     "data": {
      "text/plain": [
       "        Correct     Incorrect         Fixed  Fixed Properly\n",
       "0        Nevada        nevade        nevada           False\n",
       "1  Presbyterian  presbyterian  presbyterian           False\n",
       "2           RSX           rsx           rsx           False\n",
       "3       Stephen       Steffen       Steffen           False\n",
       "4         Susan         susan         susan           False\n",
       "5       ability      abilitey       ability            True\n",
       "6         about         abouy         about            True\n",
       "7    absorption    absorbtion    absorption            True\n",
       "8  accidentally    accidently    accidently           False\n",
       "9   accommodate    accomodate    accomodate           False"
      ],
      "text/html": "<div>\n<style scoped>\n    .dataframe tbody tr th:only-of-type {\n        vertical-align: middle;\n    }\n\n    .dataframe tbody tr th {\n        vertical-align: top;\n    }\n\n    .dataframe thead th {\n        text-align: right;\n    }\n</style>\n<table border=\"1\" class=\"dataframe\">\n  <thead>\n    <tr style=\"text-align: right;\">\n      <th></th>\n      <th>Correct</th>\n      <th>Incorrect</th>\n      <th>Fixed</th>\n      <th>Fixed Properly</th>\n    </tr>\n  </thead>\n  <tbody>\n    <tr>\n      <th>0</th>\n      <td>Nevada</td>\n      <td>nevade</td>\n      <td>nevada</td>\n      <td>False</td>\n    </tr>\n    <tr>\n      <th>1</th>\n      <td>Presbyterian</td>\n      <td>presbyterian</td>\n      <td>presbyterian</td>\n      <td>False</td>\n    </tr>\n    <tr>\n      <th>2</th>\n      <td>RSX</td>\n      <td>rsx</td>\n      <td>rsx</td>\n      <td>False</td>\n    </tr>\n    <tr>\n      <th>3</th>\n      <td>Stephen</td>\n      <td>Steffen</td>\n      <td>Steffen</td>\n      <td>False</td>\n    </tr>\n    <tr>\n      <th>4</th>\n      <td>Susan</td>\n      <td>susan</td>\n      <td>susan</td>\n      <td>False</td>\n    </tr>\n    <tr>\n      <th>5</th>\n      <td>ability</td>\n      <td>abilitey</td>\n      <td>ability</td>\n      <td>True</td>\n    </tr>\n    <tr>\n      <th>6</th>\n      <td>about</td>\n      <td>abouy</td>\n      <td>about</td>\n      <td>True</td>\n    </tr>\n    <tr>\n      <th>7</th>\n      <td>absorption</td>\n      <td>absorbtion</td>\n      <td>absorption</td>\n      <td>True</td>\n    </tr>\n    <tr>\n      <th>8</th>\n      <td>accidentally</td>\n      <td>accidently</td>\n      <td>accidently</td>\n      <td>False</td>\n    </tr>\n    <tr>\n      <th>9</th>\n      <td>accommodate</td>\n      <td>accomodate</td>\n      <td>accomodate</td>\n      <td>False</td>\n    </tr>\n  </tbody>\n</table>\n</div>"
     },
     "metadata": {},
     "execution_count": 7
    }
   ],
   "source": [
    "# Check to see if the foxed column was fixed correctly\n",
    "df['Fixed Properly']= (df['Correct']==df['Fixed'])\n",
    "df.head(10)"
   ]
  },
  {
   "cell_type": "code",
   "execution_count": 9,
   "metadata": {},
   "outputs": [
    {
     "output_type": "stream",
     "name": "stdout",
     "text": [
      "42.888888888888886\n"
     ]
    }
   ],
   "source": [
    "# Calculate the percentage of errors that are fixed\n",
    "total_true = sum(df['Fixed Properly'])\n",
    "total = len(df)\n",
    "Percent_true = (total_true/total)*100\n",
    "print(Percent_true)\n"
   ]
  },
  {
   "source": [
    "## Summary\n",
    "* For this dataset, jamspell corrected 42.8% of the errors correctly\n",
    "* Some of the errors that were not fixed include capitalization, this shouldn't effect the meaning of the story\n",
    "* Jamspell will perform better when there is context surrounding the error "
   ],
   "cell_type": "markdown",
   "metadata": {}
  }
 ]
}