{
 "cells": [
  {
   "cell_type": "code",
   "execution_count": 29,
   "metadata": {},
   "outputs": [],
   "source": [
    "import pandas as pd\n",
    "from glob import glob\n",
    "from os import listdir, chdir\n",
    "from re import compile as rcompile\n",
    "from path import Path"
   ]
  },
  {
   "cell_type": "code",
   "execution_count": 52,
   "metadata": {},
   "outputs": [],
   "source": [
    "def read_transcript(file_name):\n",
    "    file_names = glob(f'{file_name}*')\n",
    "    ret = ''\n",
    "    for fname in file_names:\n",
    "        with open(fname) as fd:\n",
    "            ret += fd.read()+'\\n'\n",
    "    return ret\n",
    "\n",
    "reference_transcripts_dir = '../data/transcripts'\n",
    "google_transcripts_dir = '../data/google_transcripts'\n",
    "\n",
    "reference_transcripts_files = listdir(reference_transcripts_dir)\n",
    "google_transcripts_files = listdir(google_transcripts_dir)\n",
    "reference_transcripts_files.sort()\n",
    "google_transcripts_files.sort()"
   ]
  },
  {
   "cell_type": "code",
   "execution_count": 12,
   "metadata": {},
   "outputs": [
    {
     "name": "stdout",
     "output_type": "stream",
     "text": [
      "['3101.txt', '3102.txt', '3103.txt', '3104.txt', '3105.txt', '3106.txt', '3107.txt', '3108.txt', '3109.txt', '3110.txt', '3111.txt', '3112.txt', '3113.txt', '3114.txt', '3115.txt', '3116.txt', '3117.txt', '3118.txt', '3119.txt', '3120.txt', '3121.txt', '3122.txt', '3123.txt', '3124.txt', '3125.txt', '3126.txt', '3127.txt', '3128.txt', '3129.txt', '3130.txt', '3131.txt', '3132.txt', '3201.txt', '3202.txt', '3203.txt', '3204.txt', '3205.txt', '3206.txt', '3207.txt', '3208.txt', '3209.txt', '3210.txt', '3211.txt', '3212.txt', '3213 (missing page 2).txt', '3214.txt', '3215 (missing page 2).txt', '3216.txt', '3217.txt', '3218.txt', '3219.txt', '3220.txt', '3221.txt', '3222.txt', '3223.txt', '3224.txt', '3225.txt', '3226.txt', '3227.txt', '3228.txt', '3229.txt', '3230.txt', '3231.txt', '3232.txt', '3234.txt', '3235.txt', '3236.txt', '3237.txt', '3238.txt', '3239.txt', '3240.txt', '3241.txt', '3243.txt', '3244.txt', '3245.txt', '3246.txt', '3247.txt', '3248.txt', '5101.txt', '5102.txt', '5103.txt', '5104.txt', '5105.txt', '5106.txt', '5107.txt', '5108.txt', '5109.txt', '5110.txt', '5111.txt', '5112.txt', '5113.txt', '5114.txt', '5115.txt', '5116.txt', '5117.txt', '5118.txt', '5119.txt', '5120.txt', '5121.txt', '5122.txt', '5123.txt', '5124.txt', '5125.txt', '5126.txt', '5129.txt', '5130.txt', '5131.txt', '5132.txt', '5202.txt', '5203.txt', '5204.txt', '5205.txt', '5206.txt', '5207.txt', '5208.txt', '5209.txt', '5210.txt', '5213.txt', '5214.txt', '5215.txt', '5216.txt', '5217.txt', '5218.txt', '5219.txt', '5220.txt', '5221.txt', '5222.txt', '5223.txt', '5224.txt', '5225.txt', '5227.txt', '5228.txt', '5229.txt', '5230.txt', '5232.txt', '5233.txt', '5234.txt', '5235.txt', '5236.txt', '5237.txt', '5238.txt', '5239.txt', '5240.txt', '5241.txt', '5242.txt', '5243.txt', '5244.txt', '5245.txt', '5246.txt', '5247.txt', '5248.txt', '5249.txt', '5250.txt', '5251.txt', '5252.txt', '5253.txt', '5254.txt', '5255.txt', '5256.txt', '5257.txt', '5258.txt', '5259.txt', '5260.txt', '5261.txt', '5262.txt', '5263.txt', '5264.txt']\n",
      "['3101', '3102-1', '3102-2', '3103-1', '3103-2', '3104-1', '3104-2', '3105', '3106', '3107-1', '3107-2', '3108', '3109-1', '3109-2', '3110 ', '3111', '3112', '3113-1', '3113-2', '3114-1', '3114-2', '3115-1', '3115-2', '3116-1', '3116-2', '3117 ', '3118', '3119', '3120', '3121', '3122', '3123-1', '3123-2', '3124-1', '3124-2', '3125', '3126 ', '3127', '3128', '3129', '3130 ', '3131', '3132-1', '3132-2', '3201-1', '3201-2', '3202', '3203', '3204-1', '3204-2', '3205-1', '3205-2', '3206-1', '3206-2', '3207', '3208-1', '3208-2', '3209-1', '3209-2', '3210-1', '3210-2', '3210-3', '3211-1', '3211-2', '3212-1', '3212-2', '3212-3', '3213-1', '3213-2', '3213-3', '3214-1', '3215-1', '3215-2', '3215-3', '3216-1', '3216-2', '3216-3', '3216-4', '3217-1', '3217-2', '3218-1', '3218-2', '3219-1', '3219-2', '3220-1', '3220-2', '3220-3', '3221-1', '3221-2', '3222-1', '3222-2', '3223-1', '3223-2', '3224-1', '3224-2', '3225-1', '3225-2', '3226-1', '3226-2', '3227-1', '3227-2', '3228', '3229-1', '3229-2', '3230-1', '3230-2', '3231-1', '3231-2', '3232-1', '3232-2', '3234-1', '3234-2', '3235-1', '3235-2', '3236', '3237', '3238', '3239-1', '3239-2', '3240-2', '3241-1', '3241-2', '3243-1', '3243-2', '3244-1', '3244-2', '3245-1', '3245-2', '3246-1', '3246-2', '3247-1', '3247-2', '3248', '5101', '5102-1', '5102-2', '5103', '5104', '5105-1', '5105-2', '5106-1', '5106-2', '5107-1', '5107-2', '5108', '5109', '5110-1', '5110-2', '5111-1', '5111-2', '5112', '5113', '5114-1', '5114-2', '5115', '5116', '5117-1', '5117-2', '5118-1', '5118-2', '5119-1', '5119-2', '5120', '5121', '5122', '5123', '5124-1', '5124-2', '5124-3', '5125-1', '5125-2', '5126', '5129-1', '5129-2', '5129-3', '5130-1', '5130-2', '5130-3', '5130-4', '5131-1', '5131-2', '5131-3', '5132-1', '5132-2', '5202-1', '5202-2', '5203-1', '5203-2', '5204-1', '5204-2', '5205-1', '5205-2', '5205-3', '5206-1', '5206-2', '5207', '5208-1', '5208-2', '5209-1', '5209-2', '5210', '5213-1', '5213-2', '5213-3', '5214-1', '5214-2', '5215-1', '5215-2', '5215-3', '5216-1', '5216-2', '5217-1', '5217-2', '5218-1', '5218-2', '5219-1', '5219-2', '5220-1', '5220-2', '5220-3', '5221-1', '5221-2', '5222-1', '5222-2', '5223-1', '5223-2', '5223-3', '5224-1', '5224-2', '5225-1', '5225-2', '5227-1', '5227-2', '5228-1', '5228-2', '5229-1', '5229-2', '5230', '5232-1', '5232-2', '5233', '5234-1', '5234-2', '5234-3', '5234-4', '5235-1', '5235-2', '5235-3', '5236-1', '5236-2', '5236-3', '5237-1', '5237-2', '5237-3', '5238-1', '5238-2', '5239-1', '5239-2', '5240-1', '5240-2', '5241-1', '5241-2', '5242-1', '5242-2', '5243-1', '5243-2', '5244-1', '5244-2', '5245-1', '5245-2', '5245-3', '5245-4', '5245-5', '5245-6', '5245-7', '5246-1', '5246-2', '5247-1', '5247-2', '5248-1', '5248-2', '5249-1', '5249-2', '5250-1', '5250-2', '5250-3', '5251-1', '5251-2', '5252-1', '5252-2', '5253-1', '5253-2', '5254-1', '5254-2', '5254-3', '5254-4', '5255-1', '5255-2', '5256', '5257-1', '5257-2', '5258-1', '5258-2', '5259-1', '5259-2', '5260', '5261-1', '5261-2', '5262-1', '5262-2', '5263-1', '5263-2', '5264-1', '5264-2']\n"
     ]
    }
   ],
   "source": [
    "print(reference_transcripts_files)\n",
    "print(google_transcripts_files)"
   ]
  },
  {
   "cell_type": "code",
   "execution_count": 44,
   "metadata": {},
   "outputs": [
    {
     "name": "stdout",
     "output_type": "stream",
     "text": [
      "['3101', '3102', '3103', '3104', '3105', '3106', '3107', '3108', '3109', '3110', '3111', '3112', '3113', '3114', '3115', '3116', '3117', '3118', '3119', '3120', '3121', '3122', '3123', '3124', '3125', '3126', '3127', '3128', '3129', '3130', '3131', '3132', '3201', '3202', '3203', '3204', '3205', '3206', '3207', '3208', '3209', '3210', '3211', '3212', '3214', '3216', '3217', '3218', '3219', '3220', '3221', '3222', '3223', '3224', '3225', '3226', '3227', '3228', '3229', '3230', '3231', '3232', '3234', '3235', '3236', '3237', '3238', '3239', '3240', '3241', '3243', '3244', '3245', '3246', '3247', '3248', '5101', '5102', '5103', '5104', '5105', '5106', '5107', '5108', '5109', '5110', '5111', '5112', '5113', '5114', '5115', '5116', '5117', '5118', '5119', '5120', '5121', '5122', '5123', '5124', '5125', '5126', '5129', '5130', '5131', '5132', '5202', '5203', '5204', '5205', '5206', '5207', '5208', '5209', '5210', '5213', '5214', '5215', '5216', '5217', '5218', '5219', '5220', '5221', '5222', '5223', '5224', '5225', '5227', '5228', '5229', '5230', '5232', '5233', '5234', '5235', '5236', '5237', '5238', '5239', '5240', '5241', '5242', '5243', '5244', '5245', '5246', '5247', '5248', '5249', '5250', '5251', '5252', '5253', '5254', '5255', '5256', '5257', '5258', '5259', '5260', '5261', '5262', '5263', '5264']\n"
     ]
    }
   ],
   "source": [
    "#Some of the reference transcripts have missing information and those files have\n",
    "#filename with '(missing page <number>)' substrings - filter these files out for\n",
    "#now.\n",
    "rex = rcompile('[0-9]+.txt')\n",
    "reference_transcripts_file_roots = [x.split('.')[0] for x in reference_transcripts_files if rex.match(x) is not None]\n",
    "print(reference_transcripts_file_roots)"
   ]
  },
  {
   "cell_type": "code",
   "execution_count": 53,
   "metadata": {},
   "outputs": [
    {
     "name": "stdout",
     "output_type": "stream",
     "text": [
      "165 \n",
      " Rainbow the Unica\n",
      "Once there was a unicorn named \n",
      "Rainbow she was very kind \n",
      "and loved to haffe with \n",
      "her friends. She loved to \n",
      "jump over rainbows just like \n",
      "her name rainbow. But one \n",
      "day enchancle word was \n",
      "destoid; It lost all of its \n",
      "coller. She knew she had \n",
      "to do something so she \n",
      "asked Queen Pearl to help.\n",
      "She said go try looking \n",
      "for clues. So she did, \n",
      "at first she was scared. \n",
      "My friend But her friend told her \n",
      "it's ok I'll Be With you.\n",
      "Delighla There friend Iris said am\n",
      "absolutely certain that I could \n",
      "get the coller back. as \n",
      "you know am a rainbow \n",
      "fairy I grant unicorn \n",
      "unicorn \n",
      "wishes like in a flash. \n",
      "\"I would love to grant wishes \n",
      "for you\" Come over hear \n",
      "said a unknown voice. I \n",
      "changed my mind aneaid no\n",
      "Then I went down stairs \n",
      "and found the evel person\n",
      "and then woosh a got him\n",
      "\n",
      "\n",
      " \n",
      " The pony that didn't know. \n",
      "Once there was a pony that \n",
      "noone payed attention to. Her name\n",
      "is Snowlight Star. On Christmas \n",
      "morning she escaped to know \n",
      "why she was treated like thin air. \n",
      "She said to herself \"where should I go?' \n",
      "The next day she found a casle \n",
      "of ponys. She ran to find the head-\n",
      "mistress. When Snowlight found her \n",
      "in the tallest tower, she asked \"can \n",
      "you help me find why no one \n",
      "ever talks to me?\" The headmistress \n",
      "said \"that's easy, because I wanted \n",
      "you here. Snowlight said \"Why \n",
      "would you want me here? \n",
      "The headmistress said \"come on \n",
      "of you pop. By the way, my name \n",
      "is Headmaster Samantha. \n",
      "The net day she had already made \n",
      "tons of friends. Their names are \n",
      "Elisa, Tessa, and Lina. One day \n",
      "she was very angry because her \n",
      "friends wouldn't tell her anything \n",
      "so she stomped her hooves and \n",
      "they came right to her and told her \n",
      "everything. They were planning a surprise \n",
      "party for her and she ruined it \n",
      "being a surprise! She felt so sorry. She \n",
      "learned to wait for her friends to \n",
      "tell her. She also, learned she was \n",
      "magical. The End\n",
      "\n",
      "\n",
      "\n"
     ]
    }
   ],
   "source": [
    "\n",
    "with Path(reference_transcripts_dir):\n",
    "    reference_transcripts = [read_transcript(f'{x}.txt') for x in reference_transcripts_file_roots]\n",
    "\n",
    "print(len(reference_transcripts),'\\n', reference_transcripts[2],'\\n', reference_transcripts[3])\n",
    "\n",
    "with Path(google_transcripts_dir):\n",
    "    google_transcripts = [read_transcript(x) for x in reference_transcripts_file_roots]\n",
    "    \n"
   ]
  }
 ],
 "metadata": {
  "kernelspec": {
   "display_name": "Python 3",
   "language": "python",
   "name": "python3"
  },
  "language_info": {
   "codemirror_mode": {
    "name": "ipython",
    "version": 3
   },
   "file_extension": ".py",
   "mimetype": "text/x-python",
   "name": "python",
   "nbconvert_exporter": "python",
   "pygments_lexer": "ipython3",
   "version": "3.8.3"
  }
 },
 "nbformat": 4,
 "nbformat_minor": 4
}
