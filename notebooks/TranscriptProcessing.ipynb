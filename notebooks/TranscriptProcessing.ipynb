{
 "cells": [
  {
   "cell_type": "code",
   "execution_count": 1,
   "metadata": {},
   "outputs": [],
   "source": [
    "import pandas as pd\n",
    "from glob import glob\n",
    "from os import listdir, chdir\n",
    "from re import compile as rcompile\n",
    "from path import Path\n",
    "from sklearn.feature_extraction.text import TfidfVectorizer, CountVectorizer\n",
    "\n",
    "from tensorflow.keras.layers import Input, Dense\n",
    "from tensorflow.keras.models import Model\n",
    "from tensorflow.keras.optimizers import Adam, Nadam\n",
    "\n",
    "from sklearn.metrics.pairwise import cosine_similarity"
   ]
  },
  {
   "cell_type": "code",
   "execution_count": 2,
   "metadata": {},
   "outputs": [],
   "source": [
    "def read_transcript(file_name):\n",
    "    file_names = glob(f'{file_name}*')\n",
    "    ret = ''\n",
    "    for fname in file_names:\n",
    "        with open(fname) as fd:\n",
    "            ret += fd.read()+'\\n\\n'\n",
    "    return ret\n",
    "\n",
    "reference_transcripts_dir = '../data/transcripts'\n",
    "google_transcripts_dir = '../data/google_transcripts'\n",
    "\n",
    "reference_transcripts_files = listdir(reference_transcripts_dir)\n",
    "google_transcripts_files = listdir(google_transcripts_dir)\n",
    "reference_transcripts_files.sort()\n",
    "google_transcripts_files.sort()"
   ]
  },
  {
   "cell_type": "code",
   "execution_count": 3,
   "metadata": {},
   "outputs": [
    {
     "name": "stdout",
     "output_type": "stream",
     "text": [
      "['.ipynb_checkpoints', '3101.txt', '3102.txt', '3103.txt', '3104.txt', '3105.txt', '3106.txt', '3107.txt', '3108.txt', '3109.txt', '3110.txt', '3111.txt', '3112.txt', '3113.txt', '3114.txt', '3115.txt', '3116.txt', '3117.txt', '3118.txt', '3119.txt', '3120.txt', '3121.txt', '3122.txt', '3123.txt', '3124.txt', '3125.txt', '3126.txt', '3127.txt', '3128.txt', '3129.txt', '3130.txt', '3131.txt', '3132.txt', '3201.txt', '3202.txt', '3203.txt', '3204.txt', '3205.txt', '3206.txt', '3207.txt', '3208.txt', '3209.txt', '3210.txt', '3211.txt', '3212.txt', '3213 (missing page 2).txt', '3214.txt', '3215 (missing page 2).txt', '3216.txt', '3217.txt', '3218.txt', '3219.txt', '3220.txt', '3221.txt', '3222.txt', '3223.txt', '3224.txt', '3225.txt', '3226.txt', '3227.txt', '3228.txt', '3229.txt', '3230.txt', '3231.txt', '3232.txt', '3234.txt', '3235.txt', '3236.txt', '3237.txt', '3238.txt', '3239.txt', '3240.txt', '3241.txt', '3243.txt', '3244.txt', '3245.txt', '3246.txt', '3247.txt', '3248.txt', '5101.txt', '5102.txt', '5103.txt', '5104.txt', '5105.txt', '5106.txt', '5107.txt', '5108.txt', '5109.txt', '5110.txt', '5111.txt', '5112.txt', '5113.txt', '5114.txt', '5115.txt', '5116.txt', '5117.txt', '5118.txt', '5119.txt', '5120.txt', '5121.txt', '5122.txt', '5123.txt', '5124.txt', '5125.txt', '5126.txt', '5129.txt', '5130.txt', '5131.txt', '5132.txt', '5202.txt', '5203.txt', '5204.txt', '5205.txt', '5206.txt', '5207.txt', '5208.txt', '5209.txt', '5210.txt', '5213.txt', '5214.txt', '5215.txt', '5216.txt', '5217.txt', '5218.txt', '5219.txt', '5220.txt', '5221.txt', '5222.txt', '5223.txt', '5224.txt', '5225.txt', '5227.txt', '5228.txt', '5229.txt', '5230.txt', '5232.txt', '5233.txt', '5234.txt', '5235.txt', '5236.txt', '5237.txt', '5238.txt', '5239.txt', '5240.txt', '5241.txt', '5242.txt', '5243.txt', '5244.txt', '5245.txt', '5246.txt', '5247.txt', '5248.txt', '5249.txt', '5250.txt', '5251.txt', '5252.txt', '5253.txt', '5254.txt', '5255.txt', '5256.txt', '5257.txt', '5258.txt', '5259.txt', '5260.txt', '5261.txt', '5262.txt', '5263.txt', '5264.txt']\n",
      "['.ipynb_checkpoints', '3101', '3102-1', '3102-2', '3103-1', '3103-2', '3104-1', '3104-2', '3105', '3106', '3107-1', '3107-2', '3108', '3109-1', '3109-2', '3110 ', '3111', '3112', '3113-1', '3113-2', '3114-1', '3114-2', '3115-1', '3115-2', '3116-1', '3116-2', '3117 ', '3118', '3119', '3120', '3121', '3122', '3123-1', '3123-2', '3124-1', '3124-2', '3125', '3126 ', '3127', '3128', '3129', '3130 ', '3131', '3132-1', '3132-2', '3201-1', '3201-2', '3202', '3203', '3204-1', '3204-2', '3205-1', '3205-2', '3206-1', '3206-2', '3207', '3208-1', '3208-2', '3209-1', '3209-2', '3210-1', '3210-2', '3210-3', '3211-1', '3211-2', '3212-1', '3212-2', '3212-3', '3213-1', '3213-2', '3213-3', '3214-1', '3215-1', '3215-2', '3215-3', '3216-1', '3216-2', '3216-3', '3216-4', '3217-1', '3217-2', '3218-1', '3218-2', '3219-1', '3219-2', '3220-1', '3220-2', '3220-3', '3221-1', '3221-2', '3222-1', '3222-2', '3223-1', '3223-2', '3224-1', '3224-2', '3225-1', '3225-2', '3226-1', '3226-2', '3227-1', '3227-2', '3228', '3229-1', '3229-2', '3230-1', '3230-2', '3231-1', '3231-2', '3232-1', '3232-2', '3234-1', '3234-2', '3235-1', '3235-2', '3236', '3237', '3238', '3239-1', '3239-2', '3240-2', '3241-1', '3241-2', '3243-1', '3243-2', '3244-1', '3244-2', '3245-1', '3245-2', '3246-1', '3246-2', '3247-1', '3247-2', '3248', '5101', '5102-1', '5102-2', '5103', '5104', '5105-1', '5105-2', '5106-1', '5106-2', '5107-1', '5107-2', '5108', '5109', '5110-1', '5110-2', '5111-1', '5111-2', '5112', '5113', '5114-1', '5114-2', '5115', '5116', '5117-1', '5117-2', '5118-1', '5118-2', '5119-1', '5119-2', '5120', '5121', '5122', '5123', '5124-1', '5124-2', '5124-3', '5125-1', '5125-2', '5126', '5129-1', '5129-2', '5129-3', '5130-1', '5130-2', '5130-3', '5130-4', '5131-1', '5131-2', '5131-3', '5132-1', '5132-2', '5202-1', '5202-2', '5203-1', '5203-2', '5204-1', '5204-2', '5205-1', '5205-2', '5205-3', '5206-1', '5206-2', '5207', '5208-1', '5208-2', '5209-1', '5209-2', '5210', '5213-1', '5213-2', '5213-3', '5214-1', '5214-2', '5215-1', '5215-2', '5215-3', '5216-1', '5216-2', '5217-1', '5217-2', '5218-1', '5218-2', '5219-1', '5219-2', '5220-1', '5220-2', '5220-3', '5221-1', '5221-2', '5222-1', '5222-2', '5223-1', '5223-2', '5223-3', '5224-1', '5224-2', '5225-1', '5225-2', '5227-1', '5227-2', '5228-1', '5228-2', '5229-1', '5229-2', '5230', '5232-1', '5232-2', '5233', '5234-1', '5234-2', '5234-3', '5234-4', '5235-1', '5235-2', '5235-3', '5236-1', '5236-2', '5236-3', '5237-1', '5237-2', '5237-3', '5238-1', '5238-2', '5239-1', '5239-2', '5240-1', '5240-2', '5241-1', '5241-2', '5242-1', '5242-2', '5243-1', '5243-2', '5244-1', '5244-2', '5245-1', '5245-2', '5245-3', '5245-4', '5245-5', '5245-6', '5245-7', '5246-1', '5246-2', '5247-1', '5247-2', '5248-1', '5248-2', '5249-1', '5249-2', '5250-1', '5250-2', '5250-3', '5251-1', '5251-2', '5252-1', '5252-2', '5253-1', '5253-2', '5254-1', '5254-2', '5254-3', '5254-4', '5255-1', '5255-2', '5256', '5257-1', '5257-2', '5258-1', '5258-2', '5259-1', '5259-2', '5260', '5261-1', '5261-2', '5262-1', '5262-2', '5263-1', '5263-2', '5264-1', '5264-2']\n"
     ]
    }
   ],
   "source": [
    "print(reference_transcripts_files)\n",
    "print(google_transcripts_files)"
   ]
  },
  {
   "cell_type": "code",
   "execution_count": 4,
   "metadata": {},
   "outputs": [
    {
     "name": "stdout",
     "output_type": "stream",
     "text": [
      "['3101', '3102', '3103', '3104', '3105', '3106', '3107', '3108', '3109', '3110', '3111', '3112', '3113', '3114', '3115', '3116', '3117', '3118', '3119', '3120', '3121', '3122', '3123', '3124', '3125', '3126', '3127', '3128', '3129', '3130', '3131', '3132', '3201', '3202', '3203', '3204', '3205', '3206', '3207', '3208', '3209', '3210', '3211', '3212', '3214', '3216', '3217', '3218', '3219', '3220', '3221', '3222', '3223', '3224', '3225', '3226', '3227', '3228', '3229', '3230', '3231', '3232', '3234', '3235', '3236', '3237', '3238', '3239', '3240', '3241', '3243', '3244', '3245', '3246', '3247', '3248', '5101', '5102', '5103', '5104', '5105', '5106', '5107', '5108', '5109', '5110', '5111', '5112', '5113', '5114', '5115', '5116', '5117', '5118', '5119', '5120', '5121', '5122', '5123', '5124', '5125', '5126', '5129', '5130', '5131', '5132', '5202', '5203', '5204', '5205', '5206', '5207', '5208', '5209', '5210', '5213', '5214', '5215', '5216', '5217', '5218', '5219', '5220', '5221', '5222', '5223', '5224', '5225', '5227', '5228', '5229', '5230', '5232', '5233', '5234', '5235', '5236', '5237', '5238', '5239', '5240', '5241', '5242', '5243', '5244', '5245', '5246', '5247', '5248', '5249', '5250', '5251', '5252', '5253', '5254', '5255', '5256', '5257', '5258', '5259', '5260', '5261', '5262', '5263', '5264']\n"
     ]
    }
   ],
   "source": [
    "#Some of the reference transcripts have missing information and those files have\n",
    "#filename with '(missing page <number>)' substrings - filter these files out for\n",
    "#now.\n",
    "rex = rcompile('[0-9]+.txt')\n",
    "reference_transcripts_file_roots = [x.split('.')[0] for x in reference_transcripts_files if rex.match(x) is not None]\n",
    "print(reference_transcripts_file_roots)"
   ]
  },
  {
   "cell_type": "code",
   "execution_count": 5,
   "metadata": {},
   "outputs": [
    {
     "name": "stdout",
     "output_type": "stream",
     "text": [
      "165 \n",
      " Once apon a time there was a girl named Mary. On a warm \n",
      "sunny day Mary was walking through the woods near hear nouse \n",
      "to look for some critters to take pictures of. She loved animals \n",
      "and nature all her life even though she was only nine years old \n",
      "She thinks that she is going to die soon. She does go to school \n",
      "but she isn't that smart. For example Mary recycled a pie \n",
      "even though the pie was not even bitten. Another thing she did \n",
      "was leave her muffin in the woods while she was traveling with  \n",
      "her family to Andrea's house which is one of Mary's friends at \n",
      "school and Mary's muffin was eaten by a bear that sniffed it :q!\n",
      ":\n",
      "from far away. Yes. Mary could be a little weird but that is \n",
      "just how she is. Back to the real story now. Mary found a \n",
      "fox, took a picture she also found a rabbit took a picture \n",
      "she found a squirrel and took a picture before it ran away. \n",
      "But sooner or later she saw two eyes peeking through a bush \n",
      "on the side of the path she was walking on. Then the \n",
      "creature slowly came out of the bush. It was a bear. The bear \n",
      "growled at Mary. Mary was terrifyed. She started running and \n",
      "running but she could still see the bear growling behind her. This \n",
      "was the end of Mary. Mary was approaching her house she \n",
      "could see it now. She was safe in her house. She was now \n",
      "really scared. She could possibly be eaten but she made it to \n",
      "the door opened it and slammed it shut before the bear could \n",
      "get in. She ran or sprinted rather up to her room. \"I'm alive!!\" \n",
      "She cried. I just can't belive it I'm alive!!\" Mary was so \n",
      "relifed she told her mom and dad and her brother. And that \n",
      "night Mary was kissed goodnight and tucked into bed. And that \n",
      "is the only brave time of her life.\n",
      "\n",
      " \n",
      " The secret fifth grade\n",
      "I am Amelia I am starting fifth grade.\n",
      "I have a little siter named Emma, Emma is\n",
      "goining into kindergarden, with her triplets\n",
      "Ava and Isabella, but I don't care\n",
      "about them. When I was a 3rd grader\n",
      "we learned how to invent. This year I \n",
      "will try to make an invention that \n",
      "a robot will go to school for me. Got to \n",
      "go to sleep. zzzzzz. I wake up \n",
      "get changed, brush teeth, and do hair. \n",
      "I have long curly brown hair. I used \n",
      "to wear glasses and braces, and once \n",
      "broke my leg. I am 10, I will turn 11 \n",
      "in November. The school is called Los Angeles \n",
      "elementry school. I live in Nevada and \n",
      "will drive there. It is probabaly an hour. \n",
      "When I walked in Mrs. Begula said \n",
      "Hello! Mrs. Klapeia, my last name. I said \n",
      "hi. I have to share a desk with Brittney. \n",
      "My schedule: Math Writting, reading, vocab, spelling, \n",
      "typing, and social studies. It had said NO \n",
      "Lunch In Fifth grade! When I was \n",
      "in second grade Kayla calle me a division \n",
      "Decimal. I did not like it. We had to make \n",
      "division problems and they were all with \n",
      "decimals. Class dismissed said Mrs. Begula. \n",
      "Now I was not a witch, vampire, or godess, but I \n",
      "made a sock from Emma and made it \n",
      "do my homework. When it was time to go \n",
      "I didn't I made a blue robot the whole \n",
      "night. Blue is my favorite color, but it only \n",
      "had a blue shirt because my teacher would \n",
      "notice it is not me. I sent it out with \n",
      "my mom. I went on my phone, until Ava \n",
      "came in my room. She said loudly \n",
      "Why are you not at school! Good thing \n",
      "she did not notice. I had to say something \n",
      "um I am sick. Cof cof cof. Oh I see \n",
      "let me tell Isabella. Isabella I heard she \n",
      "said. No said Ava. Should I tell Mom if \n",
      "she's really sick. Um no said Isabella \n",
      "play with me. Isabella already new \n",
      "about it. It the robot came back. \n",
      "It worked yay, and that is my year \n",
      "of fifth grade, When the home work \n",
      "is home. You are are doing my homework!\n",
      "\n",
      "\n",
      "\n",
      "165 \n",
      " - 3101 Once apon a time there was a girl named Mary. On a warm Sunny day Mary was wealking through the woods near her house to look for some critters to take pictures of She loved animals and nature all her life even though she was only nine years old She thinks that she is going to die soon, she does go to school but she isn't that smart, for example Mary recycled a pie even though the pie was not even bitten. Another thing she did Was leave her muffin in the woods while she was traveling with her family to Andrea's house which is one of Mary's friends at school and Mary's muffin was eaten by a bear that sniffer it from far away. Yes, Mary could be a little Weird but that is tust how she is. Back to the real story nowo Mary found a fox, took a picture she also found a rabbit took a picture She found a squirrel and took a picture before it ran away, But sooner or later she saw the eyes peeking through a bush on the site of the path she was walking on. Then the creature slowly came out of the bush. It was a bear. The bear grabled at Mary, Mary was terrifyed, she started running and running but she could still see the bear growling behind her. This was the and of Mary, Mary was approaching her have she could see it now, she was sate in her house, She was now really scared. She could possibly be eaten but she made it to the door opened it and slammed it shut before the bear could get in, she ran or sprinted rather up to her room. \"I'm alive!!! she cried, I just can't belive it I'm alive!!! Mary was so relifed she told her mom and dad and her brother. And that night Mary was kissed good night and thaked into bed. And that is the only brave time of her life. \n",
      "\n",
      " \n",
      " The secret fifth grade - 3102 E am Abeilia I am starting fifth grade I have alittle ster named Emma, Emma is goining into kindergarden, wi theer triplets Aver and Isabella, but I don't care about them when I was a 3rd grader leamed bow to invento This year I will try to make an invention that arobot Wil go to school forme. Got to go to deep. Ezzzzz. I wake up get changed, brush teeth, and do hair have long curly brown hair. I used to wear glasses and braces, and once broke my leg. I am 10, I will turn il in November The school is called Los Angeles elementry school, I live in Nevada and will drive there. It is probably an hour When I walked in Mrs. Begula said Hello Mrsklape, my last name I said his I have to share a desk with Brittney typing, and social stadies. It had said No My Schedule Math wetting reading, Vocabiespelling. Lunch In, Fifth grade When I was in second grade Kayla called me a division Decimal. I did not like it. we had to make division problems and they were all with iecimals Class dismissed said Mrs. Begular Now I was not a witch wampice, or godess, but I made asock from Emana and made it do my homework. When it was time to go \n",
      "\n",
      "3102 I didn't I made a blue robet the whole night Blue is my favorite color but it only had a blue shirt because my teacher would hotice it is not me, I sent it out with Came in my room She said bond mayoneem. Prventions are phone on this Ava Why are you not at school. Good thing She did not notice. I had to say something un I am sick of (of cof, oht see let me tell Isabella Isabella I heard she said. Mo suid Ava. Should I tell mom it she's really sick um no raid Isabella play with me. Isabella already new about it. It the robot came back It worker yay, and that is my year of fifth grade. When the home work is home you are doing my home werkt \n",
      "\n",
      "\n"
     ]
    }
   ],
   "source": [
    "\n",
    "with Path(reference_transcripts_dir):\n",
    "    reference_transcripts = [read_transcript(f'{x}.txt') for x in reference_transcripts_file_roots]\n",
    "\n",
    "print(len(reference_transcripts),'\\n', reference_transcripts[0],'\\n', reference_transcripts[1])\n",
    "\n",
    "with Path(google_transcripts_dir):\n",
    "    google_transcripts = [read_transcript(x) for x in reference_transcripts_file_roots]\n",
    "    \n",
    "print(len(google_transcripts),'\\n', google_transcripts[0],'\\n', google_transcripts[1])\n"
   ]
  },
  {
   "cell_type": "code",
   "execution_count": 6,
   "metadata": {},
   "outputs": [
    {
     "name": "stdout",
     "output_type": "stream",
     "text": [
      "(165, 21876)\n"
     ]
    },
    {
     "data": {
      "text/html": [
       "<div>\n",
       "<style scoped>\n",
       "    .dataframe tbody tr th:only-of-type {\n",
       "        vertical-align: middle;\n",
       "    }\n",
       "\n",
       "    .dataframe tbody tr th {\n",
       "        vertical-align: top;\n",
       "    }\n",
       "\n",
       "    .dataframe thead th {\n",
       "        text-align: right;\n",
       "    }\n",
       "</style>\n",
       "<table border=\"1\" class=\"dataframe\">\n",
       "  <thead>\n",
       "    <tr style=\"text-align: right;\">\n",
       "      <th></th>\n",
       "      <th>00</th>\n",
       "      <th>00 meet</th>\n",
       "      <th>00 morning</th>\n",
       "      <th>00 said</th>\n",
       "      <th>00 star</th>\n",
       "      <th>00 telling</th>\n",
       "      <th>00 time</th>\n",
       "      <th>000</th>\n",
       "      <th>000 000</th>\n",
       "      <th>000 5203</th>\n",
       "      <th>...</th>\n",
       "      <th>zoe told</th>\n",
       "      <th>zoe wasn</th>\n",
       "      <th>zoe worms</th>\n",
       "      <th>zoomed</th>\n",
       "      <th>zoomed planted</th>\n",
       "      <th>zoomed shop</th>\n",
       "      <th>zrm</th>\n",
       "      <th>zrm jedi</th>\n",
       "      <th>zzzzzz</th>\n",
       "      <th>zzzzzz wake</th>\n",
       "    </tr>\n",
       "  </thead>\n",
       "  <tbody>\n",
       "    <tr>\n",
       "      <th>0</th>\n",
       "      <td>0.0</td>\n",
       "      <td>0.0</td>\n",
       "      <td>0.0</td>\n",
       "      <td>0.0</td>\n",
       "      <td>0.0</td>\n",
       "      <td>0.0</td>\n",
       "      <td>0.0</td>\n",
       "      <td>0.0</td>\n",
       "      <td>0.0</td>\n",
       "      <td>0.0</td>\n",
       "      <td>...</td>\n",
       "      <td>0.0</td>\n",
       "      <td>0.0</td>\n",
       "      <td>0.0</td>\n",
       "      <td>0.0</td>\n",
       "      <td>0.0</td>\n",
       "      <td>0.0</td>\n",
       "      <td>0.0</td>\n",
       "      <td>0.0</td>\n",
       "      <td>0.000000</td>\n",
       "      <td>0.000000</td>\n",
       "    </tr>\n",
       "    <tr>\n",
       "      <th>1</th>\n",
       "      <td>0.0</td>\n",
       "      <td>0.0</td>\n",
       "      <td>0.0</td>\n",
       "      <td>0.0</td>\n",
       "      <td>0.0</td>\n",
       "      <td>0.0</td>\n",
       "      <td>0.0</td>\n",
       "      <td>0.0</td>\n",
       "      <td>0.0</td>\n",
       "      <td>0.0</td>\n",
       "      <td>...</td>\n",
       "      <td>0.0</td>\n",
       "      <td>0.0</td>\n",
       "      <td>0.0</td>\n",
       "      <td>0.0</td>\n",
       "      <td>0.0</td>\n",
       "      <td>0.0</td>\n",
       "      <td>0.0</td>\n",
       "      <td>0.0</td>\n",
       "      <td>0.051429</td>\n",
       "      <td>0.051429</td>\n",
       "    </tr>\n",
       "    <tr>\n",
       "      <th>2</th>\n",
       "      <td>0.0</td>\n",
       "      <td>0.0</td>\n",
       "      <td>0.0</td>\n",
       "      <td>0.0</td>\n",
       "      <td>0.0</td>\n",
       "      <td>0.0</td>\n",
       "      <td>0.0</td>\n",
       "      <td>0.0</td>\n",
       "      <td>0.0</td>\n",
       "      <td>0.0</td>\n",
       "      <td>...</td>\n",
       "      <td>0.0</td>\n",
       "      <td>0.0</td>\n",
       "      <td>0.0</td>\n",
       "      <td>0.0</td>\n",
       "      <td>0.0</td>\n",
       "      <td>0.0</td>\n",
       "      <td>0.0</td>\n",
       "      <td>0.0</td>\n",
       "      <td>0.000000</td>\n",
       "      <td>0.000000</td>\n",
       "    </tr>\n",
       "    <tr>\n",
       "      <th>3</th>\n",
       "      <td>0.0</td>\n",
       "      <td>0.0</td>\n",
       "      <td>0.0</td>\n",
       "      <td>0.0</td>\n",
       "      <td>0.0</td>\n",
       "      <td>0.0</td>\n",
       "      <td>0.0</td>\n",
       "      <td>0.0</td>\n",
       "      <td>0.0</td>\n",
       "      <td>0.0</td>\n",
       "      <td>...</td>\n",
       "      <td>0.0</td>\n",
       "      <td>0.0</td>\n",
       "      <td>0.0</td>\n",
       "      <td>0.0</td>\n",
       "      <td>0.0</td>\n",
       "      <td>0.0</td>\n",
       "      <td>0.0</td>\n",
       "      <td>0.0</td>\n",
       "      <td>0.000000</td>\n",
       "      <td>0.000000</td>\n",
       "    </tr>\n",
       "    <tr>\n",
       "      <th>4</th>\n",
       "      <td>0.0</td>\n",
       "      <td>0.0</td>\n",
       "      <td>0.0</td>\n",
       "      <td>0.0</td>\n",
       "      <td>0.0</td>\n",
       "      <td>0.0</td>\n",
       "      <td>0.0</td>\n",
       "      <td>0.0</td>\n",
       "      <td>0.0</td>\n",
       "      <td>0.0</td>\n",
       "      <td>...</td>\n",
       "      <td>0.0</td>\n",
       "      <td>0.0</td>\n",
       "      <td>0.0</td>\n",
       "      <td>0.0</td>\n",
       "      <td>0.0</td>\n",
       "      <td>0.0</td>\n",
       "      <td>0.0</td>\n",
       "      <td>0.0</td>\n",
       "      <td>0.000000</td>\n",
       "      <td>0.000000</td>\n",
       "    </tr>\n",
       "  </tbody>\n",
       "</table>\n",
       "<p>5 rows × 21876 columns</p>\n",
       "</div>"
      ],
      "text/plain": [
       "    00  00 meet  00 morning  00 said  00 star  00 telling  00 time  000  \\\n",
       "0  0.0      0.0         0.0      0.0      0.0         0.0      0.0  0.0   \n",
       "1  0.0      0.0         0.0      0.0      0.0         0.0      0.0  0.0   \n",
       "2  0.0      0.0         0.0      0.0      0.0         0.0      0.0  0.0   \n",
       "3  0.0      0.0         0.0      0.0      0.0         0.0      0.0  0.0   \n",
       "4  0.0      0.0         0.0      0.0      0.0         0.0      0.0  0.0   \n",
       "\n",
       "   000 000  000 5203  ...  zoe told  zoe wasn  zoe worms  zoomed  \\\n",
       "0      0.0       0.0  ...       0.0       0.0        0.0     0.0   \n",
       "1      0.0       0.0  ...       0.0       0.0        0.0     0.0   \n",
       "2      0.0       0.0  ...       0.0       0.0        0.0     0.0   \n",
       "3      0.0       0.0  ...       0.0       0.0        0.0     0.0   \n",
       "4      0.0       0.0  ...       0.0       0.0        0.0     0.0   \n",
       "\n",
       "   zoomed planted  zoomed shop  zrm  zrm jedi    zzzzzz  zzzzzz wake  \n",
       "0             0.0          0.0  0.0       0.0  0.000000     0.000000  \n",
       "1             0.0          0.0  0.0       0.0  0.051429     0.051429  \n",
       "2             0.0          0.0  0.0       0.0  0.000000     0.000000  \n",
       "3             0.0          0.0  0.0       0.0  0.000000     0.000000  \n",
       "4             0.0          0.0  0.0       0.0  0.000000     0.000000  \n",
       "\n",
       "[5 rows x 21876 columns]"
      ]
     },
     "metadata": {},
     "output_type": "display_data"
    }
   ],
   "source": [
    "# Instantiate vectorizer object\n",
    "tfidf = TfidfVectorizer(stop_words='english',\n",
    "                        ngram_range=(1,2),\n",
    "                        min_df=1\n",
    "                       )\n",
    "# Create a vocabulary and get word counts per document\n",
    "ref_dtm = tfidf.fit_transform(reference_transcripts)\n",
    "\n",
    "features = tfidf.get_feature_names()\n",
    "#display(len(features), features[:50])\n",
    "\n",
    "# Get feature names to use as dataframe column headers\n",
    "ref_dtm = pd.DataFrame(ref_dtm.todense(), columns=features)\n",
    "print(ref_dtm.shape)\n",
    "display(ref_dtm.head())\n"
   ]
  },
  {
   "cell_type": "code",
   "execution_count": 7,
   "metadata": {},
   "outputs": [
    {
     "name": "stdout",
     "output_type": "stream",
     "text": [
      "Epoch 1/5\n",
      "1/1 [==============================] - 1s 556ms/step - loss: 0.2506\n",
      "Epoch 2/5\n",
      "1/1 [==============================] - 0s 133ms/step - loss: 0.0263\n",
      "Epoch 3/5\n",
      "1/1 [==============================] - 0s 139ms/step - loss: 0.0022\n",
      "Epoch 4/5\n",
      "1/1 [==============================] - 0s 133ms/step - loss: 9.5287e-05\n",
      "Epoch 5/5\n",
      "1/1 [==============================] - 0s 138ms/step - loss: 4.5479e-05\n"
     ]
    },
    {
     "data": {
      "text/plain": [
       "<tensorflow.python.keras.callbacks.History at 0x7f8fe156b370>"
      ]
     },
     "execution_count": 7,
     "metadata": {},
     "output_type": "execute_result"
    }
   ],
   "source": [
    "ishape = ref_dtm.shape[1]\n",
    "# Create Model \n",
    "input_img = Input(shape=(ishape, ))\n",
    "\n",
    "x = Dense(512)(input_img)\n",
    "\n",
    "x = Dense(256)(x)\n",
    "\n",
    "x = Dense(128)(x)\n",
    "\n",
    "encoded = Dense(64)(x)\n",
    "\n",
    "x = Dense(128)(encoded)\n",
    "\n",
    "x = Dense(256)(x)\n",
    "\n",
    "x = Dense(512, activation='sigmoid')(x)\n",
    "decoded = Dense(ishape, activation='sigmoid')(x)\n",
    "\n",
    "\n",
    "rmodel = Model(input_img, decoded)\n",
    "rmodel.compile(loss='mse', optimizer=Adam(learning_rate=0.01))\n",
    "\n",
    "rmodel.fit(ref_dtm, ref_dtm, batch_size=512, epochs=5)"
   ]
  },
  {
   "cell_type": "code",
   "execution_count": 8,
   "metadata": {},
   "outputs": [
    {
     "name": "stdout",
     "output_type": "stream",
     "text": [
      "(165, 64)\n"
     ]
    },
    {
     "data": {
      "text/plain": [
       "array([[-1.003536  ,  1.0493752 ,  1.6007402 , ..., -0.38971758,\n",
       "         1.1976781 ,  0.885774  ],\n",
       "       [-0.9935966 ,  1.0859337 ,  1.5872387 , ..., -0.3522619 ,\n",
       "         1.1731225 ,  0.86557317],\n",
       "       [-0.96297735,  1.0114995 ,  1.5602409 , ..., -0.36948264,\n",
       "         1.1545056 ,  0.85654515],\n",
       "       ...,\n",
       "       [-0.9603699 ,  1.000963  ,  1.4966521 , ..., -0.33580783,\n",
       "         1.1373684 ,  0.8458786 ],\n",
       "       [-0.92219543,  0.9894248 ,  1.4704257 , ..., -0.33309492,\n",
       "         1.0910069 ,  0.8046113 ],\n",
       "       [-0.90533465,  0.9771337 ,  1.4496839 , ..., -0.320725  ,\n",
       "         1.0763164 ,  0.7914262 ]], dtype=float32)"
      ]
     },
     "metadata": {},
     "output_type": "display_data"
    }
   ],
   "source": [
    "encoder = Model(input_img, encoded)\n",
    "\n",
    "encoded_ref_dtm = encoder.predict(ref_dtm)\n",
    "print(encoded_ref_dtm.shape)\n",
    "display(encoded_ref_dtm)"
   ]
  },
  {
   "cell_type": "code",
   "execution_count": 9,
   "metadata": {},
   "outputs": [],
   "source": [
    "def get_vector(doc):\n",
    "    vec = tfidf.transform([doc]).todense()\n",
    "    return encoder.predict(vec)"
   ]
  },
  {
   "cell_type": "code",
   "execution_count": 10,
   "metadata": {},
   "outputs": [
    {
     "name": "stdout",
     "output_type": "stream",
     "text": [
      "[[-1.0019499   1.054158    1.5928526   0.35311574  0.21105306 -0.61814034\n",
      "  -1.2876871   0.07740943 -0.632058    1.9220977   0.4431421  -0.44661903\n",
      "  -0.28988427 -0.80466485  0.65710664  0.04627845 -0.41365033  0.32011217\n",
      "  -0.55627507 -1.205483   -2.1990309  -0.23523569 -0.2529007   0.10884329\n",
      "  -0.19295302 -0.14037667  0.57748586 -0.6100995   0.55940413  0.10510726\n",
      "  -0.2634164  -0.2594606   0.1469222  -0.74175507 -1.0035548  -0.4628877\n",
      "   1.603921    0.7719165  -0.03361821 -1.146816   -0.6604583   0.4995437\n",
      "  -1.2742559  -0.03848452  0.5715377  -0.82754976  0.46475062  1.6885381\n",
      "   0.69039476  0.90078163 -0.04280966  0.22047238  0.6627176   0.41684788\n",
      "  -0.4136641   0.3027792  -1.2714778   1.087907   -0.4236136  -0.16258168\n",
      "  -0.38486195 -0.3883356   1.1981865   0.8876763 ]]\n"
     ]
    }
   ],
   "source": [
    "print(get_vector(google_transcripts[0]))"
   ]
  },
  {
   "cell_type": "code",
   "execution_count": 11,
   "metadata": {},
   "outputs": [
    {
     "name": "stdout",
     "output_type": "stream",
     "text": [
      "(165, 21876)\n",
      "(165, 64)\n"
     ]
    },
    {
     "data": {
      "text/plain": [
       "array([[-1.0019501 ,  1.0541575 ,  1.592853  , ..., -0.38833568,\n",
       "         1.1981866 ,  0.88767606],\n",
       "       [-0.99313176,  1.0679523 ,  1.5787816 , ..., -0.34595945,\n",
       "         1.1624902 ,  0.8469339 ],\n",
       "       [-0.9680624 ,  1.0142884 ,  1.5717391 , ..., -0.3684737 ,\n",
       "         1.1675831 ,  0.8540629 ],\n",
       "       ...,\n",
       "       [-0.9417632 ,  0.98466694,  1.4723846 , ..., -0.3268375 ,\n",
       "         1.113625  ,  0.8360641 ],\n",
       "       [-0.929472  ,  0.9976619 ,  1.49686   , ..., -0.34000194,\n",
       "         1.1067028 ,  0.81129956],\n",
       "       [-0.85890645,  0.89839345,  1.3502383 , ..., -0.29596093,\n",
       "         1.0245094 ,  0.7377031 ]], dtype=float32)"
      ]
     },
     "metadata": {},
     "output_type": "display_data"
    },
    {
     "name": "stdout",
     "output_type": "stream",
     "text": [
      "(165, 64)\n"
     ]
    },
    {
     "data": {
      "text/plain": [
       "array([[-1.0019501 ,  1.0541575 ,  1.592853  , ..., -0.38833568,\n",
       "         1.1981866 ,  0.88767606],\n",
       "       [-0.99313176,  1.0679523 ,  1.5787816 , ..., -0.34595945,\n",
       "         1.1624902 ,  0.8469339 ],\n",
       "       [-0.9680624 ,  1.0142884 ,  1.5717391 , ..., -0.3684737 ,\n",
       "         1.1675831 ,  0.8540629 ],\n",
       "       ...,\n",
       "       [-0.9417632 ,  0.98466694,  1.4723846 , ..., -0.3268375 ,\n",
       "         1.113625  ,  0.8360641 ],\n",
       "       [-0.929472  ,  0.9976619 ,  1.49686   , ..., -0.34000194,\n",
       "         1.1067028 ,  0.81129956],\n",
       "       [-0.85890645,  0.89839345,  1.3502383 , ..., -0.29596093,\n",
       "         1.0245094 ,  0.7377031 ]], dtype=float32)"
      ]
     },
     "metadata": {},
     "output_type": "display_data"
    }
   ],
   "source": [
    "def get_encoded_dtm(transcripts):\n",
    "    dtm = tfidf.transform(transcripts).todense()\n",
    "    print(dtm.shape)\n",
    "    encoded_dtm = encoder.predict(dtm)\n",
    "    print(encoded_dtm.shape)\n",
    "    display(encoded_dtm)\n",
    "    return encoded_dtm\n",
    "\n",
    "encoded_google_dtm = get_encoded_dtm(google_transcripts)\n",
    "print(encoded_google_dtm.shape)\n",
    "display(encoded_google_dtm)"
   ]
  },
  {
   "cell_type": "code",
   "execution_count": 12,
   "metadata": {},
   "outputs": [
    {
     "data": {
      "text/plain": [
       "array([[0.99998903]], dtype=float32)"
      ]
     },
     "execution_count": 12,
     "metadata": {},
     "output_type": "execute_result"
    }
   ],
   "source": [
    "cosine_similarity([encoded_ref_dtm[0]], [encoded_google_dtm[0]])"
   ]
  },
  {
   "cell_type": "code",
   "execution_count": 22,
   "metadata": {},
   "outputs": [
    {
     "name": "stdout",
     "output_type": "stream",
     "text": [
      "[0.99998903, 0.99995464, 0.9999215, 0.999747, 0.99994886, 0.99998665, 0.9999648, 0.999956, 0.9999603, 0.9999411, 0.99998903, 0.9999451, 0.99995214, 0.9999762, 0.99993694, 0.99995935, 0.99980515, 0.9999228, 0.9999206, 0.9999718, 0.9999655, 0.9999904, 0.99995375, 0.9998677, 0.99999833, 0.99997795, 0.9999949, 0.99991816, 0.9999572, 0.99997425, 0.9999852, 0.999977, 0.9999342, 0.99995804, 0.9999897, 0.9999698, 0.9999871, 0.9999636, 0.9999765, 0.99997467, 0.9999826, 0.99996483, 0.9999898, 0.9999624, 0.99999356, 0.99992436, 0.99990404, 0.9999635, 0.9999894, 0.99997014, 0.99995226, 0.9999166, 0.999961, 0.9999919, 0.999974, 0.9999265, 0.99997854, 0.99980104, 0.9999692, 0.99998367, 0.9999747, 0.9999778, 0.99996483, 0.99967754, 0.99974066, 0.9999822, 0.99996233, 0.9999822, 0.99979866, 0.9999949, 0.9999254, 0.9999559, 0.99996847, 0.9999592, 0.9999809, 0.99999726, 0.99993193, 0.99993765, 0.9999746, 0.999948, 0.99993324, 0.99999017, 0.9999794, 0.99996257, 0.99988425, 0.99987054, 0.9999888, 0.99998355, 0.99992657, 0.9998976, 0.99997306, 0.99996907, 0.99995726, 0.9999689, 0.99993765, 0.99998534, 0.99997103, 0.9999583, 0.9999551, 0.9999862, 0.999948, 0.9999192, 0.9999902, 0.9999897, 0.99998534, 0.99997234, 0.99991333, 0.99994946, 0.99996686, 0.999992, 0.99999595, 0.99995834, 0.9999645, 0.999972, 0.99995726, 0.999946, 0.99998033, 0.99994874, 0.99995923, 0.99998903, 0.99999547, 0.9999981, 0.9999769, 0.99990326, 0.9999771, 0.99993825, 0.99995637, 0.9999619, 0.99998546, 0.9999906, 0.9999665, 0.9999977, 0.99997854, 0.99992186, 0.99996257, 0.99999475, 0.99995446, 0.9999448, 0.9999652, 0.99999464, 0.9999794, 0.99994713, 0.99997634, 0.99997306, 0.99997795, 0.9999914, 0.9999743, 0.99997175, 0.9999145, 0.99999374, 0.99998, 0.9999644, 0.99995637, 0.99998444, 0.9999449, 0.9999776, 0.999966, 0.99995863, 0.99995863, 0.99999493, 0.99993753, 0.9999769, 0.9999705, 0.99998003, 0.9996902]\n",
      "0.9999544165351174 4.5583\n"
     ]
    }
   ],
   "source": [
    "def get_cossim(encoded_dtm):\n",
    "    cossim = []\n",
    "    for idx,ref in enumerate(encoded_ref_dtm):\n",
    "        cossim.append(cosine_similarity([ref], [encoded_dtm[idx]])[0][0]) \n",
    "    return cossim\n",
    "\n",
    "cossim = get_cossim(encoded_google_dtm)\n",
    "print(cossim)\n",
    "mean_cossim = sum(cossim)/len(cossim)\n",
    "print(mean_cossim, round((1-mean_cossim)*1e5,4))"
   ]
  },
  {
   "cell_type": "code",
   "execution_count": 14,
   "metadata": {},
   "outputs": [
    {
     "data": {
      "text/plain": [
       "['../models/encoded_ref_dtm.pkl']"
      ]
     },
     "execution_count": 14,
     "metadata": {},
     "output_type": "execute_result"
    }
   ],
   "source": [
    "from joblib import dump\n",
    "MODELS_DIR = '../models/'\n",
    "\n",
    "TFIDF = MODELS_DIR+'tfidf.pkl'\n",
    "ENCODED_REF_DTM = MODELS_DIR+'encoded_ref_dtm.pkl'\n",
    "ENCODER = MODELS_DIR+'encoder.h5'\n",
    "\n",
    "dump(tfidf, TFIDF)\n",
    "encoder.save(ENCODER)\n",
    "dump(encoded_ref_dtm, ENCODED_REF_DTM)"
   ]
  }
 ],
 "metadata": {
  "kernelspec": {
   "display_name": "Python 3",
   "language": "python",
   "name": "python3"
  },
  "language_info": {
   "codemirror_mode": {
    "name": "ipython",
    "version": 3
   },
   "file_extension": ".py",
   "mimetype": "text/x-python",
   "name": "python",
   "nbconvert_exporter": "python",
   "pygments_lexer": "ipython3",
   "version": "3.8.3"
  }
 },
 "nbformat": 4,
 "nbformat_minor": 4
}
