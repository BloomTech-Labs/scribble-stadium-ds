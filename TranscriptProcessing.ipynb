{
 "cells": [
  {
   "cell_type": "code",
   "execution_count": 1,
   "metadata": {},
   "outputs": [],
   "source": [
    "import pandas as pd\n",
    "from glob import glob\n",
    "from os import listdir, chdir\n",
    "from re import compile as rcompile\n",
    "from path import Path\n",
    "from sklearn.feature_extraction.text import TfidfVectorizer, CountVectorizer\n",
    "\n",
    "from tensorflow.keras.layers import Input, Dense\n",
    "from tensorflow.keras.models import Model\n",
    "from tensorflow.keras.optimizers import Adam, Nadam\n",
    "\n",
    "from sklearn.metrics.pairwise import cosine_similarity"
   ]
  },
  {
   "cell_type": "code",
   "execution_count": 2,
   "metadata": {},
   "outputs": [],
   "source": [
    "trex = rcompile('[^a-zA-Z 0-9]')\n",
    "tokenize = lambda x: trex.sub('', x.lower().replace(',', ' ').replace('-', ' '))\n",
    "\n",
    "def read_transcript(file_name):\n",
    "    file_names = glob(f'{file_name}*')\n",
    "    ret = ''\n",
    "    for fname in file_names:\n",
    "        with open(fname) as fd:\n",
    "            ret += fd.read()+'\\n\\n'\n",
    "    return ret\n",
    "\n",
    "reference_transcripts_dir = '../data/transcripts'\n",
    "google_transcripts_dir = '../data/google_transcripts'\n",
    "\n",
    "reference_transcripts_files = listdir(reference_transcripts_dir)\n",
    "google_transcripts_files = listdir(google_transcripts_dir)\n",
    "reference_transcripts_files.sort()\n",
    "google_transcripts_files.sort()"
   ]
  },
  {
   "cell_type": "code",
   "execution_count": 3,
   "metadata": {},
   "outputs": [
    {
     "name": "stdout",
     "output_type": "stream",
     "text": [
      "['.ipynb_checkpoints', '3101.txt', '3102.txt', '3103.txt', '3104.txt', '3105.txt', '3106.txt', '3107.txt', '3108.txt', '3109.txt', '3110.txt', '3111.txt', '3112.txt', '3113.txt', '3114.txt', '3115.txt', '3116.txt', '3117.txt', '3118.txt', '3119.txt', '3120.txt', '3121.txt', '3122.txt', '3123.txt', '3124.txt', '3125.txt', '3126.txt', '3127.txt', '3128.txt', '3129.txt', '3130.txt', '3131.txt', '3132.txt', '3201.txt', '3202.txt', '3203.txt', '3204.txt', '3205.txt', '3206.txt', '3207.txt', '3208.txt', '3209.txt', '3210.txt', '3211.txt', '3212.txt', '3213 (missing page 2).txt', '3214.txt', '3215 (missing page 2).txt', '3216.txt', '3217.txt', '3218.txt', '3219.txt', '3220.txt', '3221.txt', '3222.txt', '3223.txt', '3224.txt', '3225.txt', '3226.txt', '3227.txt', '3228.txt', '3229.txt', '3230.txt', '3231.txt', '3232.txt', '3234.txt', '3235.txt', '3236.txt', '3237.txt', '3238.txt', '3239.txt', '3240.txt', '3241.txt', '3243.txt', '3244.txt', '3245.txt', '3246.txt', '3247.txt', '3248.txt', '5101.txt', '5102.txt', '5103.txt', '5104.txt', '5105.txt', '5106.txt', '5107.txt', '5108.txt', '5109.txt', '5110.txt', '5111.txt', '5112.txt', '5113.txt', '5114.txt', '5115.txt', '5116.txt', '5117.txt', '5118.txt', '5119.txt', '5120.txt', '5121.txt', '5122.txt', '5123.txt', '5124.txt', '5125.txt', '5126.txt', '5129.txt', '5130.txt', '5131.txt', '5132.txt', '5202.txt', '5203.txt', '5204.txt', '5205.txt', '5206.txt', '5207.txt', '5208.txt', '5209.txt', '5210.txt', '5213.txt', '5214.txt', '5215.txt', '5216.txt', '5217.txt', '5218.txt', '5219.txt', '5220.txt', '5221.txt', '5222.txt', '5223.txt', '5224.txt', '5225.txt', '5227.txt', '5228.txt', '5229.txt', '5230.txt', '5232.txt', '5233.txt', '5234.txt', '5235.txt', '5236.txt', '5237.txt', '5238.txt', '5239.txt', '5240.txt', '5241.txt', '5242.txt', '5243.txt', '5244.txt', '5245.txt', '5246.txt', '5247.txt', '5248.txt', '5249.txt', '5250.txt', '5251.txt', '5252.txt', '5253.txt', '5254.txt', '5255.txt', '5256.txt', '5257.txt', '5258.txt', '5259.txt', '5260.txt', '5261.txt', '5262.txt', '5263.txt', '5264.txt']\n",
      "['.ipynb_checkpoints', '3101', '3102-1', '3102-2', '3103-1', '3103-2', '3104-1', '3104-2', '3105', '3106', '3107-1', '3107-2', '3108', '3109-1', '3109-2', '3110 ', '3111', '3112', '3113-1', '3113-2', '3114-1', '3114-2', '3115-1', '3115-2', '3116-1', '3116-2', '3117 ', '3118', '3119', '3120', '3121', '3122', '3123-1', '3123-2', '3124-1', '3124-2', '3125', '3126 ', '3127', '3128', '3129', '3130 ', '3131', '3132-1', '3132-2', '3201-1', '3201-2', '3202', '3203', '3204-1', '3204-2', '3205-1', '3205-2', '3206-1', '3206-2', '3207', '3208-1', '3208-2', '3209-1', '3209-2', '3210-1', '3210-2', '3210-3', '3211-1', '3211-2', '3212-1', '3212-2', '3212-3', '3213-1', '3213-2', '3213-3', '3214-1', '3215-1', '3215-2', '3215-3', '3216-1', '3216-2', '3216-3', '3216-4', '3217-1', '3217-2', '3218-1', '3218-2', '3219-1', '3219-2', '3220-1', '3220-2', '3220-3', '3221-1', '3221-2', '3222-1', '3222-2', '3223-1', '3223-2', '3224-1', '3224-2', '3225-1', '3225-2', '3226-1', '3226-2', '3227-1', '3227-2', '3228', '3229-1', '3229-2', '3230-1', '3230-2', '3231-1', '3231-2', '3232-1', '3232-2', '3234-1', '3234-2', '3235-1', '3235-2', '3236', '3237', '3238', '3239-1', '3239-2', '3240-2', '3241-1', '3241-2', '3243-1', '3243-2', '3244-1', '3244-2', '3245-1', '3245-2', '3246-1', '3246-2', '3247-1', '3247-2', '3248', '5101', '5102-1', '5102-2', '5103', '5104', '5105-1', '5105-2', '5106-1', '5106-2', '5107-1', '5107-2', '5108', '5109', '5110-1', '5110-2', '5111-1', '5111-2', '5112', '5113', '5114-1', '5114-2', '5115', '5116', '5117-1', '5117-2', '5118-1', '5118-2', '5119-1', '5119-2', '5120', '5121', '5122', '5123', '5124-1', '5124-2', '5124-3', '5125-1', '5125-2', '5126', '5129-1', '5129-2', '5129-3', '5130-1', '5130-2', '5130-3', '5130-4', '5131-1', '5131-2', '5131-3', '5132-1', '5132-2', '5202-1', '5202-2', '5203-1', '5203-2', '5204-1', '5204-2', '5205-1', '5205-2', '5205-3', '5206-1', '5206-2', '5207', '5208-1', '5208-2', '5209-1', '5209-2', '5210', '5213-1', '5213-2', '5213-3', '5214-1', '5214-2', '5215-1', '5215-2', '5215-3', '5216-1', '5216-2', '5217-1', '5217-2', '5218-1', '5218-2', '5219-1', '5219-2', '5220-1', '5220-2', '5220-3', '5221-1', '5221-2', '5222-1', '5222-2', '5223-1', '5223-2', '5223-3', '5224-1', '5224-2', '5225-1', '5225-2', '5227-1', '5227-2', '5228-1', '5228-2', '5229-1', '5229-2', '5230', '5232-1', '5232-2', '5233', '5234-1', '5234-2', '5234-3', '5234-4', '5235-1', '5235-2', '5235-3', '5236-1', '5236-2', '5236-3', '5237-1', '5237-2', '5237-3', '5238-1', '5238-2', '5239-1', '5239-2', '5240-1', '5240-2', '5241-1', '5241-2', '5242-1', '5242-2', '5243-1', '5243-2', '5244-1', '5244-2', '5245-1', '5245-2', '5245-3', '5245-4', '5245-5', '5245-6', '5245-7', '5246-1', '5246-2', '5247-1', '5247-2', '5248-1', '5248-2', '5249-1', '5249-2', '5250-1', '5250-2', '5250-3', '5251-1', '5251-2', '5252-1', '5252-2', '5253-1', '5253-2', '5254-1', '5254-2', '5254-3', '5254-4', '5255-1', '5255-2', '5256', '5257-1', '5257-2', '5258-1', '5258-2', '5259-1', '5259-2', '5260', '5261-1', '5261-2', '5262-1', '5262-2', '5263-1', '5263-2', '5264-1', '5264-2']\n"
     ]
    }
   ],
   "source": [
    "print(reference_transcripts_files)\n",
    "print(google_transcripts_files)"
   ]
  },
  {
   "cell_type": "code",
   "execution_count": 4,
   "metadata": {},
   "outputs": [
    {
     "name": "stdout",
     "output_type": "stream",
     "text": [
      "['3101', '3102', '3103', '3104', '3105', '3106', '3107', '3108', '3109', '3110', '3111', '3112', '3113', '3114', '3115', '3116', '3117', '3118', '3119', '3120', '3121', '3122', '3123', '3124', '3125', '3126', '3127', '3128', '3129', '3130', '3131', '3132', '3201', '3202', '3203', '3204', '3205', '3206', '3207', '3208', '3209', '3210', '3211', '3212', '3214', '3216', '3217', '3218', '3219', '3220', '3221', '3222', '3223', '3224', '3225', '3226', '3227', '3228', '3229', '3230', '3231', '3232', '3234', '3235', '3236', '3237', '3238', '3239', '3240', '3241', '3243', '3244', '3245', '3246', '3247', '3248', '5101', '5102', '5103', '5104', '5105', '5106', '5107', '5108', '5109', '5110', '5111', '5112', '5113', '5114', '5115', '5116', '5117', '5118', '5119', '5120', '5121', '5122', '5123', '5124', '5125', '5126', '5129', '5130', '5131', '5132', '5202', '5203', '5204', '5205', '5206', '5207', '5208', '5209', '5210', '5213', '5214', '5215', '5216', '5217', '5218', '5219', '5220', '5221', '5222', '5223', '5224', '5225', '5227', '5228', '5229', '5230', '5232', '5233', '5234', '5235', '5236', '5237', '5238', '5239', '5240', '5241', '5242', '5243', '5244', '5245', '5246', '5247', '5248', '5249', '5250', '5251', '5252', '5253', '5254', '5255', '5256', '5257', '5258', '5259', '5260', '5261', '5262', '5263', '5264']\n"
     ]
    }
   ],
   "source": [
    "#Some of the reference transcripts have missing information and those files have\n",
    "#filename with '(missing page <number>)' substrings - filter these files out for\n",
    "#now.\n",
    "rex = rcompile('[0-9]+.txt')\n",
    "reference_transcripts_file_roots = [x.split('.')[0] for x in reference_transcripts_files if rex.match(x) is not None]\n",
    "print(reference_transcripts_file_roots)"
   ]
  },
  {
   "cell_type": "code",
   "execution_count": 5,
   "metadata": {},
   "outputs": [
    {
     "name": "stdout",
     "output_type": "stream",
     "text": [
      "165 \n",
      " Once apon a time there was a girl named Mary. On a warm \n",
      "sunny day Mary was walking through the woods near hear nouse \n",
      "to look for some critters to take pictures of. She loved animals \n",
      "and nature all her life even though she was only nine years old \n",
      "She thinks that she is going to die soon. She does go to school \n",
      "but she isn't that smart. For example Mary recycled a pie \n",
      "even though the pie was not even bitten. Another thing she did \n",
      "was leave her muffin in the woods while she was traveling with  \n",
      "her family to Andrea's house which is one of Mary's friends at \n",
      "school and Mary's muffin was eaten by a bear that sniffed it :q!\n",
      ":\n",
      "from far away. Yes. Mary could be a little weird but that is \n",
      "just how she is. Back to the real story now. Mary found a \n",
      "fox, took a picture she also found a rabbit took a picture \n",
      "she found a squirrel and took a picture before it ran away. \n",
      "But sooner or later she saw two eyes peeking through a bush \n",
      "on the side of the path she was walking on. Then the \n",
      "creature slowly came out of the bush. It was a bear. The bear \n",
      "growled at Mary. Mary was terrifyed. She started running and \n",
      "running but she could still see the bear growling behind her. This \n",
      "was the end of Mary. Mary was approaching her house she \n",
      "could see it now. She was safe in her house. She was now \n",
      "really scared. She could possibly be eaten but she made it to \n",
      "the door opened it and slammed it shut before the bear could \n",
      "get in. She ran or sprinted rather up to her room. \"I'm alive!!\" \n",
      "She cried. I just can't belive it I'm alive!!\" Mary was so \n",
      "relifed she told her mom and dad and her brother. And that \n",
      "night Mary was kissed goodnight and tucked into bed. And that \n",
      "is the only brave time of her life.\n",
      "\n",
      " \n",
      " The secret fifth grade\n",
      "I am Amelia I am starting fifth grade.\n",
      "I have a little siter named Emma, Emma is\n",
      "goining into kindergarden, with her triplets\n",
      "Ava and Isabella, but I don't care\n",
      "about them. When I was a 3rd grader\n",
      "we learned how to invent. This year I \n",
      "will try to make an invention that \n",
      "a robot will go to school for me. Got to \n",
      "go to sleep. zzzzzz. I wake up \n",
      "get changed, brush teeth, and do hair. \n",
      "I have long curly brown hair. I used \n",
      "to wear glasses and braces, and once \n",
      "broke my leg. I am 10, I will turn 11 \n",
      "in November. The school is called Los Angeles \n",
      "elementry school. I live in Nevada and \n",
      "will drive there. It is probabaly an hour. \n",
      "When I walked in Mrs. Begula said \n",
      "Hello! Mrs. Klapeia, my last name. I said \n",
      "hi. I have to share a desk with Brittney. \n",
      "My schedule: Math Writting, reading, vocab, spelling, \n",
      "typing, and social studies. It had said NO \n",
      "Lunch In Fifth grade! When I was \n",
      "in second grade Kayla calle me a division \n",
      "Decimal. I did not like it. We had to make \n",
      "division problems and they were all with \n",
      "decimals. Class dismissed said Mrs. Begula. \n",
      "Now I was not a witch, vampire, or godess, but I \n",
      "made a sock from Emma and made it \n",
      "do my homework. When it was time to go \n",
      "I didn't I made a blue robot the whole \n",
      "night. Blue is my favorite color, but it only \n",
      "had a blue shirt because my teacher would \n",
      "notice it is not me. I sent it out with \n",
      "my mom. I went on my phone, until Ava \n",
      "came in my room. She said loudly \n",
      "Why are you not at school! Good thing \n",
      "she did not notice. I had to say something \n",
      "um I am sick. Cof cof cof. Oh I see \n",
      "let me tell Isabella. Isabella I heard she \n",
      "said. No said Ava. Should I tell Mom if \n",
      "she's really sick. Um no said Isabella \n",
      "play with me. Isabella already new \n",
      "about it. It the robot came back. \n",
      "It worked yay, and that is my year \n",
      "of fifth grade, When the home work \n",
      "is home. You are are doing my homework!\n",
      "\n",
      "\n",
      "\n",
      "165 \n",
      " - 3101 Once apon a time there was a girl named Mary. On a warm Sunny day Mary was wealking through the woods near her house to look for some critters to take pictures of She loved animals and nature all her life even though she was only nine years old She thinks that she is going to die soon, she does go to school but she isn't that smart, for example Mary recycled a pie even though the pie was not even bitten. Another thing she did Was leave her muffin in the woods while she was traveling with her family to Andrea's house which is one of Mary's friends at school and Mary's muffin was eaten by a bear that sniffer it from far away. Yes, Mary could be a little Weird but that is tust how she is. Back to the real story nowo Mary found a fox, took a picture she also found a rabbit took a picture She found a squirrel and took a picture before it ran away, But sooner or later she saw the eyes peeking through a bush on the site of the path she was walking on. Then the creature slowly came out of the bush. It was a bear. The bear grabled at Mary, Mary was terrifyed, she started running and running but she could still see the bear growling behind her. This was the and of Mary, Mary was approaching her have she could see it now, she was sate in her house, She was now really scared. She could possibly be eaten but she made it to the door opened it and slammed it shut before the bear could get in, she ran or sprinted rather up to her room. \"I'm alive!!! she cried, I just can't belive it I'm alive!!! Mary was so relifed she told her mom and dad and her brother. And that night Mary was kissed good night and thaked into bed. And that is the only brave time of her life. \n",
      "\n",
      " \n",
      " The secret fifth grade - 3102 E am Abeilia I am starting fifth grade I have alittle ster named Emma, Emma is goining into kindergarden, wi theer triplets Aver and Isabella, but I don't care about them when I was a 3rd grader leamed bow to invento This year I will try to make an invention that arobot Wil go to school forme. Got to go to deep. Ezzzzz. I wake up get changed, brush teeth, and do hair have long curly brown hair. I used to wear glasses and braces, and once broke my leg. I am 10, I will turn il in November The school is called Los Angeles elementry school, I live in Nevada and will drive there. It is probably an hour When I walked in Mrs. Begula said Hello Mrsklape, my last name I said his I have to share a desk with Brittney typing, and social stadies. It had said No My Schedule Math wetting reading, Vocabiespelling. Lunch In, Fifth grade When I was in second grade Kayla called me a division Decimal. I did not like it. we had to make division problems and they were all with iecimals Class dismissed said Mrs. Begular Now I was not a witch wampice, or godess, but I made asock from Emana and made it do my homework. When it was time to go \n",
      "\n",
      "3102 I didn't I made a blue robet the whole night Blue is my favorite color but it only had a blue shirt because my teacher would hotice it is not me, I sent it out with Came in my room She said bond mayoneem. Prventions are phone on this Ava Why are you not at school. Good thing She did not notice. I had to say something un I am sick of (of cof, oht see let me tell Isabella Isabella I heard she said. Mo suid Ava. Should I tell mom it she's really sick um no raid Isabella play with me. Isabella already new about it. It the robot came back It worker yay, and that is my year of fifth grade. When the home work is home you are doing my home werkt \n",
      "\n",
      "\n",
      "165 \n",
      " once apon a time there was a girl named mary on a warm sunny day mary was walking through the woods near hear nouse to look for some critters to take pictures of she loved animals and nature all her life even though she was only nine years old she thinks that she is going to die soon she does go to school but she isnt that smart for example mary recycled a pie even though the pie was not even bitten another thing she did was leave her muffin in the woods while she was traveling with  her family to andreas house which is one of marys friends at school and marys muffin was eaten by a bear that sniffed it qfrom far away yes mary could be a little weird but that is just how she is back to the real story now mary found a fox  took a picture she also found a rabbit took a picture she found a squirrel and took a picture before it ran away but sooner or later she saw two eyes peeking through a bush on the side of the path she was walking on then the creature slowly came out of the bush it was a bear the bear growled at mary mary was terrifyed she started running and running but she could still see the bear growling behind her this was the end of mary mary was approaching her house she could see it now she was safe in her house she was now really scared she could possibly be eaten but she made it to the door opened it and slammed it shut before the bear could get in she ran or sprinted rather up to her room im alive she cried i just cant belive it im alive mary was so relifed she told her mom and dad and her brother and that night mary was kissed goodnight and tucked into bed and that is the only brave time of her life \n",
      " the secret fifth gradei am amelia i am starting fifth gradei have a little siter named emma  emma isgoining into kindergarden  with her tripletsava and isabella  but i dont careabout them when i was a 3rd graderwe learned how to invent this year i will try to make an invention that a robot will go to school for me got to go to sleep zzzzzz i wake up get changed  brush teeth  and do hair i have long curly brown hair i used to wear glasses and braces  and once broke my leg i am 10  i will turn 11 in november the school is called los angeles elementry school i live in nevada and will drive there it is probabaly an hour when i walked in mrs begula said hello mrs klapeia  my last name i said hi i have to share a desk with brittney my schedule math writting  reading  vocab  spelling  typing  and social studies it had said no lunch in fifth grade when i was in second grade kayla calle me a division decimal i did not like it we had to make division problems and they were all with decimals class dismissed said mrs begula now i was not a witch  vampire  or godess  but i made a sock from emma and made it do my homework when it was time to go i didnt i made a blue robot the whole night blue is my favorite color  but it only had a blue shirt because my teacher would notice it is not me i sent it out with my mom i went on my phone  until ava came in my room she said loudly why are you not at school good thing she did not notice i had to say something um i am sick cof cof cof oh i see let me tell isabella isabella i heard she said no said ava should i tell mom if shes really sick um no said isabella play with me isabella already new about it it the robot came back it worked yay  and that is my year of fifth grade  when the home work is home you are are doing my homework\n",
      "165 \n",
      "   3101 once apon a time there was a girl named mary on a warm sunny day mary was wealking through the woods near her house to look for some critters to take pictures of she loved animals and nature all her life even though she was only nine years old she thinks that she is going to die soon  she does go to school but she isnt that smart  for example mary recycled a pie even though the pie was not even bitten another thing she did was leave her muffin in the woods while she was traveling with her family to andreas house which is one of marys friends at school and marys muffin was eaten by a bear that sniffer it from far away yes  mary could be a little weird but that is tust how she is back to the real story nowo mary found a fox  took a picture she also found a rabbit took a picture she found a squirrel and took a picture before it ran away  but sooner or later she saw the eyes peeking through a bush on the site of the path she was walking on then the creature slowly came out of the bush it was a bear the bear grabled at mary  mary was terrifyed  she started running and running but she could still see the bear growling behind her this was the and of mary  mary was approaching her have she could see it now  she was sate in her house  she was now really scared she could possibly be eaten but she made it to the door opened it and slammed it shut before the bear could get in  she ran or sprinted rather up to her room im alive she cried  i just cant belive it im alive mary was so relifed she told her mom and dad and her brother and that night mary was kissed good night and thaked into bed and that is the only brave time of her life  \n",
      " the secret fifth grade   3102 e am abeilia i am starting fifth grade i have alittle ster named emma  emma is goining into kindergarden  wi theer triplets aver and isabella  but i dont care about them when i was a 3rd grader leamed bow to invento this year i will try to make an invention that arobot wil go to school forme got to go to deep ezzzzz i wake up get changed  brush teeth  and do hair have long curly brown hair i used to wear glasses and braces  and once broke my leg i am 10  i will turn il in november the school is called los angeles elementry school  i live in nevada and will drive there it is probably an hour when i walked in mrs begula said hello mrsklape  my last name i said his i have to share a desk with brittney typing  and social stadies it had said no my schedule math wetting reading  vocabiespelling lunch in  fifth grade when i was in second grade kayla called me a division decimal i did not like it we had to make division problems and they were all with iecimals class dismissed said mrs begular now i was not a witch wampice  or godess  but i made asock from emana and made it do my homework when it was time to go 3102 i didnt i made a blue robet the whole night blue is my favorite color but it only had a blue shirt because my teacher would hotice it is not me  i sent it out with came in my room she said bond mayoneem prventions are phone on this ava why are you not at school good thing she did not notice i had to say something un i am sick of of cof  oht see let me tell isabella isabella i heard she said mo suid ava should i tell mom it shes really sick um no raid isabella play with me isabella already new about it it the robot came back it worker yay  and that is my year of fifth grade when the home work is home you are doing my home werkt \n"
     ]
    }
   ],
   "source": [
    "\n",
    "with Path(reference_transcripts_dir):\n",
    "    reference_transcripts = [read_transcript(f'{x}.txt') for x in reference_transcripts_file_roots]\n",
    "\n",
    "print(len(reference_transcripts),'\\n', reference_transcripts[0],'\\n', reference_transcripts[1])\n",
    "\n",
    "with Path(google_transcripts_dir):\n",
    "    google_transcripts = [read_transcript(x) for x in reference_transcripts_file_roots]\n",
    "    \n",
    "print(len(google_transcripts),'\\n', google_transcripts[0],'\\n', google_transcripts[1])\n",
    "\n",
    "reference_transcripts = list(map(tokenize, reference_transcripts))\n",
    "print(len(reference_transcripts),'\\n', reference_transcripts[0],'\\n', reference_transcripts[1])\n",
    "\n",
    "google_transcripts = list(map(tokenize, google_transcripts))\n",
    "print(len(google_transcripts),'\\n', google_transcripts[0],'\\n', google_transcripts[1])\n"
   ]
  },
  {
   "cell_type": "code",
   "execution_count": 6,
   "metadata": {},
   "outputs": [
    {
     "name": "stdout",
     "output_type": "stream",
     "text": [
      "(165, 22296)\n"
     ]
    },
    {
     "data": {
      "text/html": [
       "<div>\n",
       "<style scoped>\n",
       "    .dataframe tbody tr th:only-of-type {\n",
       "        vertical-align: middle;\n",
       "    }\n",
       "\n",
       "    .dataframe tbody tr th {\n",
       "        vertical-align: top;\n",
       "    }\n",
       "\n",
       "    .dataframe thead th {\n",
       "        text-align: right;\n",
       "    }\n",
       "</style>\n",
       "<table border=\"1\" class=\"dataframe\">\n",
       "  <thead>\n",
       "    <tr style=\"text-align: right;\">\n",
       "      <th></th>\n",
       "      <th>000</th>\n",
       "      <th>000 000</th>\n",
       "      <th>000 5203</th>\n",
       "      <th>000 math</th>\n",
       "      <th>000 rocket</th>\n",
       "      <th>000 tommorow</th>\n",
       "      <th>000 words</th>\n",
       "      <th>0001</th>\n",
       "      <th>0001 5216</th>\n",
       "      <th>10</th>\n",
       "      <th>...</th>\n",
       "      <th>zoes accound</th>\n",
       "      <th>zoes friend</th>\n",
       "      <th>zoes social</th>\n",
       "      <th>zoomed</th>\n",
       "      <th>zoomed planted</th>\n",
       "      <th>zoomed shop</th>\n",
       "      <th>zrm</th>\n",
       "      <th>zrm jedis</th>\n",
       "      <th>zzzzzz</th>\n",
       "      <th>zzzzzz wake</th>\n",
       "    </tr>\n",
       "  </thead>\n",
       "  <tbody>\n",
       "    <tr>\n",
       "      <th>0</th>\n",
       "      <td>0.0</td>\n",
       "      <td>0.0</td>\n",
       "      <td>0.0</td>\n",
       "      <td>0.0</td>\n",
       "      <td>0.0</td>\n",
       "      <td>0.0</td>\n",
       "      <td>0.0</td>\n",
       "      <td>0.0</td>\n",
       "      <td>0.0</td>\n",
       "      <td>0.000000</td>\n",
       "      <td>...</td>\n",
       "      <td>0.0</td>\n",
       "      <td>0.0</td>\n",
       "      <td>0.0</td>\n",
       "      <td>0.0</td>\n",
       "      <td>0.0</td>\n",
       "      <td>0.0</td>\n",
       "      <td>0.0</td>\n",
       "      <td>0.0</td>\n",
       "      <td>0.000000</td>\n",
       "      <td>0.000000</td>\n",
       "    </tr>\n",
       "    <tr>\n",
       "      <th>1</th>\n",
       "      <td>0.0</td>\n",
       "      <td>0.0</td>\n",
       "      <td>0.0</td>\n",
       "      <td>0.0</td>\n",
       "      <td>0.0</td>\n",
       "      <td>0.0</td>\n",
       "      <td>0.0</td>\n",
       "      <td>0.0</td>\n",
       "      <td>0.0</td>\n",
       "      <td>0.035998</td>\n",
       "      <td>...</td>\n",
       "      <td>0.0</td>\n",
       "      <td>0.0</td>\n",
       "      <td>0.0</td>\n",
       "      <td>0.0</td>\n",
       "      <td>0.0</td>\n",
       "      <td>0.0</td>\n",
       "      <td>0.0</td>\n",
       "      <td>0.0</td>\n",
       "      <td>0.052521</td>\n",
       "      <td>0.052521</td>\n",
       "    </tr>\n",
       "    <tr>\n",
       "      <th>2</th>\n",
       "      <td>0.0</td>\n",
       "      <td>0.0</td>\n",
       "      <td>0.0</td>\n",
       "      <td>0.0</td>\n",
       "      <td>0.0</td>\n",
       "      <td>0.0</td>\n",
       "      <td>0.0</td>\n",
       "      <td>0.0</td>\n",
       "      <td>0.0</td>\n",
       "      <td>0.000000</td>\n",
       "      <td>...</td>\n",
       "      <td>0.0</td>\n",
       "      <td>0.0</td>\n",
       "      <td>0.0</td>\n",
       "      <td>0.0</td>\n",
       "      <td>0.0</td>\n",
       "      <td>0.0</td>\n",
       "      <td>0.0</td>\n",
       "      <td>0.0</td>\n",
       "      <td>0.000000</td>\n",
       "      <td>0.000000</td>\n",
       "    </tr>\n",
       "    <tr>\n",
       "      <th>3</th>\n",
       "      <td>0.0</td>\n",
       "      <td>0.0</td>\n",
       "      <td>0.0</td>\n",
       "      <td>0.0</td>\n",
       "      <td>0.0</td>\n",
       "      <td>0.0</td>\n",
       "      <td>0.0</td>\n",
       "      <td>0.0</td>\n",
       "      <td>0.0</td>\n",
       "      <td>0.000000</td>\n",
       "      <td>...</td>\n",
       "      <td>0.0</td>\n",
       "      <td>0.0</td>\n",
       "      <td>0.0</td>\n",
       "      <td>0.0</td>\n",
       "      <td>0.0</td>\n",
       "      <td>0.0</td>\n",
       "      <td>0.0</td>\n",
       "      <td>0.0</td>\n",
       "      <td>0.000000</td>\n",
       "      <td>0.000000</td>\n",
       "    </tr>\n",
       "    <tr>\n",
       "      <th>4</th>\n",
       "      <td>0.0</td>\n",
       "      <td>0.0</td>\n",
       "      <td>0.0</td>\n",
       "      <td>0.0</td>\n",
       "      <td>0.0</td>\n",
       "      <td>0.0</td>\n",
       "      <td>0.0</td>\n",
       "      <td>0.0</td>\n",
       "      <td>0.0</td>\n",
       "      <td>0.000000</td>\n",
       "      <td>...</td>\n",
       "      <td>0.0</td>\n",
       "      <td>0.0</td>\n",
       "      <td>0.0</td>\n",
       "      <td>0.0</td>\n",
       "      <td>0.0</td>\n",
       "      <td>0.0</td>\n",
       "      <td>0.0</td>\n",
       "      <td>0.0</td>\n",
       "      <td>0.000000</td>\n",
       "      <td>0.000000</td>\n",
       "    </tr>\n",
       "  </tbody>\n",
       "</table>\n",
       "<p>5 rows × 22296 columns</p>\n",
       "</div>"
      ],
      "text/plain": [
       "   000  000 000  000 5203  000 math  000 rocket  000 tommorow  000 words  \\\n",
       "0  0.0      0.0       0.0       0.0         0.0           0.0        0.0   \n",
       "1  0.0      0.0       0.0       0.0         0.0           0.0        0.0   \n",
       "2  0.0      0.0       0.0       0.0         0.0           0.0        0.0   \n",
       "3  0.0      0.0       0.0       0.0         0.0           0.0        0.0   \n",
       "4  0.0      0.0       0.0       0.0         0.0           0.0        0.0   \n",
       "\n",
       "   0001  0001 5216        10  ...  zoes accound  zoes friend  zoes social  \\\n",
       "0   0.0        0.0  0.000000  ...           0.0          0.0          0.0   \n",
       "1   0.0        0.0  0.035998  ...           0.0          0.0          0.0   \n",
       "2   0.0        0.0  0.000000  ...           0.0          0.0          0.0   \n",
       "3   0.0        0.0  0.000000  ...           0.0          0.0          0.0   \n",
       "4   0.0        0.0  0.000000  ...           0.0          0.0          0.0   \n",
       "\n",
       "   zoomed  zoomed planted  zoomed shop  zrm  zrm jedis    zzzzzz  zzzzzz wake  \n",
       "0     0.0             0.0          0.0  0.0        0.0  0.000000     0.000000  \n",
       "1     0.0             0.0          0.0  0.0        0.0  0.052521     0.052521  \n",
       "2     0.0             0.0          0.0  0.0        0.0  0.000000     0.000000  \n",
       "3     0.0             0.0          0.0  0.0        0.0  0.000000     0.000000  \n",
       "4     0.0             0.0          0.0  0.0        0.0  0.000000     0.000000  \n",
       "\n",
       "[5 rows x 22296 columns]"
      ]
     },
     "metadata": {},
     "output_type": "display_data"
    }
   ],
   "source": [
    "# Instantiate vectorizer object\n",
    "tfidf = TfidfVectorizer(stop_words='english',\n",
    "                        ngram_range=(1,2),\n",
    "                        min_df=1\n",
    "                       )\n",
    "# Create a vocabulary and get word counts per document\n",
    "ref_dtm = tfidf.fit_transform(reference_transcripts)\n",
    "\n",
    "features = tfidf.get_feature_names()\n",
    "#display(len(features), features[:50])\n",
    "\n",
    "# Get feature names to use as dataframe column headers\n",
    "ref_dtm = pd.DataFrame(ref_dtm.todense(), columns=features)\n",
    "print(ref_dtm.shape)\n",
    "display(ref_dtm.head())\n"
   ]
  },
  {
   "cell_type": "code",
   "execution_count": 7,
   "metadata": {},
   "outputs": [
    {
     "name": "stdout",
     "output_type": "stream",
     "text": [
      "Epoch 1/5\n",
      "1/1 [==============================] - 1s 598ms/step - loss: 0.2503\n",
      "Epoch 2/5\n",
      "1/1 [==============================] - 0s 157ms/step - loss: 0.0266\n",
      "Epoch 3/5\n",
      "1/1 [==============================] - 0s 147ms/step - loss: 0.0021\n",
      "Epoch 4/5\n",
      "1/1 [==============================] - 0s 151ms/step - loss: 6.5256e-05\n",
      "Epoch 5/5\n",
      "1/1 [==============================] - 0s 157ms/step - loss: 4.4705e-05\n"
     ]
    },
    {
     "data": {
      "text/plain": [
       "<tensorflow.python.keras.callbacks.History at 0x7f9459f0d370>"
      ]
     },
     "execution_count": 7,
     "metadata": {},
     "output_type": "execute_result"
    }
   ],
   "source": [
    "ishape = ref_dtm.shape[1]\n",
    "# Create Model \n",
    "input_img = Input(shape=(ishape, ))\n",
    "\n",
    "x = Dense(512)(input_img)\n",
    "\n",
    "x = Dense(256)(x)\n",
    "\n",
    "x = Dense(128)(x)\n",
    "\n",
    "encoded = Dense(64)(x)\n",
    "\n",
    "x = Dense(128)(encoded)\n",
    "\n",
    "x = Dense(256)(x)\n",
    "\n",
    "x = Dense(512, activation='sigmoid')(x)\n",
    "decoded = Dense(ishape, activation='sigmoid')(x)\n",
    "\n",
    "\n",
    "rmodel = Model(input_img, decoded)\n",
    "rmodel.compile(loss='mse', optimizer=Adam(learning_rate=0.01))\n",
    "\n",
    "rmodel.fit(ref_dtm, ref_dtm, batch_size=512, epochs=5)"
   ]
  },
  {
   "cell_type": "code",
   "execution_count": 8,
   "metadata": {},
   "outputs": [
    {
     "name": "stdout",
     "output_type": "stream",
     "text": [
      "(165, 64)\n"
     ]
    },
    {
     "data": {
      "text/plain": [
       "array([[ 1.4990647 ,  0.98012966, -1.3534468 , ...,  0.470708  ,\n",
       "        -0.90270114,  0.84063077],\n",
       "       [ 1.5463108 ,  0.99925774, -1.348777  , ...,  0.521043  ,\n",
       "        -0.92188436,  0.85927   ],\n",
       "       [ 1.4620095 ,  0.94183564, -1.2930222 , ...,  0.48530713,\n",
       "        -0.88439316,  0.796235  ],\n",
       "       ...,\n",
       "       [ 1.4187019 ,  0.8924032 , -1.238866  , ...,  0.4494997 ,\n",
       "        -0.8336204 ,  0.79506457],\n",
       "       [ 1.4080077 ,  0.8775796 , -1.2466266 , ...,  0.47411922,\n",
       "        -0.82748294,  0.7817882 ],\n",
       "       [ 1.3298484 ,  0.87903994, -1.1690811 , ...,  0.46021232,\n",
       "        -0.7725303 ,  0.7473995 ]], dtype=float32)"
      ]
     },
     "metadata": {},
     "output_type": "display_data"
    }
   ],
   "source": [
    "encoder = Model(input_img, encoded)\n",
    "\n",
    "encoded_ref_dtm = encoder.predict(ref_dtm)\n",
    "print(encoded_ref_dtm.shape)\n",
    "display(encoded_ref_dtm)"
   ]
  },
  {
   "cell_type": "code",
   "execution_count": 9,
   "metadata": {},
   "outputs": [],
   "source": [
    "def get_vector(doc):\n",
    "    vec = tfidf.transform([tokenize(doc)]).todense()\n",
    "    return encoder.predict(vec)"
   ]
  },
  {
   "cell_type": "code",
   "execution_count": 10,
   "metadata": {},
   "outputs": [
    {
     "name": "stdout",
     "output_type": "stream",
     "text": [
      "[[ 1.5016049   0.97205496 -1.3459889   0.4551152  -1.7292242   1.2013485\n",
      "  -1.4958045   1.8624494  -0.9326757  -0.954323    1.1047379   0.12093814\n",
      "   1.5400263   0.31621033 -1.8757991  -0.49392912 -0.43462443  2.2810898\n",
      "  -0.49175274 -0.5201553  -1.1880847  -0.6612964   0.63556176  1.6796058\n",
      "   1.7924833   1.5975866   1.5442698   0.8153668   1.9369153   1.3197103\n",
      "  -1.2814026   0.6152996   0.26179093 -1.0687301   0.30968785 -0.98631656\n",
      "  -0.31112486 -0.4294312  -1.6195368   1.4637537  -0.40564954  1.796835\n",
      "  -0.77639407  0.27288294  0.33176598 -1.1098183   1.285609    0.00735259\n",
      "  -1.2460188  -0.13671783  2.0164964   1.4723079  -1.4743842  -0.19632255\n",
      "  -0.64653987  0.09914749 -0.48715913  0.51950663  0.03424577 -0.4790276\n",
      "   0.9096251   0.47012222 -0.8985676   0.83741385]]\n"
     ]
    }
   ],
   "source": [
    "print(get_vector(google_transcripts[0]))"
   ]
  },
  {
   "cell_type": "code",
   "execution_count": 11,
   "metadata": {},
   "outputs": [
    {
     "name": "stdout",
     "output_type": "stream",
     "text": [
      "(165, 22296)\n",
      "(165, 64)\n"
     ]
    },
    {
     "data": {
      "text/plain": [
       "array([[ 1.501605  ,  0.972055  , -1.3459889 , ...,  0.47012237,\n",
       "        -0.89856744,  0.83741385],\n",
       "       [ 1.568002  ,  0.9906531 , -1.3552194 , ...,  0.5056087 ,\n",
       "        -0.9083303 ,  0.88360643],\n",
       "       [ 1.4836593 ,  0.94291997, -1.3041081 , ...,  0.48810276,\n",
       "        -0.87959397,  0.8221138 ],\n",
       "       ...,\n",
       "       [ 1.4152523 ,  0.890223  , -1.2332716 , ...,  0.4497346 ,\n",
       "        -0.842205  ,  0.7872576 ],\n",
       "       [ 1.4309719 ,  0.8889978 , -1.2674681 , ...,  0.4814803 ,\n",
       "        -0.8408581 ,  0.7974877 ],\n",
       "       [ 1.2677284 ,  0.83859813, -1.0655831 , ...,  0.4182424 ,\n",
       "        -0.7452989 ,  0.67814314]], dtype=float32)"
      ]
     },
     "metadata": {},
     "output_type": "display_data"
    },
    {
     "name": "stdout",
     "output_type": "stream",
     "text": [
      "(165, 64)\n"
     ]
    },
    {
     "data": {
      "text/plain": [
       "array([[ 1.501605  ,  0.972055  , -1.3459889 , ...,  0.47012237,\n",
       "        -0.89856744,  0.83741385],\n",
       "       [ 1.568002  ,  0.9906531 , -1.3552194 , ...,  0.5056087 ,\n",
       "        -0.9083303 ,  0.88360643],\n",
       "       [ 1.4836593 ,  0.94291997, -1.3041081 , ...,  0.48810276,\n",
       "        -0.87959397,  0.8221138 ],\n",
       "       ...,\n",
       "       [ 1.4152523 ,  0.890223  , -1.2332716 , ...,  0.4497346 ,\n",
       "        -0.842205  ,  0.7872576 ],\n",
       "       [ 1.4309719 ,  0.8889978 , -1.2674681 , ...,  0.4814803 ,\n",
       "        -0.8408581 ,  0.7974877 ],\n",
       "       [ 1.2677284 ,  0.83859813, -1.0655831 , ...,  0.4182424 ,\n",
       "        -0.7452989 ,  0.67814314]], dtype=float32)"
      ]
     },
     "metadata": {},
     "output_type": "display_data"
    }
   ],
   "source": [
    "def get_encoded_dtm(transcripts):\n",
    "    dtm = tfidf.transform(transcripts).todense()\n",
    "    print(dtm.shape)\n",
    "    encoded_dtm = encoder.predict(dtm)\n",
    "    print(encoded_dtm.shape)\n",
    "    display(encoded_dtm)\n",
    "    return encoded_dtm\n",
    "\n",
    "encoded_google_dtm = get_encoded_dtm(google_transcripts)\n",
    "print(encoded_google_dtm.shape)\n",
    "display(encoded_google_dtm)"
   ]
  },
  {
   "cell_type": "code",
   "execution_count": 12,
   "metadata": {},
   "outputs": [
    {
     "data": {
      "text/plain": [
       "array([[0.99999493]], dtype=float32)"
      ]
     },
     "execution_count": 12,
     "metadata": {},
     "output_type": "execute_result"
    }
   ],
   "source": [
    "cosine_similarity([encoded_ref_dtm[0]], [encoded_google_dtm[0]])"
   ]
  },
  {
   "cell_type": "code",
   "execution_count": 13,
   "metadata": {},
   "outputs": [
    {
     "name": "stdout",
     "output_type": "stream",
     "text": [
      "[0.99999493, 0.99997103, 0.99994373, 0.9999001, 0.999973, 0.99998695, 0.99997216, 0.9999799, 0.9999726, 0.9999608, 0.9999876, 0.9999627, 0.99996996, 0.99997437, 0.99995995, 0.9999772, 0.99991226, 0.999967, 0.9999092, 0.99998283, 0.9999788, 0.99999326, 0.99998426, 0.9999369, 0.9999989, 0.99997264, 0.9999955, 0.999931, 0.99997985, 0.9999907, 0.9999861, 0.9999834, 0.99994993, 0.99998045, 0.99998945, 0.9999855, 0.99999464, 0.9999825, 0.9999807, 0.9999834, 0.99999326, 0.99997795, 0.9999818, 0.9999683, 0.99999285, 0.9999257, 0.9999329, 0.999961, 0.99999034, 0.99997365, 0.9999645, 0.9999719, 0.9999815, 0.9999936, 0.99999213, 0.9999685, 0.99999094, 0.9998902, 0.99998355, 0.9999846, 0.99999475, 0.9999913, 0.9999827, 0.999873, 0.99978524, 0.9999881, 0.9999867, 0.9999946, 0.9999005, 0.999997, 0.99996835, 0.9999763, 0.9999872, 0.9999633, 0.99999243, 0.9999983, 0.99996984, 0.99996436, 0.9999803, 0.9999384, 0.9999704, 0.99999404, 0.999989, 0.9999848, 0.9999418, 0.9999503, 0.9999826, 0.99999356, 0.9999294, 0.99994767, 0.99998444, 0.9999896, 0.9999792, 0.9999869, 0.9999764, 0.9999939, 0.99998534, 0.99998075, 0.99994445, 0.9999902, 0.9999741, 0.99996287, 0.9999963, 0.9999901, 0.99999106, 0.9999826, 0.99992824, 0.99998486, 0.9999709, 0.99999297, 0.9999967, 0.99997485, 0.9999717, 0.99999535, 0.9999681, 0.99998796, 0.99999106, 0.9999823, 0.9999878, 0.99999344, 0.99999654, 0.9999989, 0.9999844, 0.99997616, 0.99998057, 0.9999771, 0.99997985, 0.99997973, 0.99998796, 0.9999936, 0.99998534, 0.9999971, 0.99998844, 0.99996096, 0.9999796, 0.9999988, 0.99998325, 0.99997604, 0.9999821, 0.99999636, 0.9999813, 0.99998116, 0.99998695, 0.9999859, 0.99999255, 0.9999967, 0.9999859, 0.9999826, 0.99996096, 0.999994, 0.99998903, 0.9999725, 0.9999807, 0.9999927, 0.99996865, 0.99999243, 0.99998164, 0.999975, 0.99998784, 0.9999982, 0.9999651, 0.9999846, 0.99998176, 0.9999936, 0.9998545]\n",
      "0.999974394567085 2.5605\n"
     ]
    }
   ],
   "source": [
    "def get_cossim(encoded_dtm):\n",
    "    cossim = []\n",
    "    for idx,ref in enumerate(encoded_ref_dtm):\n",
    "        cossim.append(cosine_similarity([ref], [encoded_dtm[idx]])[0][0]) \n",
    "    return cossim\n",
    "\n",
    "cossim = get_cossim(encoded_google_dtm)\n",
    "print(cossim)\n",
    "mean_cossim = sum(cossim)/len(cossim)\n",
    "print(mean_cossim, round((1-mean_cossim)*1e5,4))"
   ]
  },
  {
   "cell_type": "code",
   "execution_count": 14,
   "metadata": {},
   "outputs": [
    {
     "data": {
      "text/plain": [
       "['../models/file_roots.pkl']"
      ]
     },
     "execution_count": 14,
     "metadata": {},
     "output_type": "execute_result"
    }
   ],
   "source": [
    "from joblib import dump\n",
    "MODELS_DIR = '../models/'\n",
    "\n",
    "TFIDF = MODELS_DIR+'tfidf.pkl'\n",
    "ENCODED_REF_DTM = MODELS_DIR+'encoded_ref_dtm.pkl'\n",
    "ENCODER = MODELS_DIR+'encoder.h5'\n",
    "FILE_ROOTS = MODELS_DIR+'file_roots.pkl'\n",
    "\n",
    "dump(tfidf, TFIDF)\n",
    "encoder.save(ENCODER)\n",
    "dump(encoded_ref_dtm, ENCODED_REF_DTM)\n",
    "dump(reference_transcripts_file_roots, FILE_ROOTS)"
   ]
  }
 ],
 "metadata": {
  "kernelspec": {
   "display_name": "Python 3",
   "language": "python",
   "name": "python3"
  },
  "language_info": {
   "codemirror_mode": {
    "name": "ipython",
    "version": 3
   },
   "file_extension": ".py",
   "mimetype": "text/x-python",
   "name": "python",
   "nbconvert_exporter": "python",
   "pygments_lexer": "ipython3",
   "version": "3.8.3"
  }
 },
 "nbformat": 4,
 "nbformat_minor": 4
}
