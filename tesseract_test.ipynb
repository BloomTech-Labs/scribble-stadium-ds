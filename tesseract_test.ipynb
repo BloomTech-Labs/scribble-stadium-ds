{
 "cells": [
  {
   "cell_type": "code",
   "execution_count": 1,
   "id": "e585b77f",
   "metadata": {},
   "outputs": [],
   "source": [
    "import pytesseract\n",
    "import cv2"
   ]
  },
  {
   "cell_type": "code",
   "execution_count": 2,
   "id": "40453371",
   "metadata": {},
   "outputs": [],
   "source": [
    "imgpath1 = \"sample1.jpg\"\n",
    "imgpath2 = \"sample2.jpg\"\n",
    "imgpath3 = \"Photo3102pg1.jpg\""
   ]
  },
  {
   "cell_type": "code",
   "execution_count": 3,
   "id": "74d19ce8",
   "metadata": {},
   "outputs": [
    {
     "name": "stdout",
     "output_type": "stream",
     "text": [
      "Dockerfile           Untitled.ipynb       requirements.txt\r\n",
      "\u001b[34mImage_scoring\u001b[m\u001b[m        \u001b[34mapp\u001b[m\u001b[m                  sample1.jpg\r\n",
      "LICENSE              \u001b[34massets\u001b[m\u001b[m               sample2.jpg\r\n",
      "Photo3102pg1.jpg     \u001b[34mconvert2tif\u001b[m\u001b[m          stout.txt\r\n",
      "Pipfile              \u001b[34mdata\u001b[m\u001b[m                 tesseract_test.ipynb\r\n",
      "Pipfile.lock         \u001b[34mnotebooks\u001b[m\u001b[m            \u001b[34mtesstrain\u001b[m\u001b[m\r\n",
      "README.md            out.txt\r\n"
     ]
    }
   ],
   "source": [
    "!ls"
   ]
  },
  {
   "cell_type": "code",
   "execution_count": 4,
   "id": "1985253e",
   "metadata": {},
   "outputs": [],
   "source": [
    "image = cv2.imread(imgpath1)\n",
    "image = cv2.cvtColor(image, cv2.COLOR_BGR2RGB) #conversion format\n",
    "\n",
    "# opencv -> BGR format\n",
    "# tesseract -> RGB format\n",
    "# pillow -> RGB format"
   ]
  },
  {
   "cell_type": "code",
   "execution_count": 5,
   "id": "c47437c3",
   "metadata": {},
   "outputs": [
    {
     "name": "stdout",
     "output_type": "stream",
     "text": [
      "Hetto, everyone: I made a Red, ount solely\n",
      "For ine purpose of posting this. I often get i\n",
      "Compliments on, handwriting in school “and\n",
      "Tim aurious ty seé what +nis “nvread thinks.\n",
      "\n",
      "ZT guess I'll write a few more lines so thar\n",
      "\n",
      "jou all ave more content to evaluate. Lim\n",
      "Writing these words as they come to mind, so\n",
      "don't age me for any grammatical errors. 1 hope\n",
      "His post doesn't get ero upvotes, that would be\n",
      "embarrassing. Thanks!\n",
      "\n",
      " \n",
      "\n",
      "   \n",
      "    \n",
      " \n",
      "\n",
      "te\n",
      "\f",
      "\n"
     ]
    }
   ],
   "source": [
    "# Tesseract to OCR the image\n",
    "text = pytesseract.image_to_string(image)\n",
    "print(text)"
   ]
  },
  {
   "cell_type": "code",
   "execution_count": 6,
   "id": "08cdb3e7",
   "metadata": {},
   "outputs": [],
   "source": [
    "image = cv2.imread(imgpath2)\n",
    "image = cv2.cvtColor(image, cv2.COLOR_BGR2RGB)\n"
   ]
  },
  {
   "cell_type": "code",
   "execution_count": 7,
   "id": "76e4d1c5",
   "metadata": {},
   "outputs": [
    {
     "name": "stdout",
     "output_type": "stream",
     "text": [
      "  \n",
      "   \n",
      "   \n",
      " \n",
      "     \n",
      "    \n",
      "   \n",
      " \n",
      "  \n",
      "    \n",
      "   \n",
      "  \n",
      "   \n",
      "  \n",
      "    \n",
      "       \n",
      "\n",
      "\\\n",
      "i\n",
      "(2a ‘\n",
      "\n",
      "Seen :\n",
      "\n",
      "ee a\n",
      "\n",
      " \n",
      "\n",
      " \n",
      "\n",
      "Ibe open titre _théfe. lsd on _9icl Ape\n",
      "Sandy dary Nava Nylon MoliKn4 Hen = Woods at he\n",
      "\n",
      "pooh for Some coifiess to _anke Q of, She Ned anm\n",
      "— all hec tee even tho e nog ning ss\n",
      "She thas Yet She 3S opiag to dic non, She. ddes 90 fy Schon\n",
      "wt see Sot heb Smacks For example tha ocyclel\n",
      "\n",
      "\\ p\n",
      "EVen tHrowsh gue NaS nat even oiten. Aaothe\n",
      "\n",
      "‘as ‘tite i mutt,\n",
      "her fesily fo odes hows Wriclh 1S ol\n",
      "_ aaement Mary ms matin Vas eaten\n",
      "\n",
      "i}\n",
      "|\n",
      "fm ty OwWp Men ouvld 2\n",
      "\n",
      " \n",
      "\n",
      " \n",
      "   \n",
      "\n",
      " \n",
      " \n",
      "\n",
      "eT eS\n",
      "\n",
      "A A Dod) wih\n",
      "\n",
      "‘\n",
      "\n",
      "i ‘ Qa KA TD Oa.\n",
      "\n",
      "Ta, tok 1 bee oh 2\n",
      "\n",
      "Ne Lond ei Hon OW 4\n",
      "\n",
      "‘Bab Sonne Oc lobe Wer Sal rw)\n",
      "of rh aN H,\n",
      "\n",
      "me 9\n",
      "\n",
      "          \n",
      " \n",
      "   \n",
      "   \n",
      "\n",
      " \n",
      "\n",
      "   \n",
      "\n",
      "(A Aw.tte\n",
      "\n",
      "  \n",
      "\n",
      "&\n",
      "ADD DACW + OO\n",
      "mi f aS ANC O\\ i\n",
      "\n",
      "9 0055.4 02 Caren ln\n",
      "\f",
      "\n"
     ]
    }
   ],
   "source": [
    "text = pytesseract.image_to_string(image)\n",
    "print(text)"
   ]
  },
  {
   "cell_type": "code",
   "execution_count": 8,
   "id": "bbe22b0d",
   "metadata": {},
   "outputs": [
    {
     "name": "stdout",
     "output_type": "stream",
     "text": [
      "= j\n",
      "\n",
      "~ Biles. The SecfeT Fifth op ode\n",
      "\n",
      " \n",
      "\n",
      "te om Aine ae GM Stay} fi FAL ae\n",
      "T hase. eee sf —\n",
      "\n",
      " \n",
      "\n",
      " \n",
      "\n",
      " \n",
      "\n",
      " \n",
      "\n",
      " \n",
      "\n",
      " \n",
      "\n",
      " \n",
      "\n",
      " \n",
      "\n",
      " \n",
      "\n",
      " \n",
      "\n",
      " \n",
      "\n",
      " \n",
      "\n",
      " \n",
      "\n",
      " \n",
      "\n",
      "     \n",
      "   \n",
      "\n",
      "elena shag ze al “eo ID 8 tee Zh J\n",
      "T4 i 5 plebably an Aaa —_§\n",
      "\n",
      " \n",
      "\n",
      " \n",
      "\n",
      "Naa ta\n",
      "\n",
      "do oe be pamenOf Ys ser ae time + a\n",
      "\f",
      "\n"
     ]
    }
   ],
   "source": [
    "image = cv2.imread(imgpath3)\n",
    "image = cv2.cvtColor(image, cv2.COLOR_BGR2RGB)\n",
    "text = pytesseract.image_to_string(image)\n",
    "print(text)"
   ]
  },
  {
   "cell_type": "code",
   "execution_count": null,
   "id": "b5c9a0e3",
   "metadata": {},
   "outputs": [],
   "source": []
  }
 ],
 "metadata": {
  "kernelspec": {
   "display_name": "Python 3",
   "language": "python",
   "name": "python3"
  },
  "language_info": {
   "codemirror_mode": {
    "name": "ipython",
    "version": 3
   },
   "file_extension": ".py",
   "mimetype": "text/x-python",
   "name": "python",
   "nbconvert_exporter": "python",
   "pygments_lexer": "ipython3",
   "version": "3.8.5"
  }
 },
 "nbformat": 4,
 "nbformat_minor": 5
}
