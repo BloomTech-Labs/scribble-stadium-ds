{
 "cells": [
  {
   "cell_type": "code",
   "execution_count": 1,
   "id": "e20d7729",
   "metadata": {},
   "outputs": [],
   "source": [
    "import tesstest\n",
    "import tesstrain\n",
    "from os import listdir\n",
    "from os.path import join, isfile"
   ]
  },
  {
   "cell_type": "code",
   "execution_count": 3,
   "id": "67f45bad",
   "metadata": {},
   "outputs": [],
   "source": [
    "# see ./Dockerfile (scribble_train base image) for more information on the file structure inside this container\n",
    "TEST_PATH = '/train/tesstrain/data/storysquad-ground-truth' \n",
    "model_name = \"kaggle\"\n",
    "tessdata=\"/train/tessdata\""
   ]
  },
  {
   "cell_type": "code",
   "execution_count": 4,
   "id": "2cfbf302",
   "metadata": {},
   "outputs": [
    {
     "name": "stdout",
     "output_type": "stream",
     "text": [
      "Running C code (via make) to train a tesseract model: cd /train/tesstrain && make training TESSDATA_FOLDER=/train/tessdata MODEL_NAME=kaggle START_MODEL=eng TESSDATA=/train/tessdata MAX_ITERATIONS=100\n",
      "message: Command 'cd /train/tesstrain && make training TESSDATA_FOLDER=/train/tessdata MODEL_NAME=kaggle START_MODEL=eng TESSDATA=/train/tessdata MAX_ITERATIONS=100' returned non-zero exit status 2.\n"
     ]
    },
    {
     "name": "stderr",
     "output_type": "stream",
     "text": [
      "make: *** [Makefile:185: data/kaggle/list.train] Error 1\n"
     ]
    }
   ],
   "source": [
    "# train a tesseract model for OCR\n",
    "# see ./structured_experiments/2022.04.28.notebook_template/mytesseract/tesstrain/__init__.py for implementation\n",
    "tesstrain.train_tesseract(\"/train/tesstrain\",  model_name=model_name, start_model=\"eng\", tessdata=tessdata, max_iterations=100)"
   ]
  },
  {
   "cell_type": "code",
   "execution_count": 4,
   "id": "3b3129fb",
   "metadata": {},
   "outputs": [
    {
     "name": "stdout",
     "output_type": "stream",
     "text": [
      "['/train/tesstrain/data/storysquad-ground-truth/31-3117-1-1.png', '/train/tesstrain/data/storysquad-ground-truth/31-3112-1-14-1.png'] ['gum drop land', 'The end']\n"
     ]
    }
   ],
   "source": [
    "# get a random sample of images from TEST_PATH folder and read their ground truth files (labels with correct OCR)\n",
    "test_image_paths = []\n",
    "test_image_labels = []\n",
    "count = 0\n",
    "\n",
    "for file_name in listdir(TEST_PATH):\n",
    "    file_path = join(TEST_PATH, file_name)\n",
    "    if count < 100 and file_path.endswith(\".png\") and isfile(file_path):\n",
    "        \n",
    "        ground_truth_path = file_path.replace(\".png\", \".gt.txt\")\n",
    "        if isfile(file_path) and isfile(ground_truth_path):\n",
    "            test_image_paths.append(file_path)\n",
    "            with open(ground_truth_path, mode='r') as f:\n",
    "                ground_truth = f.read()\n",
    "            test_image_labels.append(ground_truth)\n",
    "            count += 1\n",
    "    else:\n",
    "        continue\n",
    "print(test_image_paths[:2], test_image_labels[:2])"
   ]
  },
  {
   "cell_type": "code",
   "execution_count": 5,
   "id": "6a22132f",
   "metadata": {},
   "outputs": [],
   "source": [
    "# generate word error rate and character error rate for model based on random sample generated above\n",
    "# see ./structured_experiments/2022.04.28.notebook_template/mytesseract/tesstrain/__init__.py for implementation\n",
    "word_error_rate, char_error_rate = tesstest.test_model(\"kaggle\", tessdata, test_image_paths, test_image_labels)"
   ]
  },
  {
   "cell_type": "code",
   "execution_count": 6,
   "id": "74b0d708",
   "metadata": {},
   "outputs": [
    {
     "name": "stdout",
     "output_type": "stream",
     "text": [
      "Word Error Rate of 100.0% and Character Error Rate of 92.87%\n"
     ]
    }
   ],
   "source": [
    "print(f\"Word Error Rate of {round(100 *word_error_rate, 2)}% and Character Error Rate of {round(100 *char_error_rate, 2)}%\")"
   ]
  }
 ],
 "metadata": {
  "kernelspec": {
   "display_name": "Python 3 (ipykernel)",
   "language": "python",
   "name": "python3"
  },
  "language_info": {
   "codemirror_mode": {
    "name": "ipython",
    "version": 3
   },
   "file_extension": ".py",
   "mimetype": "text/x-python",
   "name": "python",
   "nbconvert_exporter": "python",
   "pygments_lexer": "ipython3",
   "version": "3.8.13"
  }
 },
 "nbformat": 4,
 "nbformat_minor": 5
}
