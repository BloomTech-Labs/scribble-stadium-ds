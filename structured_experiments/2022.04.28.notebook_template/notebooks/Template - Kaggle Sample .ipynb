{
 "cells": [
  {
   "cell_type": "code",
   "execution_count": 1,
   "id": "e20d7729",
   "metadata": {},
   "outputs": [],
   "source": [
    "import tesstest\n",
    "import tesstrain\n",
    "from os import listdir\n",
    "from os.path import join, isfile"
   ]
  },
  {
   "cell_type": "code",
   "execution_count": 2,
   "id": "67f45bad",
   "metadata": {},
   "outputs": [],
   "source": [
    "# see ./Dockerfile (scribble_train base image) for more information on the file structure inside this container\n",
    "TEST_PATH = '/train/tesstrain/data/storysquad-ground-truth' \n",
    "model_name = \"kaggle\"\n",
    "tessdata=\"/train/tessdata\""
   ]
  },
  {
   "cell_type": "code",
   "execution_count": 3,
   "id": "2cfbf302",
   "metadata": {},
   "outputs": [
    {
     "name": "stdout",
     "output_type": "stream",
     "text": [
      "Running C code (via make) to train a tesseract model: cd /train/tesstrain && make training TESSDATA_FOLDER=/train/tessdata MODEL_NAME=kaggle START_MODEL=eng TESSDATA=/train/tessdata MAX_ITERATIONS=100\n"
     ]
    },
    {
     "name": "stderr",
     "output_type": "stream",
     "text": [
      "Loaded file data/kaggle/checkpoints/kaggle_checkpoint, unpacking...\n",
      "Successfully restored trainer from data/kaggle/checkpoints/kaggle_checkpoint\n",
      "Loaded 1/1 lines (1-1) of document data/kaggle-ground-truth/TEST_26492.lstmf\n",
      "Loaded 1/1 lines (1-1) of document data/kaggle-ground-truth/TEST_26476.lstmf\n",
      "Loaded 1/1 lines (1-1) of document data/kaggle-ground-truth/TEST_26765.lstmf\n",
      "Loaded 1/1 lines (1-1) of document data/kaggle-ground-truth/TEST_26223.lstmf\n",
      "Loaded 1/1 lines (1-1) of document data/kaggle-ground-truth/TEST_26553.lstmf\n",
      "Loaded 1/1 lines (1-1) of document data/kaggle-ground-truth/TEST_26866.lstmf\n",
      "Loaded 1/1 lines (1-1) of document data/kaggle-ground-truth/TEST_26516.lstmf\n",
      "Loaded 1/1 lines (1-1) of document data/kaggle-ground-truth/TEST_26212.lstmf\n",
      "Loaded 1/1 lines (1-1) of document data/kaggle-ground-truth/TEST_26878.lstmf\n",
      "Loaded 1/1 lines (1-1) of document data/kaggle-ground-truth/TEST_26838.lstmf\n",
      "Loaded 1/1 lines (1-1) of document data/kaggle-ground-truth/TEST_26670.lstmf\n",
      "At iteration 847/1000/1000, Mean rms=2.438%, delta=7.793%, char train=62.586%, word train=79.7%, skip ratio=0%,  wrote checkpoint.\n",
      "\n",
      "Finished! Error rate = 62.586\n",
      "Loaded file data/kaggle/checkpoints/kaggle_checkpoint, unpacking...\n"
     ]
    },
    {
     "name": "stdout",
     "output_type": "stream",
     "text": [
      "cp /train/tessdata/eng.traineddata /train/tesstrain/data/eng.traineddata\n",
      "cp -R /train/tessdata/configs /train/tesstrain/data/configs\n",
      "lstmtraining \\\n",
      "  --debug_interval 0 \\\n",
      "  --traineddata data/kaggle/kaggle.traineddata \\\n",
      "  --old_traineddata /train/tessdata/eng.traineddata \\\n",
      "  --continue_from data/eng/kaggle.lstm \\\n",
      "  --learning_rate 0.0001 \\\n",
      "  --model_output data/kaggle/checkpoints/kaggle \\\n",
      "  --train_listfile data/kaggle/list.train \\\n",
      "  --eval_listfile data/kaggle/list.eval \\\n",
      "  --max_iterations 100 \\\n",
      "  --target_error_rate 0.01\n",
      "lstmtraining \\\n",
      "--stop_training \\\n",
      "--continue_from data/kaggle/checkpoints/kaggle_checkpoint \\\n",
      "--traineddata data/kaggle/kaggle.traineddata \\\n",
      "--model_output data/kaggle.traineddata\n",
      "\n",
      "\n"
     ]
    }
   ],
   "source": [
    "# train a tesseract model for OCR\n",
    "# see ./structured_experiments/2022.04.28.notebook_template/mytesseract/tesstrain/__init__.py for implementation\n",
    "tesstrain.train_tesseract(\"/train/tesstrain\",  model_name=model_name, start_model=\"eng\", tessdata=tessdata, max_iterations=100)"
   ]
  },
  {
   "cell_type": "code",
   "execution_count": 4,
   "id": "3b3129fb",
   "metadata": {},
   "outputs": [
    {
     "name": "stdout",
     "output_type": "stream",
     "text": [
      "['/train/tesstrain/data/storysquad-ground-truth/31-3101-1-1.png', '/train/tesstrain/data/storysquad-ground-truth/31-3101-1-10.png'] ['- 3101', \"her family to Andrea's house which is one of Mary's friends at\"]\n"
     ]
    }
   ],
   "source": [
    "# get a random sample of images from TEST_PATH folder and read their ground truth files (labels with correct OCR)\n",
    "test_image_paths = []\n",
    "test_image_labels = []\n",
    "count = 0\n",
    "\n",
    "for file_name in listdir(TEST_PATH):\n",
    "    file_path = join(TEST_PATH, file_name)\n",
    "    if count < 100 and file_path.endswith(\".png\") and isfile(file_path):\n",
    "        \n",
    "        ground_truth_path = file_path.replace(\".png\", \".gt.txt\")\n",
    "        if isfile(file_path) and isfile(ground_truth_path):\n",
    "            test_image_paths.append(file_path)\n",
    "            with open(ground_truth_path, mode='r') as f:\n",
    "                ground_truth = f.read()\n",
    "            test_image_labels.append(ground_truth)\n",
    "            count += 1\n",
    "    else:\n",
    "        continue\n",
    "print(test_image_paths[:2], test_image_labels[:2])"
   ]
  },
  {
   "cell_type": "code",
   "execution_count": 5,
   "id": "6a22132f",
   "metadata": {},
   "outputs": [],
   "source": [
    "# generate word error rate and character error rate for model based on random sample generated above\n",
    "# see ./structured_experiments/2022.04.28.notebook_template/mytesseract/tesstrain/__init__.py for implementation\n",
    "word_error_rate, char_error_rate = tesstest.test_model(\"kaggle\", tessdata, test_image_paths, test_image_labels)"
   ]
  },
  {
   "cell_type": "code",
   "execution_count": 6,
   "id": "74b0d708",
   "metadata": {},
   "outputs": [
    {
     "name": "stdout",
     "output_type": "stream",
     "text": [
      "Word Error Rate of 99.49% and Character Error Rate of 94.48%\n"
     ]
    }
   ],
   "source": [
    "print(f\"Word Error Rate of {round(100 *word_error_rate, 2)}% and Character Error Rate of {round(100 *char_error_rate, 2)}%\")"
   ]
  }
 ],
 "metadata": {
  "kernelspec": {
   "display_name": "Python 3 (ipykernel)",
   "language": "python",
   "name": "python3"
  },
  "language_info": {
   "codemirror_mode": {
    "name": "ipython",
    "version": 3
   },
   "file_extension": ".py",
   "mimetype": "text/x-python",
   "name": "python",
   "nbconvert_exporter": "python",
   "pygments_lexer": "ipython3",
   "version": "3.8.13"
  }
 },
 "nbformat": 4,
 "nbformat_minor": 5
}
