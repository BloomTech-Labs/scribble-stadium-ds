{
 "cells": [
  {
   "cell_type": "code",
   "execution_count": 1,
   "id": "abe85234",
   "metadata": {},
   "outputs": [],
   "source": [
    "import numpy as np\n",
    "# from scipy.misc import imshow, imsave, imread, imresize\n",
    "from scipy.ndimage import filters, morphology\n",
    "# from skimage import filter\n",
    "from skimage.draw import line\n",
    "from scipy import ndimage, spatial\n",
    "import cv2"
   ]
  },
  {
   "cell_type": "code",
   "execution_count": 2,
   "id": "36234df6",
   "metadata": {},
   "outputs": [],
   "source": [
    "def houghLines(img):\n",
    "    w,h = img.shape\n",
    "    acc=[]\n",
    "    for i in range(h):\n",
    "        rr,cc = line(0, i, w-1, h-i-1)\n",
    "        acc.append(np.sum(img[rr, cc]))\n",
    "    mi = np.argmax(acc)\n",
    "    ret = np.zeros(img.shape, dtype=np.bool)\n",
    "    rr,cc = line(0, mi, w-1, h-mi-1)\n",
    "    ret[rr,cc]=True\n",
    "    return ret"
   ]
  },
  {
   "cell_type": "code",
   "execution_count": 45,
   "id": "52f3a017",
   "metadata": {},
   "outputs": [],
   "source": [
    "def removeLines(img):\n",
    "    imggray = np.mean(img, -1)\n",
    "    imfft = np.fft.fft2(imggray)\n",
    "    imffts = np.fft.fftshift(imfft)\n",
    "\n",
    "    mags = np.abs(imffts)\n",
    "    angles = np.angle(imffts)\n",
    "\n",
    "    visual = np.log(mags)\n",
    "\n",
    "\n",
    "    visual3 = np.abs(visual.astype(np.int16) - np.mean(visual))\n",
    "\n",
    "    ret = houghLines(visual3)\n",
    "    ret = morphology.binary_dilation(ret )\n",
    "    ret = morphology.binary_dilation(ret )\n",
    "    ret = morphology.binary_dilation(ret )\n",
    "    ret = morphology.binary_dilation(ret )\n",
    "    ret = morphology.binary_dilation(ret )\n",
    "    ret = morphology.binary_dilation(ret )\n",
    "#     ret = morphology.binary_dilation(ret )\n",
    "#     ret = morphology.binary_dilation(ret )\n",
    "#     ret = morphology.binary_dilation(ret )\n",
    "#     ret = morphology.binary_dilation(ret )\n",
    "#     ret = morphology.binary_dilation(ret )\n",
    "    w,h=ret.shape\n",
    "    ret[w//2-3:w//2+3, h//2-3:h//2+3]=False\n",
    "\n",
    "\n",
    "    delta = np.mean(visual[ret]) - np.mean(visual)\n",
    "\n",
    "\n",
    "    visual_blured = ndimage.gaussian_filter(visual, sigma=4)\n",
    "\n",
    "\n",
    "\n",
    "    visual[ret] =visual_blured[ret]\n",
    "\n",
    "\n",
    "    newmagsshift = np.exp(visual)\n",
    "\n",
    "    newffts = newmagsshift * np.exp(1j*angles)\n",
    "\n",
    "    newfft = np.fft.ifftshift(newffts)\n",
    "\n",
    "    imrev = np.fft.ifft2(newfft)\n",
    "\n",
    "    newim2 =  np.abs(imrev).astype(np.uint8)\n",
    "\n",
    "\n",
    "    newim2 = np.maximum(newim2, imggray)\n",
    "\n",
    "    return newim2"
   ]
  },
  {
   "cell_type": "code",
   "execution_count": 39,
   "id": "563e2108",
   "metadata": {},
   "outputs": [],
   "source": [
    "image = cv2.imread('/home/cwhyse/BloomProj/scribble-stadium-ds/data_management/autopreprocess_testing/data/Photo 3130 .jpg')[:,:,:3]"
   ]
  },
  {
   "cell_type": "code",
   "execution_count": 29,
   "id": "318d0ea6",
   "metadata": {},
   "outputs": [],
   "source": [
    "img = cv2.imread(\"/home/cwhyse/BloomProj/scribble-stadium-ds/data_management/autopreprocess_testing/data/Photo 3130 .jpg\")[:,:,:3]\n",
    "imggray = np.mean(image, -1)\n",
    "imfft = np.fft.fft2(imggray)\n",
    "mags = np.abs(np.fft.fftshift(imfft))\n",
    "angles = np.angle(np.fft.fftshift(imfft))\n",
    "visual = np.log(mags)\n",
    "visual2 = (visual - visual.min()) / (visual.max() - visual.min())*255\n",
    "mask = cv2.imread(\"/home/cwhyse/BloomProj/scribble-stadium-ds/data_management/autopreprocess_testing/data/Photo 3130 .jpg\")[:,:,:3]\n",
    "mask = (np.mean(mask,-1) > 20)\n",
    "visual[mask] = np.mean(visual)\n",
    "newmagsshift = np.exp(visual)\n",
    "newffts = newmagsshift * np.exp(1j*angles)\n",
    "newfft = np.fft.ifftshift(newffts)\n",
    "imrev = np.fft.ifft2(newfft)\n",
    "newim2 = 255 - np.abs(imrev).astype(np.uint8)"
   ]
  },
  {
   "cell_type": "code",
   "execution_count": null,
   "id": "3c5a40c5",
   "metadata": {},
   "outputs": [],
   "source": []
  },
  {
   "cell_type": "code",
   "execution_count": 21,
   "id": "71bf87bd",
   "metadata": {},
   "outputs": [],
   "source": [
    "# houghLines(newim2)"
   ]
  },
  {
   "cell_type": "code",
   "execution_count": 22,
   "id": "075fa917",
   "metadata": {},
   "outputs": [
    {
     "data": {
      "text/plain": [
       "(1080, 810, 3)"
      ]
     },
     "execution_count": 22,
     "metadata": {},
     "output_type": "execute_result"
    }
   ],
   "source": [
    "image.shape"
   ]
  },
  {
   "cell_type": "code",
   "execution_count": 23,
   "id": "287fa100",
   "metadata": {},
   "outputs": [
    {
     "data": {
      "text/plain": [
       "(1080, 810)"
      ]
     },
     "execution_count": 23,
     "metadata": {},
     "output_type": "execute_result"
    }
   ],
   "source": [
    "newim2.shape"
   ]
  },
  {
   "cell_type": "code",
   "execution_count": 33,
   "id": "4db858e8",
   "metadata": {},
   "outputs": [
    {
     "data": {
      "text/plain": [
       "True"
      ]
     },
     "execution_count": 33,
     "metadata": {},
     "output_type": "execute_result"
    }
   ],
   "source": [
    "# cv2.imwrite(\"/home/cwhyse/BloomProj/scribble-stadium-ds/data_management/autopreprocess_testing/data/transformedData/Photo 3130 (removedLineFun).jpg\",  removedLineFun)"
   ]
  },
  {
   "cell_type": "code",
   "execution_count": 46,
   "id": "bdb791fa",
   "metadata": {},
   "outputs": [],
   "source": [
    "removedLineFun = removeLines(image)"
   ]
  },
  {
   "cell_type": "code",
   "execution_count": 37,
   "id": "1c60ae0d",
   "metadata": {},
   "outputs": [
    {
     "data": {
      "text/plain": [
       "True"
      ]
     },
     "execution_count": 37,
     "metadata": {},
     "output_type": "execute_result"
    }
   ],
   "source": [
    "# cv2.imwrite(\"/home/cwhyse/BloomProj/scribble-stadium-ds/data_management/autopreprocess_testing/data/transformedData/Photo 3130 (removedLineFun)2.jpg\",  removedLineFun)"
   ]
  },
  {
   "cell_type": "code",
   "execution_count": 47,
   "id": "123af760",
   "metadata": {},
   "outputs": [
    {
     "data": {
      "text/plain": [
       "True"
      ]
     },
     "execution_count": 47,
     "metadata": {},
     "output_type": "execute_result"
    }
   ],
   "source": [
    "cv2.imwrite(\"/home/cwhyse/BloomProj/scribble-stadium-ds/data_management/autopreprocess_testing/data/transformedData/Photo 3130 (removedLineFun)3.jpg\",  removedLineFun)"
   ]
  },
  {
   "cell_type": "code",
   "execution_count": null,
   "id": "9539a1c1",
   "metadata": {},
   "outputs": [],
   "source": []
  }
 ],
 "metadata": {
  "kernelspec": {
   "display_name": "Python3 (autoProcessEnv)",
   "language": "python",
   "name": "autoprocessenv"
  },
  "language_info": {
   "codemirror_mode": {
    "name": "ipython",
    "version": 3
   },
   "file_extension": ".py",
   "mimetype": "text/x-python",
   "name": "python",
   "nbconvert_exporter": "python",
   "pygments_lexer": "ipython3",
   "version": "3.8.10"
  }
 },
 "nbformat": 4,
 "nbformat_minor": 5
}
