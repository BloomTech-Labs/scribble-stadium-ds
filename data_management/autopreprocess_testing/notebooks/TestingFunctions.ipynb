{
 "cells": [
  {
   "cell_type": "code",
   "execution_count": 1,
   "id": "afae71cc",
   "metadata": {},
   "outputs": [
    {
     "name": "stdout",
     "output_type": "stream",
     "text": [
      "Collecting tesseract\n",
      "  Downloading tesseract-0.1.3.tar.gz (45.6 MB)\n",
      "\u001b[K     |████████████████████████████████| 45.6 MB 51 kB/s  eta 0:00:013   |██████▍                         | 9.0 MB 4.6 MB/s eta 0:00:09     |███████▌                        | 10.6 MB 11.9 MB/s eta 0:00:03     |███████▊                        | 10.9 MB 11.9 MB/s eta 0:00:03     |█████████                       | 12.9 MB 11.9 MB/s eta 0:00:03     |██████████████                  | 19.8 MB 2.8 MB/s eta 0:00:10/s eta 0:00:09     |████████████████▌               | 23.5 MB 2.8 MB/s eta 0:00:09     |█████████████████               | 24.4 MB 2.8 MB/s eta 0:00:08     |████████████████████▊           | 29.5 MB 6.4 MB/s eta 0:00:03     |███████████████████████▏        | 33.0 MB 3.4 MB/s eta 0:00:04     |███████████████████████████     | 38.4 MB 3.3 MB/s eta 0:00:03��██████████████▎   | 40.3 MB 2.1 MB/s eta 0:00:03\n",
      "\u001b[?25hBuilding wheels for collected packages: tesseract\n",
      "  Building wheel for tesseract (setup.py) ... \u001b[?25ldone\n",
      "\u001b[?25h  Created wheel for tesseract: filename=tesseract-0.1.3-py3-none-any.whl size=45562569 sha256=97d5d87bfe4cfbd4d4f37fce5d09a531ecdc5e6396c620c6b5d6b5ec15b422ac\n",
      "  Stored in directory: /home/cwhyse/.cache/pip/wheels/7f/a1/69/fabe07004553a36d818e4657fed410daf525fe1ae161f469d3\n",
      "Successfully built tesseract\n",
      "Installing collected packages: tesseract\n",
      "Successfully installed tesseract-0.1.3\n",
      "\u001b[33mWARNING: You are using pip version 21.1.1; however, version 21.3.1 is available.\n",
      "You should consider upgrading via the '/home/cwhyse/BloomProj/scribble-stadium-ds/scribble/bin/python3 -m pip install --upgrade pip' command.\u001b[0m\n"
     ]
    }
   ],
   "source": [
    "# !pip install tesseract"
   ]
  },
  {
   "cell_type": "code",
   "execution_count": 1,
   "id": "7bee1320",
   "metadata": {},
   "outputs": [
    {
     "name": "stdout",
     "output_type": "stream",
     "text": [
      "/usr/bin/tesseract\r\n"
     ]
    }
   ],
   "source": [
    "# !which tesseract"
   ]
  },
  {
   "cell_type": "code",
   "execution_count": 1,
   "id": "b74ec8d0",
   "metadata": {},
   "outputs": [
    {
     "data": {
      "text/plain": [
       "True"
      ]
     },
     "execution_count": 1,
     "metadata": {},
     "output_type": "execute_result"
    }
   ],
   "source": [
    "import cv2\n",
    "import numpy as np\n",
    "import pytesseract\n",
    "import sys\n",
    "import os\n",
    "from dotenv import load_dotenv, find_dotenv\n",
    "load_dotenv()"
   ]
  },
  {
   "cell_type": "code",
   "execution_count": 2,
   "id": "a12b522e",
   "metadata": {},
   "outputs": [
    {
     "name": "stdout",
     "output_type": "stream",
     "text": [
      "This Directory /home/cwhyse/BloomProj/scribble-stadium-ds/data_management/autopreprocess_testing/notebooks\n"
     ]
    }
   ],
   "source": [
    "dirpath = os.getcwd() #os abosulute current directory path\n",
    "print(\"This Directory\",dirpath)"
   ]
  },
  {
   "cell_type": "code",
   "execution_count": 3,
   "id": "e2159c4b",
   "metadata": {},
   "outputs": [
    {
     "name": "stdout",
     "output_type": "stream",
     "text": [
      "/home/cwhyse/BloomProj/scribble-stadium-ds/data_management/autopreprocess_testing\n"
     ]
    }
   ],
   "source": [
    "parentDirectory = os.path.dirname(dirpath)\n",
    "print(parentDirectory)"
   ]
  },
  {
   "cell_type": "code",
   "execution_count": 4,
   "id": "3346bf23",
   "metadata": {},
   "outputs": [],
   "source": [
    "picture = os.getenv(\"LOCAL_PATH\")"
   ]
  },
  {
   "cell_type": "code",
   "execution_count": 5,
   "id": "091b1727",
   "metadata": {},
   "outputs": [],
   "source": [
    "module_path = os.path.abspath(os.path.join('..'))\n",
    "if module_path not in sys.path:\n",
    "    sys.path.append(module_path)"
   ]
  },
  {
   "cell_type": "code",
   "execution_count": null,
   "id": "a7cb1bd4",
   "metadata": {},
   "outputs": [],
   "source": [
    "import auto_preprocess"
   ]
  },
  {
   "cell_type": "code",
   "execution_count": 8,
   "id": "31139789",
   "metadata": {},
   "outputs": [
    {
     "name": "stdout",
     "output_type": "stream",
     "text": [
      "cat: autopreprocess.py: No such file or directory\r\n"
     ]
    }
   ],
   "source": [
    "%cat autopreprocess.py"
   ]
  },
  {
   "cell_type": "code",
   "execution_count": 9,
   "id": "b6f292e3",
   "metadata": {},
   "outputs": [],
   "source": [
    "# Import a module with the same name from a different directory.\n",
    "\n",
    "import importlib\n",
    "import os\n",
    "import sys\n",
    "\n",
    "sys.path.insert(0, os.path.abspath('../autopreprocess_training'))\n",
    "\n",
    "if not hasattr(importlib, 'reload'):\n",
    "    importlib.reload = reload  # for Python 2 compatibility"
   ]
  },
  {
   "cell_type": "code",
   "execution_count": null,
   "id": "eee3d5f7",
   "metadata": {},
   "outputs": [],
   "source": []
  }
 ],
 "metadata": {
  "kernelspec": {
   "display_name": "Python3 (autoProcessEnv)",
   "language": "python",
   "name": "autoprocessenv"
  },
  "language_info": {
   "codemirror_mode": {
    "name": "ipython",
    "version": 3
   },
   "file_extension": ".py",
   "mimetype": "text/x-python",
   "name": "python",
   "nbconvert_exporter": "python",
   "pygments_lexer": "ipython3",
   "version": "3.8.10"
  }
 },
 "nbformat": 4,
 "nbformat_minor": 5
}
