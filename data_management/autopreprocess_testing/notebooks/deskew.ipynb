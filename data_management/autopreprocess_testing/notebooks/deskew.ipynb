{
 "cells": [
  {
   "cell_type": "markdown",
   "metadata": {},
   "source": [
    "### Aims to create a fuction to deskew (i.e., straighten) an image\n",
    "\n",
    "Code based on __[this post](https://becominghuman.ai/how-to-automatically-deskew-straighten-a-text-image-using-opencv-a0c30aed83df)__."
   ]
  },
  {
   "cell_type": "code",
   "execution_count": 179,
   "metadata": {},
   "outputs": [],
   "source": [
    "import cv2 \n",
    "from IPython.display import Image as Imag\n",
    "from PIL import Image\n",
    "\n",
    "# img_path = \"../test_images/preprocessing_sample_3.jpg\"\n",
    "img_path = \"../test_images/preprocessing_sample_4.jpg\"\n",
    "# img_path = \"../test_images/preprocessing_sample_6.jpg\"\n",
    "# img_path = \"../test_images/preprocessing_sample_7.jpg\"\n",
    "\n",
    "img = cv2.imread(img_path)\n",
    "\n",
    "Image.fromarray(img).show()"
   ]
  },
  {
   "cell_type": "code",
   "execution_count": 180,
   "metadata": {},
   "outputs": [],
   "source": [
    "def getSkewAngle(cvImage) -> float:\n",
    "    \"\"\"\n",
    "    Calculate skew angle of an image.\n",
    "    Input: image\n",
    "    Output: angle\n",
    "    \"\"\"\n",
    "\n",
    "    # Prep image, copy, convert to gray scale, blur, and threshold\n",
    "    newImage = cvImage.copy()\n",
    "    gray = cv2.cvtColor(newImage, cv2.COLOR_BGR2GRAY)\n",
    "    blur = cv2.GaussianBlur(gray, (9, 9), 0)\n",
    "    thresh = cv2.threshold(blur, 0, 255, cv2.THRESH_BINARY_INV + cv2.THRESH_OTSU)[1]\n",
    "\n",
    "    # Dilate pixels to merge text into meaningful lines/paragraphs.\n",
    "    # Use larger kernel on X axis to merge characters into single line, cancelling out any spaces.\n",
    "    # But use smaller kernel on Y axis to separate between different blocks of text\n",
    "    kernel = cv2.getStructuringElement(cv2.MORPH_RECT, (20, 10))\n",
    "    dilate = cv2.dilate(thresh, kernel, iterations=5)\n",
    "\n",
    "    # Find all contours\n",
    "    contours, hierarchy = cv2.findContours(dilate, cv2.RETR_LIST, cv2.CHAIN_APPROX_SIMPLE)\n",
    "    contours = sorted(contours, key = cv2.contourArea, reverse = True)\n",
    "\n",
    "    # Find largest contour and surround in min area box\n",
    "    largestContour = contours[0]\n",
    "    minAreaRect = cv2.minAreaRect(largestContour)\n",
    "\n",
    "    # Uncomment next 2 lines to display largest contour used to determine skew angle\n",
    "    # cv2.drawContours(newImage, [largestContour], 0, (0,255,0), 3)\n",
    "    # Image.fromarray(newImage).show()\n",
    "\n",
    "    # Determine the angle. \n",
    "    angle = minAreaRect[-1]\n",
    "    if angle > 45:\n",
    "        angle = angle - 90 \n",
    "    return angle\n",
    "\n",
    "def rotateImage(cvImage, angle: float):\n",
    "    \"\"\"\n",
    "    Rotates image\n",
    "    Input: image, angle to rotate\n",
    "    Output: rotated image\n",
    "    \"\"\"\n",
    "\n",
    "    newImage = cvImage.copy()\n",
    "    (h, w) = newImage.shape[:2]\n",
    "    center = (w // 2, h // 2)\n",
    "    M = cv2.getRotationMatrix2D(center, angle, 1.0)\n",
    "    newImage = cv2.warpAffine(newImage, M, (w, h), flags=cv2.INTER_CUBIC, borderMode=cv2.BORDER_REPLICATE)\n",
    "    return newImage\n",
    "\n",
    "# Deskew image using the above functions\n",
    "def deskew(cvImage):\n",
    "    \"\"\"\n",
    "    Straightens (de-skews) an image \n",
    "    Input: image\n",
    "    Output: straigntened image\n",
    "    \"\"\"\n",
    "\n",
    "    angle = getSkewAngle(cvImage)\n",
    "    return rotateImage(cvImage, angle)"
   ]
  },
  {
   "cell_type": "code",
   "execution_count": 181,
   "metadata": {},
   "outputs": [
    {
     "name": "stdout",
     "output_type": "stream",
     "text": [
      "Skew angle: -14.237281799316406\n"
     ]
    }
   ],
   "source": [
    "deskewed_image = deskew(img)\n",
    "print('Skew angle:', getSkewAngle(img))\n",
    "Image.fromarray(deskewed_image).show()"
   ]
  },
  {
   "cell_type": "code",
   "execution_count": null,
   "metadata": {},
   "outputs": [],
   "source": [
    "\"\"\"\n",
    "Notes:\n",
    "\n",
    "1. May need to fine tune kernel in getSkewAngle\n",
    "kernel = cv2.getStructuringElement(cv2.MORPH_RECT, (20, 10))\n",
    "Currently set to (20, 10)\n",
    "Increase 1st value to increase x-axis dilation\n",
    "Increase 2nd value to increase y-axis dilation\n",
    "Keeping X>Y will help ensure lines stay together\n",
    "\n",
    "2. Needs more testing to ensure rotation is in correct direction\n",
    "Sometimes rotates text so lines are vertical instead of horizontal\n",
    "\n",
    "3. Likely works better after ruled lines have been removed from image\n",
    "\n",
    "4. Uncomment lines in getSkewAngle to view contour used to determine skew angle\n",
    "\n",
    "\"\"\""
   ]
  }
 ],
 "metadata": {
  "interpreter": {
   "hash": "31f2aee4e71d21fbe5cf8b01ff0e069b9275f58929596ceb00d14d90e3e16cd6"
  },
  "kernelspec": {
   "display_name": "Python 3.8.2 64-bit",
   "language": "python",
   "name": "python3"
  },
  "language_info": {
   "codemirror_mode": {
    "name": "ipython",
    "version": 3
   },
   "file_extension": ".py",
   "mimetype": "text/x-python",
   "name": "python",
   "nbconvert_exporter": "python",
   "pygments_lexer": "ipython3",
   "version": "3.8.1"
  },
  "orig_nbformat": 4
 },
 "nbformat": 4,
 "nbformat_minor": 2
}
